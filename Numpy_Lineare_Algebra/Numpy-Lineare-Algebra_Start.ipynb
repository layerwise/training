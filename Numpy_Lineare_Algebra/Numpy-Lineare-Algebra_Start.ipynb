{
 "cells": [
  {
   "cell_type": "markdown",
   "metadata": {
    "cell_id": "00004-99e7c988-2693-4bd7-b900-c97e83ca9a7f",
    "deepnote_cell_type": "markdown",
    "tags": []
   },
   "source": [
    "# Vektoren"
   ]
  },
  {
   "cell_type": "code",
   "execution_count": 1,
   "metadata": {
    "cell_id": "00000-b1bfb117-8e1b-466e-bc69-189c13e4084e",
    "deepnote_cell_type": "code",
    "deepnote_to_be_reexecuted": false,
    "execution_millis": 4,
    "execution_start": 1611125829021,
    "source_hash": "c2602aa8",
    "tags": []
   },
   "outputs": [],
   "source": [
    "import numpy as np"
   ]
  },
  {
   "cell_type": "markdown",
   "metadata": {
    "cell_id": "00002-567b42c2-ce80-463b-a2a1-81baca955c26",
    "deepnote_cell_type": "markdown",
    "tags": []
   },
   "source": [
    "## Vektoren erstellen"
   ]
  },
  {
   "cell_type": "markdown",
   "metadata": {
    "cell_id": "00003-9c9053da-6cea-4e53-9847-ae1e3071b50a",
    "deepnote_cell_type": "markdown",
    "tags": []
   },
   "source": [
    "## Relevante Attribute von Vektoren"
   ]
  },
  {
   "cell_type": "markdown",
   "metadata": {
    "cell_id": "00004-c2bf5e80-74b0-47af-8a2d-0dd68cd81ccc",
    "deepnote_cell_type": "markdown",
    "tags": []
   },
   "source": [
    "## Zufallszahlen und Vektoren"
   ]
  },
  {
   "cell_type": "markdown",
   "metadata": {
    "cell_id": "00005-4e18f8b8-6f40-4c5d-a2af-4030007d883b",
    "deepnote_cell_type": "markdown",
    "tags": []
   },
   "source": [
    "## Vektoroperationen"
   ]
  },
  {
   "cell_type": "markdown",
   "metadata": {
    "cell_id": "00006-79469333-457f-4466-b0a3-241be59ddecb",
    "deepnote_cell_type": "markdown",
    "tags": []
   },
   "source": [
    "## Indexing"
   ]
  },
  {
   "cell_type": "markdown",
   "metadata": {
    "cell_id": "00007-39afdacd-8d9d-4e05-ae37-8e27cc9319af",
    "deepnote_cell_type": "markdown",
    "tags": []
   },
   "source": [
    "## Map- und Reduce-Funktionen"
   ]
  },
  {
   "cell_type": "markdown",
   "metadata": {
    "cell_id": "00014-c2893a2e-f695-429e-8c11-c49b4d38f01e",
    "deepnote_cell_type": "markdown",
    "tags": []
   },
   "source": [
    "## Funktionen auf Vektoren"
   ]
  },
  {
   "cell_type": "markdown",
   "metadata": {
    "cell_id": "00008-68c1430a-1909-4b6f-9143-69fc3f10d07f",
    "deepnote_cell_type": "markdown",
    "tags": []
   },
   "source": [
    "# Matrizen"
   ]
  },
  {
   "cell_type": "markdown",
   "metadata": {
    "cell_id": "00009-28e22fa5-116f-4959-b6bc-6e4e80009fcc",
    "deepnote_cell_type": "markdown",
    "tags": []
   },
   "source": [
    "## Matrizen erstellen"
   ]
  },
  {
   "cell_type": "markdown",
   "metadata": {
    "cell_id": "00010-9bf9c992-2975-4fc3-8085-eff6ada5dc2a",
    "deepnote_cell_type": "markdown",
    "tags": []
   },
   "source": [
    "## Matrixoperationen"
   ]
  },
  {
   "cell_type": "markdown",
   "metadata": {
    "cell_id": "00011-93c35f7a-a53c-4455-bc00-91d6ae17e89e",
    "deepnote_cell_type": "markdown",
    "tags": []
   },
   "source": [
    "## Indexing"
   ]
  },
  {
   "cell_type": "markdown",
   "metadata": {
    "cell_id": "00012-03d891e2-54d1-4740-bef3-7b93e8cccc85",
    "deepnote_cell_type": "markdown",
    "tags": []
   },
   "source": [
    "## Map- und Reduce-Funktionen"
   ]
  }
 ],
 "metadata": {
  "deepnote_execution_queue": [],
  "deepnote_notebook_id": "2e0f82be-5ae8-4284-a2db-f12d178cbf39",
  "kernelspec": {
   "display_name": "Python 3",
   "language": "python",
   "name": "python3"
  },
  "language_info": {
   "codemirror_mode": {
    "name": "ipython",
    "version": 3
   },
   "file_extension": ".py",
   "mimetype": "text/x-python",
   "name": "python",
   "nbconvert_exporter": "python",
   "pygments_lexer": "ipython3",
   "version": "3.8.5"
  }
 },
 "nbformat": 4,
 "nbformat_minor": 2
}
