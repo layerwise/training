{
 "cells": [
  {
   "cell_type": "markdown",
   "metadata": {},
   "source": [
    "# (1.2) NumPy Exercises from Simple to Difficult\n",
    "\n",
    "Das folgende Notebook sollen Ihnen ein selbstständiges Erarbeiten der wichtigsten Funktionen und Konzepte der Numpy-Bibliothek in Python ermöglichen. Diese Bibliothek ist ein zentraler Bestandteil vieler Machine Learning Frameworks wie zum Beispiel Scikit-Learn. Die Bibliothek erlaubt das effiziente Rechnen mit wesentlichen Datenstrukturen des Maschinellen Lernens wie Vektoren und Matrizen und stellt darüber hinaus Funktionen der linearen Algebra und Analysis zur Verfügung. NumPy ist zwingende Voraussetzung für das sogenannte *Scientific Computing* in Python.\n",
    "\n",
    "Die folgenden Übungen sind zu einem großen Teil der folgenden Ressource entnommen/entlehnt:\n",
    "https://www.machinelearningplus.com/python/101-numpy-exercises-python/.\n",
    "\n",
    "Auch im Rahmen des Kurses wird NumPy eine wesentliche Rolle spielen. Während die wichtigsten Elemente der Bibliothek und deren Benutzung im Rahmen des Maschinelle Lernens im Verlauf des Kurses nach und nach eingeführt werden, soll Ihnen dieses Notebook zunächst einen Überblick über die Fülle der Möglichkeiten verschaffen, den Sie sich komplett selbst erarbeiten können.\n",
    "\n",
    "Es ist nicht zwingend erforderlich, alle Aufgaben dieses Notebooks unmittelbar zu lösen. Vielmehr soll es Ihnen erste Übungsansätze bieten, Ihnen als Inspirationsquelle für spätere Aufgaben dienen, sowie Ihnen eine erste Selbsteinschätzung ermöglichen.\n",
    "\n",
    "Dazu sind die einzelnen Aufgaben farbkodiert bzw. symbolkodiert. Die zwei Skalen drücken einerseits die Schwierigkeit und andererseits die Wichtigkeit der Aufgabe für die Kursinhalte aus:\n",
    "\n",
    "### Schwierigkeit:\n",
    "\n",
    "<span style=\"color:green; font-size:2em\">(o)</span> - Leicht: diese Aufgabe ist eher leicht und sollte, wenn Sie mit Ihren Kenntnissen noch am Anfang sind, ihr Fokus sein. Die Aufgabe kann als leicht eingestuft sein, obwohl sie Kenntnisse aus vorherigen (leichten) Aufgaben voraussetzt.\n",
    "\n",
    "<span style=\"color:orange; font-size:2em\">(oo)</span> - Mittel: diese Aufgabe ist etwas schwerer, weil sie zum Beispiel das Zusammenwirken mehrerer Funktionen oder die Bedienung einer schwierigeren Funktion erfordert, weil Sie selbstständig nach den passenden Funktionen recherchieren müssen oder weil die Aufgabe bislang unbekannte Konzepte einführt.\n",
    "\n",
    "<span style=\"color:red; font-size:2em\">(ooo)</span> - Schwer: diese Aufgabe ist schwerer, weil sie zum Beispiel das Zusammenwirken mehrerer komplexer Funktionen erfordert, unterspezifiziert ist, zusätzliche Recherchen und Transferdenken erfordert, oder ein Ansatz nicht unmittelbar erkennbar ist.\n",
    "\n",
    "### Relevanz:\n",
    "\n",
    "<span style=\"font-size:2em\">&#x1F4D7;</span> - Wichtig: diese Aufgabe ist eher wichtig, weil die Benutzung der gelernten Inhalte entweder sehr oft zum Tragen kommt oder die folgenden Inhalte darauf aufbauen. Zur Erreichung des Lernziel sind diese Aufgaben entscheidend.\n",
    "\n",
    "<span style=\"font-size:2em\">&#x1F4D9;</span> - Weiterführend: diese Aufgabe vermittelt eher weiterführende Inhalte. Das kann heißen, dass keine weiteren Inhalte darauf aufbauen oder dass es in diesen Fällen auch alternative Lösungswege gibt. Dennoch können diese Aufgaben für das Lernziel des jeweiligen Kursabschnitts relevant sein.\n",
    "\n",
    "<span style=\"font-size:2em\">&#x1F4D8;</span> - Optional: diese Aufgabe vermittelt weiterführende Inhalte, die sich ignorieren lassen, ohne dass Sie dabei das Lernziel des Kurses oder Kursinhalts verpassen.\n",
    "\n",
    "### Learntools\n",
    "\n",
    "Neben der Kodierung der Aufgaben ermöglicht es Ihnen die von kaggle-learn inspirierte Mikro-Lernumgebung `learntools` unabhängig vom Rest des Kurses zu üben. Durch Import des `learntools` Moduls wie unten angegeben gibt es für jede Aufgabe zusätzliche Hinweise, Lösungen oder Lösungsvorschläge und Kontrollen. Für eine gegebene Aufgabe, zum Beispiel `q1`, lassen sich diese mit den folgenden Befehlen aufrufen:\n",
    "\n",
    "```python\n",
    "q1.hint()\n",
    "q1.check()\n",
    "q1.solution()\n",
    "```\n",
    "\n",
    "Durch `q1.hint()` wird ein zusätzlicher Hinweis gegeben. Das kann ein Hinweis auf eine relevante Funktion oder ein Vorschlag für einen Ansatz sein. Nicht alle Aufgaben habe solche Hinweise, und viele haben mehrere Hinweise, die Sie sich nacheinander anzeigen lassen sollten, indem sie zum Beispiel `q1.hint(2)` ausführen.\n",
    "\n",
    "Durch `q1.check()` wird Ihre Lösung kontrolliert. Dies erfordert, dass Sie die Variablen der Lösung auf genau die Weise benannt und strukturiert haben wie in der Aufgabe angegeben. Im Einzelnen kann die Kontrolle fehlschlagen, obwohl Ihre Lösung richtig ist, weil nicht alle möglichen Lösungswege antizipiert werden, Ihre Lösungsstruktur leicht abweicht oder es zu anderen Rundungsfehlern kam. Außerdem funktioniert diese Funktionalität immer nur genau im Abschnitt der Aufgabe. Durch Ausführen verschiedener Zellen aus vorherigen Aufgaben, die gleich benannte Variablen verwenden, kann es zu Konflikten kommen. Führen Sie in diesem Fall die Zellen der Aufgabe erneut aus oder starten Sie sogar das Notebook neu.\n",
    "\n",
    "Durch `q1.solution()` wird Ihnen die Lösung oder ein oder mehrere Lösungsvorschläge angezeigt. Ihre Lösung kann natürlich davon abweichen. Generell werden dort besonders konzise Lösungswege bevorzugt. Denken Sie daran, dass sich allein durch das Lesen von Lösungen gewöhnlich kein Lernerfolg einstellt."
   ]
  },
  {
   "cell_type": "code",
   "execution_count": 6,
   "metadata": {},
   "outputs": [
    {
     "name": "stdout",
     "output_type": "stream",
     "text": [
      "Setup complete.\n"
     ]
    }
   ],
   "source": [
    "import sys\n",
    "import os\n",
    "\n",
    "# Optional\n",
    "# learntools_path = \"../\" # \"path/to/learntools/folder\"\n",
    "# sys.path.append(learntools_path)\n",
    "\n",
    "from learntools.core import binder; binder.bind(globals())\n",
    "from learntools.exercises.numpy_exercise import *\n",
    "print(\"Setup complete.\")"
   ]
  },
  {
   "cell_type": "code",
   "execution_count": 7,
   "metadata": {},
   "outputs": [],
   "source": [
    "import numpy as np"
   ]
  },
  {
   "cell_type": "markdown",
   "metadata": {},
   "source": [
    "# Q1: 1D Array <span style=\"color:green; font-size:1em\">(o)</span>  &#x1F4D7;\n",
    "\n",
    "Create a 1D array of numbers from 0 to 9\n",
    "\n",
    "Erzeugen Sie ein 1D Array mit den Zahlen von 0 bis 9."
   ]
  },
  {
   "cell_type": "code",
   "execution_count": 12,
   "metadata": {},
   "outputs": [],
   "source": [
    "out = np.arange(10)"
   ]
  },
  {
   "cell_type": "code",
   "execution_count": 16,
   "metadata": {},
   "outputs": [],
   "source": [
    "# q1.check()\n",
    "# q1.hint()\n",
    "# q1.solution()"
   ]
  },
  {
   "cell_type": "markdown",
   "metadata": {},
   "source": [
    "# Q2: Boolean Array <span style=\"color:green; font-size:1em\">(o)</span>  &#x1F4D7;\n",
    "\n",
    "Create a 3×3 numpy array of all `True`’s.\n",
    "\n",
    "Erzeugen Sie ein 3x3 Numpy Array, das überall den Wert `True` enthält."
   ]
  },
  {
   "cell_type": "code",
   "execution_count": 16,
   "metadata": {},
   "outputs": [],
   "source": [
    "out = ... # TODO"
   ]
  },
  {
   "cell_type": "markdown",
   "metadata": {},
   "source": [
    "# Q3: Selecting Values on Condition <span style=\"color:green; font-size:1em\">(o)</span>  &#x1F4D7;\n",
    "\n",
    "Extract all odd numbers from `arr`.\n",
    "\n",
    "Extrahieren Sie all ungeraden Zahlen aus dem Array `arr`.\n",
    "\n",
    "```python\n",
    ">>> out\n",
    "np.array([1, 3, 5, 7, 9])\n",
    "```"
   ]
  },
  {
   "cell_type": "code",
   "execution_count": 34,
   "metadata": {},
   "outputs": [],
   "source": [
    "arr = np.array([0, 1, 2, 3, 4, 5, 6, 7, 8, 9])\n",
    "\n",
    "out = ... # TODO"
   ]
  },
  {
   "cell_type": "markdown",
   "metadata": {},
   "source": [
    "# Q4: Replacing Values on Condition <span style=\"color:green; font-size:1em\">(o)</span>  &#x1F4D7;\n",
    "\n",
    "Replace all odd numbers in `arr` with the value $-1$.\n",
    "\n",
    "Ersetzen Sie alle ungeraden Zahlen im Array `arr` mit dem Wert $-1$.\n",
    "\n",
    "```python\n",
    ">>> arr\n",
    "np.array([0, -1, 2, -1, 4, -1, 6, -1, 8, -1])\n",
    "```"
   ]
  },
  {
   "cell_type": "code",
   "execution_count": 30,
   "metadata": {},
   "outputs": [],
   "source": [
    "arr = np.array([0, 1, 2, 3, 4, 5, 6, 7, 8, 9])\n",
    "\n",
    "# TODO\n",
    "arr[arr % 2 == 1] = -1"
   ]
  },
  {
   "cell_type": "markdown",
   "metadata": {},
   "source": [
    "# Q5: Reshaping <span style=\"color:green; font-size:1em\">(o)</span>  &#x1F4D7;\n",
    "\n",
    "Convert a 1D array to a 2D array with 2 rows. Make sure that one row is filled completely\n",
    "before moving on to the next row (as opposed to filling column by column).\n",
    "\n",
    "Wandeln Sie ein 1D Array in ein 2D Array mit 2 Zeilen um. Stellen Sie sicher, dass das entstehende\n",
    "Array zeilenweise und nicht spaltenweise mit den Werten des 1D Arrays aufgefüllt wird."
   ]
  },
  {
   "cell_type": "code",
   "execution_count": 11,
   "metadata": {},
   "outputs": [],
   "source": [
    "arr = np.arange(10)\n",
    "out = ... # TODO"
   ]
  },
  {
   "cell_type": "markdown",
   "metadata": {},
   "source": [
    "# Q6: Stacking Arrays Vertically <span style=\"color:orange; font-size:1em\">(oo)</span>  &#x1F4D7;\n",
    "\n",
    "Stack arrays `a` and `b` \"vertically\".\n",
    "\n",
    "Fügen Sie die Arrays `a` und `b` \"vertikal\" zusammen.\n",
    "\n",
    "```python\n",
    ">>> a\n",
    "array([[0, 1, 2, 3, 4],\n",
    "       [5, 6, 7, 8, 9]])\n",
    "\n",
    ">>> b\n",
    "array([[1., 1., 1., 1., 1.],\n",
    "       [1., 1., 1., 1., 1.]])\n",
    "\n",
    ">>> out\n",
    "array([[0., 1., 2., 3., 4.],\n",
    "       [5., 6., 7., 8., 9.],\n",
    "       [1., 1., 1., 1., 1.],\n",
    "       [1., 1., 1., 1., 1.]])\n",
    "```"
   ]
  },
  {
   "cell_type": "code",
   "execution_count": 22,
   "metadata": {},
   "outputs": [],
   "source": [
    "a = np.arange(10).reshape(2,-1)\n",
    "b = np.ones((2, 5))\n",
    "\n",
    "out = ...  # TODO"
   ]
  },
  {
   "cell_type": "markdown",
   "metadata": {},
   "source": [
    "# Q7: Stacking Horizontally <span style=\"color:orange; font-size:1em\">(oo)</span>  &#x1F4D7;\n",
    "\n",
    "Stack arrays `a` and `b` \"horizontally\".\n",
    "\n",
    "Fügen Sie die Arrays `a` und `b` \"horizontal\" zusammen.\n",
    "\n",
    "```python\n",
    ">>> a\n",
    "array([[0, 1, 2, 3, 4],\n",
    "       [5, 6, 7, 8, 9]])\n",
    "\n",
    ">>> b\n",
    "array([[1., 1., 1., 1., 1.],\n",
    "       [1., 1., 1., 1., 1.]])\n",
    "\n",
    ">>> out\n",
    "array([[0., 1., 2., 3., 4., 1., 1., 1., 1., 1.],\n",
    "       [5., 6., 7., 8., 9., 1., 1., 1., 1., 1.]])\n",
    "```"
   ]
  },
  {
   "cell_type": "code",
   "execution_count": 15,
   "metadata": {},
   "outputs": [],
   "source": [
    "a = np.arange(10).reshape(2,-1)\n",
    "b = np.ones((2, 5))\n",
    "\n",
    "out = ...  # TODO"
   ]
  },
  {
   "cell_type": "markdown",
   "metadata": {},
   "source": [
    "# Q8: Tiling and Repeating I <span style=\"color:orange; font-size:1em\">(oo)</span>  &#x1F4D9;\n",
    "\n",
    "Create the following pattern without hardcoding. Use only numpy functions and the below input array `a`.\n",
    "\n",
    "Erzeugen Sie das folgende Muster nur durch Benutzung des Arrays `a` und entsprechender Numpy-Funktionen.\n",
    "\n",
    "\n",
    "```python\n",
    ">>> out\n",
    "np.array([1, 2, 3, 1, 2, 3, 1, 2, 3])\n",
    "```"
   ]
  },
  {
   "cell_type": "code",
   "execution_count": 17,
   "metadata": {},
   "outputs": [],
   "source": [
    "a = np.array([1,2,3])\n",
    "\n",
    "out = ...  # TODO"
   ]
  },
  {
   "cell_type": "markdown",
   "metadata": {},
   "source": [
    "# Q9: Tiling and Repeating II <span style=\"color:orange; font-size:1em\">(oo)</span>  &#x1F4D9;\n",
    "\n",
    "Create the following pattern without hardcoding. Use only numpy functions and the below input array `a`.\n",
    "\n",
    "Erzeugen Sie das folgende Muster nur durch Benutzung des Arrays `a` und entsprechender Numpy-Funktionen.\n",
    "\n",
    "\n",
    "```python\n",
    "np.array([\n",
    "    [1, 2, 3],\n",
    "    [1, 2, 3],\n",
    "    [1, 2, 3]\n",
    "])\n",
    "```"
   ]
  },
  {
   "cell_type": "code",
   "execution_count": 19,
   "metadata": {},
   "outputs": [],
   "source": [
    "a = np.array([1,2,3])\n",
    "\n",
    "out = ...  # TODO"
   ]
  },
  {
   "cell_type": "markdown",
   "metadata": {},
   "source": [
    "# Q10: Common Sub-Array Between Two Arrays <span style=\"color:green; font-size:1em\">(o)</span>  &#x1F4D7;\n",
    "\n",
    "Get the matching sub-array between `a` and `b`.\n",
    "\n",
    "Finden und extrahieren Sie das Sub-Array, in dem `a` und `b` übereinstimmen."
   ]
  },
  {
   "cell_type": "code",
   "execution_count": 21,
   "metadata": {},
   "outputs": [],
   "source": [
    "a = np.array([1,2,3,2,3,4,3,4,5,6])\n",
    "b = np.array([7,2,10,2,7,4,9,4,9,8])\n",
    "\n",
    "out = ...  # TODO"
   ]
  },
  {
   "cell_type": "markdown",
   "metadata": {},
   "source": [
    "# Q11: Counting matching entries <span style=\"color:green; font-size:1em\">(o)</span>  &#x1F4D7;\n",
    "\n",
    "Count the matches between the equal-length arrays `a` and `b`.\n",
    "\n",
    "Zählen Sie die Übereinstimmungen zwischen den gleichlangen Arrays `a` und `b`."
   ]
  },
  {
   "cell_type": "code",
   "execution_count": 23,
   "metadata": {},
   "outputs": [],
   "source": [
    "a = np.array([1,2,3,2,3,4,3,4,5,6])\n",
    "b = np.array([7,2,10,2,7,4,9,4,9,8])\n",
    "\n",
    "n_matches = ...  # TODO"
   ]
  },
  {
   "cell_type": "markdown",
   "metadata": {},
   "source": [
    "# Q12: Proportion of matching entries <span style=\"color:green; font-size:1em\">(o)</span>  &#x1F4D7;\n",
    "\n",
    "Compute the propoertion of matching entries between the equal-length arrays `a` and `b`.\n",
    "\n",
    "Berechnen Sie den Prozentsatz der Übereinstimmungen zwischen den gleichlangen Arrays `a` und `b`."
   ]
  },
  {
   "cell_type": "code",
   "execution_count": 25,
   "metadata": {},
   "outputs": [],
   "source": [
    "a = np.array([1,2,3,2,3,4,3,4,5,6])\n",
    "b = np.array([7,2,10,2,7,4,9,4,9,8])\n",
    "\n",
    "prop_matches = ...  # TODO"
   ]
  },
  {
   "cell_type": "markdown",
   "metadata": {},
   "source": [
    "# Q13: Finding the positions of matching entries. <span style=\"color:orange; font-size:1em\">(oo)</span>  &#x1F4D9;\n",
    "\n",
    "Get the positions where elements of arrays `a` and `b` match.\n",
    "\n",
    "Finden Sie die Positionen, an denen die Arrays `a` und `b` übereinstimmen."
   ]
  },
  {
   "cell_type": "code",
   "execution_count": 27,
   "metadata": {},
   "outputs": [],
   "source": [
    "a = np.array([1,2,3,2,3,4,3,4,5,6])\n",
    "b = np.array([7,2,10,2,7,4,9,4,9,8])\n",
    "\n",
    "matching_positions = ...  # TODO"
   ]
  },
  {
   "cell_type": "markdown",
   "metadata": {},
   "source": [
    "# Q14: Most frequent value <span style=\"color:orange; font-size:1em\">(oo)</span>  &#x1F4D9;\n",
    "\n",
    "Find the most frequent value in array `a`.\n",
    "\n",
    "Finden Sie den am häufigsten vorkommenden Wert im Array `a`."
   ]
  },
  {
   "cell_type": "code",
   "execution_count": 29,
   "metadata": {},
   "outputs": [],
   "source": [
    "a = np.array([1,3,2,1,0,0,1,2,0,0,3,3,0,3,2])\n",
    "\n",
    "most_frequent = ... # TODO\n"
   ]
  },
  {
   "cell_type": "markdown",
   "metadata": {},
   "source": [
    "# Q15: Getting items in range <span style=\"color:green; font-size:1em\">(o)</span>  &#x1F4D9;\n",
    "\n",
    "Get all items in array `a` that lie between $5$ and $10$ (including).\n",
    "\n",
    "Finden Sie alle Einträge in Array `a` die zwischen $5$ und $10$ (einschließlich) liegen."
   ]
  },
  {
   "cell_type": "code",
   "execution_count": 31,
   "metadata": {},
   "outputs": [],
   "source": [
    "a = np.array([0, 5, 3, 7, 8, 7, 1, 4, 15, 12, 0, 2, 3, 5, 9, 6, 1, 1])\n",
    "\n",
    "out = ... # TODO"
   ]
  },
  {
   "cell_type": "markdown",
   "metadata": {},
   "source": [
    "# Q16: Swapping columns <span style=\"color:orange; font-size:1em\">(oo)</span>  &#x1F4D8;\n",
    "\n",
    "Swap columns 1 and 2 in the array `arr`.\n",
    "\n",
    "Vertauschen Sie die 1. und 2. Spalte des Arrays `arr`."
   ]
  },
  {
   "cell_type": "code",
   "execution_count": 34,
   "metadata": {},
   "outputs": [],
   "source": [
    "arr = np.array([\n",
    "    [0, 1, 2],\n",
    "    [3, 4, 5],\n",
    "    [6, 7, 8]\n",
    "])\n",
    "\n",
    "out = ... # TODO"
   ]
  },
  {
   "cell_type": "markdown",
   "metadata": {},
   "source": [
    "# Q17: Swapping rows <span style=\"color:orange; font-size:1em\">(oo)</span>  &#x1F4D8;\n",
    "\n",
    "Swap rows 1 and 2 in the array `arr`.\n",
    "\n",
    "Vertauschen Sie die 1. und 2. Reihe des Arrays `arr`."
   ]
  },
  {
   "cell_type": "code",
   "execution_count": 36,
   "metadata": {},
   "outputs": [],
   "source": [
    "arr = np.array([\n",
    "    [0, 1, 2],\n",
    "    [3, 4, 5],\n",
    "    [6, 7, 8]\n",
    "])\n",
    "\n",
    "out = ... # TODO"
   ]
  },
  {
   "cell_type": "markdown",
   "metadata": {},
   "source": [
    "# Q18: Reversing the order of items <span style=\"color:orange; font-size:1em\">(oo)</span>  &#x1F4D9;\n",
    "\n",
    "Reverse the elements in the array `arr`.\n",
    "\n",
    "Drehen Sie die Reihenfolge der Elemente in Array `arr` um."
   ]
  },
  {
   "cell_type": "code",
   "execution_count": 38,
   "metadata": {},
   "outputs": [],
   "source": [
    "# Input\n",
    "arr = np.array([12, 33, 2, 3, 5, 6, 8, 10, 11, 0, 11, 1])\n",
    "\n",
    "out = ...  # TODO"
   ]
  },
  {
   "cell_type": "markdown",
   "metadata": {},
   "source": [
    "# Q19: Reversing the order of columns <span style=\"color:orange; font-size:1em\">(oo)</span>  &#x1F4D9;\n",
    "\n",
    "Reverse the rows in the 2D array `arr`, or, phrased alternatively, reverse the elements in each column.\n",
    "\n",
    "Drehen Sie die Reihenfolge der Reihen in Array `arr` um. Anders gesagt, drehen Sie in jeder Spalte die Reihenfolge der Elemente um."
   ]
  },
  {
   "cell_type": "code",
   "execution_count": 8,
   "metadata": {},
   "outputs": [],
   "source": [
    "arr = np.arange(12).reshape(3, 4)\n",
    "\n",
    "out = ...  # TODO"
   ]
  },
  {
   "cell_type": "markdown",
   "metadata": {},
   "source": [
    "# Q20: Reversing the order of rows <span style=\"color:orange; font-size:1em\">(oo)</span>  &#x1F4D9;\n",
    "\n",
    "Reverse the columns in the 2D array `arr`, or, phrased alternatively, reverse the elements in each row.\n",
    "\n",
    "Drehen Sie die Reihenfolge der Spalten in Array `arr` um. Anders gesagt, drehen Sie in jeder Reihe die Reihenfolge der Elemente um."
   ]
  },
  {
   "cell_type": "code",
   "execution_count": 42,
   "metadata": {},
   "outputs": [],
   "source": [
    "arr = np.arange(12).reshape(3, 4)\n",
    "\n",
    "out = ...  # TODO"
   ]
  },
  {
   "cell_type": "markdown",
   "metadata": {},
   "source": [
    "# Q21: Creating arrays I <span style=\"color:green; font-size:1em\">(o)</span>  &#x1F4D7;\n",
    "\n",
    "Create an array of all $2$'s with length $100$.\n",
    "\n",
    "Erzeugen Sie ein Array, das nur $2$en als Einträge hat und die Länge $100$ besitzt."
   ]
  },
  {
   "cell_type": "code",
   "execution_count": 44,
   "metadata": {},
   "outputs": [],
   "source": [
    "twos_arr = ...  # TODO"
   ]
  },
  {
   "cell_type": "markdown",
   "metadata": {},
   "source": [
    "# Q22: Creating arrays II <span style=\"color:orange; font-size:1em\">(oo)</span>  &#x1F4D9;\n",
    "\n",
    "Create a 2D array of shape $5x3$ to contain random decimal numbers between $5$ and $10$.\n",
    "\n",
    "Erzeugen Sie ein 2D Array mit der Shape $5x3$, dass zufällige Dezimalzahlen zwischen $5$ und $10$ enthält."
   ]
  },
  {
   "cell_type": "code",
   "execution_count": 46,
   "metadata": {},
   "outputs": [],
   "source": [
    "# Do not change this if you want to verify the solution.\n",
    "np.random.seed(18)\n",
    "\n",
    "# TODO\n",
    "rand_arr = ..."
   ]
  },
  {
   "cell_type": "markdown",
   "metadata": {},
   "source": [
    "# Q23: Printing I <span style=\"color:green; font-size:1em\">(o)</span>  &#x1F4D8;\n",
    "\n",
    "Print or show only 3 decimal places of the numpy array `rand_arr`. Make sure to read the solution for upcoming questions.\n",
    "\n",
    "Stellen Sie das Array `rand_arr` im Output so dar, dass Dezimalzahlen nur bis drei Stellen hinter dem Komma angezeigt werden. Lassen Sie sich danach in jedem die Lösung anzeigen."
   ]
  },
  {
   "cell_type": "code",
   "execution_count": 48,
   "metadata": {},
   "outputs": [],
   "source": [
    "# Do not change this if you want to verify the solution.\n",
    "np.random.seed(18)\n",
    "\n",
    "rand_arr = np.random.random((5,3))\n",
    "\n",
    "# TODO\n",
    "# ..."
   ]
  },
  {
   "cell_type": "markdown",
   "metadata": {},
   "source": [
    "# Q24: Printing II <span style=\"color:green; font-size:1em\">(o)</span>  &#x1F4D8;\n",
    "\n",
    "Pretty print `rand_arr` by suppressing the scientific notation (like `1e10`).\n",
    "\n",
    "Finden Sie eine lesbare Darstellung von `rand_arr`, die auf Notationen wie `1e10` verzichtet."
   ]
  },
  {
   "cell_type": "code",
   "execution_count": 50,
   "metadata": {},
   "outputs": [
    {
     "name": "stdout",
     "output_type": "stream",
     "text": [
      "[[2.08460537e-05 4.81681062e-05 4.20538035e-05]\n",
      " [8.59181999e-05 1.71161554e-05 3.38863961e-05]\n",
      " [2.70532833e-05 6.91041350e-05 2.20404517e-05]]\n"
     ]
    }
   ],
   "source": [
    "# Do not change this if you want to verify the solution.\n",
    "np.random.seed(22)\n",
    "\n",
    "rand_arr = np.random.random([3,3])/1e4\n",
    "\n",
    "# Observe scientific notation for this array\n",
    "print(rand_arr)\n",
    "\n",
    "# TODO\n",
    "# ..."
   ]
  },
  {
   "cell_type": "markdown",
   "metadata": {},
   "source": [
    "# Q25: Printing III <span style=\"color:green; font-size:1em\">(o)</span>  &#x1F4D8;\n",
    "\n",
    "Limit the number of items printed in python numpy array a to a maximum of $10$ elements (default is $1000$).\n",
    "\n",
    "Begrenzen Sie die maximale Größe des Arrays, das durch Print-Outs noch vollständig dargestellt wird, auf $10$ (der Default ist $1000$)."
   ]
  },
  {
   "cell_type": "code",
   "execution_count": 52,
   "metadata": {},
   "outputs": [],
   "source": [
    "# Should be truncated\n",
    "a = np.arange(11)\n",
    "\n",
    "# Should be displayed fully\n",
    "b = np.arange(10)\n",
    "\n",
    "# TODO\n",
    "# ..."
   ]
  },
  {
   "cell_type": "markdown",
   "metadata": {},
   "source": [
    "# Q26: Printing IV <span style=\"color:green; font-size:1em\">(o)</span>  &#x1F4D8;\n",
    "\n",
    "Print the full numpy array `a` without truncating.\n",
    "\n",
    "Stellen Sie das Array `a` vollständig dar, das heißt ohne Begrenzung des Print-Outs."
   ]
  },
  {
   "cell_type": "code",
   "execution_count": 54,
   "metadata": {},
   "outputs": [],
   "source": [
    "a = np.arange(20000).reshape(100, 200)\n",
    "\n",
    "# TODO\n",
    "# ..."
   ]
  },
  {
   "cell_type": "markdown",
   "metadata": {},
   "source": [
    "# Q27: Import Iris Dataset <span style=\"color:green; font-size:1em\">(o)</span>  &#x1F4D7;\n",
    "\n",
    "Import the iris dataset through `sklearn.datasets.load_iris`.\n",
    "\n",
    "Importieren Sie den Iris-Datensatz durch `sklearn.datasets.load_iris`."
   ]
  },
  {
   "cell_type": "code",
   "execution_count": 56,
   "metadata": {},
   "outputs": [],
   "source": [
    "from sklearn.datasets import load_iris\n",
    "\n",
    "iris = ...  # TODO"
   ]
  },
  {
   "cell_type": "markdown",
   "metadata": {},
   "source": [
    "# Q28: Loading Iris data matrix <span style=\"color:green; font-size:1em\">(o)</span>  &#x1F4D7;\n",
    "\n",
    "Extract the data matrix from the dataset of the previous question. It is a 2D array or otherwise called matrix with a number of rows that each represent a sample and a number of columns that each represent a feature.\n",
    "\n",
    "Extrahieren Sie die Datenmatrix aus dem Datensatz der vorherigen Aufgabe. Es handelt sich um ein 2D Array, auch Matrix genannt, mit einer Menge an Reihen, die jeweils einen Datenpunkt repräsentieren und einer Menge an Spalten, die jeweils ein Merkmal repräsentieren."
   ]
  },
  {
   "cell_type": "code",
   "execution_count": 58,
   "metadata": {},
   "outputs": [],
   "source": [
    "X = ...  # TODO"
   ]
  },
  {
   "cell_type": "markdown",
   "metadata": {},
   "source": [
    "# Q29: Loading the Iris target vector <span style=\"color:green; font-size:1em\">(o)</span>  &#x1F4D7;\n",
    "\n",
    "Extract the target vector from the Iris dataset from before. The target vector is a vector with as many entries as there are samples in the data matrix. The target vector is a \"code\" meaning the numbers in the vector represent different classes. There should be $3$ classes coded in the numbers ${0, 1, 2}$. Thus each sample is assigned a class.\n",
    "\n",
    "Extrahieren Sie den Vektor der Zielvariablen aus dem Iris-Datensatz von zuvor. Der Vektor der Zielvariablen hat genau so viele Einträge wie es Datenpunkte in der Datenmatrix gibt. Er ist \"kodiert\", das heißt die angegebenen Zahlen repräsentieren verschiedene Klassen. Es sollte $3$ Klassen geben, die durch die Zahlen ${0, 1, 2}$ dargestellt sind. Jedem Datenpunkt ist somit eine Klasse zugeordnet."
   ]
  },
  {
   "cell_type": "code",
   "execution_count": 60,
   "metadata": {},
   "outputs": [],
   "source": [
    "y = ...  # TODO"
   ]
  },
  {
   "cell_type": "markdown",
   "metadata": {},
   "source": [
    "# Q30: Mean, median and standard deviation I <span style=\"color:green; font-size:1em\">(o)</span>  &#x1F4D7;\n",
    "\n",
    "Find the mean, median, standard deviation of the Iris dataset's *sepal length (cm)* (1st column).\n",
    "\n",
    "Berechnen Sie den Durchschnittswert, Median und die Standardabweichung des Features *sepal length (cm)* aus dem Iris-Datensatz (erste Spalte)."
   ]
  },
  {
   "cell_type": "code",
   "execution_count": 62,
   "metadata": {},
   "outputs": [],
   "source": [
    "mean = ...  # TODO\n",
    "median = ...  # TODO\n",
    "sd = ...  # TODLösungswegeO"
   ]
  },
  {
   "cell_type": "markdown",
   "metadata": {},
   "source": [
    "# Q31: Mean, median and standard deviation II <span style=\"color:orange; font-size:1em\">(oo)</span>  &#x1F4D7;\n",
    "\n",
    "Find the mean, median, standard deviation of the Iris dataset's *petal width (cm)*. Find out the correct column yourself.\n",
    "\n",
    "Berechnen Sie den Durchschnittswert, Median und die Standardabweichung des Features *petal width (cm)* aus dem Iris-Datensatz. Identifizieren Sie selbstständig die korrekte Spalte."
   ]
  },
  {
   "cell_type": "code",
   "execution_count": 64,
   "metadata": {},
   "outputs": [],
   "source": [
    "mean = ...  # TODO\n",
    "median = ...  # TODO\n",
    "sd = ...  # TODO"
   ]
  },
  {
   "cell_type": "markdown",
   "metadata": {},
   "source": [
    "# Q32: Mean, median and standard deviation III <span style=\"color:orange; font-size:1em\">(oo)</span>  &#x1F4D7;\n",
    "\n",
    "Find the mean, median, standard deviation of all the features in the Iris dataset und collect them each in a vector with length equal to the number of features.\n",
    "\n",
    "Berechnen Sie den Durchschnittswert, Median und die Standardabweichung aller Features aus dem Iris-Datensatz und speichern Sie die Ergebnisse jeweils in einem Vektor mit der Länge der Anzahl der Features."
   ]
  },
  {
   "cell_type": "code",
   "execution_count": 66,
   "metadata": {},
   "outputs": [],
   "source": [
    "means = ...  # TODO\n",
    "medians = ...  # TODO\n",
    "sds = ...  # TODO"
   ]
  },
  {
   "cell_type": "markdown",
   "metadata": {},
   "source": [
    "# Q33: Standardizing I <span style=\"color:orange; font-size:1em\">(oo)</span>  &#x1F4D9;\n",
    "\n",
    "Compute a new matrix in which all features are shifted such that they have mean $0$.\n",
    "\n",
    "Erzeugen Sie eine neue Matrix, sodass alle Features den Durchschnittswert $0$ haben (aber die relativen Abstände der Werte gleich bleiben)."
   ]
  },
  {
   "cell_type": "code",
   "execution_count": 68,
   "metadata": {},
   "outputs": [],
   "source": [
    "X_new = ...  # TODO"
   ]
  },
  {
   "cell_type": "markdown",
   "metadata": {},
   "source": [
    "# Q34: Standardizing II <span style=\"color:orange; font-size:1em\">(oo)</span>  &#x1F4D9;\n",
    "\n",
    "Compute a new matrix in which all features are shifted such that they have mean $0$ and scaled such that they have standard devation $1$.\n",
    "\n",
    "Erzeugen Sie eine neue Matrix, sodass alle Features den Durchschnittswert $0$ und die Standardabweichung $1$ haben (aber die relativen Abstände der Werte gleich bleiben)."
   ]
  },
  {
   "cell_type": "code",
   "execution_count": 70,
   "metadata": {},
   "outputs": [],
   "source": [
    "X_new = ...  # TODO"
   ]
  },
  {
   "cell_type": "markdown",
   "metadata": {},
   "source": [
    "# Q35: Selecting rows I <span style=\"color:green; font-size:1em\">(o)</span>  &#x1F4D7;\n",
    "\n",
    "Extract all samples of the data matrix `X` that have the class *versicolor*.\n",
    "\n",
    "Extrahieren Sie alle Datenpunkte der Klasse *versicolor*."
   ]
  },
  {
   "cell_type": "code",
   "execution_count": 72,
   "metadata": {},
   "outputs": [],
   "source": [
    "X_sub = ...  # TODO"
   ]
  },
  {
   "cell_type": "markdown",
   "metadata": {},
   "source": [
    "# Q36: Selecting rows II <span style=\"color:orange; font-size:1em\">(oo)</span>  &#x1F4D7;\n",
    "\n",
    "Extract all samples of the data matrix `X` that have the class *setosa* and whose *petal length (cm)* is larger than $4,5$.\n",
    "\n",
    "Extrahieren Sie alle Datenpunkte der Klasse *setosa* für die *petal length (cm)* größer als $4.5$ ist."
   ]
  },
  {
   "cell_type": "code",
   "execution_count": 74,
   "metadata": {},
   "outputs": [],
   "source": [
    "X_sub = ...  # TODO"
   ]
  },
  {
   "cell_type": "markdown",
   "metadata": {},
   "source": [
    "# Q37: Percentiles <span style=\"color:red; font-size:1em\">(ooo)</span>  &#x1F4D8;\n",
    "\n",
    "Find the $5$th and $95$th percentile of *sepal length (cm)* in the Iris dataset.\n",
    "\n",
    "Berechnen Sie das $5.$ und $95.$ Perzentil des Features *sepal length (cm)* im Iris Datensatz."
   ]
  },
  {
   "cell_type": "code",
   "execution_count": 76,
   "metadata": {},
   "outputs": [],
   "source": [
    "percentiles = ...  # TODO: store both percentiles in an array"
   ]
  },
  {
   "cell_type": "markdown",
   "metadata": {},
   "source": [
    "# Q38: Correlation coefficient <span style=\"color:orange; font-size:1em\">(oo)</span>  &#x1F4D9;\n",
    "\n",
    "Find the correlation coefficient between the features *sepal length (cm)* and *sepal width (cm)* in the Iris dataset.\n",
    "\n",
    "Berechnen Sie den Korrelationskoeffizienten zwischen den Features *sepal length (cm)* und *sepal width (cm)* im Iris Datensatz."
   ]
  },
  {
   "cell_type": "code",
   "execution_count": 78,
   "metadata": {},
   "outputs": [],
   "source": [
    "corr = ...  # TODO"
   ]
  },
  {
   "cell_type": "markdown",
   "metadata": {},
   "source": [
    "# Q39: Counting and unique values <span style=\"color:orange; font-size:1em\">(oo)</span>  &#x1F4D9;\n",
    "\n",
    "Find the unique values and the count of each unique value in the target vector of the Iris dataset.\n",
    "\n",
    "Finden Sie alle möglichen Werte der Zielvariablen im Iris Datensatz und wie oft diese Werte jeweils auftreten."
   ]
  },
  {
   "cell_type": "code",
   "execution_count": 80,
   "metadata": {},
   "outputs": [],
   "source": [
    "unique = ...  # TODO: vector of all unique values\n",
    "counts = ...  # TODO: vector of how often these unique values appear"
   ]
  },
  {
   "cell_type": "markdown",
   "metadata": {},
   "source": [
    "# Q40: Binning  <span style=\"color:red; font-size:1em\">(ooo)</span>  &#x1F4D8;\n",
    "\n",
    "Bin the *petal length (cm)* of the Iris dataset and assign the string values *small/medium/large* to the binned values in the following way ($x_3$ is the variable expressing the *petal length (cm)*). Save the resulting string values in a vector.\n",
    "\n",
    "Discretisieren Sie die *petal length (cm)* des Iris Datensatzes und weisen Sie den diskreten Werten die Werte *small/medium/large* auf die unten angegebene Weise zu ($x_3$ soll das Merkmal *petal length (cm)* darstellen. Speichern Sie die neuen Werte in einem Vektor.\n",
    "\n",
    "$0 \\leq x_3 < 2 \\quad \\rightarrow \\quad \\text{small}$\n",
    "\n",
    "$2 \\leq x_3 < 5 \\quad \\rightarrow \\quad \\text{medium}$\n",
    "\n",
    "$5 \\leq x_3 < \\infty \\quad \\rightarrow \\quad \\text{large}$\n"
   ]
  },
  {
   "cell_type": "code",
   "execution_count": 88,
   "metadata": {},
   "outputs": [],
   "source": [
    "x_string = ...  # TODO"
   ]
  },
  {
   "cell_type": "markdown",
   "metadata": {},
   "source": [
    "# Q41: Feature Engineering <span style=\"color:orange; font-size:1em\">(oo)</span>  &#x1F4D9;\n",
    "\n",
    "Create a new feature for the *petal area (cm$^2$)* and add it to the data matrix (feature engineering). The area should be computed as *petal area (cm$^2$) = petal width (cm) x petal length (cm)*.\n",
    "\n",
    "Erzeugen Sie ein neues Feature *petal area (cm$^2$)* und fügen Sie es der Datenmatrix `X` hinzu. Das neue Feature soll auf folgende Weise berechnet werden: *petal area (cm$^2$) = petal width (cm) x petal length (cm)*"
   ]
  },
  {
   "cell_type": "code",
   "execution_count": 87,
   "metadata": {},
   "outputs": [],
   "source": [
    "petal_area = ...  # TODO\n",
    "X_new = ...  # TODO"
   ]
  },
  {
   "cell_type": "markdown",
   "metadata": {},
   "source": [
    "# Q42: Splitting datasets I <span style=\"color:green; font-size:1em\">(o)</span>  &#x1F4D7;\n",
    "\n",
    "Split the data matrix `X` such that the first $100$ samples are assigned to a new matrix `X1` and the final $50$ samples are assigned to a new matrix `X2`. Do the same for the target vector `y`.\n",
    "\n",
    "Teilen Sie die Datenmatrix `X`, sodass die ersten $100$ Datenpunkte einer neuen Matrix `X1` und die letzten $50$ Datenpunkte einer Matrix `X2` zugewiesen werden. Wiederholen Sie den Prozess für den Vektor der Zielvariablen `y`.\n"
   ]
  },
  {
   "cell_type": "code",
   "execution_count": 89,
   "metadata": {},
   "outputs": [],
   "source": [
    "X1 = ...  # TODO\n",
    "X2 = ...  # TODO\n",
    "\n",
    "y1 = ...  # TODO\n",
    "y2 = ...  # TODO\n"
   ]
  },
  {
   "cell_type": "markdown",
   "metadata": {},
   "source": [
    "# Q43: Splitting datasets II <span style=\"color:red; font-size:1em\">(ooo)</span>  &#x1F4D7;\n",
    "\n",
    "Split the data matrix `X` randomly assigning $100$ samples to a new matrix `X1` and $50$ samples to a new matrix `X2`. Do the same for the target vector `y`, leaving the correspondence between samples and the target variable intact. `X` should not be changed.\n",
    "\n",
    "Teilen Sie die Datenmatrix `X` zufällig sodass $100$ Datenpunkte einer neuen Matrix `X1` und $50$ Datenpunkte einer Matrix `X2` zugewiesen werden. Wiederholen Sie den Prozess für den Vektor der Zielvariablen `y`, wobei die Beziehung zwischen Datenpunkten und Zielvariablen intakt bleiben soll. `X` soll nicht verändert werden."
   ]
  },
  {
   "cell_type": "code",
   "execution_count": 91,
   "metadata": {},
   "outputs": [],
   "source": [
    "X1 = ...  # TODO\n",
    "X2 = ...  # TODO\n",
    "\n",
    "y1 = ...  # TODO\n",
    "y2 = ...  # TODO"
   ]
  },
  {
   "cell_type": "markdown",
   "metadata": {},
   "source": [
    "# Q44: Grouping and selecting <span style=\"color:orange; font-size:1em\">(oo)</span>  &#x1F4D8;\n",
    "\n",
    "Find the second largest value of the feature *petal length (cm)* of species *setosa*.\n",
    "\n",
    "Finden Sie den zweitgrößten Wert des Features *petal length (cm)* der Spezies *setosa*."
   ]
  },
  {
   "cell_type": "code",
   "execution_count": 93,
   "metadata": {},
   "outputs": [],
   "source": [
    "value = ...  # TODO"
   ]
  },
  {
   "cell_type": "markdown",
   "metadata": {},
   "source": [
    "# Q45: Sorting I <span style=\"color:orange; font-size:1em\">(oo)</span>  &#x1F4D9;\n",
    "\n",
    "Sort the rows of the Iris data matrix `X` based on the feature *petal width (cm)* in **ascending** order.\n",
    "\n",
    "Sortieren Sie die Reihen der Datenmatrix `X` **aufsteigend** auf Grundlage des Features *petal width (cm)*."
   ]
  },
  {
   "cell_type": "code",
   "execution_count": 95,
   "metadata": {},
   "outputs": [],
   "source": [
    "X_sorted = ...  # TODO"
   ]
  },
  {
   "cell_type": "markdown",
   "metadata": {},
   "source": [
    "# Q46: Sorting II <span style=\"color:orange; font-size:1em\">(oo)</span>  &#x1F4D9;\n",
    "\n",
    "Sort the rows of the Iris data matrix `X` based on the feature *petal width (cm)* in **descending** order.\n",
    "\n",
    "Sortieren Sie die Reihen der Datenmatrix `X` **absteigend** auf Grundlage des Features *petal width (cm)*."
   ]
  },
  {
   "cell_type": "code",
   "execution_count": 97,
   "metadata": {},
   "outputs": [],
   "source": [
    "X_sorted = ...  # TODO"
   ]
  },
  {
   "cell_type": "markdown",
   "metadata": {},
   "source": [
    "# Q47: Matrix multiplication I <span style=\"color:green; font-size:1em\">(o)</span>  &#x1F4D7;\n",
    "\n",
    "Compute different matrix products of matrices `A` und `B`: $C = A \\cdot B$ and $D = B \\cdot A$.\n",
    "\n",
    "Berechnen Sie das Matrixprodukt der Matrizen `A` und `B`: $C = A \\cdot B$ und $D = B \\cdot A$."
   ]
  },
  {
   "cell_type": "code",
   "execution_count": 99,
   "metadata": {},
   "outputs": [],
   "source": [
    "A = np.array([\n",
    "    [0, 1, -1, 1],\n",
    "    [1, 2, 1, 3],\n",
    "])\n",
    "\n",
    "B = np.array([\n",
    "    [0, -1],\n",
    "    [-1, 2],\n",
    "    [3, 1],\n",
    "    [0, 1]\n",
    "])\n",
    "\n",
    "C = ...  # TODO\n",
    "D = ...  # TODO"
   ]
  },
  {
   "cell_type": "markdown",
   "metadata": {},
   "source": [
    "# Q48: Matrix multiplication II <span style=\"color:red; font-size:1em\">(ooo)</span>  &#x1F4D8;\n",
    "\n",
    "Find a Matrix $\\mathbf{A}$ such that when multiplying this matrix with a vector $\\mathbf{x} = (1, 2, 3)$ from the left, i.e. $\\mathbf{x}' = \\mathbf{A} \\cdot \\mathbf{x}$, the elements of the vector are reordered in the following way $\\mathbf{x}' = (2, 3, 1)$.\n",
    "\n",
    "Finden Sie eine Matrix $\\mathbf{A}$ sodass die Multiplikation von links dieser Matrix mit dem Vektor $\\mathbf{x} = (1, 2, 3)$, das heißt $\\mathbf{x}' = \\mathbf{A} \\cdot \\mathbf{x}$, dafür sorgt, dass die Elemente des Vektors in folgender Weise umsortiert werden $\\mathbf{x}' = (2, 3, 1)$."
   ]
  },
  {
   "cell_type": "code",
   "execution_count": 101,
   "metadata": {},
   "outputs": [],
   "source": [
    "x = np.array([1, 2, 3])\n",
    "\n",
    "A = ...  # TODO"
   ]
  },
  {
   "cell_type": "markdown",
   "metadata": {},
   "source": [
    "# Q49: Matrix multiplication III <span style=\"color:orange; font-size:1em\">(oo)</span>  &#x1F4D7;\n",
    "\n",
    "Compute the following quantity for the first sample of the Iris dataset: *value = sepal length (cm) + 2 x sepal width (cm) - petal length (cm) + 0.5 x petal width (cm).*\n",
    "\n",
    "Berechnen Sie die folgende Größe für den ersten Datenpunkt des Iris Datensatzes: *value = sepal length (cm) + 2 x sepal width (cm) - petal length (cm) + 0.5 x petal width (cm).*"
   ]
  },
  {
   "cell_type": "code",
   "execution_count": 103,
   "metadata": {},
   "outputs": [],
   "source": [
    "value = ...  # TODO"
   ]
  },
  {
   "cell_type": "markdown",
   "metadata": {},
   "source": [
    "# Q50: Matrix multiplication IV <span style=\"color:red; font-size:1em\">(ooo)</span>  &#x1F4D7;\n",
    "\n",
    "Compute the following quantity for all samples of the Iris dataset: *value = sepal length (cm) + 2 x sepal width (cm) - petal length (cm) + 0.5 x petal width (cm)*. Store them in a single vector.\n",
    "\n",
    "Berechnen Sie die folgende Größe für alle Datenpunkte des Iris Datensatzes: *value = sepal length (cm) + 2 x sepal width (cm) - petal length (cm) + 0.5 x petal width (cm)*. Speichern Sie die Ergebnisse in einem Vektor. "
   ]
  },
  {
   "cell_type": "code",
   "execution_count": 105,
   "metadata": {},
   "outputs": [],
   "source": [
    "values = ...  # TODO"
   ]
  },
  {
   "cell_type": "markdown",
   "metadata": {},
   "source": [
    "# Q51: Distances I <span style=\"color:green; font-size:1em\">(o)</span>  &#x1F4D7;\n",
    "\n",
    "Compute the Euclidean distance between two arrays `a` and `b`.\n",
    "\n",
    "Berechnen Sie die euklidische Distanz zwischen den den zwei Arrays `a` und `b`."
   ]
  },
  {
   "cell_type": "code",
   "execution_count": 107,
   "metadata": {},
   "outputs": [],
   "source": [
    "# Input\n",
    "a = np.array([1,2,3,4,5])\n",
    "b = np.array([4,5,6,7,8])\n",
    "\n",
    "dist = ...  # TODO"
   ]
  },
  {
   "cell_type": "markdown",
   "metadata": {},
   "source": [
    "# Q52: Distances II <span style=\"color:red; font-size:1em\">(ooo)</span>  &#x1F4D9;\n",
    "\n",
    "Compute the Euclidean distance between every sample in the Iris data matrix `X` and the mean sample (as a reminder see **Q32**). Store the result in a vector.\n",
    "\n",
    "Berechnen Sie jeweils die euklidische Distanz zwischen allen Datenpunkten in der Iris Datenmatrix und dem durchschnittlichen Datenpunkt (als Erinnering siehe **Q32**). Speichern Sie die Distanzen in einem Vektor."
   ]
  },
  {
   "cell_type": "code",
   "execution_count": 109,
   "metadata": {},
   "outputs": [],
   "source": [
    "mean = ...  # TODO\n",
    "dists = ...  # TODO"
   ]
  },
  {
   "cell_type": "markdown",
   "metadata": {},
   "source": [
    "# Q53: Clipping <span style=\"color:green; font-size:1em\">(o)</span>  &#x1F4D8;\n",
    "\n",
    "Replace all values greater than $30$ with $30$ and all values less than $10$ by $10$ in the array `a`.\n",
    "\n",
    "Ersetzen Sie alle Werte größer als $30$ mit $30$ und alle Werte kleiner als $10$ mit $10$ im Array `a`."
   ]
  },
  {
   "cell_type": "code",
   "execution_count": 111,
   "metadata": {},
   "outputs": [],
   "source": [
    "np.random.seed(5)\n",
    "a = np.random.uniform(1, 50, 20)\n",
    "\n",
    "out = ...  # TODO"
   ]
  },
  {
   "cell_type": "markdown",
   "metadata": {},
   "source": [
    "# Q54: Top-$K$ Values <span style=\"color:orange; font-size:1em\">(oo)</span>  &#x1F4D9;\n",
    "\n",
    "Get the positions of the top $5$ maximum values in a given array `a` in order.\n",
    "\n",
    "Finden Sie die Positionen der $5$ maximalen Werte im Array `a` in der entsprechenden Reihenfolge."
   ]
  },
  {
   "cell_type": "code",
   "execution_count": 114,
   "metadata": {},
   "outputs": [],
   "source": [
    "# Input\n",
    "np.random.seed(5)\n",
    "a = np.random.uniform(1, 50, 20)\n",
    "\n",
    "top5 = ...  # TODO"
   ]
  },
  {
   "cell_type": "markdown",
   "metadata": {},
   "source": [
    "# Q55: Reshaping II <span style=\"color:green; font-size:1em\">(o)</span>  &#x1F4D7;\n",
    "\n",
    "Convert the 2D array `arr2d` into a \"flat\" 1D array, such that all the rows of the original matrix are concatenated.\n",
    "\n",
    "Wandeln Sie das 2D Array `arr2d` in ein \"flaches\" 1D array um, sodass die Reihen der ursprünglichen Matrix hintereinander geschrieben werden."
   ]
  },
  {
   "cell_type": "code",
   "execution_count": 116,
   "metadata": {},
   "outputs": [],
   "source": [
    "arr2d = np.array([\n",
    "    [0, 1, 2, 1],\n",
    "    [1, -1, 1, 3],\n",
    "    [0, -2, 4, 1]\n",
    "])\n",
    "\n",
    "arr = ...  # TODO"
   ]
  },
  {
   "cell_type": "markdown",
   "metadata": {},
   "source": [
    "# Q56: Reshaping III <span style=\"color:orange; font-size:1em\">(oo)</span>  &#x1F4D7;\n",
    "\n",
    "Convert the 3D array `arr3d` into a 2D array containing the same elements and with the same length along the first axis.\n",
    "\n",
    "Wandeln Sie das 3D Array `arr3d` in ein 2D Array um, das die gleichen Elemente enthält und gleich lang entlang der ersten Achse ist."
   ]
  },
  {
   "cell_type": "code",
   "execution_count": 118,
   "metadata": {},
   "outputs": [],
   "source": [
    "# Do not change the seed if you want to check the solution\n",
    "np.random.seed(4)\n",
    "arr3d = np.random.normal(size=(100, 4, 4))\n",
    "\n",
    "arr2d = ...  # TODO"
   ]
  },
  {
   "cell_type": "markdown",
   "metadata": {},
   "source": [
    "# Q57: Reshaping IV <span style=\"color:red; font-size:1em\">(ooo)</span>  &#x1F4D7;\n",
    "\n",
    "Assume that the 1D array `arr` contains the pixel intensities of $50$ images each with a resolution of $8$x$8$ pixels. The first $64$ elements in `arr` should be considered the pixels of the first image, the following $64$ elements the pixels of the next image etc. Convert the array `arr` into a 3D array with the length $50$ along the first axis. Then get the $35$th image as an $8$x$8$ 2D array.\n",
    "\n",
    "Nehmen Sie an, dass das 1D Array `arr` die Pixelintensitäten von $50$ Bildern mit einer Auflösung von $8$x$8$ Pixeln enthält. Die ersten $64$ Elemente in `arr` sollen das erste Bild darstellen und die folgenden $64$ Elemente das nächste Bild usw. Wandeln Sie das 1D Array `arr` in ein 3D Array um, dass entlang der ersten Achse die Länge $50$ hat. Speichern Sie dann das $35.$ Bild als ein $8$x$8$ 2D Array."
   ]
  },
  {
   "cell_type": "code",
   "execution_count": 120,
   "metadata": {},
   "outputs": [],
   "source": [
    "np.random.seed(7)\n",
    "arr = np.random.uniform(0, 1, size=3200)\n",
    "\n",
    "arr3d = ...  # TODO\n",
    "image35 = ...  # TODO"
   ]
  },
  {
   "cell_type": "markdown",
   "metadata": {},
   "source": [
    "# Q58: Finding the maximum I <span style=\"color:green; font-size:1em\">(o)</span>  &#x1F4D7;\n",
    "\n",
    "Find the position of the maximal value in the array `a`.\n",
    "\n",
    "Finden Sie die Position des Maximums im Array `a`."
   ]
  },
  {
   "cell_type": "code",
   "execution_count": 122,
   "metadata": {},
   "outputs": [],
   "source": [
    "# Do not change the seed if you want to check the solution\n",
    "np.random.seed(3)\n",
    "a = np.random.normal(size=(100))\n",
    "\n",
    "position = ...  # TODO"
   ]
  },
  {
   "cell_type": "markdown",
   "metadata": {},
   "source": [
    "# Q59: Finding the maximum II <span style=\"color:red; font-size:1em\">(ooo)</span>  &#x1F4D7;\n",
    "\n",
    "Find the position of the maximal value in the 2D array `A`. The position has two coordinates - save them in a tuple of length $2$.\n",
    "\n",
    "Finden Sie die Position des Maximums im Array `A`. Die Position hat zwei Koordinates - speichern Sie diese in einem Tuple der Länge $2$."
   ]
  },
  {
   "cell_type": "code",
   "execution_count": 125,
   "metadata": {},
   "outputs": [],
   "source": [
    "# Do not change the seed if you want to check the solution\n",
    "np.random.seed(3)\n",
    "A = np.random.normal(size=(100, 100))\n",
    "\n",
    "position = ...  # TODO: save this as a tuple"
   ]
  },
  {
   "cell_type": "markdown",
   "metadata": {},
   "source": [
    "# Q60: Computing the maximum <span style=\"color:orange; font-size:1em\">(oo)</span>  &#x1F4D7;\n",
    "\n",
    "Compute the maximum for each row in the given 2D array `A`. Store the results in a vector.\n",
    "\n",
    "Berechnen Sie das Maximum für jede Reihe des 2D Arrays `A`. Speichern Sie das Ergebnis in einem Vektor."
   ]
  },
  {
   "cell_type": "code",
   "execution_count": 127,
   "metadata": {},
   "outputs": [],
   "source": [
    "# Do not change the seed if you want to check the solution\n",
    "np.random.seed(3)\n",
    "A = np.random.randint(1, 10, [5, 3])\n",
    "\n",
    "maximums = ...  # TODO"
   ]
  },
  {
   "cell_type": "markdown",
   "metadata": {},
   "source": [
    "# Q61: Computing the range <span style=\"color:orange; font-size:1em\">(oo)</span>  &#x1F4D9;\n",
    "\n",
    "Compute the range for each row in the given 2D array `A`, i.e. the absolute difference between the maximum and minimum. Store the results in a vector.\n",
    "\n",
    "Berechnen Sie die Spanne für jede Reihe des 2D Arrays `A`, das heißt die absolute Differenz zwischen dem Maximum und dem Minimum. Speichern Sie das Ergebnis in einem Vektor."
   ]
  },
  {
   "cell_type": "code",
   "execution_count": 132,
   "metadata": {},
   "outputs": [],
   "source": [
    "# Do not change the seed if you want to check the solution\n",
    "np.random.seed(3)\n",
    "A = np.random.normal(size=(10, 20))\n",
    "\n",
    "ranges = ...  # TODO"
   ]
  },
  {
   "cell_type": "markdown",
   "metadata": {},
   "source": [
    "# Q62: Checking equality of arrays <span style=\"color:orange; font-size:1em\">(oo)</span>  &#x1F4D9;\n",
    "\n",
    "Check if the arrays `A` and `B` are exactly equal and if they are equal up to rounding errors.\n",
    "\n",
    "Überprüfen Sie, ob die Arrays `A` und `B` exakt gleich sind und bis auf Rundungsfehler gleich sind."
   ]
  },
  {
   "cell_type": "code",
   "execution_count": 134,
   "metadata": {},
   "outputs": [],
   "source": [
    "np.random.seed(5)\n",
    "A = np.random.uniform(0, 1, size=(100, 100))\n",
    "B = A + 1e-15 * np.random.uniform(0, 1, size=(100, 100))\n",
    "\n",
    "exactly_equal = ...  # TODO\n",
    "approx_equal = ...  # TODO"
   ]
  },
  {
   "cell_type": "code",
   "execution_count": null,
   "metadata": {},
   "outputs": [],
   "source": []
  }
 ],
 "metadata": {
  "kernelspec": {
   "display_name": "Python 3",
   "language": "python",
   "name": "python3"
  },
  "language_info": {
   "codemirror_mode": {
    "name": "ipython",
    "version": 3
   },
   "file_extension": ".py",
   "mimetype": "text/x-python",
   "name": "python",
   "nbconvert_exporter": "python",
   "pygments_lexer": "ipython3",
   "version": "3.8.5"
  }
 },
 "nbformat": 4,
 "nbformat_minor": 4
}
