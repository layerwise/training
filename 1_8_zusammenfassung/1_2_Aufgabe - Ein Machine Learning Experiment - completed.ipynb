{
 "cells": [
  {
   "cell_type": "markdown",
   "metadata": {},
   "source": [
    "In dieser Aufgabe reproduzieren wir die Kapitel **Daten kennenlernen**, **Vorhersagen treffen**, **Modelle evaluieren** und **Modelle trainieren**. Statt der dort betrachteten Datensätze soll es um einen neuen Datensatz gehen: *Pima Indians Diabetes Database*. Verfügbar ist dieser zum Beispiel unter folgendem Link: https://www.kaggle.com/uciml/pima-indians-diabetes-database. Laden Sie den Datensatz herunter (er besteht aus einer CSV-Datei).\n",
    "\n",
    "## (1.2.1.) Daten importieren <span style=\"color:green; font-size:1em\">(o)</span>  <span style=\"font-size:1em\">&#x1F4D7;</span>\n",
    "\n",
    "**<span style=\"font-size:1.5em\">(a)</span>** Laden Sie den Datensatz durch eine geeignete Bibliothek, zum Beispiel **Pandas**. Untersuchen Sie die Features des Datensatzes auf eine geeignete Weise. Lesen Sie die Dokumentation des Datensatzes und identifizieren Sie die Zielvariable.\n",
    "\n",
    "**<span style=\"font-size:1.5em\">(b)</span>** Bereiten Sie den Datensatz für das Machine Learning Modell vor. Das heißt: definieren Sie eine Variable `X` (zum Beispiel als eine Matrix oder ein DataFrame), die die Features des Datensatzes speichern soll. Definieren Sie eine weitere Variable `y` (zum Beispiel als Vektor oder Series), die die Zielvariable darstellen soll.\n",
    "\n",
    "**<span style=\"font-size:1.5em\">(c)</span>** Benutzen Sie Indexing, um den Datensatz aufzuteilen: Definieren Sie eine Variable `X_train`, die die ersten $600$ Zeilen der Matrix `X` umfassen sollen. Definieren Sie eine Variable `y_train`, die die ersten $600$ Werte des Vektors `y` umfassen soll. Definieren Sie dann die Variable `X_test` und `y_test`, die die anderen Zeilen bzw. Werte der Variablen `X` bzw. `y` umfassen soll."
   ]
  },
  {
   "cell_type": "code",
   "execution_count": 8,
   "metadata": {},
   "outputs": [
    {
     "data": {
      "text/html": [
       "<div>\n",
       "<style scoped>\n",
       "    .dataframe tbody tr th:only-of-type {\n",
       "        vertical-align: middle;\n",
       "    }\n",
       "\n",
       "    .dataframe tbody tr th {\n",
       "        vertical-align: top;\n",
       "    }\n",
       "\n",
       "    .dataframe thead th {\n",
       "        text-align: right;\n",
       "    }\n",
       "</style>\n",
       "<table border=\"1\" class=\"dataframe\">\n",
       "  <thead>\n",
       "    <tr style=\"text-align: right;\">\n",
       "      <th></th>\n",
       "      <th>Pregnancies</th>\n",
       "      <th>Glucose</th>\n",
       "      <th>BloodPressure</th>\n",
       "      <th>SkinThickness</th>\n",
       "      <th>Insulin</th>\n",
       "      <th>BMI</th>\n",
       "      <th>DiabetesPedigreeFunction</th>\n",
       "      <th>Age</th>\n",
       "      <th>Outcome</th>\n",
       "    </tr>\n",
       "  </thead>\n",
       "  <tbody>\n",
       "    <tr>\n",
       "      <th>0</th>\n",
       "      <td>6</td>\n",
       "      <td>148</td>\n",
       "      <td>72</td>\n",
       "      <td>35</td>\n",
       "      <td>0</td>\n",
       "      <td>33.6</td>\n",
       "      <td>0.627</td>\n",
       "      <td>50</td>\n",
       "      <td>1</td>\n",
       "    </tr>\n",
       "    <tr>\n",
       "      <th>1</th>\n",
       "      <td>1</td>\n",
       "      <td>85</td>\n",
       "      <td>66</td>\n",
       "      <td>29</td>\n",
       "      <td>0</td>\n",
       "      <td>26.6</td>\n",
       "      <td>0.351</td>\n",
       "      <td>31</td>\n",
       "      <td>0</td>\n",
       "    </tr>\n",
       "    <tr>\n",
       "      <th>2</th>\n",
       "      <td>8</td>\n",
       "      <td>183</td>\n",
       "      <td>64</td>\n",
       "      <td>0</td>\n",
       "      <td>0</td>\n",
       "      <td>23.3</td>\n",
       "      <td>0.672</td>\n",
       "      <td>32</td>\n",
       "      <td>1</td>\n",
       "    </tr>\n",
       "    <tr>\n",
       "      <th>3</th>\n",
       "      <td>1</td>\n",
       "      <td>89</td>\n",
       "      <td>66</td>\n",
       "      <td>23</td>\n",
       "      <td>94</td>\n",
       "      <td>28.1</td>\n",
       "      <td>0.167</td>\n",
       "      <td>21</td>\n",
       "      <td>0</td>\n",
       "    </tr>\n",
       "    <tr>\n",
       "      <th>4</th>\n",
       "      <td>0</td>\n",
       "      <td>137</td>\n",
       "      <td>40</td>\n",
       "      <td>35</td>\n",
       "      <td>168</td>\n",
       "      <td>43.1</td>\n",
       "      <td>2.288</td>\n",
       "      <td>33</td>\n",
       "      <td>1</td>\n",
       "    </tr>\n",
       "    <tr>\n",
       "      <th>...</th>\n",
       "      <td>...</td>\n",
       "      <td>...</td>\n",
       "      <td>...</td>\n",
       "      <td>...</td>\n",
       "      <td>...</td>\n",
       "      <td>...</td>\n",
       "      <td>...</td>\n",
       "      <td>...</td>\n",
       "      <td>...</td>\n",
       "    </tr>\n",
       "    <tr>\n",
       "      <th>763</th>\n",
       "      <td>10</td>\n",
       "      <td>101</td>\n",
       "      <td>76</td>\n",
       "      <td>48</td>\n",
       "      <td>180</td>\n",
       "      <td>32.9</td>\n",
       "      <td>0.171</td>\n",
       "      <td>63</td>\n",
       "      <td>0</td>\n",
       "    </tr>\n",
       "    <tr>\n",
       "      <th>764</th>\n",
       "      <td>2</td>\n",
       "      <td>122</td>\n",
       "      <td>70</td>\n",
       "      <td>27</td>\n",
       "      <td>0</td>\n",
       "      <td>36.8</td>\n",
       "      <td>0.340</td>\n",
       "      <td>27</td>\n",
       "      <td>0</td>\n",
       "    </tr>\n",
       "    <tr>\n",
       "      <th>765</th>\n",
       "      <td>5</td>\n",
       "      <td>121</td>\n",
       "      <td>72</td>\n",
       "      <td>23</td>\n",
       "      <td>112</td>\n",
       "      <td>26.2</td>\n",
       "      <td>0.245</td>\n",
       "      <td>30</td>\n",
       "      <td>0</td>\n",
       "    </tr>\n",
       "    <tr>\n",
       "      <th>766</th>\n",
       "      <td>1</td>\n",
       "      <td>126</td>\n",
       "      <td>60</td>\n",
       "      <td>0</td>\n",
       "      <td>0</td>\n",
       "      <td>30.1</td>\n",
       "      <td>0.349</td>\n",
       "      <td>47</td>\n",
       "      <td>1</td>\n",
       "    </tr>\n",
       "    <tr>\n",
       "      <th>767</th>\n",
       "      <td>1</td>\n",
       "      <td>93</td>\n",
       "      <td>70</td>\n",
       "      <td>31</td>\n",
       "      <td>0</td>\n",
       "      <td>30.4</td>\n",
       "      <td>0.315</td>\n",
       "      <td>23</td>\n",
       "      <td>0</td>\n",
       "    </tr>\n",
       "  </tbody>\n",
       "</table>\n",
       "<p>768 rows × 9 columns</p>\n",
       "</div>"
      ],
      "text/plain": [
       "     Pregnancies  Glucose  BloodPressure  SkinThickness  Insulin   BMI  \\\n",
       "0              6      148             72             35        0  33.6   \n",
       "1              1       85             66             29        0  26.6   \n",
       "2              8      183             64              0        0  23.3   \n",
       "3              1       89             66             23       94  28.1   \n",
       "4              0      137             40             35      168  43.1   \n",
       "..           ...      ...            ...            ...      ...   ...   \n",
       "763           10      101             76             48      180  32.9   \n",
       "764            2      122             70             27        0  36.8   \n",
       "765            5      121             72             23      112  26.2   \n",
       "766            1      126             60              0        0  30.1   \n",
       "767            1       93             70             31        0  30.4   \n",
       "\n",
       "     DiabetesPedigreeFunction  Age  Outcome  \n",
       "0                       0.627   50        1  \n",
       "1                       0.351   31        0  \n",
       "2                       0.672   32        1  \n",
       "3                       0.167   21        0  \n",
       "4                       2.288   33        1  \n",
       "..                        ...  ...      ...  \n",
       "763                     0.171   63        0  \n",
       "764                     0.340   27        0  \n",
       "765                     0.245   30        0  \n",
       "766                     0.349   47        1  \n",
       "767                     0.315   23        0  \n",
       "\n",
       "[768 rows x 9 columns]"
      ]
     },
     "execution_count": 8,
     "metadata": {},
     "output_type": "execute_result"
    }
   ],
   "source": [
    "import pandas as pd\n",
    "\n",
    "data = pd.read_csv(\"../data/diabetes.csv\")\n",
    "data"
   ]
  },
  {
   "cell_type": "code",
   "execution_count": 9,
   "metadata": {},
   "outputs": [],
   "source": [
    "# Option 1 - DataFrames\n",
    "X = data.drop(columns='Outcome')\n",
    "y = data['Outcome']\n",
    "\n",
    "X_train = X.head(600)\n",
    "y_train = y.head(600)\n",
    "\n",
    "X_test = X.tail(-600)\n",
    "y_test = y.tail(-600)"
   ]
  },
  {
   "cell_type": "code",
   "execution_count": 10,
   "metadata": {},
   "outputs": [],
   "source": [
    "# Option 2 - Numpy Arrays\n",
    "X = data.drop(columns='Outcome').values\n",
    "y = data['Outcome'].values\n",
    "\n",
    "X_train = X[:600, :]\n",
    "y_train = y[:600]\n",
    "\n",
    "X_test = X[600:, :]\n",
    "y_test = y[600:]"
   ]
  },
  {
   "cell_type": "markdown",
   "metadata": {},
   "source": [
    "## (1.2.2.) Modell trainieren <span style=\"color:green; font-size:1em\">(o)</span>  <span style=\"font-size:1em\">&#x1F4D7;</span>\n",
    "\n",
    "Importieren Sie den `DecisionTreeClassifier`. Führen Sie einen Fit auf den Variablen `X_train` und `y_train` aus. Nutzen Sie dafür die `fit` Funktion des Modells."
   ]
  },
  {
   "cell_type": "code",
   "execution_count": 40,
   "metadata": {},
   "outputs": [
    {
     "data": {
      "text/plain": [
       "DecisionTreeClassifier(random_state=0)"
      ]
     },
     "execution_count": 40,
     "metadata": {},
     "output_type": "execute_result"
    }
   ],
   "source": [
    "from sklearn.tree import DecisionTreeClassifier\n",
    "\n",
    "model = DecisionTreeClassifier(random_state=0)\n",
    "model.fit(X_train, y_train)"
   ]
  },
  {
   "cell_type": "markdown",
   "metadata": {},
   "source": [
    "## (1.2.3.) Modell evaluieren <span style=\"color:green; font-size:1em\">(o)</span>  <span style=\"font-size:1em\">&#x1F4D7;</span>\n",
    "\n",
    "**<span style=\"font-size:1.5em\">(a)</span>** Treffen Sie eine Vorhersage für die Variable `X_test`. Speichern Sie das Ergebnis in einer Variablen `y_pred`. Nutzen Sie dafür die `predict` Funktion des Modells.\n",
    "\n",
    "**<span style=\"font-size:1.5em\">(b)</span>** Schreiben Sie eine Funktion `accuracy_score`. Diese Funktion soll zwei Argumente erhalten, die Sie am besten `y_true` und `y_pred` nennen. Beide diese Argumente sollten Vektoren gleicher Länge sein. Die Funktion soll daraufhin den Prozentsatz der Übereinstimmungen zwischen den Elementen in `y_true` und `y_pred` berechnen.\n",
    "\n",
    "**<span style=\"font-size:1.5em\">(c)</span>** Ǹutzen Sie die Funktion aus **(b)**, um Ihr Modell zu evaluieren.\n"
   ]
  },
  {
   "cell_type": "code",
   "execution_count": 43,
   "metadata": {},
   "outputs": [
    {
     "data": {
      "text/plain": [
       "0.6904761904761905"
      ]
     },
     "execution_count": 43,
     "metadata": {},
     "output_type": "execute_result"
    }
   ],
   "source": [
    "y_pred = model.predict(X_test)\n",
    "\n",
    "def accuracy_score(y_true,y_pred):\n",
    "    rate = 1-sum(abs(y_pred-y_true)) / len(y_true)\n",
    "    return rate\n",
    "    \n",
    "def accuracy_score(y_true, y_pred):\n",
    "    accuracy = (y_pred == y_true).sum() / len(y_pred)\n",
    "    return accuracy\n",
    "\n",
    "accuracy = accuracy_score(y_test, y_pred)\n",
    "accuracy"
   ]
  },
  {
   "cell_type": "markdown",
   "metadata": {},
   "source": [
    "## (1.2.4.) Vorhersagen treffen <span style=\"color:green; font-size:1em\">(o)</span>  <span style=\"font-size:1em\">&#x1F4D7;</span>\n",
    "\n",
    "Sie treffen auf eine neue Patientin und erfassen deren physiologische Merkmale. Über die Patientin ist folgendes bekannt:\n",
    "\n",
    "- Die Patientin ist $36$ Jahre alt\n",
    "- Die Patientin hatte bereits $3$ Schwangerschaften\n",
    "- Die Patientin hat im Test eine Glukose-Konzentration von $155$\n",
    "- Die Patientin hat einen Blutdruck von $89$ [mm Hg]\n",
    "- Die Patientin hat einen BMI von $28.2$\n",
    "- Der Wert der Messgröße *SkinThickness* beträgt $34$ [mm]\n",
    "- Die Insulin-Konzentration beträgt $0$ [2-Hour serum insulin (mu U/ml)]\n",
    "- Der Wert der Messgröße *DiabetesPedigreeFunction* wird mit 0.378 angegeben.\n",
    "\n",
    "Was sagt ihr Modell für diese Patientin bezüglich der Inzidenz einer Diabetes-Erkrankung vorher?\n",
    "Trauen Sie dieser Vorhersage? Warum oder warum nicht?"
   ]
  },
  {
   "cell_type": "code",
   "execution_count": 45,
   "metadata": {},
   "outputs": [
    {
     "data": {
      "text/html": [
       "<div>\n",
       "<style scoped>\n",
       "    .dataframe tbody tr th:only-of-type {\n",
       "        vertical-align: middle;\n",
       "    }\n",
       "\n",
       "    .dataframe tbody tr th {\n",
       "        vertical-align: top;\n",
       "    }\n",
       "\n",
       "    .dataframe thead th {\n",
       "        text-align: right;\n",
       "    }\n",
       "</style>\n",
       "<table border=\"1\" class=\"dataframe\">\n",
       "  <thead>\n",
       "    <tr style=\"text-align: right;\">\n",
       "      <th></th>\n",
       "      <th>Pregnancies</th>\n",
       "      <th>Glucose</th>\n",
       "      <th>BloodPressure</th>\n",
       "      <th>SkinThickness</th>\n",
       "      <th>Insulin</th>\n",
       "      <th>BMI</th>\n",
       "      <th>DiabetesPedigreeFunction</th>\n",
       "      <th>Age</th>\n",
       "    </tr>\n",
       "  </thead>\n",
       "  <tbody>\n",
       "    <tr>\n",
       "      <th>0</th>\n",
       "      <td>3</td>\n",
       "      <td>155</td>\n",
       "      <td>89</td>\n",
       "      <td>34</td>\n",
       "      <td>0</td>\n",
       "      <td>28.2</td>\n",
       "      <td>0.378</td>\n",
       "      <td>36</td>\n",
       "    </tr>\n",
       "  </tbody>\n",
       "</table>\n",
       "</div>"
      ],
      "text/plain": [
       "   Pregnancies  Glucose  BloodPressure  SkinThickness  Insulin   BMI  \\\n",
       "0            3      155             89             34        0  28.2   \n",
       "\n",
       "   DiabetesPedigreeFunction  Age  \n",
       "0                     0.378   36  "
      ]
     },
     "execution_count": 45,
     "metadata": {},
     "output_type": "execute_result"
    }
   ],
   "source": [
    "new_patient = pd.DataFrame(\n",
    "    data={'Pregnancies': 3,\n",
    "          'Glucose': 155,\n",
    "          'BloodPressure': 89,\n",
    "          'SkinThickness': 34,\n",
    "          'Insulin': 0,\n",
    "          'BMI': 28.2,\n",
    "          'DiabetesPedigreeFunction': 0.378,\n",
    "          'Age': 36\n",
    "    },\n",
    "    index=[0])\n",
    "\n",
    "new_patient"
   ]
  },
  {
   "cell_type": "code",
   "execution_count": 46,
   "metadata": {},
   "outputs": [
    {
     "data": {
      "text/plain": [
       "array([[  3.   , 155.   ,  89.   ,  34.   ,   0.   ,  28.2  ,   0.378,\n",
       "         36.   ]])"
      ]
     },
     "execution_count": 46,
     "metadata": {},
     "output_type": "execute_result"
    }
   ],
   "source": [
    "new_patient.values"
   ]
  },
  {
   "cell_type": "code",
   "execution_count": 47,
   "metadata": {},
   "outputs": [
    {
     "data": {
      "text/plain": [
       "array([0])"
      ]
     },
     "execution_count": 47,
     "metadata": {},
     "output_type": "execute_result"
    }
   ],
   "source": [
    "model.predict(new_patient.values)"
   ]
  },
  {
   "cell_type": "code",
   "execution_count": null,
   "metadata": {},
   "outputs": [],
   "source": []
  }
 ],
 "metadata": {
  "kernelspec": {
   "display_name": "Python 3",
   "language": "python",
   "name": "python3"
  },
  "language_info": {
   "codemirror_mode": {
    "name": "ipython",
    "version": 3
   },
   "file_extension": ".py",
   "mimetype": "text/x-python",
   "name": "python",
   "nbconvert_exporter": "python",
   "pygments_lexer": "ipython3",
   "version": "3.8.5"
  }
 },
 "nbformat": 4,
 "nbformat_minor": 4
}
