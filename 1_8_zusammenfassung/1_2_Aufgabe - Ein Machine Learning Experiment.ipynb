{
 "cells": [
  {
   "cell_type": "markdown",
   "metadata": {},
   "source": [
    "In dieser Aufgabe reproduzieren wir die Kapitel **Daten kennenlernen**, **Vorhersagen treffen**, **Modelle evaluieren** und **Modelle trainieren**. Statt der dort betrachteten Datensätze soll es um einen neuen Datensatz gehen: *Pima Indians Diabetes Database*. Verfügbar ist dieser zum Beispiel unter folgendem Link: https://www.kaggle.com/uciml/pima-indians-diabetes-database. Laden Sie den Datensatz herunter (er besteht aus einer CSV-Datei).\n",
    "\n",
    "## (1.2.1.) Daten importieren <span style=\"color:green; font-size:1em\">(o)</span>  <span style=\"font-size:1em\">&#x1F4D7;</span>\n",
    "\n",
    "**<span style=\"font-size:1.5em\">(a)</span>** Laden Sie den Datensatz durch eine geeignete Bibliothek, zum Beispiel **Pandas**. Untersuchen Sie die Features des Datensatzes auf eine geeignete Weise. Lesen Sie die Dokumentation des Datensatzes und identifizieren Sie die Zielvariable.\n",
    "\n",
    "**<span style=\"font-size:1.5em\">(b)</span>** Bereiten Sie den Datensatz für das Machine Learning Modell vor. Das heißt: definieren Sie eine Variable `X` (zum Beispiel als eine Matrix oder ein DataFrame), die die Features des Datensatzes speichern soll. Definieren Sie eine weitere Variable `y` (zum Beispiel als Vektor oder Series), die die Zielvariable darstellen soll.\n",
    "\n",
    "**<span style=\"font-size:1.5em\">(c)</span>** Benutzen Sie Indexing, um den Datensatz aufzuteilen: Definieren Sie eine Variable `X_train`, die die ersten $600$ Zeilen der Matrix `X` umfassen sollen. Definieren Sie eine Variable `y_train`, die die ersten $600$ Werte des Vektors `y` umfassen soll. Definieren Sie dann die Variable `X_test` und `y_test`, die die anderen Zeilen bzw. Werte der Variablen `X` bzw. `y` umfassen soll."
   ]
  },
  {
   "cell_type": "code",
   "execution_count": null,
   "metadata": {},
   "outputs": [],
   "source": []
  },
  {
   "cell_type": "markdown",
   "metadata": {},
   "source": [
    "## (1.2.2.) Modell trainieren <span style=\"color:green; font-size:1em\">(o)</span>  <span style=\"font-size:1em\">&#x1F4D7;</span>\n",
    "\n",
    "Importieren Sie den `DecisionTreeClassifier`. Führen Sie einen Fit auf den Variablen `X_train` und `y_train` aus. Nutzen Sie dafür die `fit` Funktion des Modells."
   ]
  },
  {
   "cell_type": "code",
   "execution_count": null,
   "metadata": {},
   "outputs": [],
   "source": []
  },
  {
   "cell_type": "markdown",
   "metadata": {},
   "source": [
    "## (1.2.3.) Modell evaluieren <span style=\"color:green; font-size:1em\">(o)</span>  <span style=\"font-size:1em\">&#x1F4D7;</span>\n",
    "\n",
    "**<span style=\"font-size:1.5em\">(a)</span>** Treffen Sie eine Vorhersage für die Variable `X_test`. Speichern Sie das Ergebnis in einer Variablen `y_pred`. Nutzen Sie dafür die `predict` Funktion des Modells.\n",
    "\n",
    "**<span style=\"font-size:1.5em\">(b)</span>** Schreiben Sie eine Funktion `accuracy_score`. Diese Funktion soll zwei Argumente erhalten, die Sie am besten `y_true` und `y_pred` nennen. Beide diese Argumente sollten Vektoren gleicher Länge sein. Die Funktion soll daraufhin den Prozentsatz der Übereinstimmungen zwischen den Elementen in `y_true` und `y_pred` berechnen.\n",
    "\n",
    "**<span style=\"font-size:1.5em\">(c)</span>** Ǹutzen Sie die Funktion aus **(b)**, um Ihr Modell zu evaluieren.\n"
   ]
  },
  {
   "cell_type": "code",
   "execution_count": null,
   "metadata": {},
   "outputs": [],
   "source": []
  },
  {
   "cell_type": "markdown",
   "metadata": {},
   "source": [
    "## (1.2.4.) Vorhersagen treffen <span style=\"color:green; font-size:1em\">(o)</span>  <span style=\"font-size:1em\">&#x1F4D7;</span>\n",
    "\n",
    "Sie treffen auf eine neue Patientin und erfassen deren physiologische Merkmale. Über die Patientin ist folgendes bekannt:\n",
    "\n",
    "- Die Patientin ist $36$ Jahre alt\n",
    "- Die Patientin hatte bereits $3$ Schwangerschaften\n",
    "- Die Patientin hat im Test eine Glukose-Konzentration von $155$\n",
    "- Die Patientin hat einen Blutdruck von $89$ [mm Hg]\n",
    "- Die Patientin hat einen BMI von $28.2$\n",
    "- Der Wert der Messgröße *SkinThickness* beträgt $34$ [mm]\n",
    "- Die Insulin-Konzentration beträgt $0$ [2-Hour serum insulin (mu U/ml)]\n",
    "- Der Wert der Messgröße *DiabetesPedigreeFunction* wird mit 0.378 angegeben.\n",
    "\n",
    "Was sagt ihr Modell für diese Patientin bezüglich der Inzidenz einer Diabetes-Erkrankung vorher?\n",
    "Trauen Sie dieser Vorhersage? Warum oder warum nicht?"
   ]
  },
  {
   "cell_type": "code",
   "execution_count": null,
   "metadata": {},
   "outputs": [],
   "source": []
  }
 ],
 "metadata": {
  "kernelspec": {
   "display_name": "Python 3",
   "language": "python",
   "name": "python3"
  },
  "language_info": {
   "codemirror_mode": {
    "name": "ipython",
    "version": 3
   },
   "file_extension": ".py",
   "mimetype": "text/x-python",
   "name": "python",
   "nbconvert_exporter": "python",
   "pygments_lexer": "ipython3",
   "version": "3.8.5"
  }
 },
 "nbformat": 4,
 "nbformat_minor": 4
}
