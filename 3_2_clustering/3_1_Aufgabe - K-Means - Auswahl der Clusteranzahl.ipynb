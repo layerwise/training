{
 "cells": [
  {
   "cell_type": "markdown",
   "metadata": {},
   "source": [
    "## (3.1) K-Means - Auswahl der Clusteranzahl <span style=\"color:orange; font-size:1em\">(oo)</span>\n",
    "\n",
    "In dieser Aufgabe lernen Sie eine Möglichkeit kennen, für den K-Means Algorithmus die Anzahl der zu suchenden Clusterzentren $K$ (oder auch für andere Clusteralgorithmen deren Hyperparameter) zu bestimmen.\n",
    "\n",
    "Zur Illustration des Problems und zum Lösen der Aufgabe verwenden wir denselben Datensatz, der von Scikit-Learn zur Illustration der Silhouetten-Analyse verwendet wird. Das entsprechende Tutorial finden Sie hier: https://scikit-learn.org/stable/auto_examples/cluster/plot_kmeans_silhouette_analysis.html.\n",
    "\n",
    "**<span style=\"color:green; font-size:2em\"> (a) </span>** Erzeugen Sie den Datensatz wie unten angegeben und plotten Sie. Was ist die Schwierigkeit an diesem Datensatz im Hinblick auf eine Clusteranalyse?\n",
    "\n",
    "**<span style=\"color:orange; font-size:2em\"> (b) </span> (Optional)** Machen Sie sich mit dem Code auf https://scikit-learn.org/stable/auto_examples/cluster/plot_kmeans_silhouette_analysis.html vertraut. Zusätzliche Erklärungen zur Silhouetten-Analyse finden Sie außerdem hier: https://scikit-learn.org/stable/modules/clustering.html im Kapitel **2.3.10.5. Silhouette Coefficient**.\n",
    "\n",
    "**<span style=\"color:orange; font-size:2em\"> (c) </span> (Optional)** Machen Sie sich mit der Elbow-Methode vertraut. Zum Beispiel durch dieses Video: https://www.youtube.com/watch?v=QXOkPvFM6NU. \n",
    "\n",
    "**<span style=\"color:green; font-size:2em\"> (d) </span>** Untersuchen Sie den Datensatz qualitativ im Hinblick auf die Anzahl der Clusterzentren. Varieren Sie dazu den Parameter `n_clusters` von $2-6$ und plotten Sie jeweils das Ergebnis. Interpretieren Sie.\n",
    "\n",
    "**<span style=\"color:red; font-size:2em\"> (e) </span>** Für die Auswahl der korrekten Anzahl ist eine quantitative Untersuchung nötig. Verwenden Sie hier ein Verfahren, dass auf der Benutzung eines Validierungsdatensatzes beruht. Gehen Sie so vor:\n",
    "\n",
    "*(i)*  Iterieren Sie über die Clusteranzahlen $K=\\{2, 3, 4, 5, 6\\}$.\n",
    "\n",
    "*(ii)* Teilen Sie den Datensatz $10-20$-mal zufällig in einen Trainingsdatensatz und einen Validierungsdatensatz. Weisen Sie z.B. jeweils 50% der Daten dem Trainingsdatensatz zu. Iterieren Sie über die Datensätze, das heißt über die jeweils aus Trainings- und Validierungsdaten bestehenden Sets.\n",
    "\n",
    "*(iii)* Trainieren Sie für jeden Split aus dem vorherigen Teil und den entsprechenden Wert $K$ den K-Means-Algorithmus. Mit der Funktion `predict` können Sie nun neben der Clusterzugehörigkeit der Trainingsdaten auch die Clusterzugehörigkeit ungesehener Daten vorhersagen. Sagen Sie so die Clusterzugehörigkeit der Validierungsdaten des aktuellen Splits vorher.\n",
    "\n",
    "*(iv)* Trainieren Sie nun einen Validierungs-K-Means auf den Validierungsdaten. Sagen Sie mit diesem Validierungs-K-Means die Clusterzugehörigkeit der Validierungsdaten vorher.\n",
    "\n",
    "*(v)* Wenn die Anzahl der Clusterzentren richtig gewählt ist, dann sollten sich die Vorhersagen des Validierungs-K-Means (der die Validierungsdaten gesehen hat) und des Trainings-K-Means (der die Validierungsdaten ungesehen vorhergesagt hat) im Wesentlichen gleichen, denn das Ergebnis sollte in beiden Fällen dasselbe sein. Wenn die Anzahl allerdings falsch gewählt ist, dann können durch die Zufälligkeit der Daten in den beiden Fällen unterschiedliche Zuordnungen entstehen. Vergleichen Sie also die Vorhersage des Validierungs-K-Means mit der des Trainings-K-Means. Verwenden Sie dafür `adjusted_rand_index` oder `adjusted_mutual_info` aus dem Modul `sklearn.metrics` die ähnlich funktionieren wie `accuracy_score` aus demselben Modul. Informieren Sie sich alternativ über andere Evaluationsmetriken auf https://scikit-learn.org/stable/modules/clustering.html ab **2.3.10. Clustering performance evaluation**. Warum kann nicht einfach `accuracy_score` verwendet werden?\n",
    "\n",
    "*(vi)* Berechnen Sie nun den durchschnittlichen von Ihnen gewählten Score über alle Splits hinweg für jeden Wert $K$. Plotten Sie den durchschnittlichen Score gegen die Werte für $K$. Interpretieren Sie das Ergebnis."
   ]
  },
  {
   "cell_type": "code",
   "execution_count": 1,
   "metadata": {},
   "outputs": [],
   "source": [
    "from sklearn.datasets import make_blobs\n",
    "from sklearn.cluster import KMeans\n",
    "\n",
    "import numpy as np\n",
    "import matplotlib.pyplot as plt"
   ]
  },
  {
   "cell_type": "code",
   "execution_count": null,
   "metadata": {},
   "outputs": [],
   "source": [
    "X, y = make_blobs(n_samples=500,\n",
    "                  n_features=2,\n",
    "                  centers=4,\n",
    "                  cluster_std=1,\n",
    "                  center_box=(-10.0, 10.0),\n",
    "                  shuffle=True,\n",
    "                  random_state=1)  # For reproducibility"
   ]
  },
  {
   "cell_type": "code",
   "execution_count": null,
   "metadata": {},
   "outputs": [],
   "source": []
  }
 ],
 "metadata": {
  "kernelspec": {
   "display_name": "Python 3",
   "language": "python",
   "name": "python3"
  },
  "language_info": {
   "codemirror_mode": {
    "name": "ipython",
    "version": 3
   },
   "file_extension": ".py",
   "mimetype": "text/x-python",
   "name": "python",
   "nbconvert_exporter": "python",
   "pygments_lexer": "ipython3",
   "version": "3.8.8"
  }
 },
 "nbformat": 4,
 "nbformat_minor": 2
}
