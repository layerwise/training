{
 "cells": [
  {
   "cell_type": "markdown",
   "metadata": {
    "id": "39aMSyqsuv2i"
   },
   "source": [
    "# K-Means Clustering"
   ]
  },
  {
   "cell_type": "code",
   "execution_count": 6,
   "metadata": {
    "id": "T6KwldqBuyMh"
   },
   "outputs": [],
   "source": [
    "import numpy as np\n",
    "import matplotlib.pyplot as plt\n",
    "import seaborn as sns; sns.set()\n",
    "\n",
    "from sklearn.datasets import make_blobs\n",
    "\n",
    "# TODO: Scikit-Learn - Importiere Clustering\n",
    "# MiniBatchKMeans skaliert besser mit der Anzahl an Datenpunkten\n",
    "from sklearn.cluster import KMeans, MiniBatchKMeans  "
   ]
  },
  {
   "cell_type": "code",
   "execution_count": 1,
   "metadata": {
    "colab": {
     "base_uri": "https://localhost:8080/",
     "height": 503
    },
    "id": "-J7t2cmtuyjo",
    "outputId": "aafe01c4-0c2d-4887-f9ad-5beb22883f35"
   },
   "outputs": [],
   "source": [
    "# TODO: Toy-Daten erzeugen\n",
    "X, __ = make_blobs(n_samples=300, n_features=2, centers=4, cluster_std=0.5, random_state=0)\n",
    "\n",
    "plt.figure(figsize=(8, 6))\n",
    "plt.scatter(X[:, 0], X[:, 1])"
   ]
  },
  {
   "cell_type": "code",
   "execution_count": 3,
   "metadata": {
    "colab": {
     "base_uri": "https://localhost:8080/"
    },
    "id": "H3kvl1Vou1kM",
    "outputId": "7381dc47-2604-4c2f-8278-a43dc76280c1"
   },
   "outputs": [],
   "source": [
    "# TODO: Modell instanziieren und fitten\n",
    "kmeans = KMeans(n_clusters=4)\n",
    "kmeans.fit(X)"
   ]
  },
  {
   "cell_type": "code",
   "execution_count": 2,
   "metadata": {
    "id": "nA9I9-Cz8qcZ"
   },
   "outputs": [],
   "source": [
    "# TODO: Vorhersagen treffen\n",
    "# TODO: Cluster-Zentren untersuchen\n",
    "cluster_centers = kmeans.cluster_centers_\n",
    "cluster_centers.shape"
   ]
  },
  {
   "cell_type": "code",
   "execution_count": 4,
   "metadata": {
    "colab": {
     "base_uri": "https://localhost:8080/",
     "height": 507
    },
    "id": "q3VssqjM9CrQ",
    "outputId": "b358b6f0-ef6a-4045-c1bb-dd925fc445eb"
   },
   "outputs": [],
   "source": [
    "# TODO: Clustering visualisieren\n",
    "\n",
    "# TODO: Datenpunkte\n",
    "# TODO: Datenpunkte einfärben\n",
    "# TODO: Clusterzentren darstellen\n",
    "plt.figure(figsize=(8, 6))\n",
    "plt.scatter(X[:, 0], X[:, 1], c=cluster_labels, cmap=\"viridis\")\n",
    "plt.scatter(cluster_centers[:, 0], cluster_centers[:, 1], marker =\"o\", s=120, color=\"black\", alpha=0.7)\n"
   ]
  },
  {
   "cell_type": "markdown",
   "metadata": {
    "id": "hooF3IICu4Zp"
   },
   "source": [
    "## Aufgabe: der K-Means-Algorithmus selbstständig programmiert"
   ]
  },
  {
   "cell_type": "code",
   "execution_count": 96,
   "metadata": {
    "id": "ZkjAQzSfu5bn"
   },
   "outputs": [],
   "source": [
    "from sklearn.metrics import pairwise_distances, pairwise_distances_argmin\n",
    "\n",
    "\n",
    "def find_clusters(X, n_clusters, max_iter=300):\n",
    "    \n",
    "    ### Schritt 1: Initialisierung: zufällige Clusterzentren\n",
    "    # Option 1.1: Zufällige Datenpunkte als Zentren designieren\n",
    "    #     Tipp: np.random.choice(np.arange(len(X)))\n",
    "    centers = None\n",
    "    \n",
    "    iter_ = 0\n",
    "    while iter_ < max_iter:\n",
    "        ### Schritt 2: Den X-Daten jeweils ein Label zuordnen\n",
    "        # TODO\n",
    "        \n",
    "        ### Schritt 3: Finde die neuen Cluster-Zentren\n",
    "        # TODO\n",
    "\n",
    "        # Schritt 4: Abbruchkriterium - wenn sich nichts mehr ändert.\n",
    "        # TODO\n",
    "        if finished==True:\n",
    "            break\n",
    "\n",
    "        iter_ = iter_ + 1\n",
    "        \n",
    "    return centers, labels\n",
    "        \n",
    "centers, labels = find_clusters(X, n_clusters=4)\n"
   ]
  }
 ],
 "metadata": {
  "colab": {
   "collapsed_sections": [],
   "name": "KMeans Clustering.ipynb",
   "provenance": []
  },
  "kernelspec": {
   "display_name": "Python 3",
   "language": "python",
   "name": "python3"
  },
  "language_info": {
   "codemirror_mode": {
    "name": "ipython",
    "version": 3
   },
   "file_extension": ".py",
   "mimetype": "text/x-python",
   "name": "python",
   "nbconvert_exporter": "python",
   "pygments_lexer": "ipython3",
   "version": "3.8.5"
  }
 },
 "nbformat": 4,
 "nbformat_minor": 1
}
