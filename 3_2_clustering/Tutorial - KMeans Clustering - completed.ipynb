{
 "cells": [
  {
   "cell_type": "markdown",
   "metadata": {
    "id": "39aMSyqsuv2i"
   },
   "source": [
    "# K-Means Clustering"
   ]
  },
  {
   "cell_type": "code",
   "execution_count": 2,
   "metadata": {
    "id": "T6KwldqBuyMh"
   },
   "outputs": [],
   "source": [
    "import numpy as np\n",
    "import matplotlib.pyplot as plt\n",
    "import seaborn as sns; sns.set()\n",
    "\n",
    "from sklearn.datasets import make_blobs\n",
    "\n",
    "# TODO: Scikit-Learn - Importiere Clustering"
   ]
  },
  {
   "cell_type": "code",
   "execution_count": 3,
   "metadata": {
    "colab": {
     "base_uri": "https://localhost:8080/",
     "height": 503
    },
    "id": "-J7t2cmtuyjo",
    "outputId": "aafe01c4-0c2d-4887-f9ad-5beb22883f35"
   },
   "outputs": [],
   "source": [
    "# TODO: Toy-Daten erzeugen"
   ]
  },
  {
   "cell_type": "code",
   "execution_count": 4,
   "metadata": {
    "colab": {
     "base_uri": "https://localhost:8080/"
    },
    "id": "H3kvl1Vou1kM",
    "outputId": "7381dc47-2604-4c2f-8278-a43dc76280c1"
   },
   "outputs": [
    {
     "data": {
      "text/plain": [
       "KMeans(algorithm='auto', copy_x=True, init='k-means++', max_iter=300,\n",
       "       n_clusters=4, n_init=10, n_jobs=None, precompute_distances='auto',\n",
       "       random_state=None, tol=0.0001, verbose=0)"
      ]
     },
     "execution_count": 4,
     "metadata": {
      "tags": []
     },
     "output_type": "execute_result"
    }
   ],
   "source": [
    "# TODO: Modell instanziieren und fitten"
   ]
  },
  {
   "cell_type": "code",
   "execution_count": 10,
   "metadata": {
    "id": "nA9I9-Cz8qcZ"
   },
   "outputs": [],
   "source": [
    "# TODO: Vorhersagen treffen\n",
    "# TODO: Cluster-Zentren untersuchen"
   ]
  },
  {
   "cell_type": "code",
   "execution_count": 4,
   "metadata": {
    "colab": {
     "base_uri": "https://localhost:8080/",
     "height": 507
    },
    "id": "q3VssqjM9CrQ",
    "outputId": "b358b6f0-ef6a-4045-c1bb-dd925fc445eb"
   },
   "outputs": [],
   "source": [
    "# TODO: Clustering visualisieren"
   ]
  },
  {
   "cell_type": "markdown",
   "metadata": {
    "id": "hooF3IICu4Zp"
   },
   "source": [
    "## Aufgabe: der K-Means-Algorithmus selbstständig programmiert"
   ]
  },
  {
   "cell_type": "code",
   "execution_count": null,
   "metadata": {
    "id": "ZkjAQzSfu5bn"
   },
   "outputs": [],
   "source": [
    "from sklearn.metrics import pairwise_distances, pairwise_distances_argmin\n",
    "\n",
    "\n",
    "def find_clusters(X, n_clusters, max_iter=300):\n",
    "    \n",
    "    ### Schritt 1: Initialisierung: zufällige Clusterzentren\n",
    "    # Option 1.1: Zufällige Datenpunkte als Zentren designieren\n",
    "    #     Tipp: np.random.choice(np.arange(len(X)))    \n",
    "    # Option 1.2: Erst den Mittelwert der Datenpunkte berechnen, dann mehrmals Rauschen auf den Mittelwert legen\n",
    "    # Option 1.3.: Farthest-Point (schwieriger)\n",
    "    # Option 1.4: Zufällige Punkte im Bereich der Datenpunkte\n",
    "    centers = None\n",
    "    labels = None\n",
    "    \n",
    "    iter_ = 0\n",
    "    while iter_ < max_iter:\n",
    "        ### Schritt 2: Den X-Daten jeweils ein Label zuordnen\n",
    "        # TODO       \n",
    "        \n",
    "        ### Schritt 3: Finde die neuen Cluster-Zentren\n",
    "        # TODO\n",
    "\n",
    "        # Schritt 4: Abbruchkriterium - wenn sich nichts mehr ändert.\n",
    "        finished = None  # TODO\n",
    "        if finished==True:\n",
    "            break\n",
    "\n",
    "        iter_ = iter_ + 1\n",
    "        \n",
    "    return centers, labels\n",
    "        \n",
    "    \n",
    "centers, labels = find_clusters(X, n_clusters=4)"
   ]
  }
 ],
 "metadata": {
  "colab": {
   "collapsed_sections": [],
   "name": "KMeans Clustering.ipynb",
   "provenance": []
  },
  "kernelspec": {
   "display_name": "Python 3",
   "language": "python",
   "name": "python3"
  },
  "language_info": {
   "codemirror_mode": {
    "name": "ipython",
    "version": 3
   },
   "file_extension": ".py",
   "mimetype": "text/x-python",
   "name": "python",
   "nbconvert_exporter": "python",
   "pygments_lexer": "ipython3",
   "version": "3.8.5"
  }
 },
 "nbformat": 4,
 "nbformat_minor": 1
}
