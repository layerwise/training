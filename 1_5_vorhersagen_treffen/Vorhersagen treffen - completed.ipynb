{
 "cells": [
  {
   "cell_type": "markdown",
   "metadata": {},
   "source": [
    "## 1. Daten importieren\n",
    "\n",
    "Für dieses Tutorial relevant ist der Datensatz `house_location_new_data.csv` der zum Download in der Lektion zu Verfügung steht. Wir speichern diesen zunächst einem sinnvollen Speicherort. Dann importieren wir diesen in der üblichen Weise."
   ]
  },
  {
   "cell_type": "code",
   "execution_count": 10,
   "metadata": {},
   "outputs": [],
   "source": [
    "# Pandas importieren\n",
    "import pandas as pd\n",
    "\n",
    "# Daten importieren - der Pfad zu den Daten muss eventuell angepasst werden\n",
    "data = pd.read_csv(\"../data/house_location/house_location_new_data.csv\", index_col=0)"
   ]
  },
  {
   "cell_type": "markdown",
   "metadata": {},
   "source": [
    "## 2. Modell importieren\n",
    "\n",
    "Bevor wir uns in späteren Tutorials damit befassen, wie Modelle erzeugt - genauer *trainiert* oder *gefittet* - werden können, befassen wir uns hier zunächst nur damit, wie ein fertiges Modell für Vorhersagen genutzt werden kann. Wir nehmen also an, dass das *Training* bereits stattgefunden hat.\n",
    "\n",
    "Die Bibliothek unserer Wahl, um solche Modelle zu managen, heißt **Scikit-Learn**. Wir importieren zur Übung diese Bibliothek - genauer: ein bestimmtes Modell dieser Bibliothek, den `DecisionTreeClassifier`. Es ist dabei nicht wichtig zu verstehen, um welches Modell es sich handelt oder wie dieses *trainiert* wurde."
   ]
  },
  {
   "cell_type": "code",
   "execution_count": 3,
   "metadata": {},
   "outputs": [
    {
     "data": {
      "text/plain": [
       "DecisionTreeClassifier()"
      ]
     },
     "execution_count": 3,
     "metadata": {},
     "output_type": "execute_result"
    }
   ],
   "source": [
    "# Scikit-Learn DecisionTreeClassifier importieren\n",
    "from sklearn.tree import DecisionTreeClassifier\n",
    "\n",
    "my_model = DecisionTreeClassifier()\n",
    "\n",
    "my_model"
   ]
  },
  {
   "cell_type": "markdown",
   "metadata": {},
   "source": [
    "Die vorherige Aufgabe dient nur der Orientierung, denn tatsächlich ist das Modell bereits *trainiert* und muss nur heruntergeladen werden. In der Lektion ist das Modell zum Download verfügbar. Das Format des Modells ist `.pkl` - doch das ist zunächst nur untergeordnet wichtig. Formate zum Speichern von Modellen gibt es wie Sand am Meer. Durch eine Hilfsbibliothek - genannt `joblib`- kann dieses importiert werden."
   ]
  },
  {
   "cell_type": "code",
   "execution_count": 5,
   "metadata": {},
   "outputs": [
    {
     "data": {
      "text/plain": [
       "DecisionTreeClassifier(max_depth=10)"
      ]
     },
     "execution_count": 5,
     "metadata": {},
     "output_type": "execute_result"
    }
   ],
   "source": [
    "# Modell mit joblib importieren\n",
    "import joblib\n",
    "\n",
    "my_model = joblib.load(\"house_location_model.pkl\")\n",
    "\n",
    "my_model"
   ]
  },
  {
   "cell_type": "markdown",
   "metadata": {},
   "source": [
    "## 3. Vorhersagen\n",
    "\n",
    "Ein so importiertes Modell kann zur Vorhersage auf dem weiter oben importierten Datensatz verwendet werden. Die Schnittstelle ist wie immer die `predict`-Funktion des Modells."
   ]
  },
  {
   "cell_type": "code",
   "execution_count": 13,
   "metadata": {},
   "outputs": [],
   "source": [
    "# Modell zur Vorhersage nutzen\n",
    "prediction = my_model.predict(data)"
   ]
  },
  {
   "cell_type": "code",
   "execution_count": 14,
   "metadata": {},
   "outputs": [
    {
     "data": {
      "text/plain": [
       "array([0, 1, 0, 0, 1, 1, 1, 1, 0, 1, 0, 0, 1, 0, 1, 1, 1, 0, 1, 1, 1, 1,\n",
       "       0, 1, 1, 0, 0, 0, 1, 0, 1, 1, 1, 0, 0, 0, 1, 0, 1, 0, 0, 0, 0, 0,\n",
       "       0, 0, 1, 0, 1, 1, 0, 1, 1, 1, 0, 1, 1, 0, 1, 0, 1, 0, 0, 1, 1, 0,\n",
       "       0, 1, 0, 0, 0, 1, 0, 1, 1, 0, 0, 0, 0, 0, 1, 1, 0, 1, 1, 0, 1, 0,\n",
       "       1, 0, 1, 1, 1, 1, 0, 1, 0, 1, 0])"
      ]
     },
     "execution_count": 14,
     "metadata": {},
     "output_type": "execute_result"
    }
   ],
   "source": [
    "prediction"
   ]
  }
 ],
 "metadata": {
  "kernelspec": {
   "display_name": "Python 3",
   "language": "python",
   "name": "python3"
  },
  "language_info": {
   "codemirror_mode": {
    "name": "ipython",
    "version": 3
   },
   "file_extension": ".py",
   "mimetype": "text/x-python",
   "name": "python",
   "nbconvert_exporter": "python",
   "pygments_lexer": "ipython3",
   "version": "3.8.5"
  }
 },
 "nbformat": 4,
 "nbformat_minor": 2
}
