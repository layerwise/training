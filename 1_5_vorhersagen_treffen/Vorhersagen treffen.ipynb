{
 "cells": [
  {
   "cell_type": "markdown",
   "metadata": {},
   "source": [
    "## 1. Daten importieren\n",
    "\n",
    "Für dieses Tutorial relevant ist der Datensatz `house_location_new_data.csv` der zum Download in der Lektion zu Verfügung steht. Wir speichern diesen zunächst einem sinnvollen Speicherort. Dann importieren wir diesen in der üblichen Weise."
   ]
  },
  {
   "cell_type": "code",
   "execution_count": 1,
   "metadata": {},
   "outputs": [],
   "source": [
    "# TODO: Pandas importieren\n",
    "# TODO: Daten importieren"
   ]
  },
  {
   "cell_type": "markdown",
   "metadata": {},
   "source": [
    "## 2. Modell importieren\n",
    "\n",
    "Bevor wir uns in späteren Tutorials damit befassen, wie Modelle erzeugt - genauer *trainiert* oder *gefittet* - werden können, befassen wir uns hier zunächst nur damit, wie ein fertiges Modell für Vorhersagen genutzt werden kann. Wir nehmen also an, dass das *Training* bereits stattgefunden hat.\n",
    "\n",
    "Die Bibliothek unserer Wahl, um solche Modelle zu managen, heißt **Scikit-Learn**. Wir importieren zur Übung diese Bibliothek - genauer: ein bestimmtes Modell dieser Bibliothek, den `DecisionTreeClassifier`. Es ist dabei nicht wichtig zu verstehen, um welches Modell es sich handelt oder wie dieses *trainiert* wurde."
   ]
  },
  {
   "cell_type": "code",
   "execution_count": 2,
   "metadata": {},
   "outputs": [],
   "source": [
    "# TODO: Scikit-Learn DecisionTreeClassifier importieren"
   ]
  },
  {
   "cell_type": "markdown",
   "metadata": {},
   "source": [
    "Die vorherige Aufgabe dient nur der Orientierung, denn tatsächlich ist das Modell bereits *trainiert* und muss nur heruntergeladen werden. In der Lektion ist das Modell zum Download verfügbar. Das Format des Modells ist `.pkl` - doch das ist zunächst nur untergeordnet wichtig. Formate zum Speichern von Modellen gibt es wie Sand am Meer. Durch eine Hilfsbibliothek - genannt `joblib`- kann dieses importiert werden."
   ]
  },
  {
   "cell_type": "code",
   "execution_count": 3,
   "metadata": {},
   "outputs": [],
   "source": [
    "# TODO: Modell mit joblib importieren"
   ]
  },
  {
   "cell_type": "markdown",
   "metadata": {},
   "source": [
    "## 3. Vorhersagen\n",
    "\n",
    "Ein so importiertes Modell kann zur Vorhersage auf dem weiter oben importierten Datensatz verwendet werden. Die Schnittstelle ist wie immer die `predict`-Funktion des Modells."
   ]
  },
  {
   "cell_type": "code",
   "execution_count": 4,
   "metadata": {},
   "outputs": [],
   "source": [
    "# TODO: Modell zur Vorhersage nutzen"
   ]
  }
 ],
 "metadata": {
  "kernelspec": {
   "display_name": "Python 3",
   "language": "python",
   "name": "python3"
  },
  "language_info": {
   "codemirror_mode": {
    "name": "ipython",
    "version": 3
   },
   "file_extension": ".py",
   "mimetype": "text/x-python",
   "name": "python",
   "nbconvert_exporter": "python",
   "pygments_lexer": "ipython3",
   "version": "3.8.5"
  }
 },
 "nbformat": 4,
 "nbformat_minor": 2
}
