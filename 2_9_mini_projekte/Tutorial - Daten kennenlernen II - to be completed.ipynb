{
 "cells": [
  {
   "cell_type": "markdown",
   "metadata": {},
   "source": [
    "## Vorhersage von Immobilienpreisen - Preprocessing\n",
    "\n",
    "In diesem Tutorial lernen wir verschiedene Arbeitsschritte zur Vorverarbeitung von Daten kennen, die oft in der Anwendung ausgeführt werden müssen:\n",
    "\n",
    "- Encoding (ordinale und nominale Features)\n",
    "- Imputation (fehlende Werte)\n",
    "- Feature Scaling (numerische Features)\n",
    "\n",
    "Wir tun dies anhand eines kleinen Beispiels, das dem Datensatz zur Vorhersage von Immobilienpreisen angelehnt ist, um alle Zwischenschritte im Detail zu verstehen.\n",
    "\n",
    "Das Vorgehen ist in folgenden Videos dargestellt:\n",
    "- [Preprocessing - Einleitung](https://youtu.be/cT8ffI4U8-E)\n",
    "- [Preprocessing - Missing Values](https://youtu.be/2Nd4tPhophc)\n",
    "- [Preprocessing - Encoding](https://youtu.be/PA0Bykxn4_w)\n",
    "- [Preprocessing - Feature Scaling](https://youtu.be/QxiUUpnglnk)\n",
    "\n",
    "![Train Data](https://raw.githubusercontent.com/layerwise/training/main/assets/house_prices_test_example_image.png)"
   ]
  },
  {
   "cell_type": "code",
   "execution_count": 2,
   "metadata": {},
   "outputs": [],
   "source": [
    "import pandas as pd\n",
    "import numpy as np\n",
    "import matplotlib.pyplot as plt\n",
    "import seaborn as sns"
   ]
  },
  {
   "cell_type": "code",
   "execution_count": 3,
   "metadata": {},
   "outputs": [
    {
     "data": {
      "text/html": [
       "<div>\n",
       "<style scoped>\n",
       "    .dataframe tbody tr th:only-of-type {\n",
       "        vertical-align: middle;\n",
       "    }\n",
       "\n",
       "    .dataframe tbody tr th {\n",
       "        vertical-align: top;\n",
       "    }\n",
       "\n",
       "    .dataframe thead th {\n",
       "        text-align: right;\n",
       "    }\n",
       "</style>\n",
       "<table border=\"1\" class=\"dataframe\">\n",
       "  <thead>\n",
       "    <tr style=\"text-align: right;\">\n",
       "      <th></th>\n",
       "      <th>Lot Shape</th>\n",
       "      <th>Street</th>\n",
       "      <th>Lot Frontage</th>\n",
       "      <th>Yr Sold</th>\n",
       "    </tr>\n",
       "  </thead>\n",
       "  <tbody>\n",
       "    <tr>\n",
       "      <th>0</th>\n",
       "      <td>Reg</td>\n",
       "      <td>Grvl</td>\n",
       "      <td>64.0</td>\n",
       "      <td>2008</td>\n",
       "    </tr>\n",
       "    <tr>\n",
       "      <th>1</th>\n",
       "      <td>Reg</td>\n",
       "      <td>Grvl</td>\n",
       "      <td>81.0</td>\n",
       "      <td>2007</td>\n",
       "    </tr>\n",
       "    <tr>\n",
       "      <th>2</th>\n",
       "      <td>IR1</td>\n",
       "      <td>NaN</td>\n",
       "      <td>NaN</td>\n",
       "      <td>2009</td>\n",
       "    </tr>\n",
       "    <tr>\n",
       "      <th>3</th>\n",
       "      <td>IR2</td>\n",
       "      <td>Pave</td>\n",
       "      <td>80.0</td>\n",
       "      <td>2007</td>\n",
       "    </tr>\n",
       "    <tr>\n",
       "      <th>4</th>\n",
       "      <td>IR3</td>\n",
       "      <td>Pave</td>\n",
       "      <td>96.0</td>\n",
       "      <td>2006</td>\n",
       "    </tr>\n",
       "    <tr>\n",
       "      <th>5</th>\n",
       "      <td>IR2</td>\n",
       "      <td>Grvl</td>\n",
       "      <td>NaN</td>\n",
       "      <td>2009</td>\n",
       "    </tr>\n",
       "  </tbody>\n",
       "</table>\n",
       "</div>"
      ],
      "text/plain": [
       "  Lot Shape Street  Lot Frontage  Yr Sold\n",
       "0       Reg   Grvl          64.0     2008\n",
       "1       Reg   Grvl          81.0     2007\n",
       "2       IR1    NaN           NaN     2009\n",
       "3       IR2   Pave          80.0     2007\n",
       "4       IR3   Pave          96.0     2006\n",
       "5       IR2   Grvl           NaN     2009"
      ]
     },
     "execution_count": 3,
     "metadata": {},
     "output_type": "execute_result"
    }
   ],
   "source": [
    "df_train = pd.DataFrame(\n",
    "    {\n",
    "        \"Lot Shape\": [\"Reg\", \"Reg\", \"IR1\", \"IR2\", \"IR3\", \"IR2\"],\n",
    "        \"Street\": [\"Grvl\", \"Grvl\", np.nan, \"Pave\", \"Pave\", \"Grvl\"],\n",
    "        \"Lot Frontage\": [64.0, 81.0, np.nan, 80.0, 96.0, np.nan],\n",
    "        \"Yr Sold\": [2008, 2007, 2009, 2007, 2006, 2009]\n",
    "        \"Pool QC\": [np.nan, np.nan, np.nan]\n",
    "    }\n",
    ")\n",
    "\n",
    "df_train"
   ]
  },
  {
   "cell_type": "code",
   "execution_count": 5,
   "metadata": {},
   "outputs": [
    {
     "data": {
      "text/html": [
       "<div>\n",
       "<style scoped>\n",
       "    .dataframe tbody tr th:only-of-type {\n",
       "        vertical-align: middle;\n",
       "    }\n",
       "\n",
       "    .dataframe tbody tr th {\n",
       "        vertical-align: top;\n",
       "    }\n",
       "\n",
       "    .dataframe thead th {\n",
       "        text-align: right;\n",
       "    }\n",
       "</style>\n",
       "<table border=\"1\" class=\"dataframe\">\n",
       "  <thead>\n",
       "    <tr style=\"text-align: right;\">\n",
       "      <th></th>\n",
       "      <th>Lot Shape</th>\n",
       "      <th>Street</th>\n",
       "      <th>Lot Frontage</th>\n",
       "      <th>Yr Sold</th>\n",
       "    </tr>\n",
       "  </thead>\n",
       "  <tbody>\n",
       "    <tr>\n",
       "      <th>0</th>\n",
       "      <td>Reg</td>\n",
       "      <td>Pave</td>\n",
       "      <td>56.0</td>\n",
       "      <td>2005</td>\n",
       "    </tr>\n",
       "    <tr>\n",
       "      <th>1</th>\n",
       "      <td>IR1</td>\n",
       "      <td>NaN</td>\n",
       "      <td>58.0</td>\n",
       "      <td>2008</td>\n",
       "    </tr>\n",
       "    <tr>\n",
       "      <th>2</th>\n",
       "      <td>Reg</td>\n",
       "      <td>Grvl</td>\n",
       "      <td>NaN</td>\n",
       "      <td>2007</td>\n",
       "    </tr>\n",
       "  </tbody>\n",
       "</table>\n",
       "</div>"
      ],
      "text/plain": [
       "  Lot Shape Street  Lot Frontage  Yr Sold\n",
       "0       Reg   Pave          56.0     2005\n",
       "1       IR1    NaN          58.0     2008\n",
       "2       Reg   Grvl           NaN     2007"
      ]
     },
     "execution_count": 5,
     "metadata": {},
     "output_type": "execute_result"
    }
   ],
   "source": [
    "df_new = pd.DataFrame(\n",
    "    {\n",
    "        \"Lot Shape\": [\"Reg\", \"IR1\", \"Reg\"],\n",
    "        \"Street\": [\"Pave\", np.nan, \"Grvl\"],\n",
    "        \"Lot Frontage\": [56.0, 58.0, np.nan],\n",
    "        \"Yr Sold\": [2005, 2008, 2007]\n",
    "    }\n",
    ")\n",
    "\n",
    "df_new"
   ]
  },
  {
   "cell_type": "markdown",
   "metadata": {},
   "source": [
    "## 1. Imputation\n",
    "\n",
    "### 1.1. Imputation kategorischer Features"
   ]
  },
  {
   "cell_type": "code",
   "execution_count": null,
   "metadata": {},
   "outputs": [],
   "source": [
    "# TODO: Imputation"
   ]
  },
  {
   "cell_type": "markdown",
   "metadata": {},
   "source": [
    "### 1.2. Imputation numerischer Features"
   ]
  },
  {
   "cell_type": "code",
   "execution_count": 8,
   "metadata": {},
   "outputs": [],
   "source": [
    "# TODO: Imputation"
   ]
  },
  {
   "cell_type": "markdown",
   "metadata": {},
   "source": [
    "## 2. Encoding\n",
    "\n",
    "### 2.1. Encoding ordinaler Features"
   ]
  },
  {
   "cell_type": "code",
   "execution_count": 6,
   "metadata": {},
   "outputs": [],
   "source": [
    "# TODO: Ordinale Spalten identifizieren\n",
    "# TODO: Ordinale Kategorien identifizieren\n",
    "# TODO: Encoding"
   ]
  },
  {
   "cell_type": "markdown",
   "metadata": {},
   "source": [
    "### 2.2. Encoding nominaler Features"
   ]
  },
  {
   "cell_type": "code",
   "execution_count": null,
   "metadata": {},
   "outputs": [],
   "source": [
    "# TODO: Nominale Spalten identifizieren\n",
    "# TODO: Nominale Kategorien identifizieren\n",
    "# TODO: Encoding"
   ]
  },
  {
   "cell_type": "markdown",
   "metadata": {},
   "source": [
    "## 3. Feature Scaling"
   ]
  },
  {
   "cell_type": "code",
   "execution_count": 7,
   "metadata": {},
   "outputs": [],
   "source": [
    "# TODO: Feature Scaling"
   ]
  }
 ],
 "metadata": {
  "kernelspec": {
   "display_name": "Python 3",
   "language": "python",
   "name": "python3"
  },
  "language_info": {
   "codemirror_mode": {
    "name": "ipython",
    "version": 3
   },
   "file_extension": ".py",
   "mimetype": "text/x-python",
   "name": "python",
   "nbconvert_exporter": "python",
   "pygments_lexer": "ipython3",
   "version": "3.8.5"
  }
 },
 "nbformat": 4,
 "nbformat_minor": 2
}
