{
 "cells": [
  {
   "cell_type": "markdown",
   "metadata": {},
   "source": [
    "# 1. Vorbereitung\n",
    "\n",
    "In diesem Tutorial beschäftigen wir uns mit der Tatsache, dass Trainings- und Testdaten als Stichproben zu verstehen sind und welchen Einfluss dies auf das Training und die Evaluation eines Modells hat. Dabei lernen wir die Begriff **Overfitting** und **Underfitting** kennen."
   ]
  },
  {
   "cell_type": "code",
   "execution_count": 1,
   "metadata": {},
   "outputs": [],
   "source": [
    "import matplotlib.pyplot as plt\n",
    "plt.style.use('seaborn-whitegrid')\n",
    "import numpy as np\n",
    "\n",
    "from utils_overfitting import generate_data\n",
    "import pandas as pd\n",
    "\n",
    "from sklearn.linear_model import LinearRegression\n",
    "from sklearn.preprocessing import PolynomialFeatures\n",
    "from sklearn.pipeline import make_pipeline"
   ]
  },
  {
   "cell_type": "code",
   "execution_count": 4,
   "metadata": {},
   "outputs": [],
   "source": [
    "# TODO: Daten generieren und visualisieren"
   ]
  },
  {
   "cell_type": "markdown",
   "metadata": {},
   "source": [
    "## 2. Zufällige Trainingsdaten\n",
    "\n",
    "Trainingsdaten, oder allgemein die Daten denen wir begegnen, sind Stichproben einer unbekannten Verteilung, das heißt einer vor uns verborgenen Realität, von der wir nur Ausschnitte wahrnehmen können."
   ]
  },
  {
   "cell_type": "code",
   "execution_count": null,
   "metadata": {
    "scrolled": true
   },
   "outputs": [],
   "source": [
    "# Anzahl der Wiederholungen der Stichprobe\n",
    "n_runs = 10\n",
    "\n",
    "# für Stabilität\n",
    "plt.close(\"all\")\n",
    "\n",
    "# neuer Graph\n",
    "fig = plt.figure(\n",
    "    figsize=(5, n_runs*4)\n",
    ")\n",
    "\n",
    "# Verschiedene Trainingsdaten\n",
    "for run in range(n_runs):\n",
    "    \n",
    "    # TODO: Daten generieren\n",
    "    x_sample, y_sample = None\n",
    "    \n",
    "    # TODO: Subplot aufrufen\n",
    "    \n",
    "    # TODO Scatterplot\n",
    "\n",
    "    plt.ylim(-5, 100)"
   ]
  },
  {
   "cell_type": "markdown",
   "metadata": {},
   "source": [
    "## 3. Lineare Regression fitten\n",
    "\n",
    "Dadurch, dass die Trainingsdaten zufällige Stichproben sind, müssen wir auch mit einem verschiedenen Ergebnis rechnen, wenn wir einen Fit/eine Anpassung ausführen, denn diese ist natürlich von den Trainingsdaten abhängig."
   ]
  },
  {
   "cell_type": "code",
   "execution_count": 34,
   "metadata": {},
   "outputs": [],
   "source": [
    "# TODO: Visualisierungsfunktion\n",
    "def visualize_fit(model, color=None):\n",
    "    pass"
   ]
  },
  {
   "cell_type": "code",
   "execution_count": null,
   "metadata": {
    "scrolled": false
   },
   "outputs": [],
   "source": [
    "# Anzahl der Wiederholungen der Stichprobe\n",
    "n_runs = 10\n",
    "\n",
    "# TODO: Modelle für lineare Regression erstellen\n",
    "models = None\n",
    "\n",
    "# für Stabilität\n",
    "plt.close(\"all\")\n",
    "\n",
    "# neuer Graph\n",
    "fig = plt.figure(\n",
    "    figsize=(5, n_runs*4)\n",
    ")\n",
    "\n",
    "# Verschiedene Trainingsdaten\n",
    "for run in range(n_runs):\n",
    "    model = models[run]\n",
    "    \n",
    "    # TODO: Daten generieren\n",
    "    x_sample, y_sample = None\n",
    "    \n",
    "    # TODO: Modell fitten\n",
    "    \n",
    "    # TODO: Subplot aufrufen\n",
    "    \n",
    "    # TODO Scatterplot\n",
    "    \n",
    "    # TODO: Fit des Modells visualisieren\n",
    "    \n",
    "    plt.ylim(-5, 100)"
   ]
  },
  {
   "cell_type": "code",
   "execution_count": null,
   "metadata": {},
   "outputs": [],
   "source": [
    "# TODO: sämtliche Fits visualisieren"
   ]
  },
  {
   "cell_type": "markdown",
   "metadata": {},
   "source": [
    "## 4. Komplexität variieren\n",
    "\n",
    "In diesem Abschnitt variieren wir die sogenannte **Komplexität** des Modells. Dies tun wir, in dem wir eine Feature Expansion durchführen. Der *Grad* dieser Expansion kann variiert werden"
   ]
  },
  {
   "cell_type": "code",
   "execution_count": null,
   "metadata": {},
   "outputs": [],
   "source": [
    "# Anzahl der Wiederholungen der Stichprobe\n",
    "n_runs = 10\n",
    "\n",
    "# Grad der Expansion\n",
    "degree = 10\n",
    "\n",
    "# TODO: Modelle für lineare Regression mit Expansion erstellen\n",
    "models = None\n",
    "\n",
    "# für Stabilität\n",
    "plt.close(\"all\")\n",
    "\n",
    "# neuer Graph\n",
    "fig = plt.figure(\n",
    "    figsize=(5, n_runs*4)\n",
    ")\n",
    "\n",
    "# Verschiedene Trainingsdaten\n",
    "for run in range(n_runs):\n",
    "    model = models[run]\n",
    "    \n",
    "    # TODO: Daten generieren\n",
    "    x_sample, y_sample = None, None\n",
    "    \n",
    "    # TODO: Modell fitten\n",
    "    \n",
    "    # TODO: Subplot aufrufen    \n",
    "    # TODO Scatterplot\n",
    "    # TODO: Fit des Modells visualisieren\n",
    "    plt.ylim(-5, 100)"
   ]
  },
  {
   "cell_type": "code",
   "execution_count": null,
   "metadata": {},
   "outputs": [],
   "source": [
    "# TODO: sämtliche Fits visualisieren"
   ]
  },
  {
   "cell_type": "markdown",
   "metadata": {},
   "source": [
    "## 5. Anzahl der Datenpunkte und Komplexität variieren\n",
    "\n",
    "In diesem Abschnitt untersuchen wir, wie die **Komplexität** eines Modells mit der Anzahl der Datenpunkt interagiert."
   ]
  },
  {
   "cell_type": "code",
   "execution_count": null,
   "metadata": {},
   "outputs": [],
   "source": [
    "# Anzahl der Wiederholungen der Stichprobe\n",
    "n_runs = 10\n",
    "n_samples = 20\n",
    "\n",
    "# Grad der Expansion\n",
    "degree = 4\n",
    "\n",
    "# TODO: Modelle für lineare Regression erstellen\n",
    "models = None\n",
    "\n",
    "# für Stabilität\n",
    "plt.close(\"all\")\n",
    "\n",
    "# neuer Graph\n",
    "fig = plt.figure(\n",
    "    figsize=(5, n_runs*4)\n",
    ")\n",
    "\n",
    "# Verschiedene Trainingsdaten\n",
    "for run in range(n_runs):\n",
    "    model = models[run]\n",
    "    \n",
    "    # TODO: Daten generieren\n",
    "    x_sample, y_sample = None, None\n",
    "    \n",
    "    # TODO: Modell fitten\n",
    "    \n",
    "    # TODO: Subplot aufrufen    \n",
    "    # TODO Scatterplot\n",
    "    # TODO: Fit des Modells visualisieren\n",
    "    plt.ylim(-5, 100)"
   ]
  },
  {
   "cell_type": "code",
   "execution_count": null,
   "metadata": {},
   "outputs": [],
   "source": [
    "# TODO: sämtliche Fits visualisieren"
   ]
  }
 ],
 "metadata": {
  "kernelspec": {
   "display_name": "Python 3",
   "language": "python",
   "name": "python3"
  },
  "language_info": {
   "codemirror_mode": {
    "name": "ipython",
    "version": 3
   },
   "file_extension": ".py",
   "mimetype": "text/x-python",
   "name": "python",
   "nbconvert_exporter": "python",
   "pygments_lexer": "ipython3",
   "version": "3.8.5"
  }
 },
 "nbformat": 4,
 "nbformat_minor": 4
}
