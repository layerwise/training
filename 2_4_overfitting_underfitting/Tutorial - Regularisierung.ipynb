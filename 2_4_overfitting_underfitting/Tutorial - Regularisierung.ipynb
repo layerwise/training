{
 "cells": [
  {
   "cell_type": "markdown",
   "metadata": {},
   "source": [
    "## 1. Vorbereitung\n",
    "\n",
    "Um das Risiko einer Überanpassung zu verhindern, kann die lineare/polynomiale Regression regularisiert werden. Dazu wird der Verlustfunktion ein zusätzlicher Regularisierungsterm hinzugefügt, der dafür sorgt, dass Koeffizienten kleiner Magnitude gegenüber Koeffizienten großer Magnitude bevorzugt werden.\n",
    "\n",
    "Scikit-Learn stellt die lineare Regression mit Regularisierung in den Klassen `Ridge`, `ElasticNet` und `Lasso` zur Verfügung."
   ]
  },
  {
   "cell_type": "code",
   "execution_count": 33,
   "metadata": {},
   "outputs": [],
   "source": [
    "import numpy as np\n",
    "import matplotlib.pyplot as plt\n",
    "\n",
    "# Ridge = L2\n",
    "# Lasso = L1\n",
    "# ElasticNet = L1 + L2\n",
    "# Diese Modelle sind LinearRegression mit Regularisierung\n",
    "from sklearn.linear_model import Ridge, Lasso, ElasticNet, LinearRegression\n",
    "\n",
    "\n",
    "from sklearn.pipeline import make_pipeline\n",
    "from sklearn.preprocessing import PolynomialFeatures, RobustScaler\n",
    "from utils_overfitting import generate_data"
   ]
  },
  {
   "cell_type": "code",
   "execution_count": 44,
   "metadata": {},
   "outputs": [],
   "source": [
    "# TODO: Hilfsfunktion zum Erstellen eines Modells mit Regularisierung und polynomischer Expansion\n",
    "def get_polynomial_regression(alpha=1.0, degree=2):\n",
    "    model = make_pipeline(\n",
    "        PolynomialFeatures(degree=degree, include_bias=False),\n",
    "        RobustScaler(),\n",
    "        Ridge(alpha=alpha)\n",
    "    )\n",
    "    return model\n",
    "\n",
    "def get_polynomial_regression_l1(alpha=1.0, degree=2):\n",
    "    model = make_pipeline(\n",
    "        RobustScaler(),\n",
    "        PolynomialFeatures(degree=degree, include_bias=False),\n",
    "        RobustScaler(),\n",
    "        Lasso(alpha=alpha)\n",
    "    )\n",
    "    return model\n",
    "\n",
    "# TODO: Visualisierungsfunktion\n",
    "def visualize_fit(model, color=None):\n",
    "    x_viz = np.linspace(0, 40, 100).reshape(-1, 1)\n",
    "    plt.plot(x_viz, model.predict(x_viz), color=color)"
   ]
  },
  {
   "cell_type": "code",
   "execution_count": 49,
   "metadata": {},
   "outputs": [
    {
     "name": "stdout",
     "output_type": "stream",
     "text": [
      "[-0.         0.        -0.         0.        -0.         0.\n",
      " -0.         0.        -0.0017028  0.       ]\n"
     ]
    },
    {
     "data": {
      "image/png": "[encoded data removed]",
      "text/plain": [
       "<Figure size 720x576 with 1 Axes>"
      ]
     },
     "metadata": {
      "needs_background": "light"
     },
     "output_type": "display_data"
    }
   ],
   "source": [
    "n_samples = 10\n",
    "\n",
    "alpha = 100.0\n",
    "degree = 10\n",
    "\n",
    "X_train, y_train = generate_data(n_samples=n_samples, random_state=2)\n",
    "X_test, y_test = generate_data(n_samples=10, random_state=5)\n",
    "\n",
    "model = get_polynomial_regression_l1(alpha=alpha, degree=degree)\n",
    "model.fit(X_train, y_train)\n",
    "\n",
    "plt.figure(figsize=(10, 8))\n",
    "plt.scatter(X_train, y_train)\n",
    "plt.scatter(X_test, y_test, color=\"orange\")\n",
    "\n",
    "plt.ylim(-5, 100)\n",
    "\n",
    "visualize_fit(model, color=\"red\")\n",
    "\n",
    "with np.printoptions(suppress=True):\n",
    "    print(model[-1].coef_)"
   ]
  },
  {
   "cell_type": "code",
   "execution_count": 4,
   "metadata": {},
   "outputs": [],
   "source": [
    "# Wähle einen relativ hohen Grad der polynomischen Expansion\n",
    "degree = 10\n",
    "\n",
    "# TODO: definiere `alpha`, je größer `alpha`, desto stärker die Regularisierung\n",
    "alphas = [0.01, 1.0, 10.0]\n",
    "\n",
    "# TODO: Ridge Regression ist Lineare Regression mit L2-Regularisierung (Weight Decay)\n",
    "ridge_models = None\n",
    "\n",
    "# TODO: Lasso Regression ist Lineare Regression mit L1-Regularisierung\n",
    "lasso_models = None\n"
   ]
  },
  {
   "cell_type": "markdown",
   "metadata": {},
   "source": [
    "## 2. Modelle trainieren"
   ]
  },
  {
   "cell_type": "code",
   "execution_count": 5,
   "metadata": {},
   "outputs": [],
   "source": [
    "# TODO: Daten generieren\n",
    "\n",
    "x_train, y_train = None, None\n",
    "\n",
    "# TODO: Modelle fitten"
   ]
  },
  {
   "cell_type": "markdown",
   "metadata": {},
   "source": [
    "## 3. Visualisierung \n",
    "\n",
    "### 3.1 Visualisierung der Ridge Modelle"
   ]
  },
  {
   "cell_type": "code",
   "execution_count": 6,
   "metadata": {},
   "outputs": [],
   "source": [
    "# TODO: Scatterplot\n",
    "# TODO: Fits Visualisieren"
   ]
  },
  {
   "cell_type": "code",
   "execution_count": 7,
   "metadata": {},
   "outputs": [],
   "source": [
    "# TODO: Koeffizienten untersuchen"
   ]
  },
  {
   "cell_type": "markdown",
   "metadata": {},
   "source": [
    "### 3.2 Visualisierung der Lasso Modelle"
   ]
  },
  {
   "cell_type": "code",
   "execution_count": 7,
   "metadata": {},
   "outputs": [],
   "source": [
    "# TODO: Scatterplot\n",
    "# TODO: Fits Visualisieren"
   ]
  },
  {
   "cell_type": "code",
   "execution_count": 8,
   "metadata": {},
   "outputs": [],
   "source": [
    "# TODO: Koeffizienten untersuchen"
   ]
  }
 ],
 "metadata": {
  "kernelspec": {
   "display_name": "Python 3",
   "language": "python",
   "name": "python3"
  },
  "language_info": {
   "codemirror_mode": {
    "name": "ipython",
    "version": 3
   },
   "file_extension": ".py",
   "mimetype": "text/x-python",
   "name": "python",
   "nbconvert_exporter": "python",
   "pygments_lexer": "ipython3",
   "version": "3.8.8"
  }
 },
 "nbformat": 4,
 "nbformat_minor": 2
}
