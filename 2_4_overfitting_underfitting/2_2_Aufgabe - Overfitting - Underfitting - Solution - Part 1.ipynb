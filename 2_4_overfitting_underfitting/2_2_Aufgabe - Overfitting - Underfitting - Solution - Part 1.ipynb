{
 "cells": [
  {
   "cell_type": "markdown",
   "metadata": {},
   "source": [
    "In diesem Tutorial beschäftigen Sie sich anhand eines Spielbeispiels mit den Problemen einer Überanpassung oder Unteranpassung der linearen bzw. logistischen Regression.\n",
    "\n",
    "In der begleitenden Python-File `utils.py` befinden sich Hilfsfunktionen zum Erstellen eines zufälligen Trainings- und Testdatensatzes mit einer Beobachtung und einer kontinuierlichen Zielvariablen."
   ]
  },
  {
   "cell_type": "markdown",
   "metadata": {},
   "source": [
    "## (2.2.1) Lineare Regression <span style=\"color:green; font-size:1em\">(o)</span> <span style=\"font-size:1em\">&#x1F4D7;</span>\n",
    "\n",
    "**<span style=\"color:green; font-size:2em\"> (a) </span>** <span style=\"font-size:2em\">&#x1F4D7;</span> Erstellen Sie per `utils.get_train_data()` einen Trainingsdatensatz mit Inputvariablen $\\{x^{(i)} \\;  | \\; i = 1, ..., N\\}$ und Zielvariablen $\\{y_T^{(i)}\\; | \\; i = 1, ..., N\\}$ und führen Sie darauf eine lineare Regression aus.\n",
    "\n",
    "**<span style=\"color:green; font-size:2em\"> (b) </span>** <span style=\"font-size:2em\">&#x1F4D7;</span> Treffen Sie eine Vorhersage der Zielvariablen, $\\{\\hat{y}^{(i)}\\; | \\; i = 1, ..., N\\}$,  für die Beobachtungen des Trainingsdatensatzes. Beurteilen Sie die Qualität der Vorhersage, indem Sie einmal den durchschnittlichen quadratischen und einmal den durchschnittlichen absoluten Fehler der Vorhersage berechnen:\n",
    "\n",
    "(i) Quadratischer Fehler: $ \\frac{1}{N} \\sum_{i=1}^N (\\hat{y}^{(i)} - y_T^{(i)})^2$\n",
    "\n",
    "(ii) Absoluter Fehler: $ \\frac{1}{N} \\sum_{i=1}^N  | \\hat{y}^{(i)} - y_T^{(i)} | $\n",
    "\n",
    "**<span style=\"color:green; font-size:2em\"> (c) </span>** <span style=\"font-size:2em\">&#x1F4D7;</span>  Visualisieren Sie das Ergebnis der Regression auf eine geeignete Weise.\n",
    "\n",
    "**<span style=\"color:green; font-size:2em\"> (d) </span>** <span style=\"font-size:2em\">&#x1F4D7;</span>  Erstellen Sie nun einen Testdatensatz per `utils.get_test_data()` und treffen Sie erneut eine Vorhersage der Zielvariablen mit dem in **b)** erstellten Modell. Berechnen Sie den druchschnittlichen quadratischen und absoluten Fehler der Vorhersage auf dem Testdatensatz. Interpretieren Sie das Ergebnis.\n",
    "\n",
    "**<span style=\"color:orange; font-size:2em\"> (e) </span>** <span style=\"font-size:2em\">&#x1F4D7;</span>  Wiederholen Sie die Aufgaben **b)** bis **c)** für ein quadratisches Modell (Nutzen Sie dafür zum Beispiel `from sklearn.preprocessing import PolynomialFeatures`.). Interpretieren Sie die Ergebnisse."
   ]
  },
  {
   "cell_type": "code",
   "execution_count": 9,
   "metadata": {},
   "outputs": [],
   "source": [
    "import utils\n",
    "import numpy as np\n",
    "\n",
    "# %matplotlib notebook\n",
    "%matplotlib inline\n",
    "import matplotlib.pyplot as plt\n",
    "from sklearn.linear_model import LinearRegression\n",
    "from sklearn.pipeline import make_pipeline\n",
    "from sklearn.preprocessing import PolynomialFeatures, StandardScaler\n",
    "plt.style.use('seaborn-whitegrid')"
   ]
  },
  {
   "cell_type": "markdown",
   "metadata": {},
   "source": [
    "### a) - d)"
   ]
  },
  {
   "cell_type": "code",
   "execution_count": 10,
   "metadata": {},
   "outputs": [],
   "source": [
    "### Convenience Functions\n",
    "\n",
    "# Visualisierung eines Fits\n",
    "def visualize_predict(model, xmin=0, xmax=10):\n",
    "    ax = plt.gca()\n",
    "    \n",
    "    x_vis = np.linspace(0, 10, 100)\n",
    "    \n",
    "    # y_vis = w1 * x_vis + w2 * x_vis ** 2 + b\n",
    "    y_vis = model.predict(x_vis[:, np.newaxis])\n",
    "    \n",
    "    ax.plot(x_vis, y_vis, \"orange\")\n",
    "\n",
    "# Quadratischer Fehler\n",
    "def quadratic_error(y_true, y_pred):\n",
    "    return np.mean((y_true - y_pred)**2)\n",
    "\n",
    "# Absoluter Fehler\n",
    "def absolute_error(y_true, y_pred):\n",
    "    return np.mean(np.abs(y_true - y_pred))"
   ]
  },
  {
   "cell_type": "code",
   "execution_count": 11,
   "metadata": {},
   "outputs": [],
   "source": [
    "### Trainingsdaten\n",
    "x_train, y_train = utils.get_train_data()\n",
    "\n",
    "### Testdaten\n",
    "x_test, y_test = utils.get_test_data()"
   ]
  },
  {
   "cell_type": "code",
   "execution_count": 12,
   "metadata": {},
   "outputs": [
    {
     "name": "stdout",
     "output_type": "stream",
     "text": [
      "Quadratischer Trainingsfehler: 123.05 | Quadratischer Testfehler 138.86\n",
      "Absoluter Trainingsfehler: 8.75 | Absoluter Testfehler: 9.51\n"
     ]
    },
    {
     "data": {
      "image/png": "[encoded data removed]",
      "text/plain": [
       "<Figure size 432x288 with 1 Axes>"
      ]
     },
     "metadata": {},
     "output_type": "display_data"
    }
   ],
   "source": [
    "### Modell fitten\n",
    "linear_regression = LinearRegression()\n",
    "linear_regression.fit(x_train, y_train)\n",
    "\n",
    "\n",
    "### Vorhersagen\n",
    "# Trainingsdaten vorhersagen\n",
    "y_pred_train = linear_regression.predict(x_train)\n",
    "# Testdaten vorhersagen\n",
    "y_pred_test = linear_regression.predict(x_test)\n",
    "\n",
    "\n",
    "### Fehler berechnen\n",
    "# Trainingsfehler\n",
    "quadratic_train_error = quadratic_error(y_train, y_pred_train)\n",
    "absolute_train_error = absolute_error(y_train, y_pred_train)\n",
    "\n",
    "# Testfehler\n",
    "quadratic_test_error = quadratic_error(y_test, y_pred_test)\n",
    "absolute_test_error = absolute_error(y_test, y_pred_test)\n",
    "\n",
    "\n",
    "### Visualisierung\n",
    "# Trainingsdaten\n",
    "plt.scatter(x_train, y_train)\n",
    "\n",
    "# Vorhersagefunktion\n",
    "visualize_predict(linear_regression)\n",
    "\n",
    "\n",
    "print(f\"Quadratischer Trainingsfehler: {quadratic_train_error:.2f} | Quadratischer Testfehler {quadratic_test_error:.2f}\")\n",
    "print(f\"Absoluter Trainingsfehler: {absolute_train_error:.2f} | Absoluter Testfehler: {absolute_test_error:.2f}\")"
   ]
  },
  {
   "cell_type": "markdown",
   "metadata": {},
   "source": [
    "### e)"
   ]
  },
  {
   "cell_type": "code",
   "execution_count": 13,
   "metadata": {},
   "outputs": [
    {
     "name": "stdout",
     "output_type": "stream",
     "text": [
      "Quadratischer Trainingsfehler: 61.93 | Quadratischer Testfehler 73.32\n",
      "Absoluter Trainingsfehler: 6.30 | Absoluter Testfehler: 7.05\n"
     ]
    },
    {
     "data": {
      "image/png": "[encoded data removed]",
      "text/plain": [
       "<Figure size 432x288 with 1 Axes>"
      ]
     },
     "metadata": {},
     "output_type": "display_data"
    }
   ],
   "source": [
    "### Modell erstellen und fitten (für Pipelines siehe weiter unten)\n",
    "quadratic_regression = make_pipeline(PolynomialFeatures(include_bias=False, degree=2), LinearRegression())\n",
    "quadratic_regression.fit(x_train, y_train)\n",
    "\n",
    "\n",
    "### Vorhersagen\n",
    "# Trainingsdaten vorhersagen\n",
    "y_pred_train = quadratic_regression.predict(x_train)\n",
    "# Testdaten vorhersagen\n",
    "y_pred_test = quadratic_regression.predict(x_test)\n",
    "\n",
    "\n",
    "### Fehler berechnen\n",
    "# Trainingsfehler\n",
    "quadratic_train_error = quadratic_error(y_train, y_pred_train)\n",
    "absolute_train_error = absolute_error(y_train, y_pred_train)\n",
    "\n",
    "# Testfehler\n",
    "quadratic_test_error = quadratic_error(y_test, y_pred_test)\n",
    "absolute_test_error = absolute_error(y_test, y_pred_test)\n",
    "\n",
    "\n",
    "### Visualisierung\n",
    "# Trainingsdaten\n",
    "plt.scatter(x_train, y_train)\n",
    "\n",
    "# Vorhersagefunktion\n",
    "visualize_predict(quadratic_regression)\n",
    "\n",
    "\n",
    "print(f\"Quadratischer Trainingsfehler: {quadratic_train_error:.2f} | Quadratischer Testfehler {quadratic_test_error:.2f}\")\n",
    "print(f\"Absoluter Trainingsfehler: {absolute_train_error:.2f} | Absoluter Testfehler: {absolute_test_error:.2f}\")"
   ]
  },
  {
   "cell_type": "markdown",
   "metadata": {},
   "source": [
    "### Erklärung Pipelines"
   ]
  },
  {
   "cell_type": "markdown",
   "metadata": {},
   "source": [
    "#### i) Quadratische Regression ohne Pipelines"
   ]
  },
  {
   "cell_type": "code",
   "execution_count": 14,
   "metadata": {},
   "outputs": [
    {
     "name": "stdout",
     "output_type": "stream",
     "text": [
      "61.93459558870625\n",
      "73.31610163225241\n"
     ]
    }
   ],
   "source": [
    "# Pipelines\n",
    "# Vergleich mit und ohne Pipeline\n",
    "\n",
    "### ohne Pipelines\n",
    "\n",
    "# 1. Schritt - Daten transformieren\n",
    "poly_expansion = PolynomialFeatures(degree=2, include_bias=False)\n",
    "\n",
    "# 1.1. fitten der Expansion - stellt fest, wie viele Features generiert werden sollen\n",
    "poly_expansion.fit(x_train)\n",
    "\n",
    "# 1.2. transformieren\n",
    "x_train_poly = poly_expansion.transform(x_train)\n",
    "x_test_poly = poly_expansion.transform(x_test)\n",
    "\n",
    "\n",
    "# 2. Schritt - Lineare Regression fitten\n",
    "linear_regression = LinearRegression()\n",
    "linear_regression.fit(x_train_poly, y_train)\n",
    "\n",
    "\n",
    "# 3. Schritt - Validierung\n",
    "y_pred_train = linear_regression.predict(x_train_poly)\n",
    "y_pred_test = linear_regression.predict(x_test_poly)\n",
    "\n",
    "print(quadratic_error(y_pred_train, y_train))\n",
    "print(quadratic_error(y_pred_test, y_test))"
   ]
  },
  {
   "cell_type": "markdown",
   "metadata": {},
   "source": [
    "#### ii) Quadratische Regression mit Pipelines"
   ]
  },
  {
   "cell_type": "code",
   "execution_count": 16,
   "metadata": {},
   "outputs": [
    {
     "name": "stdout",
     "output_type": "stream",
     "text": [
      "61.93459558870622\n",
      "73.3161016322524\n"
     ]
    }
   ],
   "source": [
    "### mit Pipelines\n",
    "\n",
    "quadratic_regression = make_pipeline(\n",
    "    PolynomialFeatures(include_bias=False, degree=2),\n",
    "    LinearRegression(normalize=True)\n",
    ")\n",
    "\n",
    "quadratic_regression.fit(x_train, y_train)\n",
    "\n",
    "y_pred_train = quadratic_regression.predict(x_train)\n",
    "y_pred_test = quadratic_regression.predict(x_test)\n",
    "\n",
    "print(quadratic_error(y_pred_train, y_train))\n",
    "print(quadratic_error(y_pred_test, y_test))"
   ]
  },
  {
   "cell_type": "markdown",
   "metadata": {},
   "source": [
    "#### iii) (Advanced, Optional) Cubische Regression mit Pipelines, Feature Scaling und Regularisierung"
   ]
  },
  {
   "cell_type": "code",
   "execution_count": 18,
   "metadata": {},
   "outputs": [
    {
     "name": "stdout",
     "output_type": "stream",
     "text": [
      "52.139521907718205\n",
      "61.60367162866368\n"
     ]
    }
   ],
   "source": [
    "# für eine Regression mit Regularisierung benutze `Ridge`\n",
    "from sklearn.linear_model import Ridge\n",
    "\n",
    "cubic_ridge_regression = make_pipeline(\n",
    "    PolynomialFeatures(include_bias=False, degree=3),\n",
    "    StandardScaler(),  # Alternative zum Skalieren von Features\n",
    "    Ridge()\n",
    ")\n",
    "\n",
    "cubic_ridge_regression.fit(x_train, y_train)\n",
    "\n",
    "y_pred_train = cubic_ridge_regression.predict(x_train)\n",
    "y_pred_test = cubic_ridge_regression.predict(x_test)\n",
    "\n",
    "print(quadratic_error(y_pred_train, y_train))\n",
    "print(quadratic_error(y_pred_test, y_test))"
   ]
  },
  {
   "cell_type": "markdown",
   "metadata": {},
   "source": [
    "## (2.2.2) Zufällige Trainingsdaten **<span style=\"color:orange; font-size:1em\"> (oo) </span>** <span style=\"font-size:1em\">&#x1F4D9;</span> \n",
    "\n",
    "Die Hilfsfunktion `utils.get_train_data()` erzeugt bei jedem Aufruf einen neuen, zufälligen, Datensatz während die Funktion `utils.get_test_data()` einen festen Testdatensatz erzeugt. In dieser Aufgabe untersuchen Sie, welchen Einfluss die Zufälligkeit des Trainingsdatensatzes auf die Qualität des Modells hat.\n",
    "\n",
    "**<span style=\"color:green; font-size:2em\"> (a) </span>** <span style=\"font-size:2em\">&#x1F4D7;</span>  Erstellen und visualisieren Sie exemplarisch zwei verschiedene Trainingsdatensätze.\n",
    "\n",
    "**<span style=\"color:orange; font-size:2em\"> (b) </span>** <span style=\"font-size:2em\">&#x1F4D9;</span>  Wiederholen Sie die Aufgaben **1a)**, **1b)** und  **1d)** für $10-20$ zufällig generierte Trainingsdatensätze. Entscheiden Sie sich dabei für eine der Fehlermetriken (zum Beispiel RMSE). Speichern Sie sich die Fehler für jede der $10-20$ Wiederholungen des Experiments.\n",
    "\n",
    "Berechnen Sie dann folgende Größe: Für jeden Trainingsdatensatz haben Sie ein separates Modell trainiert und evaluiert. Daraus resultiert jeweils ein Trainingsfehler und ein Testfehler. Berechnen Sie nun den durchschnittlichen Trainingsfehler und Testfehler und die Standardabweichung dieser Fehler über alle Trainingsdatensätze hinweg (*Hinweis: der Trainings- und Testfehler sind für sich genommen schon Durchschnittswerte - nämlich über die Datenpunkte hinweg. Hier aber ist gemeint, die Durchschnittswerte dieser Fehler für die Widerholungen des Experiments zu berechnen - in einem gewissen Sinne also Durchschnittswerte der Durchschnittswerte*)\n",
    "\n",
    "**<span style=\"color:orange; font-size:2em\"> (c) </span>** <span style=\"font-size:2em\">&#x1F4D9;</span>  Visualisieren Sie die Ergebnisse aus **c)** indem Sie die $10-20$ verschiedenen linearen Modelle in einem einzigen Plot darstellen.\n",
    "\n",
    "**<span style=\"color:orange; font-size:2em\"> (d) </span>** <span style=\"font-size:2em\">&#x1F4D9;</span> Wiederholen Sie nun die vorherigen Aufgabenteile während Sie anstelle eines linearen Modells ein quadratisches Modell oder sogar ein Modell höheren Grades verwenden (siehe Aufgabe **1d)**).\n",
    "\n",
    "**<span style=\"color:green; font-size:2em\"> (e) </span>** <span style=\"font-size:2em\">&#x1F4D9;</span> Interpretieren Sie Ihre Ergebnisse."
   ]
  },
  {
   "cell_type": "code",
   "execution_count": null,
   "metadata": {},
   "outputs": [],
   "source": []
  },
  {
   "cell_type": "markdown",
   "metadata": {},
   "source": [
    "## (2.2.3) Bias-Variance-Tradeoff <span style=\"color:red; font-size:1em\"> (ooo) </span> <span style=\"font-size:1em\">&#x1F4D8;</span> \n",
    "\n",
    "\n",
    "In der vorherigen Aufgabe haben Sie eine Reihe von Modellen auf der Basis zufälliger Trainingsdaten erstellt und für jedes Modell den Testfehler berechnet. Daraufhin ließ sich der durchschnittliche Testfehler sowie die Varianz des Testfehlers schätzen. Sie haben das lineare Modell mit dem quadratischen Modell verglichen.\n",
    "\n",
    "Nun wollen wir die Komplexität des Modells systematisch erhöhen.\n",
    "\n",
    "Als Maß für die Komplexität des Modells nehmen wir den Grad der polynomischen Expansion an. Der Parameter `'degree'` kann von $1$ (lineares Modell) systematisch erhöht werden. Für jede Komplexitätsstufe lassen sich dann eine Reihe Modelle auf Basis zufälliger Trainingsdaten erstellen. Der Testdatensatz bleibt stets derselbe.\n",
    "\n",
    "Wiederholen Sie für jeden Grad (`degree`) der polynomischen Expansion die folgenden Schritte:\n",
    "\n",
    "*(i)* Trainieren Sie $10-20$ verschiedene Modelle jeweils auf einem zufällig generierten Trainingsdatensatz. Um die gewünschten Ergebnisse sichtbar zu machen, bietet es sich an, die Menge an Beobachtungen noch weiter zu reduzieren. Nutzen Sie dafür das Argument `n_samples` der Funktion `utils.get_train_data()`.\n",
    "\n",
    "*(ii)* Berechnen Sie die durchschnittliche Vorhersage zwischen diesen Modellen und plotten Sie diese etwa für $x \\in [0, 10]$.\n",
    "\n",
    "*(iii)* Berechnen Sie die Standardabweichung zwischen den verschiedenen Vorhersagen und visualisieren Sie diese auf eine geeignete Weise für $x \\in [0, 10]$.\n",
    "\n",
    "*(iv)* Benutzen Sie `utils.true_function` um die den Daten tatsächlich zu Grunde liegende Funktion zu plotten. \n",
    "\n",
    "Versuchen Sie, die Plots aus *(ii)*-*(iv)* für jeden Grad der polynomischen Expansion in einem einzigen Plot darzustellen. Interpretieren Sie ihre Ergebnisse."
   ]
  },
  {
   "cell_type": "markdown",
   "metadata": {},
   "source": [
    "## (2.2.4) Regularisierung <span style=\"color:green; font-size:1em\"> (o) </span> - <span style=\"color:orange; font-size:1em\"> (oo) </span> <span style=\"font-size:1em\">&#x1F4D7;</span> \n",
    "\n",
    "\n",
    "Um das Risiko einer Überanpassung zu verhindern, kann die lineare/polynomiale Regression regularisiert werden. Dazu wird der Verlustfunktion ein zusätzlicher Regularisierungsterm hinzugefügt, der dafür sorgt, dass Koeffizienten kleiner Magnitude gegenüber Koeffizienten großer Magnitude bevorzugt werden.\n",
    "\n",
    "Scikit-Learn stellt die lineare Regression mit Regularisierung in den Klassen `Ridge`, `ElasticNet` und `Lasso` zur Verfügung.\n",
    "\n",
    "**<span style=\"color:green; font-size:2em\"> (a) </span>** <span style=\"font-size:2em\">&#x1F4D7;</span>  Beschäftigen Sie sich zunächst der Dokumentation aller drei Klassen. Was ist der wesentliche Unterschied zwischen den Klassen? Benutzen Sie im Folgenden nur die Klasse `Ridge` für eine lineare Regression mit L2-Regularisierung. Setzen Sie in jedem Fall `normalize=True` für alle weiteren Experimente.\n",
    "\n",
    "**<span style=\"color:green; font-size:2em\"> (b) </span>** <span style=\"font-size:2em\">&#x1F4D7;</span>  Wählen Sie ein Regressionsmodell mit einem mittleren Grad der polynomischen Expansion, etwa 6-8. Generieren Sie zunächst einen Trainingsdatensatz wie in den vorherigen Aufgaben und fitten Sie das Modell. Vergleichen Sie die Ergebnisse einer Regression mit `alpha=0.0`, `alpha=1.0` und `alpha=10.0`, indem Sie den Fit wie in den vorherigen Aufgaben auf eine geeignete Weise visualisieren und die Trainings- und Testfehler der Verfahren miteinander vergleichen. Interpretieren Sie.\n",
    "\n",
    "**<span style=\"color:orange; font-size:2em\"> (c) </span>** <span style=\"font-size:2em\">&#x1F4D9;</span>  Varieren Sie nun den Hyperparameter `alpha` der Regression systematisch, z.B. logarithmisch: $\\alpha = 0, 10^{-3}, 5 \\cdot 10^{-3}, 10^{-2}, ..., 10$ (Tipp: `np.logspace`). Trainieren Sie nun für jeden Wert des Hyperparameters $20-50$ verschiedene Modelle auf jeweils zufällig generierten Trainingsdaten und berechnen Sie jedesmal den Trainingsfehler sowie den Testfehler. Plotten Sie dann den durchschnittlichen Trainings- sowie Testfehler (über die zufälligen Trainingsdatensätze hinweg) sowie, in einem separaten Plot, deren Standardabweichung, gegen den Wert des Hyperparameters. Um das Ergebnis sichtbar zu machen, können Sie die Menge an Beobachtungen für die Trainingsdaten reduzieren, indem Sie das Argument `n_samples` der Funktion `utils.get_train_data()` verwenden. Interpretieren Sie das Ergebnis.\n"
   ]
  },
  {
   "cell_type": "code",
   "execution_count": 1,
   "metadata": {},
   "outputs": [],
   "source": [
    "from sklearn.linear_model import Ridge, ElasticNet, Lasso"
   ]
  },
  {
   "cell_type": "code",
   "execution_count": null,
   "metadata": {},
   "outputs": [],
   "source": []
  }
 ],
 "metadata": {
  "kernelspec": {
   "display_name": "Python 3",
   "language": "python",
   "name": "python3"
  },
  "language_info": {
   "codemirror_mode": {
    "name": "ipython",
    "version": 3
   },
   "file_extension": ".py",
   "mimetype": "text/x-python",
   "name": "python",
   "nbconvert_exporter": "python",
   "pygments_lexer": "ipython3",
   "version": "3.8.8"
  },
  "toc": {
   "base_numbering": 1,
   "nav_menu": {},
   "number_sections": true,
   "sideBar": true,
   "skip_h1_title": false,
   "title_cell": "Table of Contents",
   "title_sidebar": "Contents",
   "toc_cell": false,
   "toc_position": {},
   "toc_section_display": true,
   "toc_window_display": false
  }
 },
 "nbformat": 4,
 "nbformat_minor": 2
}
