{
 "cells": [
  {
   "cell_type": "markdown",
   "metadata": {
    "id": "Z4mDMkVevmKm"
   },
   "source": [
    "## Multinomial Bayes Classifiers für Text Klassifikation\n",
    "\n",
    "### 1. Text Klassifikation\n",
    "\n",
    "Bayes Klassifikatoren werden auch Naive Bayes oder Indepedence Bayes genannt."
   ]
  },
  {
   "cell_type": "code",
   "execution_count": 1,
   "metadata": {
    "id": "tIdA7SJcvqrw"
   },
   "outputs": [],
   "source": [
    "import utils_bayes\n",
    "from sklearn.naive_bayes import MultinomialNB\n",
    "import numpy as np"
   ]
  },
  {
   "cell_type": "code",
   "execution_count": 70,
   "metadata": {
    "colab": {
     "base_uri": "https://localhost:8080/"
    },
    "id": "n-BPNued2Djx",
    "outputId": "d8dcbd0b-9ea2-4b12-f6fb-b43c4de30bc3",
    "scrolled": true
   },
   "outputs": [],
   "source": [
    "# TODO: Themen `available_themes` aus utils_bayes auflisten"
   ]
  },
  {
   "cell_type": "code",
   "execution_count": 71,
   "metadata": {},
   "outputs": [],
   "source": [
    "# TODO: Modell importieren\n",
    "# TODO: Themen auswählen"
   ]
  },
  {
   "cell_type": "markdown",
   "metadata": {
    "id": "Y-pJnC80xEa4"
   },
   "source": [
    "Das daraus resultierende `model` ist eine Pipeline aus einem sogenannten `TfidfVectorizer` und einem Bayes-Klassifikator `MultinomialNB`"
   ]
  },
  {
   "cell_type": "code",
   "execution_count": 72,
   "metadata": {},
   "outputs": [],
   "source": [
    "# TODO: Modell untersuchen"
   ]
  },
  {
   "cell_type": "code",
   "execution_count": 73,
   "metadata": {
    "colab": {
     "base_uri": "https://localhost:8080/",
     "height": 35
    },
    "id": "7HObUkjUxC7c",
    "outputId": "94add891-18b7-4e2a-a40d-2a83577f4fec"
   },
   "outputs": [
    {
     "data": {
      "text/plain": [
       "'Space'"
      ]
     },
     "execution_count": 73,
     "metadata": {},
     "output_type": "execute_result"
    }
   ],
   "source": [
    "# TODO: Vorhersagen treffen\n",
    "predict_category(\n",
    "    \"\"\"Dear Sir or Madam,\n",
    "    we have received your mail regarding your booked space travel to Mars.\n",
    "    Everything seems in order.\n",
    "    Regards\n",
    "    \"\"\")"
   ]
  },
  {
   "cell_type": "markdown",
   "metadata": {
    "id": "ZDXkFmRa3i-o"
   },
   "source": [
    "### 2. Scikit-Learn's Newsgroups Dataset"
   ]
  },
  {
   "cell_type": "code",
   "execution_count": 6,
   "metadata": {
    "id": "UaMo8roC3t2m"
   },
   "outputs": [],
   "source": [
    "from sklearn.datasets import fetch_20newsgroups\n",
    "\n",
    "# TODO\n",
    "newsgroups = None\n",
    "\n",
    "# TODO: Datensatz untersuchen"
   ]
  },
  {
   "cell_type": "markdown",
   "metadata": {
    "id": "oIw2i3gBDd8g"
   },
   "source": [
    "### 3. Text vektorisieren"
   ]
  },
  {
   "cell_type": "code",
   "execution_count": 7,
   "metadata": {
    "id": "1YfxKCEfDgY7"
   },
   "outputs": [],
   "source": [
    "from sklearn.feature_extraction.text import CountVectorizer, TfidfVectorizer\n",
    "\n",
    "# TODO: Text vektorisieren"
   ]
  }
 ],
 "metadata": {
  "colab": {
   "collapsed_sections": [],
   "name": "Bayes and Bayes Classifiers.ipynb",
   "provenance": []
  },
  "kernelspec": {
   "display_name": "Python 3",
   "language": "python",
   "name": "python3"
  },
  "language_info": {
   "codemirror_mode": {
    "name": "ipython",
    "version": 3
   },
   "file_extension": ".py",
   "mimetype": "text/x-python",
   "name": "python",
   "nbconvert_exporter": "python",
   "pygments_lexer": "ipython3",
   "version": "3.8.5"
  }
 },
 "nbformat": 4,
 "nbformat_minor": 1
}
