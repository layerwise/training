{
 "cells": [
  {
   "cell_type": "markdown",
   "metadata": {},
   "source": [
    "## 1. Vorbereitung\n",
    "\n",
    "Wir verfolgen zunächst im Wesentlichen dieselbe Strategie wie in der vorherigen Lektion (**Vorhersagen treffen**). Statt der Datei `house_location_new.csv` steht nun allerdings die Datei `house_location_new_with_labels.csv` im Fokus. Diese unterscheidet sich in einem wesentlichen Punkt von der vorherigen Datei: für alle Datenpunkte ist die richtige Antwort bereits bekannt."
   ]
  },
  {
   "cell_type": "code",
   "execution_count": null,
   "metadata": {},
   "outputs": [],
   "source": [
    "# TODO: Importieren der Daten mit Pandas\n",
    "# TODO: Untersuchung des neuen Datensatzes\n",
    "\n",
    "# TODO: Importieren des Modells"
   ]
  },
  {
   "cell_type": "markdown",
   "metadata": {},
   "source": [
    "## 2. Vorhersage\n",
    "\n",
    "Nach erfolgreichem Import des Modells können wir erneut - wie zuvor - eine Vorhersage für unseren Datensatz treffen."
   ]
  },
  {
   "cell_type": "code",
   "execution_count": 2,
   "metadata": {},
   "outputs": [],
   "source": [
    "# TODO: mit dem Modell Vorhersagen treffen"
   ]
  },
  {
   "cell_type": "markdown",
   "metadata": {},
   "source": [
    "## 3. Modell evaluieren\n",
    "\n",
    "Da wir nun für alle Datenpunkte des Datensatzes die richtige Antwort kennen, können wir die Vorhersage des Modells mit diesen richtigen Antworten abgleichen und so eine Einschätzung gewinnen, ob das Modell funktioniert. Die dafür verwendete Metrik ist die *Genaugikeit* oder *Accuracy* oder *Korrekte-Klassifikations-Rate* und soll den Prozentsatz erfassen, zu dem das Modell korrekt Vorhersagen liefert."
   ]
  },
  {
   "cell_type": "code",
   "execution_count": null,
   "metadata": {},
   "outputs": [],
   "source": [
    "# TODO: Vorhersage mit der richtigen Antwort abgleichen"
   ]
  }
 ],
 "metadata": {
  "kernelspec": {
   "display_name": "Python 3",
   "language": "python",
   "name": "python3"
  },
  "language_info": {
   "codemirror_mode": {
    "name": "ipython",
    "version": 3
   },
   "file_extension": ".py",
   "mimetype": "text/x-python",
   "name": "python",
   "nbconvert_exporter": "python",
   "pygments_lexer": "ipython3",
   "version": "3.8.5"
  }
 },
 "nbformat": 4,
 "nbformat_minor": 4
}
