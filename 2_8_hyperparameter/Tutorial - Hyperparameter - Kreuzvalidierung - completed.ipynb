{
 "cells": [
  {
   "cell_type": "markdown",
   "metadata": {
    "id": "YEhKDHcsak2j"
   },
   "source": [
    "## 1. Hyperparametersuche\n",
    "\n",
    "Fast alle Machine Learning Modelle verfügen über sogenannte Hyperparamter. Dies sind veränderliche Bestandteile des Modells bzw. des Trainings im weiteren Sinne (also auch Vorverarbeitungen der Daten), die nicht durch die Daten bestimmt werden können. Dies ist im Kontrast zu Parametern wie zum Beispiel den Gewichten in einem Neuronenmodell, die eben genau durch die Daten bestimmt werden.\n",
    "\n",
    "Hyperparameter müssen abgestimmt werden ohne dabei auf die Testdaten zurückzugreifen. Werden Testdaten zur Abstimmung verwendet, nennt man diesen methodischen Fehler *data leakage* - also das Einsickern der Testdaten in den Lernprozess. Damit einher geht eine möglicherweise falsch geschätzte Generalisierungsfähigkeit des Modells - die Testdaten sind keine Testdaten mehr.\n",
    "\n",
    "Der korrekte Ansatz zur Abstimmung der Hyperparameter ist die Benutzung eines Validierungsdatensatzes. Ein Teil der Trainingsdaten wird zur Validierung von Modellen mit verschiedenen Hyperparametern genutzt - die Testdaten bleiben unangetastet.\n",
    "\n",
    "Folgende Hyperparameter haben wir kennengelernt:\n",
    "\n",
    "- Lineare Regression\n",
    "    - `Ridge` versus `Lasso` versus `ElasticNet` - Art der Regularisierung\n",
    "    - `alpha` - Stärke der Regularisierung\n",
    "    - `degree` - Grad einer möglichen polynomischen Expansion\n",
    "- Logistische Regression\n",
    "    - `C` - inverse Stärke der Regularisierung\n",
    "    - `penalty= \"l2\" / \"l1\" / \"elasticnet\"`- Art der Regularisierung\n",
    "- Decision Trees\n",
    "    - `max_depth`\n",
    "- Random Forest\n",
    "    - `max_depth`\n",
    "    - `n_estimators`\n",
    "- Gradient Boosting\n",
    "    - `max_depth`\n",
    "    - `n_estimators`\n",
    "    - `learning_rate`\n",
    "- Support Vector Machines\n",
    "    - `C` - inverse Stärke der Regularisierung\n",
    "    - `kernel = \"rbf\" / \"linear\"`\n",
    "    - `gamma`\n",
    "- K-Nearest Neighbors\n",
    "    - `n_neighbors`\n"
   ]
  },
  {
   "cell_type": "markdown",
   "metadata": {
    "id": "SL4ivOTwb6Ym"
   },
   "source": [
    "### 1.1 Daten und Vorbereitung\n",
    "\n",
    "Wir untersuchen ein künstlich erstelltes Regressionsproblem."
   ]
  },
  {
   "cell_type": "code",
   "execution_count": 6,
   "metadata": {
    "id": "wEKfAUrFa-t-"
   },
   "outputs": [],
   "source": [
    "import numpy as np\n",
    "import matplotlib.pyplot as plt\n",
    "\n",
    "# TODO: Scikit-Learn Importe\n",
    "from sklearn.linear_model import Ridge\n",
    "from sklearn.preprocessing import PolynomialFeatures\n",
    "from sklearn.pipeline import make_pipeline\n",
    "from sklearn.model_selection import train_test_split\n",
    "from sklearn.metrics import mean_squared_error, mean_absolute_error, r2_score"
   ]
  },
  {
   "cell_type": "code",
   "execution_count": 7,
   "metadata": {
    "id": "E-zXQgOncF6Q"
   },
   "outputs": [],
   "source": [
    "# TODO: Hilfsfunktion zum Erstellen einer polynomischen Regression\n",
    "def get_regression(alpha=1.0, degree=2):\n",
    "    model = make_pipeline(\n",
    "        PolynomialFeatures(degree=degree, include_bias=False),\n",
    "        Ridge(alpha=alpha, normalize=True)\n",
    "    )\n",
    "    return model"
   ]
  },
  {
   "cell_type": "code",
   "execution_count": 8,
   "metadata": {
    "id": "bq6spA1Sak24"
   },
   "outputs": [],
   "source": [
    "# Hilfsfunktion zu Generierung eines Toy-Datensatzes\n",
    "# für ein Regressionsproblem\n",
    "def make_data(N=30, err=0.8, rseed=1):\n",
    "    # randomly sample the data\n",
    "    rng = np.random.RandomState(rseed)\n",
    "    X = rng.rand(N, 1) ** 2\n",
    "    y = 10 - 1. / (X.ravel() + 0.1)\n",
    "    if err > 0:\n",
    "        y += err * rng.randn(N)\n",
    "    return X, y"
   ]
  },
  {
   "cell_type": "code",
   "execution_count": 9,
   "metadata": {
    "colab": {
     "base_uri": "https://localhost:8080/",
     "height": 406
    },
    "id": "XDnGfpUebMVX",
    "outputId": "2b54758c-16a9-45e4-fbf2-f7543b69bdac"
   },
   "outputs": [
    {
     "data": {
      "text/plain": [
       "Text(0, 0.5, 'y [Verkaufspreis]')"
      ]
     },
     "execution_count": 9,
     "metadata": {},
     "output_type": "execute_result"
    },
    {
     "data": {
      "image/png": "[encoded data removed]",
      "text/plain": [
       "<Figure size 576x432 with 1 Axes>"
      ]
     },
     "metadata": {
      "needs_background": "light"
     },
     "output_type": "display_data"
    }
   ],
   "source": [
    "# TODO: Visualisierung der Daten\n",
    "# shape [N, 1] für X und [N, ] für y\n",
    "X, y = make_data(N=100)\n",
    "\n",
    "plt.figure(figsize=(8, 6))\n",
    "plt.scatter(X, y)\n",
    "plt.xlabel(\"x1 [Wohnfläche]\")\n",
    "plt.ylabel(\"y [Verkaufspreis]\")"
   ]
  },
  {
   "cell_type": "code",
   "execution_count": 10,
   "metadata": {
    "id": "mfCO2kc4bxgv"
   },
   "outputs": [],
   "source": [
    "# TODO: Trainings- und Testdaten aufspalten\n",
    "X_train, X_test, y_train, y_test = train_test_split(X, y, train_size=0.8)"
   ]
  },
  {
   "cell_type": "code",
   "execution_count": 14,
   "metadata": {
    "colab": {
     "base_uri": "https://localhost:8080/"
    },
    "id": "YyXSEJKFc1tg",
    "outputId": "1f05f78a-28c2-4687-a79f-c75e83b4bfc1"
   },
   "outputs": [
    {
     "data": {
      "text/plain": [
       "0.5017302093227249"
      ]
     },
     "execution_count": 14,
     "metadata": {},
     "output_type": "execute_result"
    }
   ],
   "source": [
    "# TODO: Fitten des Modells ohne Hyperparametersuche\n",
    "ridge = get_regression(alpha=1.0, degree=2)\n",
    "ridge.fit(X_train, y_train)\n",
    "\n",
    "y_pred_test = ridge.predict(X_test)\n",
    "\n",
    "# Option 1: MSE oder RMSE\n",
    "mse = mean_squared_error(y_test, y_pred_test)\n",
    "rmse = mean_squared_error(y_test, y_pred_test, squared=False)\n",
    "\n",
    "# Option 2: R2\n",
    "r2 = r2_score(y_test, y_pred_test)\n",
    "r2"
   ]
  },
  {
   "cell_type": "markdown",
   "metadata": {
    "id": "2M0XMVBRebZ-"
   },
   "source": [
    "### 1.2. Hyperparametersuche per Scikit-Learn API\n",
    "\n",
    "Scikit-Learn stellt zur Abstimmung der Hyperparameter verschiedene Klassen zur Verfügung. Diese Klassen führen die nötigen for-Schleifen intern aus. \n",
    "\n",
    "![gridsearch_cv](https://raw.githubusercontent.com/layerwise/training/main/assets/gridsearch_cv.png)\n",
    "\n",
    "Die obenstehende Graphik ist durch `GridSearchCV` von Scikit-Learn umgesetzt.\n",
    "\n",
    "```python\n",
    ">>> from sklearn.model_selection import GridSearchCV\n",
    ">>> GridSearchCV?\n",
    "```\n",
    "\n",
    "Wir müssen von außen nur folgendes festlegen: \n",
    "\n",
    "- `param_grid` - den Suchraum der Hyperparameter\n",
    "- `model` - das zu Grunde liegende Modell\n",
    "- `cv` - die Anzahl der Kreuzvalidierungs-Faltungen, typischerweise 3, 5 oder 10\n",
    "- `scoring` - die zu optimierende Metrik\n",
    "\n",
    "Um alle möglichen Evaluationsmetriken anzuzeigen ist folgender Code hilfreich\n",
    "\n",
    "```python\n",
    ">>> from sklearn.metrics import SCORERS\n",
    ">>> sorted(SCORERS.keys())\n",
    "```\n",
    "\n",
    "Die Klasse `GridSearchCV` verhält sich ganz im Sinne von Scikit-Learn ganz genau so wie jedes andere Basis-Modell auch. Das heißt es gibt dort eine `fit` und `predict` Funktion, in denen alle Arbeitsschritte schon integriert sind.\n",
    "\n",
    "Nach einem erfolgreichen Fit, das heißt einer Abstimmung der Hyperparameter durch `GridSearchCV` sind unter anderem folgende Attribute relevant:\n",
    "\n",
    "- `best_estimator_`\n",
    "- `best_params_`\n",
    "- `best_score_`\n",
    "- `cv_results_`"
   ]
  },
  {
   "cell_type": "code",
   "execution_count": 7,
   "metadata": {
    "colab": {
     "base_uri": "https://localhost:8080/"
    },
    "id": "HWIUxmAUgXMo",
    "outputId": "247e3665-c948-45e8-9bef-7e4cebcf37e2"
   },
   "outputs": [
    {
     "data": {
      "text/plain": [
       "Pipeline(steps=[('polynomialfeatures', PolynomialFeatures(include_bias=False)),\n",
       "                ('ridge', Ridge(normalize=True))])"
      ]
     },
     "execution_count": 7,
     "metadata": {},
     "output_type": "execute_result"
    }
   ],
   "source": [
    "ridge"
   ]
  },
  {
   "cell_type": "code",
   "execution_count": 8,
   "metadata": {
    "colab": {
     "base_uri": "https://localhost:8080/"
    },
    "id": "5qNrA5CziSF9",
    "outputId": "215e8bd3-b3dd-47ff-9e65-6a40475db552"
   },
   "outputs": [
    {
     "data": {
      "text/plain": [
       "['accuracy',\n",
       " 'adjusted_mutual_info_score',\n",
       " 'adjusted_rand_score',\n",
       " 'average_precision',\n",
       " 'balanced_accuracy',\n",
       " 'completeness_score',\n",
       " 'explained_variance',\n",
       " 'f1',\n",
       " 'f1_macro',\n",
       " 'f1_micro',\n",
       " 'f1_samples',\n",
       " 'f1_weighted',\n",
       " 'fowlkes_mallows_score',\n",
       " 'homogeneity_score',\n",
       " 'jaccard',\n",
       " 'jaccard_macro',\n",
       " 'jaccard_micro',\n",
       " 'jaccard_samples',\n",
       " 'jaccard_weighted',\n",
       " 'max_error',\n",
       " 'mutual_info_score',\n",
       " 'neg_brier_score',\n",
       " 'neg_log_loss',\n",
       " 'neg_mean_absolute_error',\n",
       " 'neg_mean_gamma_deviance',\n",
       " 'neg_mean_poisson_deviance',\n",
       " 'neg_mean_squared_error',\n",
       " 'neg_mean_squared_log_error',\n",
       " 'neg_median_absolute_error',\n",
       " 'neg_root_mean_squared_error',\n",
       " 'normalized_mutual_info_score',\n",
       " 'precision',\n",
       " 'precision_macro',\n",
       " 'precision_micro',\n",
       " 'precision_samples',\n",
       " 'precision_weighted',\n",
       " 'r2',\n",
       " 'recall',\n",
       " 'recall_macro',\n",
       " 'recall_micro',\n",
       " 'recall_samples',\n",
       " 'recall_weighted',\n",
       " 'roc_auc',\n",
       " 'roc_auc_ovo',\n",
       " 'roc_auc_ovo_weighted',\n",
       " 'roc_auc_ovr',\n",
       " 'roc_auc_ovr_weighted',\n",
       " 'v_measure_score']"
      ]
     },
     "execution_count": 8,
     "metadata": {},
     "output_type": "execute_result"
    }
   ],
   "source": [
    "from sklearn.metrics import SCORERS\n",
    "sorted(SCORERS.keys())"
   ]
  },
  {
   "cell_type": "code",
   "execution_count": 15,
   "metadata": {
    "colab": {
     "base_uri": "https://localhost:8080/"
    },
    "id": "faRznqVJejFm",
    "outputId": "a950ce69-1f72-4e3a-fdae-51dbaffe8923"
   },
   "outputs": [
    {
     "data": {
      "text/plain": [
       "GridSearchCV(cv=10,\n",
       "             estimator=Pipeline(steps=[('polynomialfeatures',\n",
       "                                        PolynomialFeatures(include_bias=False)),\n",
       "                                       ('ridge', Ridge(normalize=True))]),\n",
       "             n_jobs=2,\n",
       "             param_grid={'polynomialfeatures__degree': array([ 1,  2,  3,  4,  5,  6,  7,  8,  9, 10, 11, 12, 13, 14]),\n",
       "                         'ridge__alpha': [0.001, 0.005, 0.01, 0.05, 0.1, 0.5,\n",
       "                                          1.0, 5.0, 10.0]},\n",
       "             scoring='r2')"
      ]
     },
     "execution_count": 15,
     "metadata": {},
     "output_type": "execute_result"
    }
   ],
   "source": [
    "from sklearn.model_selection import GridSearchCV\n",
    "\n",
    "param_grid = {\n",
    "    \"ridge__alpha\": [0.001, 0.005, 0.01, 0.05, 0.1, 0.5, 1.0, 5.0, 10.0],\n",
    "    \"polynomialfeatures__degree\": np.arange(1, 15)\n",
    "}\n",
    "\n",
    "ridge_hp_tuning = GridSearchCV(\n",
    "    ridge,\n",
    "    param_grid=param_grid,\n",
    "    cv=10,\n",
    "    scoring=\"r2\",\n",
    "    n_jobs=2\n",
    ")\n",
    "\n",
    "ridge_hp_tuning.fit(X_train, y_train)"
   ]
  },
  {
   "cell_type": "code",
   "execution_count": 16,
   "metadata": {
    "colab": {
     "base_uri": "https://localhost:8080/"
    },
    "id": "oR-CuYMYiqke",
    "outputId": "412d0fa9-1750-41f2-e44c-11ff8ac6a25f"
   },
   "outputs": [
    {
     "data": {
      "text/plain": [
       "Pipeline(steps=[('polynomialfeatures',\n",
       "                 PolynomialFeatures(degree=8, include_bias=False)),\n",
       "                ('ridge', Ridge(alpha=0.001, normalize=True))])"
      ]
     },
     "execution_count": 16,
     "metadata": {},
     "output_type": "execute_result"
    }
   ],
   "source": [
    "ridge_hp_tuning.best_estimator_"
   ]
  },
  {
   "cell_type": "code",
   "execution_count": 17,
   "metadata": {
    "colab": {
     "base_uri": "https://localhost:8080/"
    },
    "id": "4r59Hn13iyEC",
    "outputId": "3eb8293b-27d1-431f-9053-8772c5b5e519"
   },
   "outputs": [
    {
     "data": {
      "text/plain": [
       "{'polynomialfeatures__degree': 8, 'ridge__alpha': 0.001}"
      ]
     },
     "execution_count": 17,
     "metadata": {},
     "output_type": "execute_result"
    }
   ],
   "source": [
    "ridge_hp_tuning.best_params_"
   ]
  },
  {
   "cell_type": "code",
   "execution_count": 18,
   "metadata": {
    "colab": {
     "base_uri": "https://localhost:8080/"
    },
    "id": "K0SsYB5Zi1OS",
    "outputId": "89723cda-e2c3-4187-c5fe-323951885c8e"
   },
   "outputs": [
    {
     "data": {
      "text/plain": [
       "0.9200464399385389"
      ]
     },
     "execution_count": 18,
     "metadata": {},
     "output_type": "execute_result"
    }
   ],
   "source": [
    "ridge_hp_tuning.best_score_"
   ]
  },
  {
   "cell_type": "code",
   "execution_count": 19,
   "metadata": {
    "colab": {
     "base_uri": "https://localhost:8080/"
    },
    "id": "L8DeAI7_i44t",
    "outputId": "2f8d6d06-f218-4b8b-a9c5-105350919c2a"
   },
   "outputs": [
    {
     "data": {
      "text/plain": [
       "{'mean_fit_time': array([0.00071712, 0.00057197, 0.00059795, 0.00059488, 0.00056446,\n",
       "        0.00058391, 0.00058475, 0.00056634, 0.00056069, 0.0044935 ,\n",
       "        0.00213397, 0.0005919 , 0.00061445, 0.00062714, 0.00060828,\n",
       "        0.00059841, 0.00059845, 0.00059621, 0.00059328, 0.00060744,\n",
       "        0.00061131, 0.00062084, 0.00060563, 0.00060065, 0.00060613,\n",
       "        0.00060599, 0.00061715, 0.00060928, 0.00059614, 0.00060368,\n",
       "        0.00059552, 0.00059912, 0.00061171, 0.00059776, 0.00059445,\n",
       "        0.00059831, 0.00059891, 0.00059752, 0.00060568, 0.00060008,\n",
       "        0.000612  , 0.00060608, 0.00059879, 0.0006047 , 0.00060637,\n",
       "        0.00061245, 0.00060468, 0.00063205, 0.00062456, 0.00060606,\n",
       "        0.00060275, 0.00060587, 0.00061262, 0.00059385, 0.00060036,\n",
       "        0.00066214, 0.00060403, 0.0006438 , 0.00070214, 0.00078676,\n",
       "        0.00064695, 0.0007627 , 0.00076354, 0.00075297, 0.00061808,\n",
       "        0.00060754, 0.0006027 , 0.00065529, 0.0006016 , 0.00063746,\n",
       "        0.00068753, 0.00063763, 0.00077343, 0.00081937, 0.00076718,\n",
       "        0.00074339, 0.000647  , 0.00093474, 0.00072701, 0.0006691 ,\n",
       "        0.00081458, 0.00075495, 0.00076454, 0.00080245, 0.0006551 ,\n",
       "        0.00087566, 0.00077758, 0.00068786, 0.00069807, 0.00064964,\n",
       "        0.00070932, 0.00073738, 0.00082345, 0.00077574, 0.00075963,\n",
       "        0.0006721 , 0.00076993, 0.0008347 , 0.0008733 , 0.00072739,\n",
       "        0.000739  , 0.00065429, 0.00072827, 0.00065157, 0.00064483,\n",
       "        0.00067403, 0.00062671, 0.00065398, 0.00090234, 0.00063598,\n",
       "        0.00106726, 0.00083799, 0.00081751, 0.0006958 , 0.00104835,\n",
       "        0.00073035, 0.0007374 , 0.00089049, 0.00081282, 0.00091856,\n",
       "        0.00069122, 0.00080304, 0.00069158, 0.00093038, 0.00078397,\n",
       "        0.00080335]),\n",
       " 'std_fit_time': array([1.11302557e-04, 1.46614826e-05, 4.16437481e-05, 3.14711531e-05,\n",
       "        1.26371968e-05, 1.30737106e-05, 2.59668810e-05, 1.17510130e-05,\n",
       "        7.77555328e-06, 1.16682534e-02, 4.62083433e-03, 4.94763074e-06,\n",
       "        3.90978556e-05, 4.11458526e-05, 3.61727502e-05, 2.77854223e-05,\n",
       "        2.02261176e-05, 2.50035169e-05, 3.61296592e-06, 2.20391638e-05,\n",
       "        4.78212043e-05, 2.78908979e-05, 7.12053761e-06, 1.63159329e-05,\n",
       "        3.51220591e-06, 2.36275097e-06, 2.36554608e-05, 2.66605386e-05,\n",
       "        4.05760124e-06, 2.08610126e-05, 2.02248669e-06, 1.38494108e-05,\n",
       "        2.27871418e-05, 4.95635470e-06, 2.12727633e-06, 1.37069949e-05,\n",
       "        5.18306857e-06, 3.06402661e-06, 1.51703177e-05, 2.99962411e-06,\n",
       "        2.30444723e-05, 2.00253015e-05, 2.90293590e-06, 1.56130678e-05,\n",
       "        2.04507141e-05, 1.51427896e-05, 2.43093435e-06, 1.20338811e-05,\n",
       "        1.72049032e-05, 1.84678237e-06, 2.81586372e-06, 1.18111322e-05,\n",
       "        4.28201693e-05, 2.25460791e-05, 1.41253501e-05, 1.33623087e-04,\n",
       "        2.32482567e-05, 6.37047171e-05, 1.78878486e-04, 3.07574613e-04,\n",
       "        5.97225216e-05, 2.21006898e-04, 2.46871778e-04, 1.58210437e-04,\n",
       "        2.15652735e-05, 2.36435751e-05, 1.12464093e-05, 9.87962549e-05,\n",
       "        1.61400926e-05, 3.93357492e-05, 1.45785233e-04, 7.47363871e-05,\n",
       "        2.82032975e-04, 3.17126360e-04, 2.11590594e-04, 1.79511553e-04,\n",
       "        3.09683709e-05, 2.73454806e-04, 1.60141237e-04, 7.84387125e-05,\n",
       "        3.07390684e-04, 1.35677570e-04, 2.16265840e-04, 2.67488307e-04,\n",
       "        4.09457169e-05, 2.06142880e-04, 1.41760736e-04, 8.24024727e-05,\n",
       "        1.23328538e-04, 3.20361830e-05, 1.30821882e-04, 1.84153338e-04,\n",
       "        2.57732928e-04, 1.67402751e-04, 1.81112001e-04, 5.88267105e-05,\n",
       "        2.49491095e-04, 1.82704468e-04, 2.84811155e-04, 1.46017763e-04,\n",
       "        2.06387638e-04, 3.80661302e-05, 2.60833678e-04, 3.05195245e-05,\n",
       "        6.47623334e-05, 8.39240476e-05, 1.55573193e-05, 9.23014982e-05,\n",
       "        4.61947451e-04, 2.42794529e-05, 4.70510911e-04, 2.58143422e-04,\n",
       "        2.67382529e-04, 1.19752039e-04, 5.93099341e-04, 1.88629453e-04,\n",
       "        1.67384563e-04, 3.21768040e-04, 1.67121554e-04, 3.75232626e-04,\n",
       "        5.35075036e-05, 1.66281288e-04, 8.17309913e-05, 3.15243750e-04,\n",
       "        3.25074405e-04, 2.40518295e-04]),\n",
       " 'mean_score_time': array([0.00033197, 0.00028644, 0.00029662, 0.00029478, 0.00027978,\n",
       "        0.00030589, 0.0002914 , 0.00027499, 0.00028527, 0.00031135,\n",
       "        0.00029998, 0.000296  , 0.0002954 , 0.00029981, 0.00029624,\n",
       "        0.00029881, 0.00029414, 0.00029366, 0.00029683, 0.00030792,\n",
       "        0.00030491, 0.00031197, 0.00030348, 0.00030324, 0.00030386,\n",
       "        0.0003041 , 0.00030468, 0.00030553, 0.00030417, 0.00030556,\n",
       "        0.00030107, 0.00030093, 0.00030782, 0.00029845, 0.00029936,\n",
       "        0.00029974, 0.00030208, 0.00030079, 0.00030315, 0.00030398,\n",
       "        0.0003036 , 0.00031099, 0.00030279, 0.00031013, 0.00030339,\n",
       "        0.00030789, 0.00031066, 0.0003242 , 0.00031548, 0.00030782,\n",
       "        0.00030465, 0.00030258, 0.00030463, 0.00030346, 0.00030637,\n",
       "        0.00036526, 0.0003252 , 0.00030801, 0.00031703, 0.00034428,\n",
       "        0.00030882, 0.00039866, 0.00033681, 0.00036054, 0.00032051,\n",
       "        0.00030715, 0.00030751, 0.00035837, 0.00031707, 0.00032992,\n",
       "        0.00031657, 0.00033336, 0.00031703, 0.0003732 , 0.00034811,\n",
       "        0.00035388, 0.00033128, 0.00044475, 0.0003891 , 0.00034945,\n",
       "        0.00034001, 0.00040083, 0.00038581, 0.00033631, 0.00032272,\n",
       "        0.00039155, 0.00036623, 0.00033915, 0.00035305, 0.00032642,\n",
       "        0.00037167, 0.0003479 , 0.00036323, 0.00038273, 0.00037806,\n",
       "        0.0003401 , 0.00033159, 0.00044909, 0.0004236 , 0.0003392 ,\n",
       "        0.00034785, 0.00033057, 0.00031817, 0.00032754, 0.00035346,\n",
       "        0.00033879, 0.00031872, 0.00036788, 0.00036898, 0.00034945,\n",
       "        0.00047162, 0.00038764, 0.00036159, 0.00039651, 0.00037286,\n",
       "        0.00035336, 0.00035675, 0.00037117, 0.00039005, 0.00037229,\n",
       "        0.00034125, 0.00044401, 0.00033739, 0.00038326, 0.00037119,\n",
       "        0.00036805]),\n",
       " 'std_score_time': array([4.43347281e-05, 1.70991837e-05, 2.61114500e-05, 2.01849737e-05,\n",
       "        4.15457629e-06, 2.20670531e-05, 1.91866379e-05, 1.54218308e-06,\n",
       "        1.60890150e-05, 2.59042527e-05, 1.43324273e-05, 3.02190259e-06,\n",
       "        2.68048655e-06, 1.25128876e-05, 4.22377876e-06, 6.74269492e-06,\n",
       "        1.98918837e-06, 2.05109274e-06, 3.33274722e-06, 2.08989219e-05,\n",
       "        1.52931906e-05, 1.29946875e-05, 4.72700534e-06, 1.13780630e-05,\n",
       "        1.75282252e-06, 1.81025498e-06, 4.82696063e-06, 8.04375668e-06,\n",
       "        6.98025106e-06, 1.29275645e-05, 1.89778793e-06, 2.57403747e-06,\n",
       "        1.20619303e-05, 1.63381974e-06, 1.75266037e-06, 1.84924311e-06,\n",
       "        3.04018748e-06, 1.56050379e-06, 3.77010569e-06, 1.73898530e-06,\n",
       "        1.61069353e-06, 1.56937388e-05, 2.29179665e-06, 2.03467036e-05,\n",
       "        2.32442831e-06, 4.24251107e-06, 1.47125708e-05, 7.90299152e-06,\n",
       "        9.11732099e-06, 3.65403211e-06, 2.37175562e-06, 4.36045355e-06,\n",
       "        1.48468171e-05, 1.03160058e-05, 9.77806885e-06, 8.01341834e-05,\n",
       "        6.85053377e-05, 2.27592857e-05, 2.77759282e-05, 4.70007626e-05,\n",
       "        9.48057922e-06, 1.59808488e-04, 4.64064539e-05, 8.14740021e-05,\n",
       "        2.69788400e-05, 1.09569096e-05, 1.03830128e-05, 9.64496393e-05,\n",
       "        3.53133974e-05, 5.66230623e-05, 3.20052944e-05, 5.05332439e-05,\n",
       "        2.22566138e-05, 1.04448295e-04, 4.20391454e-05, 8.78204116e-05,\n",
       "        3.76386224e-05, 1.64782331e-04, 1.35966209e-04, 3.52788689e-05,\n",
       "        3.86329996e-05, 1.43455324e-04, 1.18934878e-04, 3.04987969e-05,\n",
       "        9.01600592e-06, 9.88309890e-05, 6.46320579e-05, 3.28435331e-05,\n",
       "        4.57081187e-05, 1.82418883e-05, 1.37476687e-04, 3.64761414e-05,\n",
       "        6.08082601e-05, 1.12350568e-04, 1.45660018e-04, 3.98633084e-05,\n",
       "        2.52822191e-05, 1.42840755e-04, 1.12851150e-04, 2.50559778e-05,\n",
       "        6.03777341e-05, 2.02976002e-05, 9.46569802e-06, 1.45105864e-05,\n",
       "        7.48606434e-05, 3.84921609e-05, 6.01438925e-06, 1.11544585e-04,\n",
       "        9.24893368e-05, 8.82846357e-05, 1.37349484e-04, 1.20868083e-04,\n",
       "        5.31283265e-05, 2.03487246e-04, 5.90695635e-05, 4.93072967e-05,\n",
       "        5.20223712e-05, 5.09698329e-05, 7.81138734e-05, 4.72605826e-05,\n",
       "        3.13949473e-05, 1.55786212e-04, 2.39817449e-05, 7.05202702e-05,\n",
       "        1.22098316e-04, 7.78944586e-05]),\n",
       " 'param_polynomialfeatures__degree': masked_array(data=[1, 1, 1, 1, 1, 1, 1, 1, 1, 2, 2, 2, 2, 2, 2, 2, 2, 2,\n",
       "                    3, 3, 3, 3, 3, 3, 3, 3, 3, 4, 4, 4, 4, 4, 4, 4, 4, 4,\n",
       "                    5, 5, 5, 5, 5, 5, 5, 5, 5, 6, 6, 6, 6, 6, 6, 6, 6, 6,\n",
       "                    7, 7, 7, 7, 7, 7, 7, 7, 7, 8, 8, 8, 8, 8, 8, 8, 8, 8,\n",
       "                    9, 9, 9, 9, 9, 9, 9, 9, 9, 10, 10, 10, 10, 10, 10, 10,\n",
       "                    10, 10, 11, 11, 11, 11, 11, 11, 11, 11, 11, 12, 12, 12,\n",
       "                    12, 12, 12, 12, 12, 12, 13, 13, 13, 13, 13, 13, 13, 13,\n",
       "                    13, 14, 14, 14, 14, 14, 14, 14, 14, 14],\n",
       "              mask=[False, False, False, False, False, False, False, False,\n",
       "                    False, False, False, False, False, False, False, False,\n",
       "                    False, False, False, False, False, False, False, False,\n",
       "                    False, False, False, False, False, False, False, False,\n",
       "                    False, False, False, False, False, False, False, False,\n",
       "                    False, False, False, False, False, False, False, False,\n",
       "                    False, False, False, False, False, False, False, False,\n",
       "                    False, False, False, False, False, False, False, False,\n",
       "                    False, False, False, False, False, False, False, False,\n",
       "                    False, False, False, False, False, False, False, False,\n",
       "                    False, False, False, False, False, False, False, False,\n",
       "                    False, False, False, False, False, False, False, False,\n",
       "                    False, False, False, False, False, False, False, False,\n",
       "                    False, False, False, False, False, False, False, False,\n",
       "                    False, False, False, False, False, False, False, False,\n",
       "                    False, False, False, False, False, False],\n",
       "        fill_value='?',\n",
       "             dtype=object),\n",
       " 'param_ridge__alpha': masked_array(data=[0.001, 0.005, 0.01, 0.05, 0.1, 0.5, 1.0, 5.0, 10.0,\n",
       "                    0.001, 0.005, 0.01, 0.05, 0.1, 0.5, 1.0, 5.0, 10.0,\n",
       "                    0.001, 0.005, 0.01, 0.05, 0.1, 0.5, 1.0, 5.0, 10.0,\n",
       "                    0.001, 0.005, 0.01, 0.05, 0.1, 0.5, 1.0, 5.0, 10.0,\n",
       "                    0.001, 0.005, 0.01, 0.05, 0.1, 0.5, 1.0, 5.0, 10.0,\n",
       "                    0.001, 0.005, 0.01, 0.05, 0.1, 0.5, 1.0, 5.0, 10.0,\n",
       "                    0.001, 0.005, 0.01, 0.05, 0.1, 0.5, 1.0, 5.0, 10.0,\n",
       "                    0.001, 0.005, 0.01, 0.05, 0.1, 0.5, 1.0, 5.0, 10.0,\n",
       "                    0.001, 0.005, 0.01, 0.05, 0.1, 0.5, 1.0, 5.0, 10.0,\n",
       "                    0.001, 0.005, 0.01, 0.05, 0.1, 0.5, 1.0, 5.0, 10.0,\n",
       "                    0.001, 0.005, 0.01, 0.05, 0.1, 0.5, 1.0, 5.0, 10.0,\n",
       "                    0.001, 0.005, 0.01, 0.05, 0.1, 0.5, 1.0, 5.0, 10.0,\n",
       "                    0.001, 0.005, 0.01, 0.05, 0.1, 0.5, 1.0, 5.0, 10.0,\n",
       "                    0.001, 0.005, 0.01, 0.05, 0.1, 0.5, 1.0, 5.0, 10.0],\n",
       "              mask=[False, False, False, False, False, False, False, False,\n",
       "                    False, False, False, False, False, False, False, False,\n",
       "                    False, False, False, False, False, False, False, False,\n",
       "                    False, False, False, False, False, False, False, False,\n",
       "                    False, False, False, False, False, False, False, False,\n",
       "                    False, False, False, False, False, False, False, False,\n",
       "                    False, False, False, False, False, False, False, False,\n",
       "                    False, False, False, False, False, False, False, False,\n",
       "                    False, False, False, False, False, False, False, False,\n",
       "                    False, False, False, False, False, False, False, False,\n",
       "                    False, False, False, False, False, False, False, False,\n",
       "                    False, False, False, False, False, False, False, False,\n",
       "                    False, False, False, False, False, False, False, False,\n",
       "                    False, False, False, False, False, False, False, False,\n",
       "                    False, False, False, False, False, False, False, False,\n",
       "                    False, False, False, False, False, False],\n",
       "        fill_value='?',\n",
       "             dtype=object),\n",
       " 'params': [{'polynomialfeatures__degree': 1, 'ridge__alpha': 0.001},\n",
       "  {'polynomialfeatures__degree': 1, 'ridge__alpha': 0.005},\n",
       "  {'polynomialfeatures__degree': 1, 'ridge__alpha': 0.01},\n",
       "  {'polynomialfeatures__degree': 1, 'ridge__alpha': 0.05},\n",
       "  {'polynomialfeatures__degree': 1, 'ridge__alpha': 0.1},\n",
       "  {'polynomialfeatures__degree': 1, 'ridge__alpha': 0.5},\n",
       "  {'polynomialfeatures__degree': 1, 'ridge__alpha': 1.0},\n",
       "  {'polynomialfeatures__degree': 1, 'ridge__alpha': 5.0},\n",
       "  {'polynomialfeatures__degree': 1, 'ridge__alpha': 10.0},\n",
       "  {'polynomialfeatures__degree': 2, 'ridge__alpha': 0.001},\n",
       "  {'polynomialfeatures__degree': 2, 'ridge__alpha': 0.005},\n",
       "  {'polynomialfeatures__degree': 2, 'ridge__alpha': 0.01},\n",
       "  {'polynomialfeatures__degree': 2, 'ridge__alpha': 0.05},\n",
       "  {'polynomialfeatures__degree': 2, 'ridge__alpha': 0.1},\n",
       "  {'polynomialfeatures__degree': 2, 'ridge__alpha': 0.5},\n",
       "  {'polynomialfeatures__degree': 2, 'ridge__alpha': 1.0},\n",
       "  {'polynomialfeatures__degree': 2, 'ridge__alpha': 5.0},\n",
       "  {'polynomialfeatures__degree': 2, 'ridge__alpha': 10.0},\n",
       "  {'polynomialfeatures__degree': 3, 'ridge__alpha': 0.001},\n",
       "  {'polynomialfeatures__degree': 3, 'ridge__alpha': 0.005},\n",
       "  {'polynomialfeatures__degree': 3, 'ridge__alpha': 0.01},\n",
       "  {'polynomialfeatures__degree': 3, 'ridge__alpha': 0.05},\n",
       "  {'polynomialfeatures__degree': 3, 'ridge__alpha': 0.1},\n",
       "  {'polynomialfeatures__degree': 3, 'ridge__alpha': 0.5},\n",
       "  {'polynomialfeatures__degree': 3, 'ridge__alpha': 1.0},\n",
       "  {'polynomialfeatures__degree': 3, 'ridge__alpha': 5.0},\n",
       "  {'polynomialfeatures__degree': 3, 'ridge__alpha': 10.0},\n",
       "  {'polynomialfeatures__degree': 4, 'ridge__alpha': 0.001},\n",
       "  {'polynomialfeatures__degree': 4, 'ridge__alpha': 0.005},\n",
       "  {'polynomialfeatures__degree': 4, 'ridge__alpha': 0.01},\n",
       "  {'polynomialfeatures__degree': 4, 'ridge__alpha': 0.05},\n",
       "  {'polynomialfeatures__degree': 4, 'ridge__alpha': 0.1},\n",
       "  {'polynomialfeatures__degree': 4, 'ridge__alpha': 0.5},\n",
       "  {'polynomialfeatures__degree': 4, 'ridge__alpha': 1.0},\n",
       "  {'polynomialfeatures__degree': 4, 'ridge__alpha': 5.0},\n",
       "  {'polynomialfeatures__degree': 4, 'ridge__alpha': 10.0},\n",
       "  {'polynomialfeatures__degree': 5, 'ridge__alpha': 0.001},\n",
       "  {'polynomialfeatures__degree': 5, 'ridge__alpha': 0.005},\n",
       "  {'polynomialfeatures__degree': 5, 'ridge__alpha': 0.01},\n",
       "  {'polynomialfeatures__degree': 5, 'ridge__alpha': 0.05},\n",
       "  {'polynomialfeatures__degree': 5, 'ridge__alpha': 0.1},\n",
       "  {'polynomialfeatures__degree': 5, 'ridge__alpha': 0.5},\n",
       "  {'polynomialfeatures__degree': 5, 'ridge__alpha': 1.0},\n",
       "  {'polynomialfeatures__degree': 5, 'ridge__alpha': 5.0},\n",
       "  {'polynomialfeatures__degree': 5, 'ridge__alpha': 10.0},\n",
       "  {'polynomialfeatures__degree': 6, 'ridge__alpha': 0.001},\n",
       "  {'polynomialfeatures__degree': 6, 'ridge__alpha': 0.005},\n",
       "  {'polynomialfeatures__degree': 6, 'ridge__alpha': 0.01},\n",
       "  {'polynomialfeatures__degree': 6, 'ridge__alpha': 0.05},\n",
       "  {'polynomialfeatures__degree': 6, 'ridge__alpha': 0.1},\n",
       "  {'polynomialfeatures__degree': 6, 'ridge__alpha': 0.5},\n",
       "  {'polynomialfeatures__degree': 6, 'ridge__alpha': 1.0},\n",
       "  {'polynomialfeatures__degree': 6, 'ridge__alpha': 5.0},\n",
       "  {'polynomialfeatures__degree': 6, 'ridge__alpha': 10.0},\n",
       "  {'polynomialfeatures__degree': 7, 'ridge__alpha': 0.001},\n",
       "  {'polynomialfeatures__degree': 7, 'ridge__alpha': 0.005},\n",
       "  {'polynomialfeatures__degree': 7, 'ridge__alpha': 0.01},\n",
       "  {'polynomialfeatures__degree': 7, 'ridge__alpha': 0.05},\n",
       "  {'polynomialfeatures__degree': 7, 'ridge__alpha': 0.1},\n",
       "  {'polynomialfeatures__degree': 7, 'ridge__alpha': 0.5},\n",
       "  {'polynomialfeatures__degree': 7, 'ridge__alpha': 1.0},\n",
       "  {'polynomialfeatures__degree': 7, 'ridge__alpha': 5.0},\n",
       "  {'polynomialfeatures__degree': 7, 'ridge__alpha': 10.0},\n",
       "  {'polynomialfeatures__degree': 8, 'ridge__alpha': 0.001},\n",
       "  {'polynomialfeatures__degree': 8, 'ridge__alpha': 0.005},\n",
       "  {'polynomialfeatures__degree': 8, 'ridge__alpha': 0.01},\n",
       "  {'polynomialfeatures__degree': 8, 'ridge__alpha': 0.05},\n",
       "  {'polynomialfeatures__degree': 8, 'ridge__alpha': 0.1},\n",
       "  {'polynomialfeatures__degree': 8, 'ridge__alpha': 0.5},\n",
       "  {'polynomialfeatures__degree': 8, 'ridge__alpha': 1.0},\n",
       "  {'polynomialfeatures__degree': 8, 'ridge__alpha': 5.0},\n",
       "  {'polynomialfeatures__degree': 8, 'ridge__alpha': 10.0},\n",
       "  {'polynomialfeatures__degree': 9, 'ridge__alpha': 0.001},\n",
       "  {'polynomialfeatures__degree': 9, 'ridge__alpha': 0.005},\n",
       "  {'polynomialfeatures__degree': 9, 'ridge__alpha': 0.01},\n",
       "  {'polynomialfeatures__degree': 9, 'ridge__alpha': 0.05},\n",
       "  {'polynomialfeatures__degree': 9, 'ridge__alpha': 0.1},\n",
       "  {'polynomialfeatures__degree': 9, 'ridge__alpha': 0.5},\n",
       "  {'polynomialfeatures__degree': 9, 'ridge__alpha': 1.0},\n",
       "  {'polynomialfeatures__degree': 9, 'ridge__alpha': 5.0},\n",
       "  {'polynomialfeatures__degree': 9, 'ridge__alpha': 10.0},\n",
       "  {'polynomialfeatures__degree': 10, 'ridge__alpha': 0.001},\n",
       "  {'polynomialfeatures__degree': 10, 'ridge__alpha': 0.005},\n",
       "  {'polynomialfeatures__degree': 10, 'ridge__alpha': 0.01},\n",
       "  {'polynomialfeatures__degree': 10, 'ridge__alpha': 0.05},\n",
       "  {'polynomialfeatures__degree': 10, 'ridge__alpha': 0.1},\n",
       "  {'polynomialfeatures__degree': 10, 'ridge__alpha': 0.5},\n",
       "  {'polynomialfeatures__degree': 10, 'ridge__alpha': 1.0},\n",
       "  {'polynomialfeatures__degree': 10, 'ridge__alpha': 5.0},\n",
       "  {'polynomialfeatures__degree': 10, 'ridge__alpha': 10.0},\n",
       "  {'polynomialfeatures__degree': 11, 'ridge__alpha': 0.001},\n",
       "  {'polynomialfeatures__degree': 11, 'ridge__alpha': 0.005},\n",
       "  {'polynomialfeatures__degree': 11, 'ridge__alpha': 0.01},\n",
       "  {'polynomialfeatures__degree': 11, 'ridge__alpha': 0.05},\n",
       "  {'polynomialfeatures__degree': 11, 'ridge__alpha': 0.1},\n",
       "  {'polynomialfeatures__degree': 11, 'ridge__alpha': 0.5},\n",
       "  {'polynomialfeatures__degree': 11, 'ridge__alpha': 1.0},\n",
       "  {'polynomialfeatures__degree': 11, 'ridge__alpha': 5.0},\n",
       "  {'polynomialfeatures__degree': 11, 'ridge__alpha': 10.0},\n",
       "  {'polynomialfeatures__degree': 12, 'ridge__alpha': 0.001},\n",
       "  {'polynomialfeatures__degree': 12, 'ridge__alpha': 0.005},\n",
       "  {'polynomialfeatures__degree': 12, 'ridge__alpha': 0.01},\n",
       "  {'polynomialfeatures__degree': 12, 'ridge__alpha': 0.05},\n",
       "  {'polynomialfeatures__degree': 12, 'ridge__alpha': 0.1},\n",
       "  {'polynomialfeatures__degree': 12, 'ridge__alpha': 0.5},\n",
       "  {'polynomialfeatures__degree': 12, 'ridge__alpha': 1.0},\n",
       "  {'polynomialfeatures__degree': 12, 'ridge__alpha': 5.0},\n",
       "  {'polynomialfeatures__degree': 12, 'ridge__alpha': 10.0},\n",
       "  {'polynomialfeatures__degree': 13, 'ridge__alpha': 0.001},\n",
       "  {'polynomialfeatures__degree': 13, 'ridge__alpha': 0.005},\n",
       "  {'polynomialfeatures__degree': 13, 'ridge__alpha': 0.01},\n",
       "  {'polynomialfeatures__degree': 13, 'ridge__alpha': 0.05},\n",
       "  {'polynomialfeatures__degree': 13, 'ridge__alpha': 0.1},\n",
       "  {'polynomialfeatures__degree': 13, 'ridge__alpha': 0.5},\n",
       "  {'polynomialfeatures__degree': 13, 'ridge__alpha': 1.0},\n",
       "  {'polynomialfeatures__degree': 13, 'ridge__alpha': 5.0},\n",
       "  {'polynomialfeatures__degree': 13, 'ridge__alpha': 10.0},\n",
       "  {'polynomialfeatures__degree': 14, 'ridge__alpha': 0.001},\n",
       "  {'polynomialfeatures__degree': 14, 'ridge__alpha': 0.005},\n",
       "  {'polynomialfeatures__degree': 14, 'ridge__alpha': 0.01},\n",
       "  {'polynomialfeatures__degree': 14, 'ridge__alpha': 0.05},\n",
       "  {'polynomialfeatures__degree': 14, 'ridge__alpha': 0.1},\n",
       "  {'polynomialfeatures__degree': 14, 'ridge__alpha': 0.5},\n",
       "  {'polynomialfeatures__degree': 14, 'ridge__alpha': 1.0},\n",
       "  {'polynomialfeatures__degree': 14, 'ridge__alpha': 5.0},\n",
       "  {'polynomialfeatures__degree': 14, 'ridge__alpha': 10.0}],\n",
       " 'split0_test_score': array([0.71362452, 0.71386857, 0.71413473, 0.714845  , 0.71276543,\n",
       "        0.64394469, 0.54034869, 0.19557908, 0.09163974, 0.87088312,\n",
       "        0.89106849, 0.90088417, 0.83923613, 0.76510417, 0.61920942,\n",
       "        0.55868033, 0.28890591, 0.16375954, 0.95522013, 0.88766302,\n",
       "        0.86689277, 0.85150281, 0.80561295, 0.6101861 , 0.54285354,\n",
       "        0.33108871, 0.20865238, 0.93999621, 0.92849027, 0.88590715,\n",
       "        0.82660917, 0.80530374, 0.61588429, 0.5314555 , 0.35069757,\n",
       "        0.23918278, 0.92182669, 0.93697844, 0.91502816, 0.8086733 ,\n",
       "        0.78847234, 0.625717  , 0.52632664, 0.35821047, 0.2605287 ,\n",
       "        0.93199134, 0.91919241, 0.92193874, 0.80891451, 0.7722404 ,\n",
       "        0.63458361, 0.52570253, 0.35825773, 0.2751064 , 0.9507175 ,\n",
       "        0.90049064, 0.90888757, 0.82279241, 0.76496736, 0.64051875,\n",
       "        0.5279288 , 0.35325758, 0.28419735, 0.96156995, 0.89253296,\n",
       "        0.88865524, 0.84036813, 0.76805671, 0.6431499 , 0.53175835,\n",
       "        0.34469848, 0.28858486, 0.96055677, 0.89584244, 0.87042321,\n",
       "        0.853233  , 0.77855938, 0.64293342, 0.53627146, 0.33364249,\n",
       "        0.28883056, 0.95086982, 0.90662541, 0.85840386, 0.85664747,\n",
       "        0.79192708, 0.6406976 , 0.54080162, 0.32093146, 0.28539856,\n",
       "        0.93944679, 0.92019102, 0.85374618, 0.84873813, 0.8038003 ,\n",
       "        0.6373429 , 0.54488693, 0.30727024, 0.27870887, 0.93388473,\n",
       "        0.93226049, 0.85598085, 0.82915639, 0.81065232, 0.63366678,\n",
       "        0.5482314 , 0.29325847, 0.26915692, 0.93855726, 0.93963949,\n",
       "        0.86373898, 0.79820285, 0.8097611 , 0.63028836, 0.55066852,\n",
       "        0.27940287, 0.2571176 , 0.95131753, 0.9407111 , 0.87513064,\n",
       "        0.7564573 , 0.79897347, 0.62763815, 0.55212741, 0.26612377,\n",
       "        0.24294321]),\n",
       " 'split1_test_score': array([0.68550346, 0.68454238, 0.68333115, 0.67330191, 0.6601456 ,\n",
       "        0.55397014, 0.44898222, 0.16080298, 0.08076575, 0.92722943,\n",
       "        0.90906479, 0.88725534, 0.76730762, 0.69480749, 0.5443262 ,\n",
       "        0.469767  , 0.22252216, 0.12701993, 0.95002825, 0.91001299,\n",
       "        0.88745495, 0.79769342, 0.72803414, 0.53958297, 0.46348366,\n",
       "        0.24651783, 0.15111739, 0.95364056, 0.91912679, 0.89165242,\n",
       "        0.80129996, 0.73965503, 0.54217992, 0.45903176, 0.25631649,\n",
       "        0.16474537, 0.95363018, 0.9239948 , 0.89776656, 0.80081976,\n",
       "        0.74175467, 0.54627401, 0.45747045, 0.26012557, 0.17276356,\n",
       "        0.95386791, 0.92520651, 0.90130246, 0.80169119, 0.7414517 ,\n",
       "        0.5496195 , 0.45753892, 0.26126883, 0.17753101, 0.95379616,\n",
       "        0.92528434, 0.90259449, 0.80387928, 0.74143392, 0.55175865,\n",
       "        0.45828846, 0.26123486, 0.18032827, 0.95315505, 0.92532396,\n",
       "        0.90285881, 0.80636729, 0.7422202 , 0.55286981, 0.45918715,\n",
       "        0.26073076, 0.18190652, 0.95224206, 0.92550095, 0.90285673,\n",
       "        0.80849613, 0.74355402, 0.55328188, 0.45997901, 0.26009781,\n",
       "        0.18272831, 0.95144965, 0.92569858, 0.90289081, 0.8100507 ,\n",
       "        0.74506713, 0.553291  , 0.46056807, 0.25949502, 0.18308584,\n",
       "        0.95100217, 0.92580568, 0.90301499, 0.81106281, 0.74649821,\n",
       "        0.55310962, 0.46094288, 0.25898826, 0.18316562, 0.95089787,\n",
       "        0.92579438, 0.90318955, 0.81165456, 0.74771373, 0.55286996,\n",
       "        0.46113087, 0.2585961 , 0.18308667, 0.95100081, 0.9257    ,\n",
       "        0.90336293, 0.81195864, 0.74867155, 0.55264425, 0.46117274,\n",
       "        0.25831434, 0.18292441, 0.95116352, 0.92557659, 0.90350312,\n",
       "        0.81208685, 0.74938215, 0.55246559, 0.46110933, 0.25812901,\n",
       "        0.18272596]),\n",
       " 'split2_test_score': array([ 0.57156561,  0.57366347,  0.57620574,  0.59359286,  0.60901486,\n",
       "         0.60583305,  0.5154997 ,  0.11936535, -0.01073148,  0.83981123,\n",
       "         0.85269779,  0.85554369,  0.7681988 ,  0.68430011,  0.55026875,\n",
       "         0.50558024,  0.22191691,  0.07260534,  0.8854625 ,  0.85597131,\n",
       "         0.84644099,  0.80889548,  0.74578591,  0.53646898,  0.47493367,\n",
       "         0.25694658,  0.11608859,  0.88741778,  0.87169331,  0.8559236 ,\n",
       "         0.80854791,  0.76225227,  0.54350851,  0.46013712,  0.26737487,\n",
       "         0.14028972,  0.88668526,  0.87590622,  0.864807  ,  0.80674312,\n",
       "         0.76277779,  0.55342376,  0.45594917,  0.26861217,  0.15422385,\n",
       "         0.88889096,  0.87481514,  0.86743206,  0.80900043,  0.76113739,\n",
       "         0.56050398,  0.4565272 ,  0.26668782,  0.16232873,  0.89053758,\n",
       "         0.8739161 ,  0.86680599,  0.81331022,  0.76128356,  0.56414477,\n",
       "         0.45855774,  0.26403079,  0.16699376,  0.89039894,  0.87435684,\n",
       "         0.86575019,  0.81746061,  0.76330365,  0.56525574,  0.46050165,\n",
       "         0.26157615,  0.16958993,  0.8891059 ,  0.8754726 ,  0.8653322 ,\n",
       "         0.8204836 ,  0.76627113,  0.5648995 ,  0.46179809,  0.25961746,\n",
       "         0.17093604,  0.8876194 ,  0.87644858,  0.86557465,  0.82230491,\n",
       "         0.7693563 ,  0.56388008,  0.46236275,  0.25817957,  0.17153205,\n",
       "         0.88661275,  0.87683526,  0.86614494,  0.82320584,  0.77208155,\n",
       "         0.56269686,  0.46230791,  0.25718794,  0.17168647,  0.8863184 ,\n",
       "         0.87655501,  0.8667014 ,  0.82351825,  0.7742595 ,  0.56161397,\n",
       "         0.46180042,  0.25654421,  0.17159042,  0.88662718,  0.87576397,\n",
       "         0.86701833,  0.82351222,  0.77587553,  0.56074391,  0.46099846,\n",
       "         0.25615714,  0.17136225,  0.88728783,  0.8747059 ,  0.86700358,\n",
       "         0.82337523,  0.77699823,  0.56011292,  0.46002946,  0.25595248,\n",
       "         0.1710749 ]),\n",
       " 'split3_test_score': array([0.7222151 , 0.72383637, 0.72579403, 0.73891844, 0.74991397,\n",
       "        0.73114708, 0.6391583 , 0.26185813, 0.14015966, 0.89835693,\n",
       "        0.89491524, 0.88862616, 0.83331117, 0.79305152, 0.72564613,\n",
       "        0.68284239, 0.38633064, 0.23509077, 0.94595406, 0.89867196,\n",
       "        0.87961769, 0.84081273, 0.81230631, 0.72485522, 0.68456608,\n",
       "        0.44632792, 0.2935739 , 0.95086325, 0.9163707 , 0.88995262,\n",
       "        0.83338751, 0.81073525, 0.72775373, 0.68399406, 0.47764899,\n",
       "        0.33145662, 0.95049623, 0.92251646, 0.90027147, 0.83067318,\n",
       "        0.80566032, 0.73000801, 0.68404129, 0.49471481, 0.35669598,\n",
       "        0.95270639, 0.92263557, 0.90413058, 0.83309588, 0.80291002,\n",
       "        0.73096929, 0.68450362, 0.50410089, 0.3736959 , 0.95506538,\n",
       "        0.92226515, 0.9045026 , 0.83726248, 0.80305224, 0.73097981,\n",
       "        0.68509195, 0.50914713, 0.38512419, 0.95651433, 0.92270433,\n",
       "        0.90408588, 0.84079351, 0.80485527, 0.73050653, 0.68564538,\n",
       "        0.51169917, 0.39271679, 0.95713568, 0.92372906, 0.90391988,\n",
       "        0.84295821, 0.80704901, 0.72990439, 0.68609713, 0.51283548,\n",
       "        0.39765852, 0.95728775, 0.92492208, 0.90419912, 0.84389995,\n",
       "        0.80889738, 0.72937407, 0.68643491, 0.51320329, 0.40077887,\n",
       "        0.95729034, 0.92598721, 0.90482661, 0.84399679, 0.81013563,\n",
       "        0.72899289, 0.68667251, 0.51319117, 0.40266346, 0.95730118,\n",
       "        0.92678259, 0.90563636, 0.8435991 , 0.81076086, 0.72876435,\n",
       "        0.6868322 , 0.51302712, 0.40372471, 0.95732662, 0.92728993,\n",
       "        0.90647709, 0.8429693 , 0.81087716, 0.72865894, 0.6869356 ,\n",
       "        0.51283874, 0.40425047, 0.95730813, 0.92756423, 0.90724298,\n",
       "        0.84228761, 0.81061542, 0.72863896, 0.68700022, 0.51269168,\n",
       "        0.40443916]),\n",
       " 'split4_test_score': array([0.79060123, 0.79129266, 0.79210505, 0.79670429, 0.79844813,\n",
       "        0.73839661, 0.62838505, 0.24036469, 0.1209391 , 0.95610183,\n",
       "        0.95286678, 0.94619392, 0.88390108, 0.83644693, 0.73258365,\n",
       "        0.66632657, 0.34714497, 0.20205218, 0.97318722, 0.95455908,\n",
       "        0.9438041 , 0.90337614, 0.86363061, 0.73001724, 0.66362281,\n",
       "        0.39206379, 0.24659065, 0.97117276, 0.96314404, 0.94936227,\n",
       "        0.90232135, 0.8696611 , 0.73352905, 0.66080629, 0.41216899,\n",
       "        0.27244837, 0.97018039, 0.96552708, 0.95585844, 0.9007097 ,\n",
       "        0.86821254, 0.73755082, 0.66012222, 0.42114151, 0.28779391,\n",
       "        0.97190741, 0.9647857 , 0.95847874, 0.90248719, 0.86626085,\n",
       "        0.74036163, 0.66065527, 0.42470638, 0.29680793, 0.97307272,\n",
       "        0.96431945, 0.95880549, 0.90632606, 0.86610693, 0.74182284,\n",
       "        0.66167575, 0.42553715, 0.30184851, 0.97323628, 0.96450245,\n",
       "        0.95862799, 0.91029076, 0.86765272, 0.74227499, 0.66277793,\n",
       "        0.42500303, 0.30435146, 0.9729371 , 0.96487623, 0.95855075,\n",
       "        0.91340439, 0.8700412 , 0.74212903, 0.66376213, 0.42385379,\n",
       "        0.30524002, 0.97258271, 0.96514633, 0.95861109, 0.91550501,\n",
       "        0.87252022, 0.74171705, 0.66454903, 0.42251332, 0.30512775,\n",
       "        0.97237225, 0.96523135, 0.95873098, 0.91677566, 0.8746703 ,\n",
       "        0.74125545, 0.66512698, 0.42121852, 0.30442813, 0.97235262,\n",
       "        0.96515075, 0.9588485 , 0.91746305, 0.87634112, 0.74085925,\n",
       "        0.66551864, 0.42009267, 0.30341916, 0.97247189, 0.96495959,\n",
       "        0.95892945, 0.91777755, 0.87753476, 0.74057292, 0.66576015,\n",
       "        0.41918865, 0.30228468, 0.97264341, 0.96471982, 0.95895912,\n",
       "        0.91787599, 0.87832021, 0.74039973, 0.66588923, 0.4185164 ,\n",
       "        0.30114248]),\n",
       " 'split5_test_score': array([0.75513562, 0.75439992, 0.75345952, 0.74519603, 0.73339477,\n",
       "        0.62154387, 0.49959758, 0.14558572, 0.04465176, 0.95292712,\n",
       "        0.9439781 , 0.93069966, 0.83540731, 0.76883342, 0.6170901 ,\n",
       "        0.53288923, 0.22870598, 0.10673811, 0.96953356, 0.94516865,\n",
       "        0.92775616, 0.85637765, 0.79593761, 0.61418086, 0.53096982,\n",
       "        0.26383112, 0.14061545, 0.96491578, 0.95181935, 0.93209974,\n",
       "        0.85653588, 0.80298707, 0.6167559 , 0.52868206, 0.28049257,\n",
       "        0.16093483, 0.96330718, 0.9513738 , 0.93556283, 0.8555948 ,\n",
       "        0.80324182, 0.62006313, 0.52799725, 0.28881743, 0.17372152,\n",
       "        0.9654183 , 0.9487904 , 0.9352349 , 0.85649207, 0.8025426 ,\n",
       "        0.62264316, 0.52827412, 0.29293688, 0.18190269, 0.9674501 ,\n",
       "        0.94751393, 0.93357585, 0.85820082, 0.80254251, 0.62431555,\n",
       "        0.52898469, 0.29479353, 0.18710179, 0.96828514, 0.94766758,\n",
       "        0.9323248 , 0.85964878, 0.80323457, 0.62526116, 0.52982775,\n",
       "        0.29540981, 0.19031415, 0.96829371, 0.94843367, 0.93184777,\n",
       "        0.86048997, 0.80420507, 0.62571994, 0.5306444 , 0.29536796,\n",
       "        0.19219329, 0.96800058, 0.94917855, 0.93192168, 0.86081899,\n",
       "        0.80513206, 0.62589371, 0.53135911, 0.29501323, 0.19318577,\n",
       "        0.96775338, 0.94962098, 0.93223503, 0.86084091, 0.80587131,\n",
       "        0.62592328, 0.53194516, 0.29455067, 0.19360201, 0.96769839,\n",
       "        0.94972221, 0.93255836, 0.86072468, 0.80639884, 0.62589481,\n",
       "        0.5324031 , 0.29409753, 0.19365794, 0.96783469, 0.94956239,\n",
       "        0.9327675 , 0.86057454, 0.80674493, 0.625855  , 0.53274703,\n",
       "        0.293715  , 0.19350218, 0.96809225, 0.94925632, 0.93282073,\n",
       "        0.8604431 , 0.80695435, 0.62582571, 0.53299611, 0.29342896,\n",
       "        0.19323505]),\n",
       " 'split6_test_score': array([0.56314755, 0.56242358, 0.56150858, 0.55383865, 0.54358871,\n",
       "        0.45760981, 0.3703667 , 0.12711182, 0.05903907, 0.82521404,\n",
       "        0.81082629, 0.79110338, 0.66499637, 0.58462701, 0.4292774 ,\n",
       "        0.3645559 , 0.16551722, 0.08967413, 0.87013796, 0.81114195,\n",
       "        0.7852244 , 0.69575912, 0.62243923, 0.42080255, 0.34810423,\n",
       "        0.17322457, 0.10103872, 0.87519428, 0.82572142, 0.79174517,\n",
       "        0.69668285, 0.63387342, 0.42348726, 0.33970745, 0.17178548,\n",
       "        0.10464795, 0.87342702, 0.83073549, 0.799598  , 0.69514944,\n",
       "        0.63488573, 0.42833906, 0.33676387, 0.16781968, 0.1048711 ,\n",
       "        0.87587273, 0.8296831 , 0.80227697, 0.69612003, 0.63389772,\n",
       "        0.43227224, 0.33649764, 0.16357338, 0.10361138, 0.87932888,\n",
       "        0.8283008 , 0.80179906, 0.69865397, 0.63368997, 0.43470445,\n",
       "        0.33730067, 0.15980343, 0.10176883, 0.88145558, 0.82822556,\n",
       "        0.80071493, 0.70126641, 0.63456467, 0.43588469, 0.33835685,\n",
       "        0.15671579, 0.09978764, 0.88216493, 0.82906695, 0.80009596,\n",
       "        0.70322845, 0.63605054, 0.43624036, 0.33929617, 0.15430692,\n",
       "        0.09788792, 0.88208127, 0.83013687, 0.80006106, 0.70443621,\n",
       "        0.63765767, 0.43614482, 0.33998609, 0.15249696, 0.09617312,\n",
       "        0.88179805, 0.83099738, 0.80039998, 0.70505046, 0.63908955,\n",
       "        0.4358578 , 0.34041258, 0.15118421, 0.09468352, 0.88165607,\n",
       "        0.83148779, 0.80087372, 0.70527774, 0.64022582, 0.43553396,\n",
       "        0.34061348, 0.15026798, 0.09342475, 0.8817463 , 0.83162759,\n",
       "        0.80131176, 0.70528854, 0.6410535 , 0.43525183, 0.34064274,\n",
       "        0.149658  , 0.09238383, 0.88201223, 0.8315197 , 0.80162442,\n",
       "        0.70520214, 0.64161101, 0.43504217, 0.34055291, 0.14927771,\n",
       "        0.09153859]),\n",
       " 'split7_test_score': array([0.79138141, 0.79031998, 0.78898187, 0.77788657, 0.76330071,\n",
       "        0.6450511 , 0.52775711, 0.20517548, 0.11549902, 0.92095222,\n",
       "        0.93438235, 0.9392314 , 0.87460769, 0.80320369, 0.62617406,\n",
       "        0.53695612, 0.2603937 , 0.15784987, 0.94520703, 0.93546831,\n",
       "        0.93200932, 0.90253928, 0.84392922, 0.61743325, 0.51930229,\n",
       "        0.27162715, 0.17274071, 0.93538628, 0.94018233, 0.93587747,\n",
       "        0.90507011, 0.85906604, 0.62122777, 0.50825483, 0.26897924,\n",
       "        0.17641044, 0.93271905, 0.93672468, 0.93704944, 0.90464799,\n",
       "        0.86256379, 0.62831185, 0.5038408 , 0.26236806, 0.17533267,\n",
       "        0.93467268, 0.93308186, 0.93518276, 0.9052225 , 0.86270546,\n",
       "        0.63451057, 0.50324453, 0.25538156, 0.17239012, 0.93484158,\n",
       "        0.93173836, 0.93304963, 0.90659414, 0.86269801, 0.63871162,\n",
       "        0.50437212, 0.2492966 , 0.16893913, 0.93259695, 0.93187387,\n",
       "        0.93175764, 0.90806092, 0.86335865, 0.64106432, 0.50599573,\n",
       "        0.24446291, 0.16561516, 0.9296284 , 0.93237593, 0.93130521,\n",
       "        0.90920461, 0.86457672, 0.64209284, 0.50749262, 0.24084665,\n",
       "        0.1626901 , 0.92734846, 0.93263247, 0.93136767, 0.90991622,\n",
       "        0.86601961, 0.64231943, 0.50861031, 0.23826726, 0.16024834,\n",
       "        0.92622131, 0.93249803, 0.93162837, 0.91025893, 0.86741267,\n",
       "        0.64213902, 0.50930079, 0.23650681, 0.15828036, 0.92598207,\n",
       "        0.93208436, 0.9318774 , 0.91035236, 0.86860192, 0.64180714,\n",
       "        0.50961389, 0.23535988, 0.15673404, 0.92612829, 0.93157194,\n",
       "        0.93201724, 0.91031017, 0.86953297, 0.64146887, 0.50963465,\n",
       "        0.23465329, 0.1555427 , 0.92626718, 0.93110048, 0.93203186,\n",
       "        0.9102167 , 0.87021277, 0.64119445, 0.5094505 , 0.23425057,\n",
       "        0.15463956]),\n",
       " 'split8_test_score': array([0.68794892, 0.68931331, 0.69095787, 0.70187312, 0.71074379,\n",
       "        0.68818835, 0.60157891, 0.2545537 , 0.14336498, 0.81215289,\n",
       "        0.82487629, 0.83178312, 0.79870438, 0.75465046, 0.66987035,\n",
       "        0.62530345, 0.35671157, 0.22258555, 0.88792081, 0.82671258,\n",
       "        0.81013202, 0.79832343, 0.77500982, 0.66595896, 0.61862962,\n",
       "        0.40222808, 0.26928805, 0.89247535, 0.84929079, 0.82269161,\n",
       "        0.7860216 , 0.77191857, 0.66961226, 0.6147966 , 0.42474471,\n",
       "        0.29925909, 0.89057297, 0.85343266, 0.83217272, 0.78269026,\n",
       "        0.76654892, 0.67344885, 0.6139711 , 0.43657597, 0.31943074,\n",
       "        0.89475097, 0.85001121, 0.83226306, 0.78452405, 0.7643319 ,\n",
       "        0.67575605, 0.61447624, 0.44300803, 0.33335455, 0.90001207,\n",
       "        0.84744873, 0.82855709, 0.78661731, 0.76445306, 0.67672666,\n",
       "        0.61530088, 0.44657244, 0.34308476, 0.90345319, 0.84763323,\n",
       "        0.82506416, 0.78707865, 0.76529052, 0.67690499, 0.61600541,\n",
       "        0.44856212, 0.34991221, 0.90508689, 0.84977006, 0.82320385,\n",
       "        0.78587056, 0.76587705, 0.67672431, 0.61646604, 0.44966315,\n",
       "        0.35469276, 0.90567466, 0.85264037, 0.82300459, 0.78354932,\n",
       "        0.76585799, 0.67644105, 0.61669913, 0.45025127, 0.35801404,\n",
       "        0.9058141 , 0.85537272, 0.82398515, 0.78070399, 0.76521185,\n",
       "        0.67617987, 0.61676521, 0.45054042, 0.36028939, 0.90578961,\n",
       "        0.85754002, 0.82559152, 0.77779204, 0.76405945, 0.67598759,\n",
       "        0.6167257 , 0.45065846, 0.36181471, 0.90567743, 0.85904582,\n",
       "        0.82737398, 0.77512178, 0.76256579, 0.67587092, 0.61662845,\n",
       "        0.45068574, 0.36280463, 0.90548212, 0.85997842, 0.82903696,\n",
       "        0.77287503, 0.76089421, 0.67581864, 0.61650611, 0.45067444,\n",
       "        0.36341616]),\n",
       " 'split9_test_score': array([ 0.46196336,  0.46120288,  0.46024427,  0.45229945,  0.44186269,\n",
       "         0.35737973,  0.27366742,  0.04359099, -0.02034923,  0.71994988,\n",
       "         0.70281507,  0.68130294,  0.55672212,  0.48062068,  0.33388036,\n",
       "         0.27189335,  0.08168575,  0.00960786,  0.76878969,  0.70309499,\n",
       "         0.67383153,  0.58089921,  0.51175116,  0.32795847,  0.26039835,\n",
       "         0.0922694 ,  0.02247228,  0.77388279,  0.71846836,  0.68080312,\n",
       "         0.57968702,  0.51924425,  0.33048688,  0.25510092,  0.09475502,\n",
       "         0.02867195,  0.77247575,  0.72369215,  0.68873527,  0.57791668,\n",
       "         0.51888026,  0.33408747,  0.25357142,  0.09471163,  0.03188821,\n",
       "         0.77484539,  0.72284   ,  0.69128925,  0.57888789,  0.51771401,\n",
       "         0.33667476,  0.25366743,  0.09395675,  0.03363464,  0.77795675,\n",
       "         0.72159242,  0.69072457,  0.58112077,  0.51756585,  0.33805999,\n",
       "         0.25428095,  0.09311635,  0.03460777,  0.77979899,  0.72159216,\n",
       "         0.68958678,  0.58320926,  0.51834739,  0.33856502,  0.25491511,\n",
       "         0.0923937 ,  0.03515477,  0.78042434,  0.72250166,  0.68894302,\n",
       "         0.58461003,  0.51955021,  0.33855635,  0.25538486,  0.09183469,\n",
       "         0.03545903,  0.78042176,  0.72365827,  0.68891887,  0.58532909,\n",
       "         0.5207686 ,  0.33831132,  0.25565356,  0.09142839,  0.03562196,\n",
       "         0.78027403,  0.72463088,  0.68930076,  0.5855645 ,  0.52179201,\n",
       "         0.33800284,  0.2557473 ,  0.09114685,  0.03570179,  0.78022778,\n",
       "         0.72525853,  0.68983981,  0.58552246,  0.52255495,  0.33772206,\n",
       "         0.25571161,  0.09096062,  0.03573297,  0.78033535,  0.72555418,\n",
       "         0.69035678,  0.58535751,  0.52307068,  0.33750689,  0.25559148,\n",
       "         0.0908442 ,  0.03573632,  0.78054849,  0.72560844,  0.69075655,\n",
       "         0.58516772,  0.52338491,  0.3373649 ,  0.25542372,  0.09077729,\n",
       "         0.03572461]),\n",
       " 'mean_test_score': array([0.67430868, 0.67448631, 0.67467228, 0.67484563, 0.67231787,\n",
       "        0.60430645, 0.50453417, 0.1753988 , 0.07649784, 0.87235787,\n",
       "        0.87174912, 0.86526238, 0.78223927, 0.71656455, 0.58483264,\n",
       "        0.52147946, 0.25598348, 0.13869833, 0.91514412, 0.87284648,\n",
       "        0.85531639, 0.80361793, 0.7504437 , 0.57874446, 0.51068641,\n",
       "        0.28761252, 0.17221781, 0.9144945 , 0.88843074, 0.86360152,\n",
       "        0.79961634, 0.75746967, 0.58244256, 0.50419666, 0.30049639,\n",
       "        0.19180471, 0.91153207, 0.89208818, 0.87268499, 0.79636182,\n",
       "        0.75529982, 0.58772239, 0.50200542, 0.30530973, 0.20372502,\n",
       "        0.91449241, 0.88910419, 0.87495295, 0.79764357, 0.7525192 ,\n",
       "        0.59178948, 0.50210875, 0.30638783, 0.21103634, 0.91827787,\n",
       "        0.88628699, 0.87293023, 0.80147575, 0.75177934, 0.59417431,\n",
       "        0.5031782 , 0.30567898, 0.21539944, 0.92004644, 0.88564129,\n",
       "        0.86994264, 0.80545443, 0.75308844, 0.59517371, 0.50449713,\n",
       "        0.30412519, 0.21779335, 0.91975758, 0.88675695, 0.86764786,\n",
       "        0.80819789, 0.75557343, 0.5952482 , 0.50571919, 0.30220664,\n",
       "        0.21883165, 0.91833361, 0.88870875, 0.86649534, 0.80924579,\n",
       "        0.75832041, 0.59480701, 0.50670246, 0.30017798, 0.21891663,\n",
       "        0.91685852, 0.89071705, 0.8664013 , 0.8086198 , 0.76065634,\n",
       "        0.59415005, 0.50741082, 0.29817851, 0.21832096, 0.91621087,\n",
       "        0.89226361, 0.86710975, 0.80650606, 0.76215685, 0.59347199,\n",
       "        0.50785813, 0.2962863 , 0.21723423, 0.91677058, 0.89307149,\n",
       "        0.8683354 , 0.80310731, 0.7625688 , 0.59288619, 0.50807798,\n",
       "        0.29454579, 0.21579091, 0.91821227, 0.8930741 , 0.869811  ,\n",
       "        0.79859877, 0.76173467, 0.59245012, 0.5081085 , 0.29298223,\n",
       "        0.21408797]),\n",
       " 'std_test_score': array([0.10291676, 0.10294067, 0.10298375, 0.10374285, 0.10530292,\n",
       "        0.11386927, 0.10919403, 0.06572801, 0.05529461, 0.07049081,\n",
       "        0.07268611, 0.0769141 , 0.0963566 , 0.10433525, 0.11951215,\n",
       "        0.12222803, 0.08839592, 0.06777239, 0.06005873, 0.07289232,\n",
       "        0.07790179, 0.09355494, 0.10245867, 0.12113605, 0.12624549,\n",
       "        0.10286951, 0.07943149, 0.05677216, 0.07087864, 0.07717555,\n",
       "        0.09274125, 0.10133227, 0.12133691, 0.12787946, 0.11187046,\n",
       "        0.08864633, 0.05640117, 0.06981189, 0.07686337, 0.09258971,\n",
       "        0.10047366, 0.1211643 , 0.12848094, 0.11750744, 0.09565431,\n",
       "        0.05626016, 0.06889433, 0.07673626, 0.09267741, 0.10002475,\n",
       "        0.12099167, 0.12864222, 0.12098042, 0.10086151, 0.05627801,\n",
       "        0.06860666, 0.07622436, 0.09300082, 0.09995625, 0.12087044,\n",
       "        0.12866112, 0.12302432, 0.10461672, 0.05637096, 0.06854218,\n",
       "        0.07584819, 0.09362388, 0.10011273, 0.12076936, 0.12867441,\n",
       "        0.12413518, 0.10720478, 0.05601777, 0.06836784, 0.07581528,\n",
       "        0.0942875 , 0.10044176, 0.12066394, 0.12873291, 0.12466903,\n",
       "        0.10886476, 0.05531841, 0.06822963, 0.07591128, 0.09459832,\n",
       "        0.10092775, 0.12055228, 0.12884378, 0.12488518, 0.10980449,\n",
       "        0.05476479, 0.06834076, 0.07590165, 0.09438991, 0.10145762,\n",
       "        0.12044544, 0.12899379, 0.12496727, 0.11020929, 0.05458013,\n",
       "        0.06866748, 0.07572321, 0.0938858 , 0.10182095, 0.12035568,\n",
       "        0.12916255, 0.12503652, 0.11024656, 0.05473743, 0.0689494 ,\n",
       "        0.07547525, 0.09371159, 0.10181668, 0.12029046, 0.12932998,\n",
       "        0.12516296, 0.11006762, 0.0553227 , 0.06893274, 0.07532196,\n",
       "        0.09483049, 0.10139385, 0.12025187, 0.12948007, 0.1253765 ,\n",
       "        0.10980806]),\n",
       " 'rank_test_score': array([ 69,  68,  67,  66,  70,  71,  93, 123, 126,  28,  29,  37,  52,\n",
       "         65,  82,  85, 111, 125,   9,  26,  39,  45,  64,  84,  86, 110,\n",
       "        124,  10,  20,  38,  48,  58,  83,  95, 104, 122,  12,  16,  27,\n",
       "         51,  60,  81,  98, 101, 121,  11,  18,  24,  50,  62,  80,  97,\n",
       "         99, 120,   4,  22,  25,  47,  63,  75,  96, 100, 118,   1,  23,\n",
       "         30,  44,  61,  73,  94, 102, 115,   2,  21,  33,  42,  59,  72,\n",
       "         92, 103, 113,   3,  19,  35,  40,  57,  74,  91, 105, 112,   6,\n",
       "         17,  36,  41,  56,  76,  90, 106, 114,   8,  15,  34,  43,  54,\n",
       "         77,  89, 107, 116,   7,  14,  32,  46,  53,  78,  88, 108, 117,\n",
       "          5,  13,  31,  49,  55,  79,  87, 109, 119], dtype=int32)}"
      ]
     },
     "execution_count": 19,
     "metadata": {},
     "output_type": "execute_result"
    }
   ],
   "source": [
    "ridge_hp_tuning.cv_results_"
   ]
  },
  {
   "cell_type": "code",
   "execution_count": 20,
   "metadata": {
    "colab": {
     "base_uri": "https://localhost:8080/"
    },
    "id": "nOHmAXtWjL27",
    "outputId": "60fede2e-a558-4c26-fa74-584853891367"
   },
   "outputs": [
    {
     "data": {
      "text/plain": [
       "0.893113776426629"
      ]
     },
     "execution_count": 20,
     "metadata": {},
     "output_type": "execute_result"
    }
   ],
   "source": [
    "y_pred_test = ridge_hp_tuning.predict(X_test)\n",
    "\n",
    "score = r2_score(y_test, y_pred_test)\n",
    "score"
   ]
  },
  {
   "cell_type": "markdown",
   "metadata": {
    "id": "Tgq5EoOowUu0"
   },
   "source": [
    "### 1.3 Hyperparametersuche durch vorgefertigte Modelle\n",
    "\n",
    "Die Klasse `GridSearchCV` ist für beliebige Modelle (und besonders für Pipelines) nutzbar. Für viele Modelle allerdings ist die Abstimmung von Hyperparametern so alltäglich, dass es spezialisierte Klassen gibt.\n",
    "Diese sind:\n",
    "- `RidgeCV`\n",
    "- `LassoCV`\n",
    "- `ElasticNetCV`\n",
    "- `LogisticRegressionCV`\n",
    "\n",
    "Diese setzen exakt das um, was `GridSearchCV` auch könnte, also sind folgende Codes identisch\n",
    "\n",
    "```python\n",
    ">>> model = GridSearchCV(\n",
    "...     Ridge(),\n",
    "...     param_grid={\"alpha\": [0.01, 0.1, 1.0]})\n",
    ">>> model.fit(X, y)\n",
    "```\n",
    "\n",
    "und\n",
    "\n",
    "```python\n",
    ">>> model = RidgeCV(alphas=[0.01, 0.1, 1.0])\n",
    ">>> model.fit(X, y)\n",
    "```\n",
    "\n",
    "![gridsearch_cv](https://raw.githubusercontent.com/layerwise/training/main/assets/gridsearch_cv.png)"
   ]
  },
  {
   "cell_type": "code",
   "execution_count": 21,
   "metadata": {
    "colab": {
     "base_uri": "https://localhost:8080/"
    },
    "id": "qrYmLx6Dwbgh",
    "outputId": "51d553d9-b990-4ffb-b52c-7a371a7680ed"
   },
   "outputs": [
    {
     "data": {
      "text/plain": [
       "RidgeCV(alphas=array([ 0.01,  0.1 ,  1.  , 10.  ]))"
      ]
     },
     "execution_count": 21,
     "metadata": {},
     "output_type": "execute_result"
    }
   ],
   "source": [
    "from sklearn.linear_model import RidgeCV, LassoCV, ElasticNetCV, LogisticRegressionCV\n",
    "\n",
    "ridge_cv = RidgeCV(\n",
    "    alphas=[0.01, 0.1, 1.0, 10.0]\n",
    ")\n",
    "\n",
    "ridge_cv.fit(X_train, y_train)"
   ]
  },
  {
   "cell_type": "code",
   "execution_count": 22,
   "metadata": {
    "colab": {
     "base_uri": "https://localhost:8080/"
    },
    "id": "pbo47mTJxkgM",
    "outputId": "eba8ff49-076f-4a5a-b822-0374e6255eb6"
   },
   "outputs": [
    {
     "data": {
      "text/plain": [
       "0.1"
      ]
     },
     "execution_count": 22,
     "metadata": {},
     "output_type": "execute_result"
    }
   ],
   "source": [
    "ridge_cv.alpha_"
   ]
  },
  {
   "cell_type": "code",
   "execution_count": 23,
   "metadata": {
    "id": "eSR8wG3dxJnM"
   },
   "outputs": [],
   "source": [
    "ridge_cv_poly = make_pipeline(\n",
    "    PolynomialFeatures(degree=2, include_bias=False),\n",
    "    RidgeCV(alphas=[0.01, 0.1, 1.0, 10.0], normalize=True)\n",
    ")"
   ]
  },
  {
   "cell_type": "code",
   "execution_count": 24,
   "metadata": {
    "colab": {
     "base_uri": "https://localhost:8080/"
    },
    "id": "bIrM1BdDxfd2",
    "outputId": "e0f788d7-c82a-4b5d-b1ed-57af4fac5bb0"
   },
   "outputs": [
    {
     "data": {
      "text/plain": [
       "Pipeline(steps=[('polynomialfeatures', PolynomialFeatures(include_bias=False)),\n",
       "                ('ridgecv',\n",
       "                 RidgeCV(alphas=array([ 0.01,  0.1 ,  1.  , 10.  ]),\n",
       "                         normalize=True))])"
      ]
     },
     "execution_count": 24,
     "metadata": {},
     "output_type": "execute_result"
    }
   ],
   "source": [
    "ridge_cv_poly.fit(X_train, y_train)"
   ]
  },
  {
   "cell_type": "markdown",
   "metadata": {
    "id": "LFyIWHIjyCQS"
   },
   "source": [
    "### 1.4. Hyperparametersuche durch Zufallssuche\n",
    "\n",
    "Im Allgemeinen ist die sogenannte erschöpfende Gittersuche nicht nötig und auch nicht empfehlenswert, wie anhand folgender Graphik erkennbar. Dann kann statt `GridSearchCV` besser `RandomizedSearchCV` verwendet werden.\n",
    "\n",
    "![gridsearch_vs_randomsearch](https://raw.githubusercontent.com/layerwise/training/main/assets/gridsearch_vs_randomsearch.png)\n"
   ]
  },
  {
   "cell_type": "code",
   "execution_count": 25,
   "metadata": {
    "colab": {
     "base_uri": "https://localhost:8080/"
    },
    "id": "b_Fhm_P1yNCX",
    "outputId": "ac07b829-604f-4bc5-9f47-b6286ed2caae"
   },
   "outputs": [
    {
     "data": {
      "text/plain": [
       "RandomizedSearchCV(cv=10,\n",
       "                   estimator=Pipeline(steps=[('polynomialfeatures',\n",
       "                                              PolynomialFeatures(include_bias=False)),\n",
       "                                             ('ridge', Ridge(normalize=True))]),\n",
       "                   n_iter=50, n_jobs=2,\n",
       "                   param_distributions={'polynomialfeatures__degree': array([ 1,  2,  3,  4,  5,  6,  7,  8,  9, 10, 11, 12, 13, 14]),\n",
       "                                        'ridge__alpha': [0.001, 0.005, 0.01,\n",
       "                                                         0.05, 0.1, 0.5, 1.0,\n",
       "                                                         5.0, 10.0]},\n",
       "                   scoring='r2')"
      ]
     },
     "execution_count": 25,
     "metadata": {},
     "output_type": "execute_result"
    }
   ],
   "source": [
    "from sklearn.model_selection import RandomizedSearchCV\n",
    "\n",
    "param_distributions = {\n",
    "    \"ridge__alpha\": [0.001, 0.005, 0.01, 0.05, 0.1, 0.5, 1.0, 5.0, 10.0],\n",
    "    \"polynomialfeatures__degree\": np.arange(1, 15)\n",
    "}\n",
    "\n",
    "ridge_hp_tuning_random = RandomizedSearchCV(\n",
    "    ridge,\n",
    "    param_distributions=param_distributions,\n",
    "    cv=10,\n",
    "    scoring=\"r2\",\n",
    "    n_jobs=2,\n",
    "    n_iter=50\n",
    ")\n",
    "\n",
    "ridge_hp_tuning_random.fit(X_train, y_train)"
   ]
  },
  {
   "cell_type": "code",
   "execution_count": 26,
   "metadata": {
    "colab": {
     "base_uri": "https://localhost:8080/"
    },
    "id": "26CeupKH0DHa",
    "outputId": "48441468-8cf5-4cf1-d4f5-e459eba65bc2"
   },
   "outputs": [
    {
     "data": {
      "text/plain": [
       "{'ridge__alpha': 0.001, 'polynomialfeatures__degree': 10}"
      ]
     },
     "execution_count": 26,
     "metadata": {},
     "output_type": "execute_result"
    }
   ],
   "source": [
    "ridge_hp_tuning_random.best_params_"
   ]
  },
  {
   "cell_type": "code",
   "execution_count": 27,
   "metadata": {
    "colab": {
     "base_uri": "https://localhost:8080/"
    },
    "id": "DsjfMW_00hu6",
    "outputId": "d4909430-4714-4659-b6cf-9170335973f8"
   },
   "outputs": [
    {
     "data": {
      "text/plain": [
       "[{'ridge__alpha': 0.01, 'polynomialfeatures__degree': 4},\n",
       " {'ridge__alpha': 0.1, 'polynomialfeatures__degree': 4},\n",
       " {'ridge__alpha': 5.0, 'polynomialfeatures__degree': 3},\n",
       " {'ridge__alpha': 1.0, 'polynomialfeatures__degree': 5},\n",
       " {'ridge__alpha': 0.5, 'polynomialfeatures__degree': 1},\n",
       " {'ridge__alpha': 0.005, 'polynomialfeatures__degree': 8},\n",
       " {'ridge__alpha': 0.5, 'polynomialfeatures__degree': 11},\n",
       " {'ridge__alpha': 0.05, 'polynomialfeatures__degree': 6},\n",
       " {'ridge__alpha': 5.0, 'polynomialfeatures__degree': 9},\n",
       " {'ridge__alpha': 0.1, 'polynomialfeatures__degree': 8},\n",
       " {'ridge__alpha': 5.0, 'polynomialfeatures__degree': 8},\n",
       " {'ridge__alpha': 0.1, 'polynomialfeatures__degree': 5},\n",
       " {'ridge__alpha': 0.01, 'polynomialfeatures__degree': 13},\n",
       " {'ridge__alpha': 0.005, 'polynomialfeatures__degree': 7},\n",
       " {'ridge__alpha': 0.001, 'polynomialfeatures__degree': 10},\n",
       " {'ridge__alpha': 0.001, 'polynomialfeatures__degree': 1},\n",
       " {'ridge__alpha': 0.05, 'polynomialfeatures__degree': 14},\n",
       " {'ridge__alpha': 0.005, 'polynomialfeatures__degree': 13},\n",
       " {'ridge__alpha': 0.01, 'polynomialfeatures__degree': 10},\n",
       " {'ridge__alpha': 0.1, 'polynomialfeatures__degree': 2},\n",
       " {'ridge__alpha': 0.5, 'polynomialfeatures__degree': 14},\n",
       " {'ridge__alpha': 0.01, 'polynomialfeatures__degree': 12},\n",
       " {'ridge__alpha': 5.0, 'polynomialfeatures__degree': 11},\n",
       " {'ridge__alpha': 0.01, 'polynomialfeatures__degree': 14},\n",
       " {'ridge__alpha': 10.0, 'polynomialfeatures__degree': 2},\n",
       " {'ridge__alpha': 5.0, 'polynomialfeatures__degree': 13},\n",
       " {'ridge__alpha': 1.0, 'polynomialfeatures__degree': 4},\n",
       " {'ridge__alpha': 0.001, 'polynomialfeatures__degree': 11},\n",
       " {'ridge__alpha': 10.0, 'polynomialfeatures__degree': 10},\n",
       " {'ridge__alpha': 0.005, 'polynomialfeatures__degree': 10},\n",
       " {'ridge__alpha': 5.0, 'polynomialfeatures__degree': 10},\n",
       " {'ridge__alpha': 0.5, 'polynomialfeatures__degree': 12},\n",
       " {'ridge__alpha': 5.0, 'polynomialfeatures__degree': 14},\n",
       " {'ridge__alpha': 5.0, 'polynomialfeatures__degree': 2},\n",
       " {'ridge__alpha': 10.0, 'polynomialfeatures__degree': 1},\n",
       " {'ridge__alpha': 5.0, 'polynomialfeatures__degree': 7},\n",
       " {'ridge__alpha': 0.001, 'polynomialfeatures__degree': 13},\n",
       " {'ridge__alpha': 0.001, 'polynomialfeatures__degree': 3},\n",
       " {'ridge__alpha': 10.0, 'polynomialfeatures__degree': 12},\n",
       " {'ridge__alpha': 0.5, 'polynomialfeatures__degree': 7},\n",
       " {'ridge__alpha': 0.005, 'polynomialfeatures__degree': 4},\n",
       " {'ridge__alpha': 0.01, 'polynomialfeatures__degree': 9},\n",
       " {'ridge__alpha': 0.01, 'polynomialfeatures__degree': 6},\n",
       " {'ridge__alpha': 0.5, 'polynomialfeatures__degree': 9},\n",
       " {'ridge__alpha': 1.0, 'polynomialfeatures__degree': 8},\n",
       " {'ridge__alpha': 1.0, 'polynomialfeatures__degree': 11},\n",
       " {'ridge__alpha': 10.0, 'polynomialfeatures__degree': 7},\n",
       " {'ridge__alpha': 0.05, 'polynomialfeatures__degree': 8},\n",
       " {'ridge__alpha': 0.005, 'polynomialfeatures__degree': 9},\n",
       " {'ridge__alpha': 10.0, 'polynomialfeatures__degree': 11}]"
      ]
     },
     "execution_count": 27,
     "metadata": {},
     "output_type": "execute_result"
    }
   ],
   "source": [
    "ridge_hp_tuning_random.cv_results_[\"params\"]"
   ]
  },
  {
   "cell_type": "markdown",
   "metadata": {
    "id": "sgCkLCQAak26"
   },
   "source": [
    "## 2. Kreuzvalidierung\n",
    "\n",
    "Die Kreuzvalidierung kann nicht nur zur Abstimmung von Hyperparametern verwendet werden. Tatsächlich ist ihre vornehmliche Funktion, die Generalisierungsfähigkeit des Modells besser zu schätzen. Statt eines einzigen Testdatensatzes, der immer zufälligen Schwankungen ausgesetzt ist und damit zu einer zufälligen Schätzung der Generalisierungsfähigkeit führt, benutzt die Kreuzvalidierung 3, 5 oder 10 solche Testdatensätze. Am Ende wird aus den einzelnen Schätzungen ein Mittelwert gebildet, von dem man zeigen kann, dass er die tatsächliche Generalisierung genauer schätzt. Wir sind also vor über-optimistischen und unter-pessimistischen Schätzungen gefeit. Wann immer genug Rechenleistung vorhanden ist, ist die Kreuzvalidierung der Testdaten-Methode vorzuziehen.\n",
    "\n",
    "In Scikit-Learn lässt sich die Kreuzvalidierung mit `cross_val_score` umsetzen. Wichtig zu beachten ist, dass ein dedizierter Trainings-Test-Split hier **nicht** erforderlich ist. Der Funktion `cross_val_score` wird der Gesamtdatensatz übergeben.\n",
    "\n",
    "![crossvalidation](https://raw.githubusercontent.com/layerwise/training/main/assets/crossvalidation.png)"
   ]
  },
  {
   "cell_type": "code",
   "execution_count": 22,
   "metadata": {
    "colab": {
     "base_uri": "https://localhost:8080/"
    },
    "id": "w-OLgrd8ak29",
    "outputId": "a4fbfe37-82cf-4087-95c9-1aebac62f1ae"
   },
   "outputs": [
    {
     "name": "stdout",
     "output_type": "stream",
     "text": [
      "Modell: Pipeline(steps=[('polynomialfeatures', PolynomialFeatures(include_bias=False)),\n",
      "                ('ridge', Ridge(normalize=True))])\n",
      "Generalisierung: 0.5759722222713424\n"
     ]
    }
   ],
   "source": [
    "from sklearn.model_selection import cross_val_score\n",
    "\n",
    "# Einfache Ridge Regression\n",
    "\n",
    "# Vergleich Testdatensatz-Methode\n",
    "X_train, X_test, y_train, y_test = train_test_split(X, y, train_size=0.8)\n",
    "\n",
    "ridge = get_regression()\n",
    "ridge.fit(X_train, y_train)\n",
    "y_pred_test = ridge.predict(X_test)\n",
    "\n",
    "my_score = r2_score(y_test, y_pred_test)\n",
    "\n",
    "final_ridge = get_regression()\n",
    "final_ridge.fit(X, y)\n",
    "\n",
    "\n",
    "print(\"Modell:\", final_ridge)\n",
    "print(\"Generalisierung:\", my_score)\n",
    "\n"
   ]
  },
  {
   "cell_type": "code",
   "execution_count": 23,
   "metadata": {
    "colab": {
     "base_uri": "https://localhost:8080/"
    },
    "id": "epOGTabI294S",
    "outputId": "f4bf2314-6541-4cee-ba97-1d18041acf79"
   },
   "outputs": [
    {
     "name": "stdout",
     "output_type": "stream",
     "text": [
      "Modell: Pipeline(steps=[('polynomialfeatures', PolynomialFeatures(include_bias=False)),\n",
      "                ('ridge', Ridge(normalize=True))])\n",
      "Generalisierung (besser geschätzt durch CV! yeah!): 0.46608292352652614\n"
     ]
    }
   ],
   "source": [
    "ridge = get_regression()\n",
    "\n",
    "cv_scores = cross_val_score(ridge, X, y, cv=10)\n",
    "\n",
    "final_model = get_regression()\n",
    "final_model.fit(X, y)\n",
    "\n",
    "print(\"Modell:\", final_model)\n",
    "print(\"Generalisierung (besser geschätzt durch CV! yeah!):\", np.mean(cv_scores))"
   ]
  },
  {
   "cell_type": "markdown",
   "metadata": {
    "id": "zcPEnj4Gak2-"
   },
   "source": [
    "## 3. Verschachtelte Kreuzvalidierung\n",
    "\n",
    "Die verschachtelte Kreuzvalidierung nutzt die Methode der Kreuzvalidierung gleichzeitg sowohl für die Abstimmung von Hyperparametern und zur besseren Schätzung der Generalisierungsfähigkeit. In Scikit-Learn ist die Umsetzung denkbar einfach: wir verbinden einfach `GridSearchCV` mit `cross_val_score`.\n",
    "\n",
    "![nested_crossvalidation](https://raw.githubusercontent.com/layerwise/training/main/assets/nested_crossvalidation.png)"
   ]
  },
  {
   "cell_type": "code",
   "execution_count": 24,
   "metadata": {
    "colab": {
     "base_uri": "https://localhost:8080/"
    },
    "id": "aVXGeTEtak3A",
    "outputId": "472a0d2c-da0c-4d9a-dc1c-ec5a6b9a8c34"
   },
   "outputs": [
    {
     "name": "stdout",
     "output_type": "stream",
     "text": [
      "Modell: RandomizedSearchCV(cv=10,\n",
      "                   estimator=Pipeline(steps=[('polynomialfeatures',\n",
      "                                              PolynomialFeatures(include_bias=False)),\n",
      "                                             ('ridge', Ridge(normalize=True))]),\n",
      "                   n_iter=50, n_jobs=2,\n",
      "                   param_distributions={'polynomialfeatures__degree': array([ 1,  2,  3,  4,  5,  6,  7,  8,  9, 10, 11, 12, 13, 14]),\n",
      "                                        'ridge__alpha': [0.001, 0.005, 0.01,\n",
      "                                                         0.05, 0.1, 0.5, 1.0,\n",
      "                                                         5.0, 10.0]},\n",
      "                   scoring='neg_mean_squared_error')\n",
      "Generalisierung (besser geschätzt durch CV! yeah!): 0.8948286453754302\n"
     ]
    }
   ],
   "source": [
    "param_distributions = {\n",
    "    \"ridge__alpha\": [0.001, 0.005, 0.01, 0.05, 0.1, 0.5, 1.0, 5.0, 10.0],\n",
    "    \"polynomialfeatures__degree\": np.arange(1, 15)\n",
    "}\n",
    "\n",
    "ridge_hp_tuning_random = RandomizedSearchCV(\n",
    "    ridge,\n",
    "    param_distributions=param_distributions,\n",
    "    cv=10,\n",
    "    scoring=\"r2\",  # Alternativen: \"neg_mean_squared_error\" / \"neg_mean_absolute_error\"\n",
    "    n_jobs=2,\n",
    "    n_iter=50\n",
    ")\n",
    "\n",
    "cv_scores = cross_val_score(ridge_hp_tuning_random, X, y, cv=10)\n",
    "\n",
    "final_model = RandomizedSearchCV(\n",
    "    ridge,\n",
    "    param_distributions=param_distributions,\n",
    "    cv=10,\n",
    "    scoring=\"neg_mean_squared_error\",\n",
    "    n_jobs=2,\n",
    "    n_iter=50\n",
    ")\n",
    "final_model.fit(X, y)\n",
    "\n",
    "print(\"Modell:\", final_model)\n",
    "print(\"Generalisierung (besser geschätzt durch CV! yeah!):\", np.mean(cv_scores))\n"
   ]
  },
  {
   "cell_type": "code",
   "execution_count": null,
   "metadata": {
    "id": "LA-avqjY4joS"
   },
   "outputs": [],
   "source": []
  }
 ],
 "metadata": {
  "colab": {
   "collapsed_sections": [],
   "name": "Hyperparameter, Kreuzvalidierung.ipynb",
   "provenance": []
  },
  "kernelspec": {
   "display_name": "Python 3",
   "language": "python",
   "name": "python3"
  },
  "language_info": {
   "codemirror_mode": {
    "name": "ipython",
    "version": 3
   },
   "file_extension": ".py",
   "mimetype": "text/x-python",
   "name": "python",
   "nbconvert_exporter": "python",
   "pygments_lexer": "ipython3",
   "version": "3.8.5"
  }
 },
 "nbformat": 4,
 "nbformat_minor": 1
}
