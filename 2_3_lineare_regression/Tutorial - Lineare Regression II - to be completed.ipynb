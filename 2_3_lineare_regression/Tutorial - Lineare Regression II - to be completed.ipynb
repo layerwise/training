{
 "cells": [
  {
   "cell_type": "markdown",
   "metadata": {},
   "source": [
    "\n",
    "## 1. Vorbereitung\n",
    "\n",
    "In diesem Tutorial lernen wir, wie die lineare Regression (ein Connectionist Neuron mit linearer Transferfunktion) in **Scikit-Learn** benutzt werden kann. Wir beschäftigen uns wieder mit einem konstruierten Datensatz, den wir im Folgenden laden."
   ]
  },
  {
   "cell_type": "code",
   "execution_count": null,
   "metadata": {},
   "outputs": [],
   "source": [
    "import matplotlib.pyplot as plt\n",
    "plt.style.use('seaborn-whitegrid')\n",
    "import numpy as np\n",
    "import pandas as pd"
   ]
  },
  {
   "cell_type": "code",
   "execution_count": null,
   "metadata": {},
   "outputs": [],
   "source": [
    "# Ändern Sie den Datensatz entsprechend Ihrer Gruppennummer\n",
    "# TODO: Datensatz laden\n",
    "data = None\n",
    "\n",
    "X = None\n",
    "y = None"
   ]
  },
  {
   "cell_type": "code",
   "execution_count": null,
   "metadata": {},
   "outputs": [],
   "source": [
    "# TODO: Visualisieren\n",
    "xx = np.linspace(0, 40, 100)\n",
    "\n",
    "plt.close(\"all\")\n",
    "plt.figure()                       \n",
    "plt.scatter(X, y);"
   ]
  },
  {
   "cell_type": "markdown",
   "metadata": {},
   "source": [
    "## 2. Lineare Regression fitten\n",
    "\n",
    "### 2.1 Lineare Regression in Scikit-Learn\n",
    "\n",
    "Die \"lineare\" Regression meint hier ein Connectionist Neuron mit den normalen Features - ohne Expansion der Features. Wir nutzen **Scikit-Learn**."
   ]
  },
  {
   "cell_type": "code",
   "execution_count": null,
   "metadata": {},
   "outputs": [],
   "source": [
    "# TODO: Importieren lineare Regression aus Scikit-Learn\n",
    "# TODO: Modell trainieren"
   ]
  },
  {
   "cell_type": "code",
   "execution_count": null,
   "metadata": {},
   "outputs": [],
   "source": [
    "# TODO: Koeffizienten untersuchen\n",
    "# Gewichte = Koeffizienten = coef_\n",
    "# Bias = Intercept = intercept_"
   ]
  },
  {
   "cell_type": "code",
   "execution_count": null,
   "metadata": {},
   "outputs": [],
   "source": [
    "# TODO: Fit visualisieren"
   ]
  },
  {
   "cell_type": "code",
   "execution_count": null,
   "metadata": {},
   "outputs": [],
   "source": [
    "# TODO: Modell evaluieren"
   ]
  },
  {
   "cell_type": "markdown",
   "metadata": {},
   "source": [
    "### 2.2. Manuelle Feature Expansion\n",
    "\n",
    "In diesem Teil expandieren wir die Datenmatrix manuell und führen erneut eine Regression aus."
   ]
  },
  {
   "cell_type": "code",
   "execution_count": null,
   "metadata": {},
   "outputs": [],
   "source": [
    "# TODO: Daten manuell expandieren\n",
    "\n",
    "# TODO: Modell trainieren\n",
    "# TODO: Koeffizienten untersuchen\n",
    "# TODO: Fit visualisieren\n",
    "# TODO: Modell evaluieren"
   ]
  },
  {
   "cell_type": "markdown",
   "metadata": {},
   "source": [
    "### 2.3 Feature Expansion in Scikit-Learn\n",
    "\n",
    "Die Expansion der Features kann effizienter mit Scikit-Learn ausgeführt werden."
   ]
  },
  {
   "cell_type": "code",
   "execution_count": null,
   "metadata": {},
   "outputs": [],
   "source": [
    "# TODO: Daten mit Scikit-Learn expandieren\n",
    "\n",
    "# TODO: Modell trainieren\n",
    "# TODO: Koeffizienten untersuchen\n",
    "# TODO: Fit visualisieren\n",
    "# TODO: Modell evaluieren"
   ]
  },
  {
   "cell_type": "markdown",
   "metadata": {},
   "source": [
    "### 2.4. Feature Expansion mit Scikit-Learn Pipelines\n",
    "\n",
    "Pipelines sind eine Methode, die Modularität der **Scikit-Learn** Bibliothek voll auszunutzen und dabei zum Beispiel eine Feature Expansion durchzuführen."
   ]
  },
  {
   "cell_type": "code",
   "execution_count": null,
   "metadata": {},
   "outputs": [],
   "source": [
    "# TODO: Import und Aufbau einer Pipeline\n",
    "\n",
    "# TODO: Modell trainieren\n",
    "# TODO: Koeffizienten untersuchen\n",
    "# TODO: Fit visualisieren\n",
    "# TODO: Modell evaluieren"
   ]
  }
 ],
 "metadata": {
  "kernelspec": {
   "display_name": "Python 3",
   "language": "python",
   "name": "python3"
  },
  "language_info": {
   "codemirror_mode": {
    "name": "ipython",
    "version": 3
   },
   "file_extension": ".py",
   "mimetype": "text/x-python",
   "name": "python",
   "nbconvert_exporter": "python",
   "pygments_lexer": "ipython3",
   "version": "3.8.5"
  }
 },
 "nbformat": 4,
 "nbformat_minor": 4
}
