{
 "cells": [
  {
   "cell_type": "code",
   "execution_count": 2,
   "metadata": {
    "cell_id": "00000-b1bfb117-8e1b-466e-bc69-189c13e4084e",
    "deepnote_cell_type": "code",
    "deepnote_to_be_reexecuted": false,
    "execution_millis": 4,
    "execution_start": 1611125829021,
    "id": "8Zf6ajfKyuee",
    "source_hash": "c2602aa8",
    "tags": []
   },
   "outputs": [],
   "source": [
    "import numpy as np"
   ]
  },
  {
   "cell_type": "markdown",
   "metadata": {
    "cell_id": "00004-99e7c988-2693-4bd7-b900-c97e83ca9a7f",
    "deepnote_cell_type": "markdown",
    "id": "UqDXLQKcyueU",
    "tags": []
   },
   "source": [
    "# Vektoren"
   ]
  },
  {
   "cell_type": "markdown",
   "metadata": {
    "cell_id": "00002-567b42c2-ce80-463b-a2a1-81baca955c26",
    "deepnote_cell_type": "markdown",
    "id": "K7NqeAzDyueg",
    "tags": []
   },
   "source": [
    "## Vektoren erstellen"
   ]
  },
  {
   "cell_type": "code",
   "execution_count": null,
   "metadata": {
    "colab": {
     "base_uri": "https://localhost:8080/"
    },
    "id": "CHNhjtLqz-rx",
    "outputId": "c63cedf8-1759-46f8-cbde-e089c8b3a939"
   },
   "outputs": [
    {
     "data": {
      "text/plain": [
       "array([ 1, -2,  5])"
      ]
     },
     "execution_count": 29,
     "metadata": {
      "tags": []
     },
     "output_type": "execute_result"
    }
   ],
   "source": [
    "a = np.array([1, -2, 5])\n",
    "a"
   ]
  },
  {
   "cell_type": "code",
   "execution_count": null,
   "metadata": {
    "colab": {
     "base_uri": "https://localhost:8080/"
    },
    "id": "y0RnpWlG4SGS",
    "outputId": "40a68e3c-1b91-414c-9f8f-6333193208f4"
   },
   "outputs": [
    {
     "data": {
      "text/plain": [
       "array([0, 1, 2, 3, 4, 5, 6, 7, 8, 9])"
      ]
     },
     "execution_count": 13,
     "metadata": {
      "tags": []
     },
     "output_type": "execute_result"
    }
   ],
   "source": [
    "range_ = np.arange(0, 10)\n",
    "range_"
   ]
  },
  {
   "cell_type": "code",
   "execution_count": null,
   "metadata": {
    "colab": {
     "base_uri": "https://localhost:8080/"
    },
    "id": "MM2DQya94nk2",
    "outputId": "01782c0c-4354-452e-bb44-8d3559241803"
   },
   "outputs": [
    {
     "data": {
      "text/plain": [
       "array([0., 0., 0., 0., 0.])"
      ]
     },
     "execution_count": 14,
     "metadata": {
      "tags": []
     },
     "output_type": "execute_result"
    }
   ],
   "source": [
    "zeros = np.zeros(5)\n",
    "zeros"
   ]
  },
  {
   "cell_type": "code",
   "execution_count": null,
   "metadata": {
    "colab": {
     "base_uri": "https://localhost:8080/"
    },
    "id": "ycc9oVzx4vz3",
    "outputId": "d9fc4833-dc07-4b91-ac6d-a7bc64362606"
   },
   "outputs": [
    {
     "data": {
      "text/plain": [
       "array([1., 1., 1., 1., 1., 1., 1.])"
      ]
     },
     "execution_count": 15,
     "metadata": {
      "tags": []
     },
     "output_type": "execute_result"
    }
   ],
   "source": [
    "ones = np.ones(7)\n",
    "ones"
   ]
  },
  {
   "cell_type": "code",
   "execution_count": null,
   "metadata": {
    "colab": {
     "base_uri": "https://localhost:8080/"
    },
    "id": "Zw0zkOhZ4_m-",
    "outputId": "30fc7926-bf65-406a-f433-e3383e4c91c8"
   },
   "outputs": [
    {
     "data": {
      "text/plain": [
       "array([1, 1, 1, 1, 1, 1, 1])"
      ]
     },
     "execution_count": 19,
     "metadata": {
      "tags": []
     },
     "output_type": "execute_result"
    }
   ],
   "source": [
    "ones_int64 = np.ones(7, dtype=np.int64)\n",
    "ones_int64"
   ]
  },
  {
   "cell_type": "code",
   "execution_count": null,
   "metadata": {
    "colab": {
     "base_uri": "https://localhost:8080/"
    },
    "id": "Iy7jEzTI5LGP",
    "outputId": "4bc7f7c8-ede9-4350-aeb4-107fca8a6e49"
   },
   "outputs": [
    {
     "data": {
      "text/plain": [
       "array([ True,  True,  True,  True,  True,  True,  True])"
      ]
     },
     "execution_count": 20,
     "metadata": {
      "tags": []
     },
     "output_type": "execute_result"
    }
   ],
   "source": [
    "trues = np.ones(7, dtype=np.bool)\n",
    "trues"
   ]
  },
  {
   "cell_type": "code",
   "execution_count": null,
   "metadata": {
    "colab": {
     "base_uri": "https://localhost:8080/"
    },
    "id": "t1AjkcDu4yPf",
    "outputId": "d843a1b6-0d6e-453e-d6ac-6aee1acbea7f"
   },
   "outputs": [
    {
     "data": {
      "text/plain": [
       "array([1.5, 1.5, 1.5, 1.5, 1.5, 1.5, 1.5, 1.5, 1.5])"
      ]
     },
     "execution_count": 17,
     "metadata": {
      "tags": []
     },
     "output_type": "execute_result"
    }
   ],
   "source": [
    "full = np.full(9, 1.5)\n",
    "full"
   ]
  },
  {
   "cell_type": "code",
   "execution_count": null,
   "metadata": {
    "colab": {
     "base_uri": "https://localhost:8080/"
    },
    "id": "rM4CaTTQ5WKu",
    "outputId": "5761d0b5-cd71-4d07-e776-567ca67a17f6"
   },
   "outputs": [
    {
     "data": {
      "text/plain": [
       "array([0.  , 0.05, 0.1 , 0.15, 0.2 , 0.25, 0.3 , 0.35, 0.4 , 0.45, 0.5 ,\n",
       "       0.55, 0.6 , 0.65, 0.7 , 0.75, 0.8 , 0.85, 0.9 , 0.95, 1.  ])"
      ]
     },
     "execution_count": 22,
     "metadata": {
      "tags": []
     },
     "output_type": "execute_result"
    }
   ],
   "source": [
    "linspace = np.linspace(0.0, 1.0, 21)\n",
    "linspace"
   ]
  },
  {
   "cell_type": "markdown",
   "metadata": {
    "cell_id": "00003-9c9053da-6cea-4e53-9847-ae1e3071b50a",
    "deepnote_cell_type": "markdown",
    "id": "1cWT1D1vyueg",
    "tags": []
   },
   "source": [
    "## Relevante Attribute von Vektoren"
   ]
  },
  {
   "cell_type": "code",
   "execution_count": null,
   "metadata": {
    "colab": {
     "base_uri": "https://localhost:8080/"
    },
    "id": "qNSxvJ9Yz_q7",
    "outputId": "34519860-c5aa-4789-817d-deed4b3dfdbc"
   },
   "outputs": [
    {
     "data": {
      "text/plain": [
       "(3,)"
      ]
     },
     "execution_count": 23,
     "metadata": {
      "tags": []
     },
     "output_type": "execute_result"
    }
   ],
   "source": [
    "a.shape"
   ]
  },
  {
   "cell_type": "code",
   "execution_count": null,
   "metadata": {
    "colab": {
     "base_uri": "https://localhost:8080/"
    },
    "id": "E2x6yi_w6KNu",
    "outputId": "fb6c70ad-4c51-4c7e-f8f6-323d9f775b61"
   },
   "outputs": [
    {
     "data": {
      "text/plain": [
       "1"
      ]
     },
     "execution_count": 25,
     "metadata": {
      "tags": []
     },
     "output_type": "execute_result"
    }
   ],
   "source": [
    "a.ndim"
   ]
  },
  {
   "cell_type": "code",
   "execution_count": null,
   "metadata": {
    "colab": {
     "base_uri": "https://localhost:8080/"
    },
    "id": "TXPfBotw6Zda",
    "outputId": "1c219c99-bda3-45c6-dc27-0f65eb93415a"
   },
   "outputs": [
    {
     "data": {
      "text/plain": [
       "dtype('int64')"
      ]
     },
     "execution_count": 27,
     "metadata": {
      "tags": []
     },
     "output_type": "execute_result"
    }
   ],
   "source": [
    "a.dtype"
   ]
  },
  {
   "cell_type": "code",
   "execution_count": null,
   "metadata": {
    "colab": {
     "base_uri": "https://localhost:8080/"
    },
    "id": "0YVuEkZa6bvR",
    "outputId": "c35bb79a-09fa-4139-9893-d3355440b1b5"
   },
   "outputs": [
    {
     "data": {
      "text/plain": [
       "3"
      ]
     },
     "execution_count": 28,
     "metadata": {
      "tags": []
     },
     "output_type": "execute_result"
    }
   ],
   "source": [
    "len(a)"
   ]
  },
  {
   "cell_type": "markdown",
   "metadata": {
    "cell_id": "00004-c2bf5e80-74b0-47af-8a2d-0dd68cd81ccc",
    "deepnote_cell_type": "markdown",
    "id": "YO-J4h5iyueh",
    "tags": []
   },
   "source": [
    "## Zufallszahlen und Vektoren"
   ]
  },
  {
   "cell_type": "code",
   "execution_count": null,
   "metadata": {
    "colab": {
     "base_uri": "https://localhost:8080/"
    },
    "id": "E-ZNx2wo0AWJ",
    "outputId": "f66c7ac5-804e-43b1-d821-82c29d8a8283"
   },
   "outputs": [
    {
     "name": "stdout",
     "output_type": "stream",
     "text": [
      "[1.77482189 0.57805271 0.97773336 0.99784874 1.83036187 1.06163561\n",
      " 0.76208287 0.24621681 0.92761521 0.3421754  0.28449546 1.25048752\n",
      " 1.91667697 0.92266229 0.24298856 1.92442623 0.77275935 1.23662124\n",
      " 0.17928955 0.68300454 0.58673427 1.03021552 0.40222124 0.11634975\n",
      " 1.21682254 1.10102358 1.61251763 0.9058873  0.0408589  0.01438712\n",
      " 0.01073746 1.22371495 0.17930582 1.2115478  1.22475937 0.35396713\n",
      " 1.90194118 0.20551446 1.39860729 1.16469431 0.75148298 0.36973517\n",
      " 1.86093301 1.05005609 0.07356509 1.03808607 1.46739523 0.59554286\n",
      " 1.25407804 1.92832345 1.81299743 1.08116937 1.09074929 1.98547527\n",
      " 1.34445093 0.94918851 1.9221098  1.64960248 0.27605406 0.27942632\n",
      " 1.15877542 0.69132114 0.87487144 1.62581785 1.73391038 0.89852137\n",
      " 0.99165211 0.08212621 1.34921523 1.68954596 0.04586194 1.30054302\n",
      " 0.94725339 1.59179197 0.07964141 1.03818585 1.0053984  1.60916913\n",
      " 0.23134468 1.78566491 0.4314198  1.68180738 1.789888   1.69484023\n",
      " 1.06174125 1.03795522 1.68282822 0.39078458 1.89480018 0.72392464\n",
      " 1.02979889 0.28282246 0.61589553 1.8539966  1.02274304 0.77050207\n",
      " 0.97518476 0.58627768 0.90113316 0.52245088 1.26785935 0.81112147\n",
      " 0.93508447 0.36256541 1.07792367 1.37383956 0.58025561 1.48333435\n",
      " 1.03247262 1.14362025 0.5429719  0.41345022 1.91656649 0.28464265\n",
      " 1.64606469 0.78596624 1.99906849 1.58771398 1.66897822 1.91548778\n",
      " 0.25303276 1.43998588 1.76136387 0.52254531 0.63313818 1.17752032\n",
      " 1.1969395  1.45544991 0.59165108 0.0730881  1.82191319 0.27432412\n",
      " 0.06723215 0.91916757 0.01653072 1.15009281 1.7081379  1.31792476\n",
      " 1.14000801 0.02345351 0.13001055 0.23397879 0.70503962 1.18472746\n",
      " 1.97379244 0.47430773 1.43850299 0.26999258 1.02345651 1.19613868\n",
      " 0.88689734 1.57730881 1.45648027 1.52812721 1.17427863 0.64285734\n",
      " 0.0817654  0.82512424 1.83601359 0.78091232 0.94499998 0.6795054\n",
      " 1.05852746 1.70457835 1.0371039  0.01104497 0.845534   0.12270242\n",
      " 1.13823196 1.53987565 0.93086749 0.29188233 1.58741575 1.10163737\n",
      " 0.03526737 0.85181289 0.70598682 0.10637858 0.83993282 1.02497856\n",
      " 0.78539929 0.6753151  0.90907488 0.32986819 0.34025578 0.10209808\n",
      " 0.13990853 0.04560151 0.15744808 0.45614867 1.83051145 1.41709063\n",
      " 0.07339757 0.89647021 1.23367657 0.40601718 0.60369704 1.03571869\n",
      " 0.0596991  1.99932323 0.80311234 1.3398491  1.33972025 0.65673678\n",
      " 1.12388604 1.30074868 0.14334699 1.19856302 1.4674764  1.44727038\n",
      " 0.78607394 0.69348217 1.82968998 1.25820136 0.2724321  0.58878675\n",
      " 0.33601555 1.94202552 0.99630741 0.53748837 0.57349698 1.64127807\n",
      " 0.26789022 1.2781628  0.07118799 1.50057619 0.96386369 0.08071165\n",
      " 0.73085512 1.84677164 0.50547401 0.57579937 1.95712878 1.82165986\n",
      " 0.2756495  1.81409401 0.05896988 0.16602202 0.20785562 1.03585685\n",
      " 0.82118832 0.16787337 1.10187239 1.65369823 0.77339471 0.58629326\n",
      " 1.47411402 1.09087748 1.01149522 0.21003739 1.62345381 1.21928839\n",
      " 1.99390232 1.38585134 0.00612678 0.02925397 1.36937649 1.25876196\n",
      " 1.08599034 1.34303955 1.72893624 1.63417614 0.27906098 1.09464345\n",
      " 0.05691293 1.30693283 1.51650523 1.38931497 0.39341278 1.99767611\n",
      " 1.19941102 1.5039469  1.00971687 1.30071185 0.83242282 0.43969322\n",
      " 0.7109966  0.17456715 1.32675896 1.56281918 1.82497936 1.68016861\n",
      " 1.98499748 1.81077039 1.81174752 0.31227627 1.45293602 1.94747637\n",
      " 1.77837712 0.71414481 0.86038829 0.05709143 0.24682721 1.75868022\n",
      " 0.11099224 1.56170885 0.39107366 0.1400599  1.82956156 0.69856788\n",
      " 1.64682544 1.83386279 1.57401052 0.18003819 0.01684496 0.95268777\n",
      " 0.81494051 1.52921891 0.31435713 1.61243362 0.75431603 0.35428905\n",
      " 0.08403937 1.43579593 1.96534901 0.81478672 1.4822218  1.77067303\n",
      " 0.56353738 0.75159892 1.03093106 0.23823121 0.21742844 1.63951443\n",
      " 1.38311111 1.86499008 1.15777891 0.63490696 0.52365139 1.19705647\n",
      " 0.98840789 1.3640927  1.74300145 1.15699793 1.01582837 1.34915531\n",
      " 0.6349638  1.44139823 0.34221648 1.76932141 1.43346661 1.87504186\n",
      " 0.850368   0.28905816 0.6829576  1.41978661 0.07881594 0.52435584\n",
      " 1.4898309  0.32703511 0.82931685 1.7522452  1.61723159 0.14926794\n",
      " 1.91363657 1.62503937 0.60307201 0.86792586 1.02298721 1.39678164\n",
      " 1.07826754 0.93400755 0.67050798 0.06781494 0.94681471 1.9541464\n",
      " 0.08805788 1.8898749  1.72716166 1.51839331 0.67135075 0.45100581\n",
      " 0.88712954 1.74322915 1.33501992 1.96415321 1.25713    1.78108189\n",
      " 1.03242408 0.917994   1.98418297 0.49404682 0.17971933 1.13735403\n",
      " 1.10130884 1.140793   0.2551219  1.65829378 0.58593591 0.3216169\n",
      " 0.75530982 1.87637283 1.88742707 0.15353206 1.0965325  0.10625025\n",
      " 0.76674546 0.00354634 0.4891974  0.88287283 0.44386455 1.98362369\n",
      " 0.57977857 1.46812186 0.98752624 0.81043421 0.19064817 1.33597304\n",
      " 0.75793536 1.94627432 1.54455308 0.75633562 0.94419243 0.63685252\n",
      " 1.72782895 0.93569906 1.98593563 0.53092837 1.64963082 0.54113119\n",
      " 0.41864741 0.86199438 1.0255343  1.63850719 1.3520367  0.01145715\n",
      " 1.52632755 0.17119128 0.73428282 0.49198473 0.79600578 0.04927659\n",
      " 1.38740857 0.5021427  1.00994364 1.89289202 0.34393407 1.28948012\n",
      " 1.90214992 0.48441034 1.67981335 0.71544757 1.80322479 1.98670219\n",
      " 0.85071389 1.05427    0.71314482 0.87513214 1.91070704 0.58792721\n",
      " 0.25422928 0.94187503 0.76468621 1.71181045 0.05509512 1.89948186\n",
      " 0.35633177 1.17939114 1.19301226 0.56847647 0.48732676 1.9391639\n",
      " 1.14963205 1.84289362 0.6650448  0.98901675 1.0661756  1.31509631\n",
      " 1.57009833 1.63813999 0.52608998 1.94826713 1.27204678 1.38094544\n",
      " 1.00697403 0.51301981 1.54571385 1.30886258 0.5182459  1.61569743\n",
      " 0.26884255 0.8152537  0.7970959  1.42188646 1.60766472 1.89427959\n",
      " 1.06022384 1.86690773 1.37322978 0.05138043 1.56559665 0.51994021\n",
      " 0.35847805 0.21533106 1.34503089 0.36995676 0.05254506 0.37539869\n",
      " 1.94282512 0.50168049 0.65200156 1.36699585 0.49400357 1.04847113\n",
      " 0.06944779 0.09083741 1.50409531 1.75743618 0.64774127 0.30849867\n",
      " 0.69782182 1.01533613 0.5816328  1.84883717 0.1832986  1.96003004\n",
      " 1.86530293 1.21041049 0.85153526 0.59792244 1.33073564 0.04108962\n",
      " 0.18580595 1.2562763  0.38151539 0.973065   0.50994518 0.4557271\n",
      " 1.07103898 1.68714313 0.46017071 0.23706843 1.07403907 1.9488539\n",
      " 0.20525617 1.02791914 0.73715632 0.61280329 1.99194753 0.82590526\n",
      " 0.104099   1.83478056 1.91728123 1.42420868 0.31849719 0.2340046\n",
      " 0.01105873 0.90005148 1.91167199 0.62445294 0.66920179 1.04587169\n",
      " 1.74623241 0.87927925 0.64659603 0.8259918  0.65954093 1.40776802\n",
      " 1.01568665 1.43465521 0.00939861 0.93628913 0.4051566  1.71825909\n",
      " 0.89870044 1.61553622 1.44751418 1.27019521 0.78746256 1.41980986\n",
      " 1.35891561 0.39403836 1.96672203 0.3937352  0.52320152 1.81454585\n",
      " 0.13321214 1.25100165 1.08312905 1.28699065 0.76217837 0.70778125\n",
      " 1.70163398 1.54369138 1.00761161 1.79512849 1.67120879 1.07815845\n",
      " 0.14682312 1.81139264 0.60864972 1.56170775 1.71721424 0.18941621\n",
      " 0.84196237 1.34024282 1.04743087 1.41847261 0.15180384 0.28201319\n",
      " 0.92768272 1.34392611 0.8566129  1.26559925 0.08703266 1.13995862\n",
      " 0.66481222 1.420321   1.50926966 1.22036797 1.12518286 0.00951574\n",
      " 1.47364955 0.10438327 0.40321281 1.57256421 1.57073126 1.31130379\n",
      " 1.53992531 0.82919018 0.03833264 1.30250927 0.83693566 0.55370315\n",
      " 1.5458043  1.35298653 1.56751753 0.80148688 0.29275312 0.35297741\n",
      " 0.3682206  0.32612875 1.32204128 0.49399483 1.12532888 1.91304145\n",
      " 1.38361231 0.28967375 0.65813175 1.08618266 0.53827724 0.35880853\n",
      " 0.92720189 0.2185673  0.91859341 1.145237   1.8463237  0.51929561\n",
      " 1.3748604  1.8413328  1.6245914  0.7534256  1.27720726 0.72956502\n",
      " 1.85019959 1.71655647 0.499563   1.04507454 0.52826    1.92495492\n",
      " 0.19799493 1.58434761 0.86101105 0.68935306 0.42663127 0.16548497\n",
      " 0.3103687  1.48997295 0.47520701 1.70595293 1.92672489 0.41810697\n",
      " 0.2047878  0.16910827 0.70301633 1.4698682  0.63911378 1.59285234\n",
      " 1.14666515 1.14312641 1.66241566 1.43057433 0.14350405 1.90824176\n",
      " 1.17155631 0.14816681 0.95258089 0.75577613 1.29567628 1.03770857\n",
      " 1.30811893 0.70318434 0.90458227 0.11584099 1.08915013 0.65694872\n",
      " 0.74601326 0.15104804 0.39019396 1.33129336 0.51590427 1.9296994\n",
      " 0.19343913 0.21829766 1.08983029 0.5149065  0.18130364 0.92719189\n",
      " 0.02080898 0.10444981 1.79685772 1.28129026 1.88727198 0.75284921\n",
      " 0.14442046 0.11845329 1.27964414 1.69459476 0.39416828 0.205976\n",
      " 1.51944017 1.79136539 0.75518816 1.99197998 1.23540716 0.12175603\n",
      " 1.78854558 0.99039655 1.33011128 1.58295748 0.07811169 1.20029015\n",
      " 0.65307141 0.33395458 0.43595645 0.76353257 0.91702864 0.05907976\n",
      " 0.27157177 0.4255343  0.08438948 1.20157346 1.27457993 1.69777375\n",
      " 1.58071531 1.11360098 1.45410874 1.1080288  0.24681454 1.39393744\n",
      " 1.95158104 1.62555093 1.13860725 0.53767151 0.04567822 0.70185847\n",
      " 0.86681897 0.44574547 0.56511034 1.32400092 0.16206469 0.06354995\n",
      " 0.78769943 0.31517414 0.47744357 1.4705912  1.74077548 0.98381973\n",
      " 0.00252229 1.56351527 1.25178311 1.2936576  1.9091932  1.77041157\n",
      " 1.17338671 1.86682935 1.11246728 1.73601252 0.37658649 1.2711063\n",
      " 1.40719572 0.74438246 1.22019382 0.74333832 0.02920016 1.79688812\n",
      " 0.01468073 1.59590565 1.0647049  0.37080165 1.37646605 0.10051594\n",
      " 0.39918269 1.39587015 0.41616526 1.69034355 0.93974775 1.94207934\n",
      " 0.2810624  0.6475001  0.19709321 0.98980361 1.81260904 0.13143864\n",
      " 1.08379957 1.1283653  1.3280564  0.20021053 0.3591653  0.14132329\n",
      " 0.71219161 1.36550129 1.08344597 0.0565984  0.44318083 1.15365448\n",
      " 0.70599978 1.89726298 1.38656174 0.26645366 1.99660404 1.76829532\n",
      " 0.56301234 1.9015481  0.41239714 0.09570906 1.01421476 1.51617233\n",
      " 1.1642292  0.85573533 0.6097557  0.93694289 1.66269454 0.36206975\n",
      " 1.25298335 1.92768804 0.27902993 0.17141184 0.98749025 1.9814362\n",
      " 1.60198528 1.71093211 0.21040244 1.31151312 0.80451189 1.9368296\n",
      " 0.28635628 1.38318046 0.08831307 1.36223512 0.15206149 0.10369793\n",
      " 0.9604505  0.49723433 1.19380512 0.98422795 0.18274936 1.79108828\n",
      " 1.17932012 0.3783126  1.75236685 1.3007898  0.85461581 1.91142522\n",
      " 0.43038077 0.01054198 1.97797654 1.36858704 1.77233675 0.73576205\n",
      " 0.60411568 1.52394776 1.20941436 1.22042449 1.72957087 0.2671611\n",
      " 1.30031451 0.68556443 1.12858089 1.49505364 0.76296762 1.06175821\n",
      " 0.33715943 1.24704628 1.86800962 0.45874855 0.6274132  1.69222155\n",
      " 0.40251721 1.20270584 1.27810897 1.99689222 1.18350444 0.22110725\n",
      " 0.56519399 1.42622832 1.60684344 0.85644203 0.69384475 1.10231757\n",
      " 1.65260138 1.96215154 0.24730775 1.14317144 1.41476843 0.59304289\n",
      " 0.01886875 1.62549805 1.94201444 1.48708397 0.41558317 0.18303721\n",
      " 1.56348583 1.2520022  1.05363507 0.4993462  0.10232578 0.15708805\n",
      " 1.74443065 1.74715042 1.3822561  1.66408084 1.03567252 1.3878227\n",
      " 0.6850305  1.19966366 1.85967613 0.19291734 1.4728788  1.01194912\n",
      " 1.17820086 0.20922156 0.2920219  0.42110971 0.99155325 1.87824354\n",
      " 1.8389191  0.60991665 1.95160445 1.75493371 0.01990861 1.08615371\n",
      " 1.79693041 0.68585614 1.14407168 1.08605985 1.97318664 0.81697142\n",
      " 1.82461162 1.48113878 0.63621463 1.69839593 1.42594517 0.07742116\n",
      " 1.69905417 0.38638632 0.43484057 0.67509204 0.43996426 1.1117848\n",
      " 0.17355982 0.74743008 1.55090589 1.72371389 1.58614422 1.51259141\n",
      " 1.23424425 0.6765832  1.07515976 0.97940515 1.00731367 0.8420995\n",
      " 1.6283171  0.89000046 0.93314008 0.35890215 0.23402287 0.0383166\n",
      " 1.48442128 0.22866074 1.73427197 1.23638675 0.14413063 1.56726532\n",
      " 0.31798063 0.7411535  0.39579513 1.20014101 1.50828779 0.65012715\n",
      " 1.12222422 0.57104929 1.50042427 0.39783217 0.97241839 1.62259206\n",
      " 1.3025362  0.97322539 0.37527384 1.72208712]\n"
     ]
    }
   ],
   "source": [
    "with np.printoptions(suppress=True):\n",
    "    print(np.random.uniform(0, 2, 1000))"
   ]
  },
  {
   "cell_type": "code",
   "execution_count": null,
   "metadata": {
    "id": "GKtXp2G0Gg-f"
   },
   "outputs": [],
   "source": [
    "uniform_numbers = np.random.uniform(0, 2, 10000)\n",
    "gaussian_numbers = np.random.normal(loc=3, scale=2.0, size=10000)"
   ]
  },
  {
   "cell_type": "code",
   "execution_count": null,
   "metadata": {
    "colab": {
     "base_uri": "https://localhost:8080/",
     "height": 265
    },
    "id": "4jgs-u-xGxYP",
    "outputId": "2e8384cf-273f-44b1-bd5a-a3d7dd022058"
   },
   "outputs": [
    {
     "data": {
      "image/png": "[encoded data removed]",
      "text/plain": [
       "<Figure size 432x288 with 1 Axes>"
      ]
     },
     "metadata": {
      "needs_background": "light",
      "tags": []
     },
     "output_type": "display_data"
    }
   ],
   "source": [
    "plt.hist(uniform_numbers, bins=50, alpha=0.5);\n",
    "plt.hist(gaussian_numbers, bins=50, alpha=0.5);"
   ]
  },
  {
   "cell_type": "markdown",
   "metadata": {
    "cell_id": "00005-4e18f8b8-6f40-4c5d-a2af-4030007d883b",
    "deepnote_cell_type": "markdown",
    "id": "ofrapqT-yuei",
    "tags": []
   },
   "source": [
    "## Vektoroperationen"
   ]
  },
  {
   "cell_type": "code",
   "execution_count": null,
   "metadata": {
    "id": "9UxbuDGq_3WR"
   },
   "outputs": [],
   "source": [
    "a = np.array([1, 3, -5])\n",
    "b = np.array([2, -1, 3])"
   ]
  },
  {
   "cell_type": "code",
   "execution_count": null,
   "metadata": {
    "colab": {
     "base_uri": "https://localhost:8080/"
    },
    "id": "sLYdWSb-_9ox",
    "outputId": "43c9f4d6-107d-4177-86d6-fa7529a13c42"
   },
   "outputs": [
    {
     "data": {
      "text/plain": [
       "array([ 3,  2, -2])"
      ]
     },
     "execution_count": 31,
     "metadata": {
      "tags": []
     },
     "output_type": "execute_result"
    }
   ],
   "source": [
    "a + b"
   ]
  },
  {
   "cell_type": "code",
   "execution_count": null,
   "metadata": {
    "colab": {
     "base_uri": "https://localhost:8080/",
     "height": 205
    },
    "id": "UFYMlSyvAHfH",
    "outputId": "bb9a98ca-d4aa-4764-9343-22b7bf474dd5"
   },
   "outputs": [
    {
     "ename": "ValueError",
     "evalue": "ignored",
     "output_type": "error",
     "traceback": [
      "\u001b[0;31m---------------------------------------------------------------------------\u001b[0m",
      "\u001b[0;31mValueError\u001b[0m                                Traceback (most recent call last)",
      "\u001b[0;32m<ipython-input-32-6167709a0b07>\u001b[0m in \u001b[0;36m<module>\u001b[0;34m()\u001b[0m\n\u001b[1;32m      2\u001b[0m \u001b[0mc\u001b[0m \u001b[0;34m=\u001b[0m \u001b[0mnp\u001b[0m\u001b[0;34m.\u001b[0m\u001b[0marray\u001b[0m\u001b[0;34m(\u001b[0m\u001b[0;34m[\u001b[0m\u001b[0;36m2\u001b[0m\u001b[0;34m,\u001b[0m \u001b[0;34m-\u001b[0m\u001b[0;36m1\u001b[0m\u001b[0;34m,\u001b[0m \u001b[0;36m3\u001b[0m\u001b[0;34m,\u001b[0m \u001b[0;36m7\u001b[0m\u001b[0;34m]\u001b[0m\u001b[0;34m)\u001b[0m\u001b[0;34m\u001b[0m\u001b[0;34m\u001b[0m\u001b[0m\n\u001b[1;32m      3\u001b[0m \u001b[0;34m\u001b[0m\u001b[0m\n\u001b[0;32m----> 4\u001b[0;31m \u001b[0ma\u001b[0m \u001b[0;34m+\u001b[0m \u001b[0mc\u001b[0m\u001b[0;34m\u001b[0m\u001b[0;34m\u001b[0m\u001b[0m\n\u001b[0m",
      "\u001b[0;31mValueError\u001b[0m: operands could not be broadcast together with shapes (3,) (4,) "
     ]
    }
   ],
   "source": [
    "a = np.array([1, 3, -5])\n",
    "c = np.array([2, -1, 3, 7])\n",
    "\n",
    "a + c"
   ]
  },
  {
   "cell_type": "code",
   "execution_count": null,
   "metadata": {
    "colab": {
     "base_uri": "https://localhost:8080/"
    },
    "id": "lDBw9VsYAi9I",
    "outputId": "82f59ade-ff2e-4288-f3c9-90ea0bc4c411"
   },
   "outputs": [
    {
     "data": {
      "text/plain": [
       "array([-1,  4, -8])"
      ]
     },
     "execution_count": 33,
     "metadata": {
      "tags": []
     },
     "output_type": "execute_result"
    }
   ],
   "source": [
    "a - b"
   ]
  },
  {
   "cell_type": "code",
   "execution_count": null,
   "metadata": {
    "colab": {
     "base_uri": "https://localhost:8080/"
    },
    "id": "PHp4kR2hAlSn",
    "outputId": "229f9b3b-5195-44f3-d043-fcbaeb38d725"
   },
   "outputs": [
    {
     "data": {
      "text/plain": [
       "array([  2,  -3, -15])"
      ]
     },
     "execution_count": 34,
     "metadata": {
      "tags": []
     },
     "output_type": "execute_result"
    }
   ],
   "source": [
    "a * b"
   ]
  },
  {
   "cell_type": "code",
   "execution_count": null,
   "metadata": {
    "colab": {
     "base_uri": "https://localhost:8080/"
    },
    "id": "DDwUKWcOArT3",
    "outputId": "b4dec8f6-0ca8-4a0e-f5d0-ee4d9815ea78"
   },
   "outputs": [
    {
     "data": {
      "text/plain": [
       "array([ 0.5       , -3.        , -1.66666667])"
      ]
     },
     "execution_count": 35,
     "metadata": {
      "tags": []
     },
     "output_type": "execute_result"
    }
   ],
   "source": [
    "a / b"
   ]
  },
  {
   "cell_type": "code",
   "execution_count": null,
   "metadata": {
    "colab": {
     "base_uri": "https://localhost:8080/"
    },
    "id": "CuqgJKydAtnD",
    "outputId": "bfea17c7-5a92-4c35-f26d-96ddc910b930"
   },
   "outputs": [
    {
     "data": {
      "text/plain": [
       "array([False, False, False])"
      ]
     },
     "execution_count": 36,
     "metadata": {
      "tags": []
     },
     "output_type": "execute_result"
    }
   ],
   "source": [
    "a == b"
   ]
  },
  {
   "cell_type": "code",
   "execution_count": null,
   "metadata": {
    "colab": {
     "base_uri": "https://localhost:8080/"
    },
    "id": "kzhWfjwwAw4G",
    "outputId": "13f56ac0-e831-4700-acc3-5d7627df9026"
   },
   "outputs": [
    {
     "data": {
      "text/plain": [
       "array([False,  True, False])"
      ]
     },
     "execution_count": 37,
     "metadata": {
      "tags": []
     },
     "output_type": "execute_result"
    }
   ],
   "source": [
    "a > b"
   ]
  },
  {
   "cell_type": "code",
   "execution_count": null,
   "metadata": {
    "colab": {
     "base_uri": "https://localhost:8080/"
    },
    "id": "Ap1gzVOoAz-k",
    "outputId": "ad8df691-7433-440e-e0d4-3d85a46d4365"
   },
   "outputs": [
    {
     "data": {
      "text/plain": [
       "array([ True, False,  True])"
      ]
     },
     "execution_count": 38,
     "metadata": {
      "tags": []
     },
     "output_type": "execute_result"
    }
   ],
   "source": [
    "a <= b"
   ]
  },
  {
   "cell_type": "code",
   "execution_count": null,
   "metadata": {
    "colab": {
     "base_uri": "https://localhost:8080/"
    },
    "id": "50kKgBdyByE_",
    "outputId": "40b95d1f-d2bd-450e-b447-404ad8fadccf"
   },
   "outputs": [
    {
     "name": "stdout",
     "output_type": "stream",
     "text": [
      "[ 1  3 -5]\n",
      "[ 2 -1  3]\n"
     ]
    },
    {
     "data": {
      "text/plain": [
       "-16"
      ]
     },
     "execution_count": 40,
     "metadata": {
      "tags": []
     },
     "output_type": "execute_result"
    }
   ],
   "source": [
    "# Skalarprodukt\n",
    "print(a)\n",
    "print(b)\n",
    "\n",
    "np.dot(a, b)"
   ]
  },
  {
   "cell_type": "code",
   "execution_count": null,
   "metadata": {
    "colab": {
     "base_uri": "https://localhost:8080/"
    },
    "id": "jV6ZwKnZBxdV",
    "outputId": "1bbe8c10-a10c-4f95-c59e-979a06823e66"
   },
   "outputs": [
    {
     "data": {
      "text/plain": [
       "5.916079783099616"
      ]
     },
     "execution_count": 41,
     "metadata": {
      "tags": []
     },
     "output_type": "execute_result"
    }
   ],
   "source": [
    "# Vektornorm\n",
    "np.linalg.norm(a)"
   ]
  },
  {
   "cell_type": "code",
   "execution_count": null,
   "metadata": {
    "colab": {
     "base_uri": "https://localhost:8080/"
    },
    "id": "4dTyovSIDdwV",
    "outputId": "8e0f178e-8c76-4f53-f193-3f8ee15d3167"
   },
   "outputs": [
    {
     "data": {
      "text/plain": [
       "9.0"
      ]
     },
     "execution_count": 43,
     "metadata": {
      "tags": []
     },
     "output_type": "execute_result"
    }
   ],
   "source": [
    "# Distanz\n",
    "np.linalg.norm(a - b)"
   ]
  },
  {
   "cell_type": "markdown",
   "metadata": {
    "cell_id": "00006-79469333-457f-4466-b0a3-241be59ddecb",
    "deepnote_cell_type": "markdown",
    "id": "BbzWgr8Ayuei",
    "tags": []
   },
   "source": [
    "## Indexing"
   ]
  },
  {
   "cell_type": "code",
   "execution_count": null,
   "metadata": {
    "colab": {
     "base_uri": "https://localhost:8080/"
    },
    "id": "yOTAR7leDs62",
    "outputId": "63a203dc-f11d-49d9-e471-9bd9fa94c839"
   },
   "outputs": [
    {
     "data": {
      "text/plain": [
       "array([ 0,  1,  2,  3,  4,  5,  6,  7,  8,  9, 10, 11, 12, 13, 14, 15, 16,\n",
       "       17, 18, 19])"
      ]
     },
     "execution_count": 49,
     "metadata": {
      "tags": []
     },
     "output_type": "execute_result"
    }
   ],
   "source": [
    "z = np.arange(0, 20)\n",
    "z\n"
   ]
  },
  {
   "cell_type": "code",
   "execution_count": null,
   "metadata": {
    "colab": {
     "base_uri": "https://localhost:8080/"
    },
    "id": "T2fSHHC5DyUZ",
    "outputId": "8fdb78d3-d252-4643-f82b-008484fe5508"
   },
   "outputs": [
    {
     "data": {
      "text/plain": [
       "array([0, 1, 2, 3, 4, 5, 6, 7, 8, 9])"
      ]
     },
     "execution_count": 45,
     "metadata": {
      "tags": []
     },
     "output_type": "execute_result"
    }
   ],
   "source": [
    "z[:10]"
   ]
  },
  {
   "cell_type": "code",
   "execution_count": null,
   "metadata": {
    "colab": {
     "base_uri": "https://localhost:8080/"
    },
    "id": "P7sCUM5wD-WR",
    "outputId": "6317bfa2-1430-42e4-cf3a-36aa1a5eb222"
   },
   "outputs": [
    {
     "data": {
      "text/plain": [
       "array([5, 6, 7, 8, 9])"
      ]
     },
     "execution_count": 46,
     "metadata": {
      "tags": []
     },
     "output_type": "execute_result"
    }
   ],
   "source": [
    "z[5:10]"
   ]
  },
  {
   "cell_type": "code",
   "execution_count": null,
   "metadata": {
    "colab": {
     "base_uri": "https://localhost:8080/"
    },
    "id": "dDYfxA1kEC0a",
    "outputId": "f71a2975-44c5-4b01-b6d3-f50d0f6cae71"
   },
   "outputs": [
    {
     "data": {
      "text/plain": [
       "0"
      ]
     },
     "execution_count": 47,
     "metadata": {
      "tags": []
     },
     "output_type": "execute_result"
    }
   ],
   "source": [
    "z[0]"
   ]
  },
  {
   "cell_type": "code",
   "execution_count": null,
   "metadata": {
    "colab": {
     "base_uri": "https://localhost:8080/"
    },
    "id": "fhuD-99MEFMY",
    "outputId": "4230f772-8f9b-421d-cebf-949dcfc2010f"
   },
   "outputs": [
    {
     "data": {
      "text/plain": [
       "19"
      ]
     },
     "execution_count": 48,
     "metadata": {
      "tags": []
     },
     "output_type": "execute_result"
    }
   ],
   "source": [
    "z[-1]"
   ]
  },
  {
   "cell_type": "markdown",
   "metadata": {
    "cell_id": "00007-39afdacd-8d9d-4e05-ae37-8e27cc9319af",
    "deepnote_cell_type": "markdown",
    "id": "10Lz8nP1yuei",
    "tags": []
   },
   "source": [
    "## Map- und Reduce-Funktionen"
   ]
  },
  {
   "cell_type": "code",
   "execution_count": null,
   "metadata": {
    "id": "W1t3yW9sENUG"
   },
   "outputs": [],
   "source": [
    "d = np.array([4, 5, 1, 3])"
   ]
  },
  {
   "cell_type": "code",
   "execution_count": null,
   "metadata": {
    "colab": {
     "base_uri": "https://localhost:8080/"
    },
    "id": "F-upRlHKEUq_",
    "outputId": "841520c0-278f-4334-fec5-feba686a0e1b"
   },
   "outputs": [
    {
     "data": {
      "text/plain": [
       "3.25"
      ]
     },
     "execution_count": 51,
     "metadata": {
      "tags": []
     },
     "output_type": "execute_result"
    }
   ],
   "source": [
    "np.mean(d)\n",
    "\n",
    "# alternativ:\n",
    "# d.mean()"
   ]
  },
  {
   "cell_type": "code",
   "execution_count": null,
   "metadata": {
    "colab": {
     "base_uri": "https://localhost:8080/"
    },
    "id": "Zj8RWxyYEdCD",
    "outputId": "4e70209c-f719-4b64-b16d-e461fcd078da"
   },
   "outputs": [
    {
     "data": {
      "text/plain": [
       "13"
      ]
     },
     "execution_count": 52,
     "metadata": {
      "tags": []
     },
     "output_type": "execute_result"
    }
   ],
   "source": [
    "np.sum(d)\n",
    "\n",
    "# alternativ:\n",
    "# d.sum()"
   ]
  },
  {
   "cell_type": "code",
   "execution_count": null,
   "metadata": {
    "colab": {
     "base_uri": "https://localhost:8080/"
    },
    "id": "xmaBqOUSEgaA",
    "outputId": "4cc820e9-03cd-444d-d3a3-d48c8f2a9e9a"
   },
   "outputs": [
    {
     "data": {
      "text/plain": [
       "5"
      ]
     },
     "execution_count": 53,
     "metadata": {
      "tags": []
     },
     "output_type": "execute_result"
    }
   ],
   "source": [
    "np.max(d)\n",
    "\n",
    "# alternativ:\n",
    "# d.max()"
   ]
  },
  {
   "cell_type": "code",
   "execution_count": null,
   "metadata": {
    "colab": {
     "base_uri": "https://localhost:8080/"
    },
    "id": "l4rXRUONEjOL",
    "outputId": "11aa2c9a-3b0d-4d1c-898d-e3a70628ba32"
   },
   "outputs": [
    {
     "data": {
      "text/plain": [
       "1"
      ]
     },
     "execution_count": 54,
     "metadata": {
      "tags": []
     },
     "output_type": "execute_result"
    }
   ],
   "source": [
    "np.min(d)\n",
    "\n",
    "# alternativ:\n",
    "# d.min()"
   ]
  },
  {
   "cell_type": "markdown",
   "metadata": {
    "cell_id": "00014-c2893a2e-f695-429e-8c11-c49b4d38f01e",
    "deepnote_cell_type": "markdown",
    "id": "jpjtY2Z9yuej",
    "tags": []
   },
   "source": [
    "## Funktionen auf Vektoren"
   ]
  },
  {
   "cell_type": "code",
   "execution_count": null,
   "metadata": {
    "colab": {
     "base_uri": "https://localhost:8080/",
     "height": 285
    },
    "id": "ZTviiVCdExnT",
    "outputId": "41064b9f-348c-48d5-eec5-11a313105fc4"
   },
   "outputs": [
    {
     "data": {
      "text/plain": [
       "[<matplotlib.lines.Line2D at 0x7fd9944fc350>]"
      ]
     },
     "execution_count": 57,
     "metadata": {
      "tags": []
     },
     "output_type": "execute_result"
    },
    {
     "data": {
      "image/png": "[encoded data removed]",
      "text/plain": [
       "<Figure size 432x288 with 1 Axes>"
      ]
     },
     "metadata": {
      "needs_background": "light",
      "tags": []
     },
     "output_type": "display_data"
    }
   ],
   "source": [
    "x_vis = np.linspace(0, np.pi / 2)\n",
    "\n",
    "y1 = np.sin(x_vis)\n",
    "y2 = np.cos(x_vis)\n",
    "y3 = np.exp(x_vis)\n",
    "\n",
    "import matplotlib.pyplot as plt\n",
    "\n",
    "plt.plot(x_vis, y1)\n",
    "plt.plot(x_vis, y2)\n",
    "plt.plot(x_vis, y3)"
   ]
  },
  {
   "cell_type": "markdown",
   "metadata": {
    "cell_id": "00008-68c1430a-1909-4b6f-9143-69fc3f10d07f",
    "deepnote_cell_type": "markdown",
    "id": "UAoBIzhfyuek",
    "tags": []
   },
   "source": [
    "# Matrizen"
   ]
  },
  {
   "cell_type": "markdown",
   "metadata": {
    "cell_id": "00009-28e22fa5-116f-4959-b6bc-6e4e80009fcc",
    "deepnote_cell_type": "markdown",
    "id": "UaMI3o2Oyuek",
    "tags": []
   },
   "source": [
    "## Matrizen erstellen"
   ]
  },
  {
   "cell_type": "code",
   "execution_count": 7,
   "metadata": {
    "colab": {
     "base_uri": "https://localhost:8080/"
    },
    "id": "5f-iw6d23rGZ",
    "outputId": "2dcc8156-2a70-4e63-d339-fef0e4aca2f8"
   },
   "outputs": [
    {
     "data": {
      "text/plain": [
       "array([[ 2,  4, -3],\n",
       "       [21, -6, -1]])"
      ]
     },
     "execution_count": 7,
     "metadata": {
      "tags": []
     },
     "output_type": "execute_result"
    }
   ],
   "source": [
    "A = np.array(\n",
    "    [\n",
    "     [2, 4, -3],\n",
    "     [21, -6, -1]\n",
    "    ]\n",
    ")\n",
    "# 2x3 Matrix\n",
    "A"
   ]
  },
  {
   "cell_type": "code",
   "execution_count": 3,
   "metadata": {
    "colab": {
     "base_uri": "https://localhost:8080/"
    },
    "id": "3K2bLeH1Mfvb",
    "outputId": "2391d54d-ce00-46cb-806c-20f8b1f15d04"
   },
   "outputs": [
    {
     "data": {
      "text/plain": [
       "array([[0., 0., 0., 0., 0.],\n",
       "       [0., 0., 0., 0., 0.],\n",
       "       [0., 0., 0., 0., 0.],\n",
       "       [0., 0., 0., 0., 0.]])"
      ]
     },
     "execution_count": 3,
     "metadata": {
      "tags": []
     },
     "output_type": "execute_result"
    }
   ],
   "source": [
    "zeros = np.zeros((4, 5))\n",
    "zeros"
   ]
  },
  {
   "cell_type": "code",
   "execution_count": 4,
   "metadata": {
    "colab": {
     "base_uri": "https://localhost:8080/"
    },
    "id": "-qxTUa37MZxI",
    "outputId": "bafd6e4c-34c5-4302-e46e-e7a8d32c2d82"
   },
   "outputs": [
    {
     "data": {
      "text/plain": [
       "array([[1., 1.],\n",
       "       [1., 1.],\n",
       "       [1., 1.]])"
      ]
     },
     "execution_count": 4,
     "metadata": {
      "tags": []
     },
     "output_type": "execute_result"
    }
   ],
   "source": [
    "ones = np.ones((3, 2))\n",
    "ones"
   ]
  },
  {
   "cell_type": "code",
   "execution_count": 11,
   "metadata": {
    "colab": {
     "base_uri": "https://localhost:8080/"
    },
    "id": "rzUdG0LkM0ww",
    "outputId": "1f6cff81-3c61-44d4-8e47-7319ae9bb183"
   },
   "outputs": [
    {
     "data": {
      "text/plain": [
       "array([[0.14370237, 0.09893668, 0.60476794, 0.281729  , 0.59864971,\n",
       "        0.57306759, 0.35458368],\n",
       "       [0.39479297, 0.32039027, 0.04730693, 0.9251974 , 0.65309979,\n",
       "        0.66123327, 0.82956663],\n",
       "       [0.77971202, 0.96989689, 0.21920451, 0.49681516, 0.21982997,\n",
       "        0.21228222, 0.49280603]])"
      ]
     },
     "execution_count": 11,
     "metadata": {
      "tags": []
     },
     "output_type": "execute_result"
    }
   ],
   "source": [
    "random = np.random.uniform(low=0.0, high=1.0, size=(3, 7))\n",
    "random"
   ]
  },
  {
   "cell_type": "code",
   "execution_count": 8,
   "metadata": {
    "colab": {
     "base_uri": "https://localhost:8080/"
    },
    "id": "mQKqP9LXM90p",
    "outputId": "12dd07b0-f773-45e8-958a-00a93334c715"
   },
   "outputs": [
    {
     "data": {
      "text/plain": [
       "dtype('int64')"
      ]
     },
     "execution_count": 8,
     "metadata": {
      "tags": []
     },
     "output_type": "execute_result"
    }
   ],
   "source": [
    "A.dtype"
   ]
  },
  {
   "cell_type": "code",
   "execution_count": null,
   "metadata": {
    "colab": {
     "base_uri": "https://localhost:8080/"
    },
    "id": "SJl09nMP5-I8",
    "outputId": "811568a4-8d1b-4351-9e98-ea0b54fea40a"
   },
   "outputs": [
    {
     "data": {
      "text/plain": [
       "(2, 3)"
      ]
     },
     "execution_count": 24,
     "metadata": {
      "tags": []
     },
     "output_type": "execute_result"
    }
   ],
   "source": [
    "A.shape"
   ]
  },
  {
   "cell_type": "code",
   "execution_count": null,
   "metadata": {
    "colab": {
     "base_uri": "https://localhost:8080/"
    },
    "id": "JCNXHoo96NdL",
    "outputId": "bcc3bfdc-8bda-45c6-90fd-8ea6173d2069"
   },
   "outputs": [
    {
     "data": {
      "text/plain": [
       "2"
      ]
     },
     "execution_count": 26,
     "metadata": {
      "tags": []
     },
     "output_type": "execute_result"
    }
   ],
   "source": [
    "A.ndim"
   ]
  },
  {
   "cell_type": "code",
   "execution_count": 12,
   "metadata": {
    "id": "3pWvA0L-NPGy"
   },
   "outputs": [],
   "source": [
    "D1 = np.array([\n",
    "    [1, 2],\n",
    "    [3, 4],\n",
    "    [5, 6]\n",
    "])\n",
    "\n",
    "D2 = np.ones((3, 3))"
   ]
  },
  {
   "cell_type": "code",
   "execution_count": 14,
   "metadata": {
    "colab": {
     "base_uri": "https://localhost:8080/"
    },
    "id": "wrChuTSSNftA",
    "outputId": "bed3959b-5a63-4b70-a803-a2d7a29e0a58"
   },
   "outputs": [
    {
     "data": {
      "text/plain": [
       "array([[1., 2., 1., 1., 1.],\n",
       "       [3., 4., 1., 1., 1.],\n",
       "       [5., 6., 1., 1., 1.]])"
      ]
     },
     "execution_count": 14,
     "metadata": {
      "tags": []
     },
     "output_type": "execute_result"
    }
   ],
   "source": [
    "np.column_stack(\n",
    "    (D1, D2)\n",
    ")"
   ]
  },
  {
   "cell_type": "markdown",
   "metadata": {
    "cell_id": "00010-9bf9c992-2975-4fc3-8085-eff6ada5dc2a",
    "deepnote_cell_type": "markdown",
    "id": "7SyHBiaVyuel",
    "tags": []
   },
   "source": [
    "## Matrixoperationen"
   ]
  },
  {
   "cell_type": "code",
   "execution_count": 15,
   "metadata": {
    "colab": {
     "base_uri": "https://localhost:8080/"
    },
    "id": "H0SLYBStMWb9",
    "outputId": "d33c4646-2da7-42e1-e3a0-e690a45cbeac"
   },
   "outputs": [
    {
     "data": {
      "text/plain": [
       "array([[ 2,  4, -3],\n",
       "       [21, -6, -1]])"
      ]
     },
     "execution_count": 15,
     "metadata": {
      "tags": []
     },
     "output_type": "execute_result"
    }
   ],
   "source": [
    "A"
   ]
  },
  {
   "cell_type": "code",
   "execution_count": 16,
   "metadata": {
    "colab": {
     "base_uri": "https://localhost:8080/"
    },
    "id": "aYkCJ5PJN4br",
    "outputId": "91620e63-d4cf-41ff-9472-59115e2404d4"
   },
   "outputs": [
    {
     "data": {
      "text/plain": [
       "array([[ 2, 21],\n",
       "       [ 4, -6],\n",
       "       [-3, -1]])"
      ]
     },
     "execution_count": 16,
     "metadata": {
      "tags": []
     },
     "output_type": "execute_result"
    }
   ],
   "source": [
    "np.transpose(A)"
   ]
  },
  {
   "cell_type": "code",
   "execution_count": 21,
   "metadata": {
    "colab": {
     "base_uri": "https://localhost:8080/"
    },
    "id": "KmuAisNdOHjq",
    "outputId": "b70830e1-a6c8-4f3c-92bd-0028b8554eaa"
   },
   "outputs": [
    {
     "name": "stdout",
     "output_type": "stream",
     "text": [
      "0.6029397700000001\n",
      "-0.3775989919999999\n",
      "1.306711512\n"
     ]
    }
   ],
   "source": [
    "X = np.array(\n",
    "    [[0.21386655, 0.44117647],\n",
    "    [0.32601608, 0.02941176],\n",
    "    [0.16735492, 0.7605042 ]])\n",
    "\n",
    "w = np.array([-1.4, 2.0])\n",
    "bias = -0.02\n",
    "\n",
    "# Step 1\n",
    "for i in range(X.shape[0]):\n",
    "    x_i = X[i, :]\n",
    "    # h = x_i[0] * w[0] + x_i[1] * w[1] - bias\n",
    "    h = np.dot(x_i, w)  - bias\n",
    "    print(h)"
   ]
  },
  {
   "cell_type": "code",
   "execution_count": 23,
   "metadata": {
    "colab": {
     "base_uri": "https://localhost:8080/"
    },
    "id": "OFBZCL9DPihu",
    "outputId": "f142430a-1763-4782-b8ac-5bd45c7a561f"
   },
   "outputs": [
    {
     "data": {
      "text/plain": [
       "array([ 0.60293977, -0.37759899,  1.30671151])"
      ]
     },
     "execution_count": 23,
     "metadata": {
      "tags": []
     },
     "output_type": "execute_result"
    }
   ],
   "source": [
    "# Step 2\n",
    "h_vec = np.matmul(X, w) - bias\n",
    "h_vec"
   ]
  },
  {
   "cell_type": "code",
   "execution_count": 25,
   "metadata": {
    "colab": {
     "base_uri": "https://localhost:8080/"
    },
    "id": "MNskrpGBa8kf",
    "outputId": "3e782623-f574-4f2a-8b5c-c03e8dad9eed"
   },
   "outputs": [
    {
     "data": {
      "text/plain": [
       "(2,)"
      ]
     },
     "execution_count": 25,
     "metadata": {
      "tags": []
     },
     "output_type": "execute_result"
    }
   ],
   "source": [
    "w.shape"
   ]
  },
  {
   "cell_type": "code",
   "execution_count": 26,
   "metadata": {
    "id": "09AUyqSzbbgQ"
   },
   "outputs": [],
   "source": [
    "w_spalte = np.array(\n",
    "    [[-1.4],\n",
    "      [2.0]]\n",
    ")\n",
    "\n",
    "w_zeile = np.array(\n",
    "    [[-1.4, 2.0]]\n",
    ")"
   ]
  },
  {
   "cell_type": "code",
   "execution_count": 27,
   "metadata": {
    "colab": {
     "base_uri": "https://localhost:8080/"
    },
    "id": "CcNzvPOHbsBc",
    "outputId": "d342e039-2182-4bb5-9d64-c8353df88456"
   },
   "outputs": [
    {
     "data": {
      "text/plain": [
       "(2, 1)"
      ]
     },
     "execution_count": 27,
     "metadata": {
      "tags": []
     },
     "output_type": "execute_result"
    }
   ],
   "source": [
    "w_spalte.shape"
   ]
  },
  {
   "cell_type": "code",
   "execution_count": 28,
   "metadata": {
    "colab": {
     "base_uri": "https://localhost:8080/"
    },
    "id": "UIzRIi_3bwRp",
    "outputId": "75e63468-6325-4c75-fdbc-80d410a7a347"
   },
   "outputs": [
    {
     "data": {
      "text/plain": [
       "(1, 2)"
      ]
     },
     "execution_count": 28,
     "metadata": {
      "tags": []
     },
     "output_type": "execute_result"
    }
   ],
   "source": [
    "w_zeile.shape"
   ]
  },
  {
   "cell_type": "code",
   "execution_count": 29,
   "metadata": {
    "colab": {
     "base_uri": "https://localhost:8080/",
     "height": 170
    },
    "id": "hND77t54bypA",
    "outputId": "8a707b8d-a5a8-4203-8a03-cdb2001e088f"
   },
   "outputs": [
    {
     "ename": "ValueError",
     "evalue": "ignored",
     "output_type": "error",
     "traceback": [
      "\u001b[0;31m---------------------------------------------------------------------------\u001b[0m",
      "\u001b[0;31mValueError\u001b[0m                                Traceback (most recent call last)",
      "\u001b[0;32m<ipython-input-29-56b9510ae06a>\u001b[0m in \u001b[0;36m<module>\u001b[0;34m()\u001b[0m\n\u001b[0;32m----> 1\u001b[0;31m \u001b[0mnp\u001b[0m\u001b[0;34m.\u001b[0m\u001b[0mmatmul\u001b[0m\u001b[0;34m(\u001b[0m\u001b[0mX\u001b[0m\u001b[0;34m,\u001b[0m \u001b[0mw_zeile\u001b[0m\u001b[0;34m)\u001b[0m \u001b[0;34m-\u001b[0m \u001b[0mbias\u001b[0m\u001b[0;34m\u001b[0m\u001b[0;34m\u001b[0m\u001b[0m\n\u001b[0m",
      "\u001b[0;31mValueError\u001b[0m: matmul: Input operand 1 has a mismatch in its core dimension 0, with gufunc signature (n?,k),(k,m?)->(n?,m?) (size 1 is different from 2)"
     ]
    }
   ],
   "source": [
    "np.matmul(X, w_zeile) - bias"
   ]
  },
  {
   "cell_type": "code",
   "execution_count": 31,
   "metadata": {
    "colab": {
     "base_uri": "https://localhost:8080/"
    },
    "id": "zTgTyWSyb6TR",
    "outputId": "eb20543a-e3b6-450d-bd76-58d6fa490370"
   },
   "outputs": [
    {
     "data": {
      "text/plain": [
       "array([[ 0.60293977],\n",
       "       [-0.37759899],\n",
       "       [ 1.30671151]])"
      ]
     },
     "execution_count": 31,
     "metadata": {
      "tags": []
     },
     "output_type": "execute_result"
    }
   ],
   "source": [
    "np.matmul(X, np.transpose(w_zeile)) - bias"
   ]
  },
  {
   "cell_type": "code",
   "execution_count": 30,
   "metadata": {
    "colab": {
     "base_uri": "https://localhost:8080/"
    },
    "id": "2V1UXL1fb3RJ",
    "outputId": "ba817a30-90d6-4b8e-a7b8-02e3e2eb7f15"
   },
   "outputs": [
    {
     "data": {
      "text/plain": [
       "array([[ 0.60293977],\n",
       "       [-0.37759899],\n",
       "       [ 1.30671151]])"
      ]
     },
     "execution_count": 30,
     "metadata": {
      "tags": []
     },
     "output_type": "execute_result"
    }
   ],
   "source": [
    "np.matmul(X, w_spalte) - bias"
   ]
  },
  {
   "cell_type": "markdown",
   "metadata": {
    "cell_id": "00011-93c35f7a-a53c-4455-bc00-91d6ae17e89e",
    "deepnote_cell_type": "markdown",
    "id": "YBXlupBSyuel",
    "tags": []
   },
   "source": [
    "## Indexing"
   ]
  },
  {
   "cell_type": "markdown",
   "metadata": {
    "cell_id": "00012-03d891e2-54d1-4740-bef3-7b93e8cccc85",
    "deepnote_cell_type": "markdown",
    "id": "HAxAp4wPyuel",
    "tags": []
   },
   "source": [
    "## Map- und Reduce-Funktionen"
   ]
  },
  {
   "cell_type": "markdown",
   "metadata": {
    "cell_id": "00013-38afe963-373e-4bbf-9537-d2aa92bdfc16",
    "deepnote_cell_type": "markdown",
    "id": "jDIhaZzpyuem",
    "tags": []
   },
   "source": []
  }
 ],
 "metadata": {
  "colab": {
   "collapsed_sections": [
    "YO-J4h5iyueh",
    "ofrapqT-yuei",
    "BbzWgr8Ayuei",
    "10Lz8nP1yuei",
    "jpjtY2Z9yuej",
    "YBXlupBSyuel",
    "HAxAp4wPyuel"
   ],
   "name": "Numpy-Lineare-Algebra_Start.ipynb",
   "provenance": []
  },
  "deepnote_execution_queue": [],
  "deepnote_notebook_id": "2e0f82be-5ae8-4284-a2db-f12d178cbf39",
  "kernelspec": {
   "display_name": "Python 3",
   "language": "python",
   "name": "python3"
  },
  "language_info": {
   "codemirror_mode": {
    "name": "ipython",
    "version": 3
   },
   "file_extension": ".py",
   "mimetype": "text/x-python",
   "name": "python",
   "nbconvert_exporter": "python",
   "pygments_lexer": "ipython3",
   "version": "3.8.5"
  }
 },
 "nbformat": 4,
 "nbformat_minor": 1
}
