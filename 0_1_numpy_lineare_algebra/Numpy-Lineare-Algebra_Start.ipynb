{
 "cells": [
  {
   "cell_type": "markdown",
   "metadata": {
    "cell_id": "00004-99e7c988-2693-4bd7-b900-c97e83ca9a7f",
    "deepnote_cell_type": "markdown",
    "tags": []
   },
   "source": [
    "# Vektoren"
   ]
  },
  {
   "cell_type": "code",
   "execution_count": 1,
   "metadata": {
    "cell_id": "00000-b1bfb117-8e1b-466e-bc69-189c13e4084e",
    "deepnote_cell_type": "code",
    "deepnote_to_be_reexecuted": false,
    "execution_millis": 4,
    "execution_start": 1611125829021,
    "source_hash": "c2602aa8",
    "tags": []
   },
   "outputs": [],
   "source": [
    "import numpy as np"
   ]
  },
  {
   "cell_type": "markdown",
   "metadata": {
    "cell_id": "00002-567b42c2-ce80-463b-a2a1-81baca955c26",
    "deepnote_cell_type": "markdown",
    "tags": []
   },
   "source": [
    "## Vektoren erstellen"
   ]
  },
  {
   "cell_type": "code",
   "execution_count": 2,
   "metadata": {},
   "outputs": [
    {
     "data": {
      "text/plain": [
       "array([2, 3])"
      ]
     },
     "execution_count": 2,
     "metadata": {},
     "output_type": "execute_result"
    }
   ],
   "source": [
    "a = np.array([2, 3])\n",
    "b = np.array([-1, 4])\n",
    "a"
   ]
  },
  {
   "cell_type": "code",
   "execution_count": 3,
   "metadata": {},
   "outputs": [
    {
     "data": {
      "text/plain": [
       "array([0., 0., 0., 0., 0., 0.])"
      ]
     },
     "execution_count": 3,
     "metadata": {},
     "output_type": "execute_result"
    }
   ],
   "source": [
    "zeros = np.zeros(6)\n",
    "zeros"
   ]
  },
  {
   "cell_type": "code",
   "execution_count": 4,
   "metadata": {},
   "outputs": [
    {
     "data": {
      "text/plain": [
       "array([1., 1., 1., 1., 1., 1., 1., 1., 1.])"
      ]
     },
     "execution_count": 4,
     "metadata": {},
     "output_type": "execute_result"
    }
   ],
   "source": [
    "ones = np.ones(9)\n",
    "ones"
   ]
  },
  {
   "cell_type": "code",
   "execution_count": 5,
   "metadata": {},
   "outputs": [
    {
     "data": {
      "text/plain": [
       "array([0.5, 0.5, 0.5, 0.5, 0.5, 0.5])"
      ]
     },
     "execution_count": 5,
     "metadata": {},
     "output_type": "execute_result"
    }
   ],
   "source": [
    "full = np.full(6, 0.5)\n",
    "full"
   ]
  },
  {
   "cell_type": "code",
   "execution_count": 6,
   "metadata": {},
   "outputs": [
    {
     "data": {
      "text/plain": [
       "array([0, 1, 2, 3, 4])"
      ]
     },
     "execution_count": 6,
     "metadata": {},
     "output_type": "execute_result"
    }
   ],
   "source": [
    "range_ = np.arange(5)\n",
    "range_"
   ]
  },
  {
   "cell_type": "code",
   "execution_count": 7,
   "metadata": {},
   "outputs": [
    {
     "data": {
      "text/plain": [
       "array([2, 3, 4, 5, 6])"
      ]
     },
     "execution_count": 7,
     "metadata": {},
     "output_type": "execute_result"
    }
   ],
   "source": [
    "range2 = np.arange(2, 7)\n",
    "range2"
   ]
  },
  {
   "cell_type": "code",
   "execution_count": 8,
   "metadata": {},
   "outputs": [
    {
     "data": {
      "text/plain": [
       "array([2, 5, 8])"
      ]
     },
     "execution_count": 8,
     "metadata": {},
     "output_type": "execute_result"
    }
   ],
   "source": [
    "range3 = np.arange(2, 10, 3)\n",
    "range3"
   ]
  },
  {
   "cell_type": "code",
   "execution_count": 9,
   "metadata": {},
   "outputs": [
    {
     "data": {
      "text/plain": [
       "array([2. , 2.5, 3. , 3.5, 4. , 4.5, 5. , 5.5, 6. , 6.5, 7. , 7.5, 8. ,\n",
       "       8.5, 9. , 9.5])"
      ]
     },
     "execution_count": 9,
     "metadata": {},
     "output_type": "execute_result"
    }
   ],
   "source": [
    "range4 = np.arange(2, 10, 0.5)\n",
    "range4"
   ]
  },
  {
   "cell_type": "code",
   "execution_count": 10,
   "metadata": {},
   "outputs": [
    {
     "data": {
      "text/plain": [
       "array([ 0.        ,  0.1010101 ,  0.2020202 ,  0.3030303 ,  0.4040404 ,\n",
       "        0.50505051,  0.60606061,  0.70707071,  0.80808081,  0.90909091,\n",
       "        1.01010101,  1.11111111,  1.21212121,  1.31313131,  1.41414141,\n",
       "        1.51515152,  1.61616162,  1.71717172,  1.81818182,  1.91919192,\n",
       "        2.02020202,  2.12121212,  2.22222222,  2.32323232,  2.42424242,\n",
       "        2.52525253,  2.62626263,  2.72727273,  2.82828283,  2.92929293,\n",
       "        3.03030303,  3.13131313,  3.23232323,  3.33333333,  3.43434343,\n",
       "        3.53535354,  3.63636364,  3.73737374,  3.83838384,  3.93939394,\n",
       "        4.04040404,  4.14141414,  4.24242424,  4.34343434,  4.44444444,\n",
       "        4.54545455,  4.64646465,  4.74747475,  4.84848485,  4.94949495,\n",
       "        5.05050505,  5.15151515,  5.25252525,  5.35353535,  5.45454545,\n",
       "        5.55555556,  5.65656566,  5.75757576,  5.85858586,  5.95959596,\n",
       "        6.06060606,  6.16161616,  6.26262626,  6.36363636,  6.46464646,\n",
       "        6.56565657,  6.66666667,  6.76767677,  6.86868687,  6.96969697,\n",
       "        7.07070707,  7.17171717,  7.27272727,  7.37373737,  7.47474747,\n",
       "        7.57575758,  7.67676768,  7.77777778,  7.87878788,  7.97979798,\n",
       "        8.08080808,  8.18181818,  8.28282828,  8.38383838,  8.48484848,\n",
       "        8.58585859,  8.68686869,  8.78787879,  8.88888889,  8.98989899,\n",
       "        9.09090909,  9.19191919,  9.29292929,  9.39393939,  9.49494949,\n",
       "        9.5959596 ,  9.6969697 ,  9.7979798 ,  9.8989899 , 10.        ])"
      ]
     },
     "execution_count": 10,
     "metadata": {},
     "output_type": "execute_result"
    }
   ],
   "source": [
    "linspace = np.linspace(0, 10, 100)\n",
    "linspace"
   ]
  },
  {
   "cell_type": "markdown",
   "metadata": {},
   "source": [
    "### Zeilen- vs Spaltenvektoren"
   ]
  },
  {
   "cell_type": "code",
   "execution_count": 11,
   "metadata": {},
   "outputs": [
    {
     "data": {
      "text/plain": [
       "array([[2],\n",
       "       [3]])"
      ]
     },
     "execution_count": 11,
     "metadata": {},
     "output_type": "execute_result"
    }
   ],
   "source": [
    "a_column = np.array([\n",
    "    [2],\n",
    "    [3]\n",
    "])\n",
    "a_column"
   ]
  },
  {
   "cell_type": "code",
   "execution_count": 12,
   "metadata": {},
   "outputs": [
    {
     "data": {
      "text/plain": [
       "array([[2, 3]])"
      ]
     },
     "execution_count": 12,
     "metadata": {},
     "output_type": "execute_result"
    }
   ],
   "source": [
    "a_row = np.array([\n",
    "    [2, 3]\n",
    "])\n",
    "a_row"
   ]
  },
  {
   "cell_type": "code",
   "execution_count": 13,
   "metadata": {},
   "outputs": [
    {
     "data": {
      "text/plain": [
       "array([2, 3])"
      ]
     },
     "execution_count": 13,
     "metadata": {},
     "output_type": "execute_result"
    }
   ],
   "source": [
    "a_flat = np.squeeze(a_column)\n",
    "a_flat"
   ]
  },
  {
   "cell_type": "code",
   "execution_count": 14,
   "metadata": {},
   "outputs": [
    {
     "data": {
      "text/plain": [
       "array([2, 3])"
      ]
     },
     "execution_count": 14,
     "metadata": {},
     "output_type": "execute_result"
    }
   ],
   "source": [
    "a_flat = np.squeeze(a_row)\n",
    "a_flat"
   ]
  },
  {
   "cell_type": "code",
   "execution_count": 15,
   "metadata": {},
   "outputs": [
    {
     "data": {
      "text/plain": [
       "array([[2],\n",
       "       [3]])"
      ]
     },
     "execution_count": 15,
     "metadata": {},
     "output_type": "execute_result"
    }
   ],
   "source": [
    "# Flache Vektoren in Spaltenvektoren umwandeln\n",
    "# Option 1\n",
    "a_column = a_flat.reshape(-1, 1)\n",
    "# Option 2\n",
    "# a_column = a_flat[:, np.newaxis]\n",
    "\n",
    "a_column"
   ]
  },
  {
   "cell_type": "code",
   "execution_count": 16,
   "metadata": {},
   "outputs": [
    {
     "data": {
      "text/plain": [
       "array([[2, 3]])"
      ]
     },
     "execution_count": 16,
     "metadata": {},
     "output_type": "execute_result"
    }
   ],
   "source": [
    "# Flache Vektoren in Zeilen umwandeln\n",
    "a_row = a_flat.reshape(1, -1)\n",
    "# a_row = a_flat[np.newaxis, :]\n",
    "\n",
    "a_row"
   ]
  },
  {
   "cell_type": "markdown",
   "metadata": {
    "cell_id": "00003-9c9053da-6cea-4e53-9847-ae1e3071b50a",
    "deepnote_cell_type": "markdown",
    "tags": []
   },
   "source": [
    "## Relevante Attribute von Vektoren"
   ]
  },
  {
   "cell_type": "code",
   "execution_count": 17,
   "metadata": {},
   "outputs": [
    {
     "data": {
      "text/plain": [
       "dtype('int64')"
      ]
     },
     "execution_count": 17,
     "metadata": {},
     "output_type": "execute_result"
    }
   ],
   "source": [
    "a.dtype"
   ]
  },
  {
   "cell_type": "code",
   "execution_count": 18,
   "metadata": {},
   "outputs": [
    {
     "data": {
      "text/plain": [
       "dtype('int32')"
      ]
     },
     "execution_count": 18,
     "metadata": {},
     "output_type": "execute_result"
    }
   ],
   "source": [
    "a32 = np.array([2, 3], dtype=np.int32)\n",
    "a32.dtype"
   ]
  },
  {
   "cell_type": "code",
   "execution_count": 19,
   "metadata": {},
   "outputs": [
    {
     "data": {
      "text/plain": [
       "dtype('float32')"
      ]
     },
     "execution_count": 19,
     "metadata": {},
     "output_type": "execute_result"
    }
   ],
   "source": [
    "a_float32 = a.astype(np.float32)\n",
    "a_float32.dtype"
   ]
  },
  {
   "cell_type": "code",
   "execution_count": 20,
   "metadata": {},
   "outputs": [
    {
     "data": {
      "text/plain": [
       "(2,)"
      ]
     },
     "execution_count": 20,
     "metadata": {},
     "output_type": "execute_result"
    }
   ],
   "source": [
    "a.shape"
   ]
  },
  {
   "cell_type": "code",
   "execution_count": 21,
   "metadata": {},
   "outputs": [
    {
     "data": {
      "text/plain": [
       "(2, 1)"
      ]
     },
     "execution_count": 21,
     "metadata": {},
     "output_type": "execute_result"
    }
   ],
   "source": [
    "a_column.shape"
   ]
  },
  {
   "cell_type": "code",
   "execution_count": 22,
   "metadata": {},
   "outputs": [
    {
     "data": {
      "text/plain": [
       "(1, 2)"
      ]
     },
     "execution_count": 22,
     "metadata": {},
     "output_type": "execute_result"
    }
   ],
   "source": [
    "a_row.shape"
   ]
  },
  {
   "cell_type": "code",
   "execution_count": 23,
   "metadata": {},
   "outputs": [
    {
     "data": {
      "text/plain": [
       "2"
      ]
     },
     "execution_count": 23,
     "metadata": {},
     "output_type": "execute_result"
    }
   ],
   "source": [
    "len(a)"
   ]
  },
  {
   "cell_type": "code",
   "execution_count": 24,
   "metadata": {},
   "outputs": [
    {
     "data": {
      "text/plain": [
       "1"
      ]
     },
     "execution_count": 24,
     "metadata": {},
     "output_type": "execute_result"
    }
   ],
   "source": [
    "a.ndim"
   ]
  },
  {
   "cell_type": "code",
   "execution_count": 25,
   "metadata": {},
   "outputs": [
    {
     "data": {
      "text/plain": [
       "2"
      ]
     },
     "execution_count": 25,
     "metadata": {},
     "output_type": "execute_result"
    }
   ],
   "source": [
    "a_column.ndim"
   ]
  },
  {
   "cell_type": "code",
   "execution_count": 26,
   "metadata": {},
   "outputs": [
    {
     "name": "stdout",
     "output_type": "stream",
     "text": [
      "Variable    Type       Data/Info\n",
      "--------------------------------\n",
      "a           ndarray    2: 2 elems, type `int64`, 16 bytes\n",
      "a32         ndarray    2: 2 elems, type `int32`, 8 bytes\n",
      "a_column    ndarray    2x1: 2 elems, type `int64`, 16 bytes\n",
      "a_flat      ndarray    2: 2 elems, type `int64`, 16 bytes\n",
      "a_float32   ndarray    2: 2 elems, type `float32`, 8 bytes\n",
      "a_row       ndarray    1x2: 2 elems, type `int64`, 16 bytes\n",
      "b           ndarray    2: 2 elems, type `int64`, 16 bytes\n",
      "full        ndarray    6: 6 elems, type `float64`, 48 bytes\n",
      "linspace    ndarray    100: 100 elems, type `float64`, 800 bytes\n",
      "np          module     <module 'numpy' from '/ho<...>kages/numpy/__init__.py'>\n",
      "ones        ndarray    9: 9 elems, type `float64`, 72 bytes\n",
      "range2      ndarray    5: 5 elems, type `int64`, 40 bytes\n",
      "range3      ndarray    3: 3 elems, type `int64`, 24 bytes\n",
      "range4      ndarray    16: 16 elems, type `float64`, 128 bytes\n",
      "range_      ndarray    5: 5 elems, type `int64`, 40 bytes\n",
      "zeros       ndarray    6: 6 elems, type `float64`, 48 bytes\n"
     ]
    }
   ],
   "source": [
    "%whos"
   ]
  },
  {
   "cell_type": "markdown",
   "metadata": {
    "cell_id": "00004-c2bf5e80-74b0-47af-8a2d-0dd68cd81ccc",
    "deepnote_cell_type": "markdown",
    "tags": []
   },
   "source": [
    "## Zufallszahlen und Vektoren"
   ]
  },
  {
   "cell_type": "code",
   "execution_count": 27,
   "metadata": {},
   "outputs": [
    {
     "data": {
      "text/plain": [
       "array([0.70484607, 0.64865885, 0.08530547, 0.53262125, 0.24595519,\n",
       "       0.84112321, 0.76370164, 0.97425505, 0.02476697, 0.33861851,\n",
       "       0.25894127, 0.83196188, 0.88932879, 0.64057769, 0.17459051,\n",
       "       0.17877671, 0.16971903, 0.4924649 , 0.27389847, 0.47762453])"
      ]
     },
     "execution_count": 27,
     "metadata": {},
     "output_type": "execute_result"
    }
   ],
   "source": [
    "random_vector = np.random.uniform(size=20)\n",
    "random_vector"
   ]
  },
  {
   "cell_type": "markdown",
   "metadata": {
    "cell_id": "00005-4e18f8b8-6f40-4c5d-a2af-4030007d883b",
    "deepnote_cell_type": "markdown",
    "tags": []
   },
   "source": [
    "## Vektoroperationen"
   ]
  },
  {
   "cell_type": "code",
   "execution_count": 28,
   "metadata": {},
   "outputs": [
    {
     "name": "stdout",
     "output_type": "stream",
     "text": [
      "[2 3]\n",
      "[-1  4]\n"
     ]
    },
    {
     "data": {
      "text/plain": [
       "array([1, 7])"
      ]
     },
     "execution_count": 28,
     "metadata": {},
     "output_type": "execute_result"
    }
   ],
   "source": [
    "# Addition\n",
    "print(a)\n",
    "print(b)\n",
    "\n",
    "a + b"
   ]
  },
  {
   "cell_type": "code",
   "execution_count": 29,
   "metadata": {},
   "outputs": [
    {
     "data": {
      "text/plain": [
       "[2, 3, -1, 4]"
      ]
     },
     "execution_count": 29,
     "metadata": {},
     "output_type": "execute_result"
    }
   ],
   "source": [
    "a.tolist() + b.tolist()"
   ]
  },
  {
   "cell_type": "code",
   "execution_count": 30,
   "metadata": {},
   "outputs": [
    {
     "data": {
      "text/plain": [
       "array([ 3, -1])"
      ]
     },
     "execution_count": 30,
     "metadata": {},
     "output_type": "execute_result"
    }
   ],
   "source": [
    "a - b"
   ]
  },
  {
   "cell_type": "code",
   "execution_count": 31,
   "metadata": {},
   "outputs": [
    {
     "ename": "ValueError",
     "evalue": "operands could not be broadcast together with shapes (3,) (2,) ",
     "output_type": "error",
     "traceback": [
      "\u001b[0;31m---------------------------------------------------------------------------\u001b[0m",
      "\u001b[0;31mValueError\u001b[0m                                Traceback (most recent call last)",
      "\u001b[0;32m<ipython-input-31-5c4a0a34795a>\u001b[0m in \u001b[0;36m<module>\u001b[0;34m\u001b[0m\n\u001b[1;32m      3\u001b[0m \u001b[0mx2\u001b[0m \u001b[0;34m=\u001b[0m \u001b[0mnp\u001b[0m\u001b[0;34m.\u001b[0m\u001b[0marray\u001b[0m\u001b[0;34m(\u001b[0m\u001b[0;34m[\u001b[0m\u001b[0;34m-\u001b[0m\u001b[0;36m1\u001b[0m\u001b[0;34m,\u001b[0m \u001b[0;36m4\u001b[0m\u001b[0;34m]\u001b[0m\u001b[0;34m)\u001b[0m\u001b[0;34m\u001b[0m\u001b[0;34m\u001b[0m\u001b[0m\n\u001b[1;32m      4\u001b[0m \u001b[0;34m\u001b[0m\u001b[0m\n\u001b[0;32m----> 5\u001b[0;31m \u001b[0mx1\u001b[0m \u001b[0;34m+\u001b[0m \u001b[0mx2\u001b[0m\u001b[0;34m\u001b[0m\u001b[0;34m\u001b[0m\u001b[0m\n\u001b[0m",
      "\u001b[0;31mValueError\u001b[0m: operands could not be broadcast together with shapes (3,) (2,) "
     ]
    }
   ],
   "source": [
    "# Fehler bei ungleicher Länge\n",
    "x1 = np.array([1, 2, -1])\n",
    "x2 = np.array([-1, 4])\n",
    "\n",
    "x1 + x2"
   ]
  },
  {
   "cell_type": "code",
   "execution_count": null,
   "metadata": {},
   "outputs": [],
   "source": [
    "a * b"
   ]
  },
  {
   "cell_type": "code",
   "execution_count": null,
   "metadata": {},
   "outputs": [],
   "source": [
    "a / b"
   ]
  },
  {
   "cell_type": "code",
   "execution_count": null,
   "metadata": {},
   "outputs": [],
   "source": [
    "alpha = 0.5\n",
    "\n",
    "alpha * x1"
   ]
  },
  {
   "cell_type": "code",
   "execution_count": 41,
   "metadata": {},
   "outputs": [
    {
     "data": {
      "text/plain": [
       "7.5"
      ]
     },
     "execution_count": 41,
     "metadata": {},
     "output_type": "execute_result"
    }
   ],
   "source": [
    "# Skalarprodukt\n",
    "x = np.array([3, -1, 2])\n",
    "w = np.array([0.5, 2, 4])\n",
    "\n",
    "np.dot(x, w)"
   ]
  },
  {
   "cell_type": "code",
   "execution_count": 42,
   "metadata": {},
   "outputs": [
    {
     "data": {
      "text/plain": [
       "7.5"
      ]
     },
     "execution_count": 42,
     "metadata": {},
     "output_type": "execute_result"
    }
   ],
   "source": [
    "(x * w).sum()"
   ]
  },
  {
   "cell_type": "code",
   "execution_count": 43,
   "metadata": {},
   "outputs": [
    {
     "data": {
      "text/plain": [
       "array([ 3, -1,  2])"
      ]
     },
     "execution_count": 43,
     "metadata": {},
     "output_type": "execute_result"
    }
   ],
   "source": [
    "# Norm und Distanz\n",
    "x "
   ]
  },
  {
   "cell_type": "code",
   "execution_count": 44,
   "metadata": {},
   "outputs": [
    {
     "data": {
      "text/plain": [
       "3.7416573867739413"
      ]
     },
     "execution_count": 44,
     "metadata": {},
     "output_type": "execute_result"
    }
   ],
   "source": [
    "np.linalg.norm(x)"
   ]
  },
  {
   "cell_type": "code",
   "execution_count": 45,
   "metadata": {},
   "outputs": [
    {
     "data": {
      "text/plain": [
       "4.387482193696061"
      ]
     },
     "execution_count": 45,
     "metadata": {},
     "output_type": "execute_result"
    }
   ],
   "source": [
    "np.linalg.norm(x - w)"
   ]
  },
  {
   "cell_type": "markdown",
   "metadata": {
    "cell_id": "00006-79469333-457f-4466-b0a3-241be59ddecb",
    "deepnote_cell_type": "markdown",
    "tags": []
   },
   "source": [
    "## Indexing"
   ]
  },
  {
   "cell_type": "code",
   "execution_count": null,
   "metadata": {},
   "outputs": [],
   "source": [
    "c = np.arange(20)\n",
    "\n",
    "print(c[1])\n",
    "print(c[5])\n",
    "\n",
    "print(c[:6])\n",
    "\n",
    "print(c[4:18])\n",
    "\n",
    "print(c[1:])\n",
    "\n",
    "print(c[ [1, 4, 5, 9] ])\n",
    "\n",
    "print(c[ [2, 3, 2, 3, 2, 3]])"
   ]
  },
  {
   "cell_type": "code",
   "execution_count": null,
   "metadata": {},
   "outputs": [],
   "source": [
    "c > 5"
   ]
  },
  {
   "cell_type": "code",
   "execution_count": null,
   "metadata": {},
   "outputs": [],
   "source": [
    "c[c > 5]"
   ]
  },
  {
   "cell_type": "code",
   "execution_count": null,
   "metadata": {},
   "outputs": [],
   "source": [
    "c[~(c > 5)]"
   ]
  },
  {
   "cell_type": "code",
   "execution_count": null,
   "metadata": {},
   "outputs": [],
   "source": [
    "c[c % 2 == 0]"
   ]
  },
  {
   "cell_type": "markdown",
   "metadata": {
    "cell_id": "00007-39afdacd-8d9d-4e05-ae37-8e27cc9319af",
    "deepnote_cell_type": "markdown",
    "tags": []
   },
   "source": [
    "## Map- und Reduce-Funktionen"
   ]
  },
  {
   "cell_type": "code",
   "execution_count": null,
   "metadata": {},
   "outputs": [],
   "source": [
    "d = np.array([0, 3, 5, -4])"
   ]
  },
  {
   "cell_type": "code",
   "execution_count": null,
   "metadata": {},
   "outputs": [],
   "source": [
    "print(np.sum(d))\n",
    "print(d.sum())\n",
    "\n",
    "print(np.mean(d))\n",
    "print(d.mean())\n",
    "\n",
    "print(np.max(d))\n",
    "print(d.max())\n",
    "\n",
    "print(np.min(d))\n",
    "print(d.min())\n",
    "\n",
    "print(np.std(d))\n",
    "print(d.std())\n",
    "\n",
    "print(np.median(d))"
   ]
  },
  {
   "cell_type": "code",
   "execution_count": null,
   "metadata": {},
   "outputs": [],
   "source": [
    "u = np.array([0, 0, 0, 1, 1, 1, 2, 2])\n",
    "\n",
    "# return_counts liefert die Häufigkeiten und ist per default auf False\n",
    "np.unique(u, return_counts=True)"
   ]
  },
  {
   "cell_type": "code",
   "execution_count": null,
   "metadata": {},
   "outputs": [],
   "source": [
    "d= np.array([2,3,4,5,6])\n",
    "c = np.array([4,6,7,8,9])"
   ]
  },
  {
   "cell_type": "code",
   "execution_count": 32,
   "metadata": {},
   "outputs": [],
   "source": [
    "big_array = np.random.uniform(size=100000000)"
   ]
  },
  {
   "cell_type": "code",
   "execution_count": null,
   "metadata": {},
   "outputs": [],
   "source": [
    "# %timeit sum(big_array)"
   ]
  },
  {
   "cell_type": "code",
   "execution_count": 103,
   "metadata": {},
   "outputs": [
    {
     "data": {
      "text/plain": [
       "49997646.417426705"
      ]
     },
     "execution_count": 103,
     "metadata": {},
     "output_type": "execute_result"
    }
   ],
   "source": [
    "%timeit np.sum(big_array)"
   ]
  },
  {
   "cell_type": "markdown",
   "metadata": {
    "cell_id": "00014-c2893a2e-f695-429e-8c11-c49b4d38f01e",
    "deepnote_cell_type": "markdown",
    "tags": []
   },
   "source": [
    "## Funktionen auf Vektoren"
   ]
  },
  {
   "cell_type": "code",
   "execution_count": 35,
   "metadata": {},
   "outputs": [
    {
     "data": {
      "text/plain": [
       "array([0.        , 0.03173326, 0.06346652, 0.09519978, 0.12693304,\n",
       "       0.1586663 , 0.19039955, 0.22213281, 0.25386607, 0.28559933,\n",
       "       0.31733259, 0.34906585, 0.38079911, 0.41253237, 0.44426563,\n",
       "       0.47599889, 0.50773215, 0.53946541, 0.57119866, 0.60293192,\n",
       "       0.63466518, 0.66639844, 0.6981317 , 0.72986496, 0.76159822,\n",
       "       0.79333148, 0.82506474, 0.856798  , 0.88853126, 0.92026451,\n",
       "       0.95199777, 0.98373103, 1.01546429, 1.04719755, 1.07893081,\n",
       "       1.11066407, 1.14239733, 1.17413059, 1.20586385, 1.23759711,\n",
       "       1.26933037, 1.30106362, 1.33279688, 1.36453014, 1.3962634 ,\n",
       "       1.42799666, 1.45972992, 1.49146318, 1.52319644, 1.5549297 ,\n",
       "       1.58666296, 1.61839622, 1.65012947, 1.68186273, 1.71359599,\n",
       "       1.74532925, 1.77706251, 1.80879577, 1.84052903, 1.87226229,\n",
       "       1.90399555, 1.93572881, 1.96746207, 1.99919533, 2.03092858,\n",
       "       2.06266184, 2.0943951 , 2.12612836, 2.15786162, 2.18959488,\n",
       "       2.22132814, 2.2530614 , 2.28479466, 2.31652792, 2.34826118,\n",
       "       2.37999443, 2.41172769, 2.44346095, 2.47519421, 2.50692747,\n",
       "       2.53866073, 2.57039399, 2.60212725, 2.63386051, 2.66559377,\n",
       "       2.69732703, 2.72906028, 2.76079354, 2.7925268 , 2.82426006,\n",
       "       2.85599332, 2.88772658, 2.91945984, 2.9511931 , 2.98292636,\n",
       "       3.01465962, 3.04639288, 3.07812614, 3.10985939, 3.14159265])"
      ]
     },
     "execution_count": 35,
     "metadata": {},
     "output_type": "execute_result"
    }
   ],
   "source": [
    "xx = np.linspace(0, np.pi, 100)\n",
    "xx"
   ]
  },
  {
   "cell_type": "code",
   "execution_count": 34,
   "metadata": {},
   "outputs": [
    {
     "data": {
      "text/plain": [
       "array([0.        , 0.17813831, 0.25192562, 0.30854461, 0.35627663,\n",
       "       0.39832938, 0.43634797, 0.47130968, 0.50385124, 0.53441494,\n",
       "       0.56332281, 0.59081795, 0.61708922, 0.64228683, 0.66653254,\n",
       "       0.68992673, 0.71255326, 0.73448309, 0.75577686, 0.77648691,\n",
       "       0.79665876, 0.81633231, 0.83554276, 0.85432134, 0.87269595,\n",
       "       0.89069157, 0.90833074, 0.92563383, 0.94261936, 0.95930418,\n",
       "       0.97570373, 0.99183216, 1.00770248, 1.02332671, 1.03871594,\n",
       "       1.05388048, 1.06882989, 1.08357307, 1.09811832, 1.11247342,\n",
       "       1.12664563, 1.14064176, 1.15446823, 1.16813105, 1.1816359 ,\n",
       "       1.19498814, 1.20819283, 1.22125476, 1.23417845, 1.2469682 ,\n",
       "       1.2596281 , 1.27216202, 1.28457365, 1.29686651, 1.30904392,\n",
       "       1.3211091 , 1.33306508, 1.34491478, 1.35666099, 1.36830636,\n",
       "       1.37985345, 1.39130471, 1.40266249, 1.41392904, 1.42510652,\n",
       "       1.43619701, 1.44720251, 1.45812495, 1.46896617, 1.47972797,\n",
       "       1.49041207, 1.50102012, 1.51155372, 1.52201443, 1.53240372,\n",
       "       1.54272306, 1.55297382, 1.56315737, 1.573275  , 1.58332797,\n",
       "       1.59331752, 1.60324483, 1.61311105, 1.62291728, 1.63266462,\n",
       "       1.64235411, 1.65198677, 1.66156358, 1.67108552, 1.6805535 ,\n",
       "       1.68996844, 1.69933122, 1.70864269, 1.71790369, 1.72711504,\n",
       "       1.73627752, 1.7453919 , 1.75445893, 1.76347934, 1.77245385])"
      ]
     },
     "execution_count": 34,
     "metadata": {},
     "output_type": "execute_result"
    }
   ],
   "source": [
    "y1 = np.sqrt(xx)\n",
    "y1"
   ]
  },
  {
   "cell_type": "code",
   "execution_count": 39,
   "metadata": {},
   "outputs": [
    {
     "name": "stderr",
     "output_type": "stream",
     "text": [
      "<ipython-input-39-c0d5c07af57d>:7: RuntimeWarning: divide by zero encountered in log\n",
      "  y6 = np.log(xx)\n"
     ]
    },
    {
     "data": {
      "text/plain": [
       "(-2.0, 2.0)"
      ]
     },
     "execution_count": 39,
     "metadata": {},
     "output_type": "execute_result"
    },
    {
     "data": {
      "image/png": "[encoded data removed]",
      "text/plain": [
       "<Figure size 432x288 with 1 Axes>"
      ]
     },
     "metadata": {
      "needs_background": "light"
     },
     "output_type": "display_data"
    }
   ],
   "source": [
    "import matplotlib.pyplot as plt\n",
    "\n",
    "y2 = np.exp(xx)\n",
    "y3 = np.sin(xx)\n",
    "y4 = np.cos(xx)\n",
    "y5 = xx**2\n",
    "y6 = np.log(xx)\n",
    "\n",
    "plt.plot(xx, y1)\n",
    "plt.plot(xx, y2)\n",
    "plt.plot(xx, y3)\n",
    "plt.plot(xx, y4)\n",
    "plt.plot(xx, y5)\n",
    "plt.plot(xx, y6)\n",
    "\n",
    "plt.ylim(-2, 2)"
   ]
  },
  {
   "cell_type": "markdown",
   "metadata": {
    "cell_id": "00008-68c1430a-1909-4b6f-9143-69fc3f10d07f",
    "deepnote_cell_type": "markdown",
    "tags": []
   },
   "source": [
    "# Matrizen"
   ]
  },
  {
   "cell_type": "markdown",
   "metadata": {
    "cell_id": "00009-28e22fa5-116f-4959-b6bc-6e4e80009fcc",
    "deepnote_cell_type": "markdown",
    "tags": []
   },
   "source": [
    "## Matrizen erstellen"
   ]
  },
  {
   "cell_type": "code",
   "execution_count": 52,
   "metadata": {},
   "outputs": [],
   "source": [
    "A = np.array([\n",
    "    [2, -1, 3],\n",
    "    [1, 5, 0]\n",
    "])\n",
    "\n",
    "B = np.array([\n",
    "    [1, 1],\n",
    "    [0, 1],\n",
    "    [-1, 0]\n",
    "])\n",
    "\n",
    "x = np.array([1, 0, -1])"
   ]
  },
  {
   "cell_type": "code",
   "execution_count": 50,
   "metadata": {},
   "outputs": [
    {
     "data": {
      "text/plain": [
       "(2, 3)"
      ]
     },
     "execution_count": 50,
     "metadata": {},
     "output_type": "execute_result"
    }
   ],
   "source": [
    "A.shape"
   ]
  },
  {
   "cell_type": "markdown",
   "metadata": {
    "cell_id": "00010-9bf9c992-2975-4fc3-8085-eff6ada5dc2a",
    "deepnote_cell_type": "markdown",
    "tags": []
   },
   "source": [
    "## Matrixoperationen"
   ]
  },
  {
   "cell_type": "code",
   "execution_count": 51,
   "metadata": {},
   "outputs": [
    {
     "data": {
      "text/plain": [
       "array([-1,  1])"
      ]
     },
     "execution_count": 51,
     "metadata": {},
     "output_type": "execute_result"
    }
   ],
   "source": [
    "np.matmul(A, x)"
   ]
  },
  {
   "cell_type": "code",
   "execution_count": 53,
   "metadata": {},
   "outputs": [
    {
     "data": {
      "text/plain": [
       "array([[-1,  1],\n",
       "       [ 1,  6]])"
      ]
     },
     "execution_count": 53,
     "metadata": {},
     "output_type": "execute_result"
    }
   ],
   "source": [
    "np.matmul(A, B)"
   ]
  },
  {
   "cell_type": "markdown",
   "metadata": {
    "cell_id": "00011-93c35f7a-a53c-4455-bc00-91d6ae17e89e",
    "deepnote_cell_type": "markdown",
    "tags": []
   },
   "source": [
    "## Indexing"
   ]
  },
  {
   "cell_type": "code",
   "execution_count": 56,
   "metadata": {},
   "outputs": [
    {
     "data": {
      "text/plain": [
       "array([[4.096e+03, 1.000e+00, 3.000e+00, ..., 1.520e+03, 9.840e+02,\n",
       "        1.050e+02],\n",
       "       [2.954e+03, 0.000e+00, 1.000e+00, ..., 1.300e+03, 1.500e+03,\n",
       "        7.000e+00],\n",
       "       [4.887e+03, 1.000e+00, 5.000e+00, ..., 3.890e+03, 7.700e+02,\n",
       "        1.810e+02],\n",
       "       ...,\n",
       "       [3.085e+03, 0.000e+00, 4.000e+00, ..., 3.700e+03, 3.243e+03,\n",
       "        2.200e+01],\n",
       "       [8.296e+03, 1.000e+00, 0.000e+00, ..., 5.100e+02, 9.780e+02,\n",
       "        9.100e+01],\n",
       "       [5.304e+03, 1.000e+00, 2.000e+00, ..., 1.040e+03, 6.970e+02,\n",
       "        6.000e+01]])"
      ]
     },
     "execution_count": 56,
     "metadata": {},
     "output_type": "execute_result"
    }
   ],
   "source": [
    "import pandas as pd\n",
    "\n",
    "data = pd.read_csv(\"../data/house_location/house_location_data.csv\")\n",
    "X = data.values\n",
    "X"
   ]
  },
  {
   "cell_type": "code",
   "execution_count": 57,
   "metadata": {},
   "outputs": [
    {
     "data": {
      "text/plain": [
       "(393, 9)"
      ]
     },
     "execution_count": 57,
     "metadata": {},
     "output_type": "execute_result"
    }
   ],
   "source": [
    "X.shape"
   ]
  },
  {
   "cell_type": "code",
   "execution_count": 58,
   "metadata": {},
   "outputs": [
    {
     "data": {
      "text/plain": [
       "array([2.414e+03, 1.000e+00, 3.000e+00, 2.000e+00, 1.195e+06, 1.907e+03,\n",
       "       1.396e+03, 8.560e+02, 3.300e+01])"
      ]
     },
     "execution_count": 58,
     "metadata": {},
     "output_type": "execute_result"
    }
   ],
   "source": [
    "# 24-ter Datenpunkt\n",
    "X[23, :]"
   ]
  },
  {
   "cell_type": "code",
   "execution_count": 63,
   "metadata": {},
   "outputs": [
    {
     "data": {
      "text/plain": [
       "array([ 3. ,  1. ,  5. ,  2. ,  3. ,  2. ,  4. ,  3. ,  1. ,  2. ,  2. ,\n",
       "        5. ,  2. ,  3. ,  1. ,  0. ,  5. ,  3. ,  2. ,  1. ,  2. ,  2. ,\n",
       "        1. ,  3. ,  1. ,  1. ,  3. ,  2. ,  1. ,  2. ,  2. ,  2. ,  4. ,\n",
       "        0. ,  2. ,  2. ,  1. ,  4. ,  2. ,  2. ,  1. ,  3. ,  1. ,  3. ,\n",
       "        2. ,  2. ,  1. ,  2. ,  3. ,  3. ,  5. ,  2. ,  3. ,  2. ,  2. ,\n",
       "        7. ,  3. ,  1. ,  2. ,  2. ,  1. ,  1. ,  3. ,  2. ,  3. ,  2. ,\n",
       "        0. ,  1. ,  3. ,  4. ,  1. ,  1. ,  1. ,  1. ,  5. ,  2. ,  3. ,\n",
       "        3. ,  1. ,  2. ,  1. ,  2. ,  2. ,  2. ,  3. ,  2. ,  3. ,  1. ,\n",
       "        1. ,  0. ,  2. ,  2. ,  3. ,  2. ,  1. ,  3. ,  3. ,  3. ,  1. ,\n",
       "        2. ,  2. ,  2. ,  2. ,  2. ,  0. ,  3. ,  2. ,  3. ,  4. ,  1. ,\n",
       "        2. ,  2. ,  1. ,  2. ,  4. ,  1. ,  1. ,  1. ,  2. ,  3. ,  1. ,\n",
       "        3. ,  3. ,  2. ,  2. ,  5. ,  6. ,  2. ,  3. ,  4. ,  2. ,  2. ,\n",
       "        4. ,  3. ,  4. ,  3. ,  2. ,  3. ,  1. ,  1. ,  2. ,  2. ,  2. ,\n",
       "        3. ,  3. ,  1. ,  2. ,  1. ,  0. ,  2. ,  6. ,  3. ,  1. ,  3. ,\n",
       "        4. ,  5. ,  2. ,  3. ,  3. ,  4. ,  6. ,  3. ,  2. ,  4. ,  2. ,\n",
       "        1. ,  2. ,  6. ,  1. ,  5. ,  5. ,  1. ,  2. ,  8. ,  1. ,  1. ,\n",
       "        1. ,  1. ,  1. ,  1. ,  4. ,  2. ,  3. ,  2. ,  1. ,  1. ,  0. ,\n",
       "        3. ,  2. ,  1. ,  0. ,  3. ,  2. ,  0. ,  2. ,  1. ,  2. ,  4. ,\n",
       "        3. ,  3. ,  3. ,  1. ,  1. ,  1. ,  2. ,  2. ,  1. ,  3. ,  0. ,\n",
       "        2. ,  6. ,  0. ,  0. ,  1. ,  2. ,  3. ,  1. ,  1. ,  1. ,  1. ,\n",
       "        2. ,  1. ,  2. ,  3. ,  3. ,  2. ,  2. ,  2. ,  5. ,  2. ,  0. ,\n",
       "        0. ,  1. ,  3. ,  0. ,  1. ,  3. ,  2. ,  3. ,  1. ,  1. ,  3. ,\n",
       "        2. ,  0. ,  2. ,  3. ,  2. ,  2. ,  3. ,  1. ,  2. ,  3. ,  1. ,\n",
       "        2. ,  1. ,  2. ,  1. ,  3. ,  2. ,  0. ,  1. ,  2. ,  4. ,  4. ,\n",
       "        1. ,  2. ,  0. ,  1. ,  3. ,  2. ,  3. ,  2. ,  1. ,  0. ,  3. ,\n",
       "        2. ,  1. ,  4. ,  4. ,  0. ,  2. ,  2. ,  2. ,  4. ,  3. ,  2. ,\n",
       "        3. ,  2. ,  0. ,  2. ,  2. ,  2. ,  3. ,  2. ,  1. ,  1. ,  2. ,\n",
       "        2. ,  1. ,  6. ,  3. ,  2. ,  3. ,  1. ,  1. ,  3. ,  2. , 10. ,\n",
       "        1. ,  2. ,  2. ,  3. ,  2. ,  3. ,  3. ,  1. ,  2. ,  3. ,  4. ,\n",
       "        2. ,  4. ,  4. ,  2. ,  2. ,  1. ,  4. ,  0. ,  4. ,  2. ,  1. ,\n",
       "        2. ,  5. ,  3. ,  3. ,  2. ,  2. ,  2. ,  4. ,  2. ,  3. ,  2. ,\n",
       "        2. ,  2. ,  2. ,  2. ,  1. ,  2. ,  0.5,  1. ,  3. ,  1. ,  2. ,\n",
       "        4. ,  3. ,  1. ,  2. ,  1. ,  3. ,  3. ,  1. ,  1. ,  5. ,  3. ,\n",
       "        1. ,  2. ,  2. ,  0. ,  4. ,  0. ,  3. ,  2. ,  1. ,  2. ,  4. ,\n",
       "        2. ,  3. ,  1. ,  1. ,  1. ,  3. ,  3. ,  4. ,  2. ,  2. ,  3. ,\n",
       "        4. ,  2. ,  1. ,  2. ,  2. ,  4. ,  0. ,  2. ])"
      ]
     },
     "execution_count": 63,
     "metadata": {},
     "output_type": "execute_result"
    }
   ],
   "source": [
    "# Werte des 3-ten Features für alle Datenpunkte\n",
    "X[:, 2]"
   ]
  },
  {
   "cell_type": "code",
   "execution_count": 64,
   "metadata": {},
   "outputs": [],
   "source": [
    "X_train = X[:200, :]\n",
    "X_test = X[200:, :]"
   ]
  },
  {
   "cell_type": "code",
   "execution_count": 66,
   "metadata": {},
   "outputs": [
    {
     "data": {
      "text/plain": [
       "array([1., 1., 1., 1., 1., 1., 1., 1., 1., 1., 1., 1., 1., 1., 1., 1., 1.,\n",
       "       1., 1., 1., 1., 1., 1., 1., 1., 1., 1., 1., 1., 1., 1., 1., 1., 1.,\n",
       "       1., 1., 1., 1., 1., 1., 1., 1., 1., 1., 1., 1., 1., 1., 1., 1., 1.,\n",
       "       1., 1., 1., 1., 1., 1., 1., 1., 1., 1., 1., 1., 1., 1., 1., 1., 1.,\n",
       "       1., 1., 1., 1., 1., 1., 1., 1., 1., 1., 1., 1., 1., 1., 1., 1., 1.,\n",
       "       1., 1., 1., 1., 1., 1., 1., 1., 1., 1., 1., 1., 1., 1., 1., 1., 1.,\n",
       "       1., 1., 1., 1., 1., 1., 1., 1., 1., 1., 1., 1., 1., 1., 1., 1., 1.,\n",
       "       1., 1., 1., 1., 1., 1., 1., 1., 1., 1., 1., 1., 1., 1., 1., 1., 1.,\n",
       "       1., 1., 1., 1., 1., 1., 1., 1., 1., 1., 1., 1., 1., 1., 1., 1., 1.,\n",
       "       1., 1., 1., 1., 1., 1., 1., 1., 1., 1., 1., 1., 1., 1., 1., 1., 1.,\n",
       "       1., 1., 1., 1., 1., 1., 1., 1., 1., 1., 1., 1., 1., 1., 1., 1., 1.,\n",
       "       1., 1., 1., 1., 1., 1., 1., 1., 1., 1., 1., 1., 1., 1., 1., 1., 1.,\n",
       "       1., 1., 1., 1., 1., 1., 1., 1., 1., 1., 1., 1., 1., 1., 1., 1., 1.,\n",
       "       1., 1., 1., 1., 1., 1., 1., 1., 1., 1., 1., 1., 1., 1., 1., 1., 1.,\n",
       "       1., 1., 1., 1., 1., 1., 1., 1., 1., 1., 1., 1., 1., 1., 1., 1., 1.,\n",
       "       1., 1., 1., 1., 1., 1., 1., 1., 1., 1., 1., 1., 1., 1., 1., 1., 1.,\n",
       "       1., 1., 1., 1., 1., 1., 1., 1., 1., 1., 1., 1., 1., 1., 1., 1., 1.,\n",
       "       1., 1., 1., 1., 1., 1., 1., 1., 1., 1., 1., 1., 1., 1., 1., 1., 1.,\n",
       "       1., 1., 1., 1., 1., 1., 1., 1., 1., 1., 1., 1., 1., 1., 1., 1., 1.,\n",
       "       1., 1., 1., 1., 1., 1., 1., 1., 1., 1., 1., 1., 1., 1., 1., 1., 1.,\n",
       "       1., 1., 1., 1., 1., 1., 1., 1., 1., 1., 1., 1., 1., 1., 1., 1., 1.,\n",
       "       1., 1., 1., 1., 1., 1., 1., 1., 1., 1., 1., 1., 1., 1., 1., 1., 1.,\n",
       "       1., 1., 1., 1., 1., 1., 1., 1., 1., 1., 1., 1., 1., 1., 1., 1., 1.,\n",
       "       1., 1.])"
      ]
     },
     "execution_count": 66,
     "metadata": {},
     "output_type": "execute_result"
    }
   ],
   "source": [
    "ones = np.ones(len(X))\n",
    "ones"
   ]
  },
  {
   "cell_type": "code",
   "execution_count": 68,
   "metadata": {},
   "outputs": [],
   "source": [
    "X_new = np.column_stack((X, ones))"
   ]
  },
  {
   "cell_type": "code",
   "execution_count": 69,
   "metadata": {},
   "outputs": [
    {
     "data": {
      "text/plain": [
       "(393, 10)"
      ]
     },
     "execution_count": 69,
     "metadata": {},
     "output_type": "execute_result"
    }
   ],
   "source": [
    "X_new.shape"
   ]
  },
  {
   "cell_type": "markdown",
   "metadata": {
    "cell_id": "00012-03d891e2-54d1-4740-bef3-7b93e8cccc85",
    "deepnote_cell_type": "markdown",
    "tags": []
   },
   "source": [
    "## Map- und Reduce-Funktionen"
   ]
  },
  {
   "cell_type": "code",
   "execution_count": 72,
   "metadata": {},
   "outputs": [
    {
     "data": {
      "text/plain": [
       "array([9.980e+03, 1.000e+00, 1.000e+01, 1.000e+01, 2.750e+07, 2.016e+03,\n",
       "       7.800e+03, 4.601e+03, 2.380e+02])"
      ]
     },
     "execution_count": 72,
     "metadata": {},
     "output_type": "execute_result"
    }
   ],
   "source": [
    "# Maximalwerte für alle Features berechnen\n",
    "np.max(X, axis=0)"
   ]
  },
  {
   "cell_type": "code",
   "execution_count": null,
   "metadata": {},
   "outputs": [],
   "source": []
  }
 ],
 "metadata": {
  "deepnote_execution_queue": [],
  "deepnote_notebook_id": "2e0f82be-5ae8-4284-a2db-f12d178cbf39",
  "kernelspec": {
   "display_name": "Python 3",
   "language": "python",
   "name": "python3"
  },
  "language_info": {
   "codemirror_mode": {
    "name": "ipython",
    "version": 3
   },
   "file_extension": ".py",
   "mimetype": "text/x-python",
   "name": "python",
   "nbconvert_exporter": "python",
   "pygments_lexer": "ipython3",
   "version": "3.8.5"
  }
 },
 "nbformat": 4,
 "nbformat_minor": 2
}
