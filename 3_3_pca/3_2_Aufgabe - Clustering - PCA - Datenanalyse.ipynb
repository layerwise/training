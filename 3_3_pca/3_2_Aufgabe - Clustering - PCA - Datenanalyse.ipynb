{
 "cells": [
  {
   "cell_type": "markdown",
   "metadata": {},
   "source": [
    "## Clustering - PCA - Datenanalyse <span style=\"color:orange; font-size:1em\">(oo)</span> <span style=\"font-size:1em\">&#x1F4D8;</span>\n",
    "\n",
    "In dieser offen gehaltenen Aufgabe können Sie ihre Kenntnisse im Bereich des Clusterings, der Visualisierung und der qualitativen Analyse erproben. Dazu nutzen Sie einen öffentlich verfügbaren Datensatz, der einer realistischen Kundensegmentierung angelehnt sein soll: https://www.kaggle.com/vjchoudhary7/customer-segmentation-tutorial-in-python. Der \"Mall\"-Datensatz ist ein kleiner Datensatz, der die Komplexitäten einer realistischen Kundensegmentierung nicht abbildet, aber dennoch dazu dienen kann, sich mit der Problematik zu beschäftigen.\n",
    "\n",
    "Alle folgenden Aufgaben sind optional und sollten als mögliche Ansatzpunkte verstanden werden.\n",
    "\n",
    "**<span style=\"color:orange; font-size:2em\"> (a) </span>** Laden Sie den Datensatz herunter und machen Sie sich mit den Merkmalen vertraut. Nutzen Sie geeigenete Visualisierungen.\n",
    "\n",
    "**<span style=\"color:orange; font-size:2em\"> (b) </span>** Beschränken Sie sich zunächst auf einen Teil der Merkmale. Wählen Sie einen interessanten Satz aus 2-3 Merkmalen aus und plotten Sie damit den Datensatz (Tipp: kategorische Variablen wie das Geschlecht können durch Farbe in einen 2D-Scatterplot aufgenommen werden.). Legen Sie durch eine qualitative Analyse eine Clusteranzahl und clustern Sie die Daten mit dem K-Means Algorithmus.\n",
    "\n",
    "**<span style=\"color:orange; font-size:2em\"> (c) </span>** Benutzen Sie eine quantative Methode (siehe Aufgabe (4.1)) um die Anzahl der Cluster zu bestimmen. Besonders empfehlenswert ist die Elbow-Methode vertraut. Informieren Sie sich zum Beispiel durch dieses Video: https://www.youtube.com/watch?v=QXOkPvFM6NU.\n",
    "\n",
    "\n",
    "**<span style=\"color:orange; font-size:2em\"> (d) </span>** Versuchen Sie, das Clustering weiter zu verfolgen. Varieren Sie die benutzten Merkmale oder benutzen Sie sämtliche Merkmale. Probieren Sie einen anderen Clusteralgorithmus, zum Beispiel DBSCAN und beschäftigen Sie sich auch dort mit dem Tuning der Hyperparameter.\n",
    "\n",
    "**<span style=\"color:orange; font-size:2em\"> (e) </span>** Erweitern Sie ihr Wissen: Welche Clusteralgorithmen sind noch möglich? Nutzen Sie dazu folgende Links: https://scikit-learn.org/stable/modules/clustering.html und  https://www.youtube.com/watch?v=7xHsRkOdVwo (Erklärung des hierarchischen Clusterings).\n",
    "\n",
    "**<span style=\"color:orange; font-size:2em\"> (f) </span>** Kombinieren Sie ihre Analyse mit Principal Component Analysis, um die Daten visualisieren zu können bzw. das Clustering zu verbessern. (Hinweis: PCA erfordert, dass die Merkmale des Datensatzes skaliert werden.)"
   ]
  },
  {
   "cell_type": "code",
   "execution_count": 1,
   "metadata": {},
   "outputs": [],
   "source": [
    "from sklearn.cluster import KMeans, DBSCAN, AgglomerativeClustering  # AgglomerativeClustering = HierachicalClustering"
   ]
  },
  {
   "cell_type": "code",
   "execution_count": null,
   "metadata": {},
   "outputs": [],
   "source": []
  }
 ],
 "metadata": {
  "kernelspec": {
   "display_name": "Python 3",
   "language": "python",
   "name": "python3"
  },
  "language_info": {
   "codemirror_mode": {
    "name": "ipython",
    "version": 3
   },
   "file_extension": ".py",
   "mimetype": "text/x-python",
   "name": "python",
   "nbconvert_exporter": "python",
   "pygments_lexer": "ipython3",
   "version": "3.8.5"
  }
 },
 "nbformat": 4,
 "nbformat_minor": 2
}
