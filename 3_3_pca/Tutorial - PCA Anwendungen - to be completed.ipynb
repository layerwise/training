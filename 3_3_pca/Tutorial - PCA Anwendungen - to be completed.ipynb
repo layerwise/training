{
 "cells": [
  {
   "cell_type": "markdown",
   "metadata": {},
   "source": [
    "## 1. Vorbereitung"
   ]
  },
  {
   "cell_type": "code",
   "execution_count": 14,
   "metadata": {},
   "outputs": [],
   "source": [
    "%matplotlib widget\n",
    "import numpy as np\n",
    "import matplotlib.pyplot as plt\n",
    "import pandas as pd\n",
    "\n",
    "# Importiere PCA\n",
    "from sklearn.decomposition import PCA\n",
    "from sklearn.datasets import load_digits\n",
    "from sklearn.model_selection import train_test_split\n",
    "from sklearn.svm import SVC\n",
    "from sklearn.metrics import accuracy_score\n",
    "\n",
    "import utils_pca"
   ]
  },
  {
   "cell_type": "code",
   "execution_count": 4,
   "metadata": {},
   "outputs": [],
   "source": [
    "# Hilfsfunktion zum Visualisieren von Bildern in einem Raster\n",
    "def plot_images(data, shape=(28, 28), grid=(4, 10), cmap=\"Greys\"):\n",
    "    fig, axes = plt.subplots(grid[0], grid[1], figsize=(10, 4))\n",
    "    \n",
    "    for i, ax in enumerate(axes.flatten()):\n",
    "        ax.imshow(data[i, :].reshape(*shape), cmap=cmap, interpolation=\"none\")\n",
    "        ax.axis(\"off\")"
   ]
  },
  {
   "cell_type": "markdown",
   "metadata": {},
   "source": [
    "### 1.1. Digits Datensatz"
   ]
  },
  {
   "cell_type": "code",
   "execution_count": 5,
   "metadata": {},
   "outputs": [],
   "source": [
    "digits = load_digits()"
   ]
  },
  {
   "cell_type": "markdown",
   "metadata": {},
   "source": [
    "### 1.2. Scikit-Learn PCA"
   ]
  },
  {
   "cell_type": "markdown",
   "metadata": {},
   "source": [
    "Scikit-Learn's PCA hat folgende wichtige Funktionen:\n",
    "\n",
    "- `fit()`\n",
    "- `transform()`\n",
    "- `inverse_transform()`\n",
    "\n",
    "\n",
    "Nach dem Fit sind folgende Attribute relevant:\n",
    "    \n",
    "- `mean_`\n",
    "- `components_`\n",
    "- `explained_variance_`\n",
    "- `explained_variance_ratio_`"
   ]
  },
  {
   "cell_type": "markdown",
   "metadata": {},
   "source": [
    "## 2.1 PCA zur Dimensionsreduktion\n",
    "\n",
    "Principal Component Analysis kann zur Reduktion der Anzahl der Features benutzt werden - ein Vorgang, der Dimensionsreduktion genannt wird. Das kann für alles Mögliche nützlich sein: zur Visualisierung der Daten, zur Kompression der Daten und damit auch zur Vorverarbeitung der Daten zum Beispiel für nachgeschaltetes überwachtes Modell.\n",
    "\n",
    "Wichtig ist, dass die Dimensionsreduktion **keine Selektion der Features ist**. Es wird keine Auswahl getroffen. Stattdessen werden neue Features gelernt, die sich jeweils aus den ursprünglichen Features zusammensetzen aber dabei möglichst relevante Informationen darstellen. Im Falle der PCA setzen sich die neuen Features immer als sogenannte *Linearkombinationen* (ein Begriff der lineare Algebra) der ursprünglichen Features zusammen - das heißt gewichtete Summen der ursprünglichen Features.\n",
    "\n",
    "Dimensionsreduktion ist ein völlig alltäglicher Vorgang und das menschliche Gehirn ist perfekt darin. Hier ein Beispiel: wenn wir zum Beispiel einen Hund auf einem Bild beschreiben, werden wir dies üblicherweise tun, indem wir bestimmte Eigenschaften des Hundes erwähnen - Farbe, Größe, Fell, Rasse usw. Keineswegs werden wir uns darauf beschränken, die Intensitäten der Pixel des Bildes einzeln aufzuzählen. Aber ganz genau so sieht bekanntlich ein überwachtes Modell das Bild. Die Information über Größe und Farbe des Hundes ergeben sich aber aus den zu Grunde liegenden Pixeln. In diesem Beispiel sind die Pixel die ursprünglichen Features. Die Eigenschaften Farbe, Größe, etc. sind das Ergebnis einer Dimensionsreduktion."
   ]
  },
  {
   "cell_type": "markdown",
   "metadata": {},
   "source": [
    "### 2.1.1 Kompression\n",
    "\n",
    "Zum Einstieg beschäftigen wir uns damit, wie man die Information in Bildern komprimieren kann, indem man PCA benutzt. Wir beschäftigen uns hierzu nocheinmal mit dem Sign-MNIST Datensatz."
   ]
  },
  {
   "cell_type": "code",
   "execution_count": 6,
   "metadata": {},
   "outputs": [],
   "source": [
    "# TODO"
   ]
  },
  {
   "cell_type": "markdown",
   "metadata": {},
   "source": [
    "### 2.1.2 Visualisierung\n",
    "\n",
    "Die Reduktion der Dimension kann Visualisierungen ermöglichen, die andernfalls nicht möglich wären. Eine Reduktion auf 2 oder 3 Dimensionen erlaubt zum Beispiel die Benutzung von Scatterplots."
   ]
  },
  {
   "cell_type": "code",
   "execution_count": 7,
   "metadata": {},
   "outputs": [],
   "source": [
    "# TODO 2D-Dimensionsreduktion"
   ]
  },
  {
   "cell_type": "code",
   "execution_count": 8,
   "metadata": {},
   "outputs": [],
   "source": [
    "# TODO 3D-Dimensionsreduktion"
   ]
  },
  {
   "cell_type": "markdown",
   "metadata": {},
   "source": [
    "#### Eigen-Images\n",
    "\n",
    "Die gelernten Komponenten/Projektionsvektoren können als Bilder visualisiert werden."
   ]
  },
  {
   "cell_type": "code",
   "execution_count": 9,
   "metadata": {},
   "outputs": [],
   "source": [
    "# TODO: Eigen-Images visualisieren"
   ]
  },
  {
   "cell_type": "markdown",
   "metadata": {},
   "source": [
    "### 2.1.3 Vorverarbeitung/Feature Engineering\n",
    "\n",
    "Ein weit verbreitete praktische Anwendung von Dimensionsreduktion ist die Anwendung als Vorverarbeitung. Nachgeschaltete überwachte Modelle profitieren unter Umständen von einer Reduktion der Features - im Sinne von Laufzeit, Speicherplatz oder sogar Generalisierungsfähigkeit."
   ]
  },
  {
   "cell_type": "code",
   "execution_count": 10,
   "metadata": {},
   "outputs": [],
   "source": [
    "# TODO"
   ]
  },
  {
   "cell_type": "markdown",
   "metadata": {},
   "source": [
    "#### Scree Plots\n",
    "\n",
    "Die Auswahl der Anzahl der Komponenten geschieht durch sogenannte \"Scree Plots\", die die erklärte Varianz der einzelnen Komponenten aufzeigen (einmal als absolute Varianz und einmal als Anteil an der Gesamt-Varianz)."
   ]
  },
  {
   "cell_type": "code",
   "execution_count": 11,
   "metadata": {},
   "outputs": [],
   "source": [
    "# TODO"
   ]
  },
  {
   "cell_type": "markdown",
   "metadata": {},
   "source": [
    "#### Trainings- und Testdaten"
   ]
  },
  {
   "cell_type": "code",
   "execution_count": 12,
   "metadata": {},
   "outputs": [],
   "source": [
    "# TODO"
   ]
  },
  {
   "cell_type": "markdown",
   "metadata": {},
   "source": [
    "#### SVM + PCA"
   ]
  },
  {
   "cell_type": "code",
   "execution_count": 13,
   "metadata": {},
   "outputs": [],
   "source": [
    "# TODO"
   ]
  },
  {
   "cell_type": "markdown",
   "metadata": {},
   "source": [
    "## 2.2 PCA für Noise Filtering"
   ]
  },
  {
   "cell_type": "code",
   "execution_count": null,
   "metadata": {},
   "outputs": [],
   "source": [
    "# TODO"
   ]
  },
  {
   "cell_type": "markdown",
   "metadata": {},
   "source": [
    "## 2.3 Rekonstruktion Interaktiv"
   ]
  },
  {
   "cell_type": "code",
   "execution_count": null,
   "metadata": {},
   "outputs": [],
   "source": [
    "# TODO"
   ]
  },
  {
   "cell_type": "markdown",
   "metadata": {},
   "source": [
    "## 2.4 PCA für Dekorrelation und Whitening"
   ]
  },
  {
   "cell_type": "code",
   "execution_count": null,
   "metadata": {},
   "outputs": [],
   "source": [
    "# TODO"
   ]
  },
  {
   "cell_type": "markdown",
   "metadata": {},
   "source": [
    "## 2.5 PCA Beispiel - Face Images"
   ]
  },
  {
   "cell_type": "code",
   "execution_count": null,
   "metadata": {},
   "outputs": [],
   "source": [
    "# TODO"
   ]
  }
 ],
 "metadata": {
  "kernelspec": {
   "display_name": "Python 3",
   "language": "python",
   "name": "python3"
  },
  "language_info": {
   "codemirror_mode": {
    "name": "ipython",
    "version": 3
   },
   "file_extension": ".py",
   "mimetype": "text/x-python",
   "name": "python",
   "nbconvert_exporter": "python",
   "pygments_lexer": "ipython3",
   "version": "3.8.5"
  }
 },
 "nbformat": 4,
 "nbformat_minor": 2
}
