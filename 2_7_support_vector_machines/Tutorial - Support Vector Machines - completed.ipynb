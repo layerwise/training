{
 "cells": [
  {
   "cell_type": "markdown",
   "metadata": {},
   "source": [
    "## 1. Vorbereitung\n"
   ]
  },
  {
   "cell_type": "code",
   "execution_count": 1,
   "metadata": {
    "scrolled": true
   },
   "outputs": [],
   "source": [
    "# Optional\n",
    "%matplotlib widget\n",
    "\n",
    "import numpy as np\n",
    "import matplotlib.pyplot as plt\n",
    "from scipy import stats\n",
    "\n",
    "import seaborn as sns; sns.set()\n",
    "\n",
    "from sklearn.datasets import make_blobs\n",
    "from sklearn.svm import SVC  # (S)upport (V)ector (C)lassifier\n",
    "\n",
    "import utils_svm"
   ]
  },
  {
   "cell_type": "code",
   "execution_count": 18,
   "metadata": {},
   "outputs": [],
   "source": [
    "# TODO: Linear separierbaren Datensatz erstellen\n",
    "X, y = make_blobs(n_samples=50, centers=2,\n",
    "                  random_state=4, cluster_std=0.70)"
   ]
  },
  {
   "cell_type": "code",
   "execution_count": 19,
   "metadata": {},
   "outputs": [
    {
     "data": {
      "text/plain": [
       "(50, 2)"
      ]
     },
     "execution_count": 19,
     "metadata": {},
     "output_type": "execute_result"
    }
   ],
   "source": [
    "X.shape"
   ]
  },
  {
   "cell_type": "code",
   "execution_count": 20,
   "metadata": {},
   "outputs": [
    {
     "data": {
      "text/plain": [
       "array([0, 1, 0, 0, 0, 0, 0, 1, 1, 1, 0, 1, 1, 1, 0, 0, 0, 0, 0, 0, 0, 1,\n",
       "       0, 1, 1, 1, 0, 1, 1, 1, 0, 1, 0, 0, 1, 1, 1, 0, 0, 0, 1, 1, 0, 1,\n",
       "       0, 1, 1, 1, 1, 0])"
      ]
     },
     "execution_count": 20,
     "metadata": {},
     "output_type": "execute_result"
    }
   ],
   "source": [
    "y"
   ]
  },
  {
   "cell_type": "code",
   "execution_count": 24,
   "metadata": {},
   "outputs": [
    {
     "data": {
      "application/vnd.jupyter.widget-view+json": {
       "model_id": "52f56418a7ce45e8806711bab27d6b8b",
       "version_major": 2,
       "version_minor": 0
      },
      "text/plain": [
       "Canvas(toolbar=Toolbar(toolitems=[('Home', 'Reset original view', 'home', 'home'), ('Back', 'Back to previous …"
      ]
     },
     "metadata": {},
     "output_type": "display_data"
    },
    {
     "data": {
      "text/plain": [
       "<matplotlib.collections.PathCollection at 0x7fc427509b80>"
      ]
     },
     "execution_count": 24,
     "metadata": {},
     "output_type": "execute_result"
    }
   ],
   "source": [
    "# TODO: Visualisieren\n",
    "plt.figure(figsize=(8, 6))\n",
    "plt.scatter(X[:, 0], X[:, 1], c=y, cmap=\"rainbow\")"
   ]
  },
  {
   "cell_type": "markdown",
   "metadata": {},
   "source": [
    "## 2. Motivation\n",
    "\n",
    "### 2.1 Verschiedene Entscheidungsgrenzen"
   ]
  },
  {
   "cell_type": "code",
   "execution_count": 46,
   "metadata": {},
   "outputs": [
    {
     "data": {
      "application/vnd.jupyter.widget-view+json": {
       "model_id": "e985d403fd2b4d7098214601a836591b",
       "version_major": 2,
       "version_minor": 0
      },
      "text/plain": [
       "Canvas(toolbar=Toolbar(toolitems=[('Home', 'Reset original view', 'home', 'home'), ('Back', 'Back to previous …"
      ]
     },
     "metadata": {},
     "output_type": "display_data"
    }
   ],
   "source": [
    "new_data = True\n",
    "\n",
    "xx = np.linspace(7.5, 11.5)\n",
    "\n",
    "plt.close(\"all\")\n",
    "plt.figure(figsize=(10, 8))\n",
    "plt.scatter(X[:, 0], X[:, 1], c=y, s=50, cmap='rainbow')\n",
    "\n",
    "def line(x, m, b):\n",
    "    return m * x + b\n",
    "\n",
    "for m, b in [(0.05, 2.1), (0.55, -2.2), (-0.2, 4.5)]:\n",
    "    plt.plot(xx, line(xx, m, b), '-k')\n",
    "\n",
    "plt.xlim(7.5, 11.5)\n",
    "if new_data:\n",
    "    plt.plot([10.3], [3.1], 'x', color='red', markeredgewidth=2, markersize=10);"
   ]
  },
  {
   "cell_type": "markdown",
   "metadata": {},
   "source": [
    "### 2.2. Margin"
   ]
  },
  {
   "cell_type": "code",
   "execution_count": 52,
   "metadata": {},
   "outputs": [
    {
     "data": {
      "application/vnd.jupyter.widget-view+json": {
       "model_id": "732858b45ccd4fe08fdf8b3c46a9a279",
       "version_major": 2,
       "version_minor": 0
      },
      "text/plain": [
       "Canvas(toolbar=Toolbar(toolitems=[('Home', 'Reset original view', 'home', 'home'), ('Back', 'Back to previous …"
      ]
     },
     "metadata": {},
     "output_type": "display_data"
    }
   ],
   "source": [
    "xx = np.linspace(7.5, 11.5)\n",
    "\n",
    "plt.figure(figsize=(10, 8))\n",
    "plt.scatter(X[:, 0], X[:, 1], c=y, s=50, cmap='rainbow')\n",
    "\n",
    "for m, b, d in [(0.05, 2.1, 0.33), (0.55, -2.2, 0.27), (-0.2, 4.5, 0.33)]:\n",
    "    yy = m * xx + b\n",
    "    plt.plot(xx, yy, '-k')\n",
    "    plt.fill_between(xx, yy - d, yy + d, edgecolor='none',\n",
    "                     color='grey', alpha=0.2)\n",
    "\n",
    "    \n",
    "plt.xlim(7.5, 11.5);"
   ]
  },
  {
   "cell_type": "markdown",
   "metadata": {},
   "source": [
    "### 2.3. Modell trainieren"
   ]
  },
  {
   "cell_type": "code",
   "execution_count": 53,
   "metadata": {
    "scrolled": false
   },
   "outputs": [
    {
     "data": {
      "application/vnd.jupyter.widget-view+json": {
       "model_id": "eed978d78b84413eb924907370c60ad7",
       "version_major": 2,
       "version_minor": 0
      },
      "text/plain": [
       "Canvas(toolbar=Toolbar(toolitems=[('Home', 'Reset original view', 'home', 'home'), ('Back', 'Back to previous …"
      ]
     },
     "metadata": {},
     "output_type": "display_data"
    }
   ],
   "source": [
    "# TODO: SVC instanziieren, Argument C beachten\n",
    "svc = SVC(\n",
    "    C=1000000.0,\n",
    "    kernel=\"linear\"\n",
    ")\n",
    "\n",
    "\n",
    "# TODO: Modell trainieren\n",
    "svc.fit(X, y)\n",
    "\n",
    "# TODO: Fit visualisieren (Entscheidungsgrenze, Margin und Support Vectors)\n",
    "plt.close(\"all\")\n",
    "\n",
    "plt.figure(figsize=(8, 6))\n",
    "plt.scatter(X[:, 0], X[:, 1], c=y, cmap=\"rainbow\")\n",
    "utils_svm.plot_svc_decision_function(svc)\n",
    "\n"
   ]
  },
  {
   "cell_type": "code",
   "execution_count": 25,
   "metadata": {},
   "outputs": [
    {
     "data": {
      "application/vnd.jupyter.widget-view+json": {
       "model_id": "f8416c226e32446cb77680dcdc64f2e3",
       "version_major": 2,
       "version_minor": 0
      },
      "text/plain": [
       "Canvas(toolbar=Toolbar(toolitems=[('Home', 'Reset original view', 'home', 'home'), ('Back', 'Back to previous …"
      ]
     },
     "metadata": {},
     "output_type": "display_data"
    },
    {
     "data": {
      "application/vnd.jupyter.widget-view+json": {
       "model_id": "44c5e5bc9cb0427c9dbb31cb90c46dd9",
       "version_major": 2,
       "version_minor": 0
      },
      "text/plain": [
       "interactive(children=(FloatSlider(value=0.1, description='w1', max=2.0, min=-2.0, step=0.01), FloatSlider(valu…"
      ]
     },
     "metadata": {},
     "output_type": "display_data"
    }
   ],
   "source": [
    "# TODO (optional): Fit interaktiv visualisieren\n",
    "\n",
    "plt.close(\"all\")\n",
    "utils_svm.get_interactive_svc(X, y)"
   ]
  },
  {
   "cell_type": "markdown",
   "metadata": {},
   "source": [
    "### 2.4 Anzahl der Datenpunkte variieren"
   ]
  },
  {
   "cell_type": "code",
   "execution_count": 54,
   "metadata": {},
   "outputs": [],
   "source": [
    "def plot_svm(N=10, ax=None):\n",
    "    X, y = make_blobs(n_samples=200, centers=2,\n",
    "                      random_state=0, cluster_std=0.60)\n",
    "    X = X[:N]\n",
    "    y = y[:N]\n",
    "    model = SVC(kernel='linear', C=1E10)\n",
    "    model.fit(X, y)\n",
    "    \n",
    "    ax = ax or plt.gca()\n",
    "    ax.scatter(X[:, 0], X[:, 1], c=y, s=50, cmap='rainbow')\n",
    "    ax.set_xlim(-1, 4)\n",
    "    ax.set_ylim(-1, 6)\n",
    "    utils_svm.plot_svc_decision_function(model, ax)"
   ]
  },
  {
   "cell_type": "code",
   "execution_count": 55,
   "metadata": {},
   "outputs": [
    {
     "data": {
      "application/vnd.jupyter.widget-view+json": {
       "model_id": "67aa1293d9484727ab6d1598502e6bca",
       "version_major": 2,
       "version_minor": 0
      },
      "text/plain": [
       "Canvas(toolbar=Toolbar(toolitems=[('Home', 'Reset original view', 'home', 'home'), ('Back', 'Back to previous …"
      ]
     },
     "metadata": {},
     "output_type": "display_data"
    }
   ],
   "source": [
    "plt.figure(figsize=(6, 4))\n",
    "plot_svm(N=100)"
   ]
  },
  {
   "cell_type": "code",
   "execution_count": 56,
   "metadata": {},
   "outputs": [
    {
     "data": {
      "application/vnd.jupyter.widget-view+json": {
       "model_id": "827edcbfebcc4fe4a23d2326032b3e87",
       "version_major": 2,
       "version_minor": 0
      },
      "text/plain": [
       "Canvas(toolbar=Toolbar(toolitems=[('Home', 'Reset original view', 'home', 'home'), ('Back', 'Back to previous …"
      ]
     },
     "metadata": {},
     "output_type": "display_data"
    }
   ],
   "source": [
    "plt.figure(figsize=(6, 4))\n",
    "plot_svm(N=200)"
   ]
  },
  {
   "cell_type": "markdown",
   "metadata": {},
   "source": [
    "## 3. Nichtlinearität und Kernels\n",
    "\n",
    "### 3.1. Motivation"
   ]
  },
  {
   "cell_type": "code",
   "execution_count": 57,
   "metadata": {},
   "outputs": [
    {
     "data": {
      "application/vnd.jupyter.widget-view+json": {
       "model_id": "c5cec77cf2b64e09bd233e624687b13d",
       "version_major": 2,
       "version_minor": 0
      },
      "text/plain": [
       "Canvas(toolbar=Toolbar(toolitems=[('Home', 'Reset original view', 'home', 'home'), ('Back', 'Back to previous …"
      ]
     },
     "metadata": {},
     "output_type": "display_data"
    },
    {
     "data": {
      "text/plain": [
       "<matplotlib.collections.PathCollection at 0x7fc425003a30>"
      ]
     },
     "execution_count": 57,
     "metadata": {},
     "output_type": "execute_result"
    }
   ],
   "source": [
    "# TODO: Erstellen eines Datensatzes, der nicht linear separierbar ist\n",
    "from sklearn.datasets import make_circles\n",
    "X_circles, y_circles = make_circles(100, factor=.1, noise=.1)\n",
    "\n",
    "# TODO: Visualisieren\n",
    "plt.close(\"all\")\n",
    "plt.figure(figsize=(8, 6))\n",
    "plt.scatter(X_circles[:, 0], X_circles[:, 1], c=y_circles, cmap=\"rainbow\")"
   ]
  },
  {
   "cell_type": "code",
   "execution_count": 58,
   "metadata": {},
   "outputs": [
    {
     "data": {
      "application/vnd.jupyter.widget-view+json": {
       "model_id": "dbc4c94b29744f3283b00502854aa9c4",
       "version_major": 2,
       "version_minor": 0
      },
      "text/plain": [
       "Canvas(toolbar=Toolbar(toolitems=[('Home', 'Reset original view', 'home', 'home'), ('Back', 'Back to previous …"
      ]
     },
     "metadata": {},
     "output_type": "display_data"
    }
   ],
   "source": [
    "# TODO: Modell instanziieren und trainieren\n",
    "svc = SVC(\n",
    "    C=1000000.0,\n",
    "    kernel=\"linear\"\n",
    ")\n",
    "\n",
    "svc.fit(X_circles, y_circles)\n",
    "\n",
    "# TODO: Fit visualisieren\n",
    "plt.close(\"all\")\n",
    "plt.figure(figsize=(8, 6))\n",
    "plt.scatter(X_circles[:, 0], X_circles[:, 1], c=y_circles, cmap=\"rainbow\")\n",
    "utils_svm.plot_svc_decision_function(svc)"
   ]
  },
  {
   "cell_type": "markdown",
   "metadata": {},
   "source": [
    "### 3.2. Zur Illustration: manuelle Feature Expansion"
   ]
  },
  {
   "cell_type": "code",
   "execution_count": 60,
   "metadata": {},
   "outputs": [
    {
     "data": {
      "application/vnd.jupyter.widget-view+json": {
       "model_id": "ef4384d97bf143688d3801bbaa170c65",
       "version_major": 2,
       "version_minor": 0
      },
      "text/plain": [
       "Canvas(toolbar=Toolbar(toolitems=[('Home', 'Reset original view', 'home', 'home'), ('Back', 'Back to previous …"
      ]
     },
     "metadata": {},
     "output_type": "display_data"
    },
    {
     "data": {
      "text/plain": [
       "Text(0.5, 0, 'z (Feature Expansion)')"
      ]
     },
     "execution_count": 60,
     "metadata": {},
     "output_type": "execute_result"
    }
   ],
   "source": [
    "# TODO: Funktion zur Feature Expansion (an den RBF-Kernel angelehnt)\n",
    "# TODO: Feature Expansion\n",
    "# TODO: Visualisieren\n",
    "\n",
    "# Funktion zur Feature Expansion (an den RBF-Kernel angelehnt)\n",
    "def func_z(X, gamma=0.1):\n",
    "    return np.exp(-gamma*(X**2).sum(axis=1))\n",
    "\n",
    "z = func_z(X_circles)\n",
    "\n",
    "X_new = np.column_stack((X_circles, z))\n",
    "\n",
    "from mpl_toolkits import mplot3d\n",
    "\n",
    "plt.figure(figsize=(10, 8))\n",
    "ax3d = plt.axes(projection=\"3d\")\n",
    "\n",
    "ax3d.scatter(\n",
    "    X_circles[:, 0],\n",
    "    X_circles[:, 1],\n",
    "    z,\n",
    "    c=y_circles,\n",
    "    cmap=\"rainbow\"\n",
    ")\n",
    "\n",
    "ax3d.set_xlabel(\"x1\")\n",
    "ax3d.set_ylabel(\"x2\")\n",
    "ax3d.set_zlabel(\"z (Feature Expansion)\")"
   ]
  },
  {
   "cell_type": "markdown",
   "metadata": {},
   "source": [
    "### 3.3. SVM mit Kernels"
   ]
  },
  {
   "cell_type": "code",
   "execution_count": 61,
   "metadata": {},
   "outputs": [
    {
     "data": {
      "application/vnd.jupyter.widget-view+json": {
       "model_id": "805a801a99014bf8aa53019a8dfa5017",
       "version_major": 2,
       "version_minor": 0
      },
      "text/plain": [
       "Canvas(toolbar=Toolbar(toolitems=[('Home', 'Reset original view', 'home', 'home'), ('Back', 'Back to previous …"
      ]
     },
     "metadata": {},
     "output_type": "display_data"
    }
   ],
   "source": [
    "# TODO: Modell instanziieren und trainieren\n",
    "svc_rbf = SVC(\n",
    "    C=1000000.0,\n",
    "    kernel=\"rbf\",  # (R)adial (B)asis (F)unctions\n",
    "    gamma=\"scale\"\n",
    ")\n",
    "\n",
    "svc_rbf.fit(X_circles, y_circles)\n",
    "\n",
    "# TODO: Fit visualisieren\n",
    "plt.close(\"all\")\n",
    "plt.figure(figsize=(8, 6))\n",
    "plt.scatter(X_circles[:, 0], X_circles[:, 1], c=y_circles, cmap=\"rainbow\")\n",
    "utils_svm.plot_svc_decision_function(svc_rbf)"
   ]
  },
  {
   "cell_type": "code",
   "execution_count": 62,
   "metadata": {},
   "outputs": [
    {
     "data": {
      "application/vnd.jupyter.widget-view+json": {
       "model_id": "965b7353523a4e2bb1b514237a631971",
       "version_major": 2,
       "version_minor": 0
      },
      "text/plain": [
       "Canvas(toolbar=Toolbar(toolitems=[('Home', 'Reset original view', 'home', 'home'), ('Back', 'Back to previous …"
      ]
     },
     "metadata": {},
     "output_type": "display_data"
    }
   ],
   "source": [
    "# TODO: Modell instanziieren und trainieren\n",
    "svc_rbf = SVC(\n",
    "    C=1000000.0,\n",
    "    kernel=\"rbf\",  # (R)adial (B)asis (F)unctions\n",
    "    gamma=10.0,  # gamma kontrolliert die Flexibilität der Expansion\n",
    ")\n",
    "\n",
    "svc_rbf.fit(X_circles, y_circles)\n",
    "\n",
    "# TODO: Fit visualisieren\n",
    "plt.close(\"all\")\n",
    "plt.figure(figsize=(8, 6))\n",
    "plt.scatter(X_circles[:, 0], X_circles[:, 1], c=y_circles, cmap=\"rainbow\")\n",
    "utils_svm.plot_svc_decision_function(svc_rbf)"
   ]
  },
  {
   "cell_type": "markdown",
   "metadata": {},
   "source": [
    "## 4. Hard Margin vs Soft Margin\n",
    "\n",
    "Der Parameter `C` kann variiert werden, um einen Soft-Margin-Classifier anstelle eines Hard-Margin-Klassifikators zu erhalten, das heißt ein Klassifikator, der eine durchlässige Margin hat und dementsprechend zum Teil besser optimiert werden kann."
   ]
  },
  {
   "cell_type": "code",
   "execution_count": 64,
   "metadata": {},
   "outputs": [],
   "source": [
    "# TODO: Erstelle Datensatz\n",
    "X2, y2 = make_blobs(n_samples=100, centers=2,\n",
    "                    random_state=0, cluster_std=1.2)"
   ]
  },
  {
   "cell_type": "code",
   "execution_count": 65,
   "metadata": {},
   "outputs": [
    {
     "data": {
      "application/vnd.jupyter.widget-view+json": {
       "model_id": "7f27f02401ab4fcb894d31b46878de04",
       "version_major": 2,
       "version_minor": 0
      },
      "text/plain": [
       "Canvas(toolbar=Toolbar(toolitems=[('Home', 'Reset original view', 'home', 'home'), ('Back', 'Back to previous …"
      ]
     },
     "metadata": {},
     "output_type": "display_data"
    }
   ],
   "source": [
    "# TODO: Modell instanziieren und trainieren\n",
    "# TODO: Fit visualisieren\n",
    "svc_soft = SVC(\n",
    "    kernel=\"rbf\",\n",
    "    C=0.1  # kontrolliert Overfitting/Underfitting\n",
    ")\n",
    "svc_soft.fit(X2, y2)\n",
    "\n",
    "\n",
    "plt.figure(figsize=(8, 6))\n",
    "plt.scatter(X2[:, 0], X2[:, 1], c=y2, cmap=\"rainbow\")\n",
    "utils_svm.plot_svc_decision_function(svc_soft)\n",
    "\n"
   ]
  },
  {
   "cell_type": "code",
   "execution_count": null,
   "metadata": {},
   "outputs": [],
   "source": []
  }
 ],
 "metadata": {
  "kernelspec": {
   "display_name": "Python 3",
   "language": "python",
   "name": "python3"
  },
  "language_info": {
   "codemirror_mode": {
    "name": "ipython",
    "version": 3
   },
   "file_extension": ".py",
   "mimetype": "text/x-python",
   "name": "python",
   "nbconvert_exporter": "python",
   "pygments_lexer": "ipython3",
   "version": "3.8.8"
  }
 },
 "nbformat": 4,
 "nbformat_minor": 2
}
