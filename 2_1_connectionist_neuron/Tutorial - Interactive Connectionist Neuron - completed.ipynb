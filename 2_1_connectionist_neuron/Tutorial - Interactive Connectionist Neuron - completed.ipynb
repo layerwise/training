{
 "cells": [
  {
   "cell_type": "markdown",
   "metadata": {},
   "source": [
    "In diesem Tutorial lernen wir die Funktionsweise des **Connectionist Neuron** interaktiv kennen.\n",
    "\n",
    "Um dieses Tutorial auszuführen brauchen wir interaktives Plotting. Dieses ist in Jupyter Notebooks prinzipiell einfach möglich mit der integrierten Bibliothek `ipywidgets`. Diese Bibliothek erfordert allerdings versionsabhängig verschiedene sogenannte Backends, nämlich entweder\n",
    "\n",
    "```python\n",
    "%matplotlib widget\n",
    "# oder\n",
    "%matplotlib notebook\n",
    "```\n",
    "\n",
    "die mit der sogenannten Jupyter-Magic (das Prozentzeichen) aktiviert werden müssen. Jedes Mal, wenn wir eines dieser Backends aktivieren, kann es nicht mehr geändert werden. Wollen wir uns Backend danach ändern, müssen wir das **Notebook neu starten**. Dies tun wir über *Kernel -> Restart* oben in der Taskleiste."
   ]
  },
  {
   "cell_type": "code",
   "execution_count": 1,
   "metadata": {},
   "outputs": [],
   "source": [
    "%matplotlib widget\n",
    "# oder\n",
    "# %matplotlib notebook\n",
    "import numpy as np\n",
    "import matplotlib.pyplot as plt\n",
    "import pandas as pd"
   ]
  },
  {
   "cell_type": "markdown",
   "metadata": {},
   "source": [
    "## 1. Entscheidungsgrenzen\n",
    "\n",
    "Nun brauchen wir noch eine begleitende Datei, mit Code, den wir in dieses Notebook importieren wollen. Der Code selbst ist nicht relevant, wir wollen ihn nur verwenden."
   ]
  },
  {
   "cell_type": "code",
   "execution_count": 2,
   "metadata": {},
   "outputs": [],
   "source": [
    "from utils_logistic import get_interactive_logistic_regression_advanced"
   ]
  },
  {
   "cell_type": "markdown",
   "metadata": {},
   "source": [
    "Als letztes laden wir einen Toy-Datensatz:"
   ]
  },
  {
   "cell_type": "code",
   "execution_count": 3,
   "metadata": {},
   "outputs": [],
   "source": [
    "# Laden die Rohdaten - Pfad muss eventuell geändert werden\n",
    "\n",
    "# Option - Numpy\n",
    "# data = np.loadtxt(\"../data/ZonkoAndTydum.csv\", delimiter=\",\", skiprows=1)\n",
    "# Option - Pandas\n",
    "data = pd.read_csv(\"../data/ZonkoAndTydum.csv\")\n",
    "\n",
    "# Teilen die Daten in Beobachtungen und Labels\n",
    "X = data.iloc[:, 0:2].values\n",
    "y = data.iloc[:, 2].values"
   ]
  },
  {
   "cell_type": "code",
   "execution_count": 4,
   "metadata": {},
   "outputs": [
    {
     "data": {
      "text/html": [
       "<div>\n",
       "<style scoped>\n",
       "    .dataframe tbody tr th:only-of-type {\n",
       "        vertical-align: middle;\n",
       "    }\n",
       "\n",
       "    .dataframe tbody tr th {\n",
       "        vertical-align: top;\n",
       "    }\n",
       "\n",
       "    .dataframe thead th {\n",
       "        text-align: right;\n",
       "    }\n",
       "</style>\n",
       "<table border=\"1\" class=\"dataframe\">\n",
       "  <thead>\n",
       "    <tr style=\"text-align: right;\">\n",
       "      <th></th>\n",
       "      <th>x1 [Durchmesser]</th>\n",
       "      <th>x2 [Gewicht]</th>\n",
       "      <th>y [Typ]</th>\n",
       "    </tr>\n",
       "  </thead>\n",
       "  <tbody>\n",
       "    <tr>\n",
       "      <th>0</th>\n",
       "      <td>0.365</td>\n",
       "      <td>0.708</td>\n",
       "      <td>0</td>\n",
       "    </tr>\n",
       "    <tr>\n",
       "      <th>1</th>\n",
       "      <td>0.543</td>\n",
       "      <td>-0.268</td>\n",
       "      <td>0</td>\n",
       "    </tr>\n",
       "    <tr>\n",
       "      <th>2</th>\n",
       "      <td>-0.401</td>\n",
       "      <td>0.643</td>\n",
       "      <td>0</td>\n",
       "    </tr>\n",
       "    <tr>\n",
       "      <th>3</th>\n",
       "      <td>0.866</td>\n",
       "      <td>-0.796</td>\n",
       "      <td>0</td>\n",
       "    </tr>\n",
       "    <tr>\n",
       "      <th>4</th>\n",
       "      <td>-0.386</td>\n",
       "      <td>0.742</td>\n",
       "      <td>0</td>\n",
       "    </tr>\n",
       "    <tr>\n",
       "      <th>...</th>\n",
       "      <td>...</td>\n",
       "      <td>...</td>\n",
       "      <td>...</td>\n",
       "    </tr>\n",
       "    <tr>\n",
       "      <th>195</th>\n",
       "      <td>0.784</td>\n",
       "      <td>0.616</td>\n",
       "      <td>1</td>\n",
       "    </tr>\n",
       "    <tr>\n",
       "      <th>196</th>\n",
       "      <td>0.411</td>\n",
       "      <td>-0.005</td>\n",
       "      <td>1</td>\n",
       "    </tr>\n",
       "    <tr>\n",
       "      <th>197</th>\n",
       "      <td>0.930</td>\n",
       "      <td>0.225</td>\n",
       "      <td>1</td>\n",
       "    </tr>\n",
       "    <tr>\n",
       "      <th>198</th>\n",
       "      <td>1.288</td>\n",
       "      <td>0.184</td>\n",
       "      <td>1</td>\n",
       "    </tr>\n",
       "    <tr>\n",
       "      <th>199</th>\n",
       "      <td>0.110</td>\n",
       "      <td>1.114</td>\n",
       "      <td>1</td>\n",
       "    </tr>\n",
       "  </tbody>\n",
       "</table>\n",
       "<p>200 rows × 3 columns</p>\n",
       "</div>"
      ],
      "text/plain": [
       "     x1 [Durchmesser]  x2 [Gewicht]  y [Typ]\n",
       "0               0.365         0.708        0\n",
       "1               0.543        -0.268        0\n",
       "2              -0.401         0.643        0\n",
       "3               0.866        -0.796        0\n",
       "4              -0.386         0.742        0\n",
       "..                ...           ...      ...\n",
       "195             0.784         0.616        1\n",
       "196             0.411        -0.005        1\n",
       "197             0.930         0.225        1\n",
       "198             1.288         0.184        1\n",
       "199             0.110         1.114        1\n",
       "\n",
       "[200 rows x 3 columns]"
      ]
     },
     "execution_count": 4,
     "metadata": {},
     "output_type": "execute_result"
    }
   ],
   "source": [
    "data"
   ]
  },
  {
   "cell_type": "code",
   "execution_count": 5,
   "metadata": {
    "scrolled": false
   },
   "outputs": [
    {
     "data": {
      "application/vnd.jupyter.widget-view+json": {
       "model_id": "d44ad008251e4d1cb43408c24b3ec138",
       "version_major": 2,
       "version_minor": 0
      },
      "text/plain": [
       "Canvas(toolbar=Toolbar(toolitems=[('Home', 'Reset original view', 'home', 'home'), ('Back', 'Back to previous …"
      ]
     },
     "metadata": {},
     "output_type": "display_data"
    },
    {
     "data": {
      "application/vnd.jupyter.widget-view+json": {
       "model_id": "7b3f8454d20c447d96ee8edfa1677a95",
       "version_major": 2,
       "version_minor": 0
      },
      "text/plain": [
       "Output()"
      ]
     },
     "metadata": {},
     "output_type": "display_data"
    },
    {
     "data": {
      "application/vnd.jupyter.widget-view+json": {
       "model_id": "292a3e0fac4d43529692b41e3c7d2025",
       "version_major": 2,
       "version_minor": 0
      },
      "text/plain": [
       "HBox(children=(VBox(children=(Label(value='$h = w_1 \\\\cdot x_1 + w_2 \\\\cdot x_2 - \\\\theta$'), Label(value='0.0…"
      ]
     },
     "metadata": {},
     "output_type": "display_data"
    }
   ],
   "source": [
    "interactive_plot, ui = get_interactive_logistic_regression_advanced(X, y)\n",
    "display(interactive_plot, ui)\n"
   ]
  },
  {
   "cell_type": "markdown",
   "metadata": {},
   "source": [
    "## 2. Modell trainieren"
   ]
  },
  {
   "cell_type": "code",
   "execution_count": 6,
   "metadata": {},
   "outputs": [
    {
     "data": {
      "text/plain": [
       "array([[0.21386655, 0.44117647],\n",
       "       [0.32601608, 0.02941176],\n",
       "       [0.16735492, 0.7605042 ],\n",
       "       [0.1406216 , 0.18067227],\n",
       "       [0.76983265, 0.09663866],\n",
       "       [0.28645947, 0.21008403],\n",
       "       [0.1884373 , 0.28991597],\n",
       "       [0.5520539 , 0.01260504],\n",
       "       [0.19626168, 0.13445378],\n",
       "       [0.1573571 , 0.29831933],\n",
       "       [0.16887633, 0.45378151],\n",
       "       [0.13323191, 0.7394958 ],\n",
       "       [0.2175614 , 0.19327731],\n",
       "       [0.14018692, 0.75210084],\n",
       "       [0.26994132, 0.04201681],\n",
       "       [0.33427516, 0.03361345],\n",
       "       [0.79700065, 0.08823529],\n",
       "       [0.12149533, 0.20168067],\n",
       "       [0.1790915 , 0.10084034],\n",
       "       [0.20973701, 0.06722689],\n",
       "       [0.25755271, 0.04201681],\n",
       "       [0.1864812 , 0.04201681],\n",
       "       [0.2486416 , 0.01260504],\n",
       "       [0.18604651, 0.13865546],\n",
       "       [0.24212128, 0.04621849],\n",
       "       [0.4242556 , 0.04201681],\n",
       "       [0.22886329, 0.43277311],\n",
       "       [0.0695501 , 0.05042017],\n",
       "       [0.28885025, 0.07983193],\n",
       "       [0.30123886, 0.04201681],\n",
       "       [0.13062378, 0.60084034],\n",
       "       [0.23799174, 0.07563025],\n",
       "       [0.12193002, 0.05462185],\n",
       "       [0.24146925, 0.04201681],\n",
       "       [0.10389046, 0.51680672],\n",
       "       [0.2649424 , 0.36134454],\n",
       "       [0.19560965, 0.04201681],\n",
       "       [0.87437514, 0.04201681],\n",
       "       [0.22777657, 0.00420168],\n",
       "       [0.22560313, 0.1512605 ],\n",
       "       [0.19430559, 0.29411765],\n",
       "       [0.17257118, 0.18067227],\n",
       "       [0.18387307, 0.29411765],\n",
       "       [0.15409694, 0.77731092],\n",
       "       [0.48685068, 0.        ],\n",
       "       [0.2303847 , 0.0210084 ],\n",
       "       [0.15257553, 0.02521008],\n",
       "       [0.13062378, 0.04201681],\n",
       "       [0.12736362, 0.78571429],\n",
       "       [0.29428385, 0.00420168],\n",
       "       [0.38187351, 0.1092437 ],\n",
       "       [0.1790915 , 0.10084034],\n",
       "       [0.16148663, 0.2394958 ],\n",
       "       [0.70267333, 0.04201681],\n",
       "       [0.11236688, 0.46218487],\n",
       "       [1.        , 0.04201681],\n",
       "       [0.14105629, 0.49579832],\n",
       "       [0.13453597, 0.01260504],\n",
       "       [0.53314497, 0.04201681],\n",
       "       [0.20365138, 0.05042017],\n",
       "       [0.44012171, 0.05042017],\n",
       "       [0.26646381, 0.11344538],\n",
       "       [0.19865247, 0.47058824],\n",
       "       [0.45794393, 0.00840336],\n",
       "       [0.18604651, 0.13865546],\n",
       "       [0.25863943, 0.13865546],\n",
       "       [0.30602043, 0.04201681],\n",
       "       [0.2871115 , 0.08403361],\n",
       "       [0.10671593, 0.22689076],\n",
       "       [0.28146055, 0.04201681],\n",
       "       [0.18800261, 0.04201681],\n",
       "       [0.21299717, 0.05882353],\n",
       "       [0.29884808, 0.31092437],\n",
       "       [0.14279504, 0.04201681],\n",
       "       [0.17626603, 0.30672269],\n",
       "       [0.29297979, 0.        ],\n",
       "       [0.73896979, 0.06302521],\n",
       "       [0.14518583, 0.0210084 ],\n",
       "       [0.0823734 , 0.03781513],\n",
       "       [0.35405347, 0.04201681],\n",
       "       [0.23755705, 0.04201681],\n",
       "       [0.27168007, 0.0210084 ],\n",
       "       [0.3803521 , 0.0210084 ],\n",
       "       [0.15105412, 0.7605042 ],\n",
       "       [0.15844382, 0.67226891],\n",
       "       [0.53640513, 0.03361345],\n",
       "       [0.72940665, 0.01680672],\n",
       "       [0.20930233, 0.05882353],\n",
       "       [0.28059118, 0.1302521 ],\n",
       "       [0.34557705, 0.0210084 ],\n",
       "       [0.23820908, 0.02941176],\n",
       "       [0.11236688, 0.46218487],\n",
       "       [0.20691154, 0.01680672],\n",
       "       [0.22777657, 0.00420168],\n",
       "       [0.35514019, 0.07563025],\n",
       "       [0.12410346, 0.33193277],\n",
       "       [0.06368181, 0.42857143],\n",
       "       [0.14822865, 0.35294118],\n",
       "       [0.40273854, 0.04201681],\n",
       "       [0.1588785 , 0.10084034],\n",
       "       [0.58400348, 0.10084034],\n",
       "       [0.51988698, 0.09663866],\n",
       "       [0.20973701, 0.12605042],\n",
       "       [0.1973484 , 0.37394958],\n",
       "       [0.34362095, 0.10084034],\n",
       "       [0.19691371, 0.24369748],\n",
       "       [0.11193219, 0.22689076],\n",
       "       [0.17496196, 0.64285714],\n",
       "       [0.20169528, 0.25630252],\n",
       "       [0.28667681, 0.04201681],\n",
       "       [0.86720278, 0.06302521],\n",
       "       [0.23733971, 0.12605042],\n",
       "       [0.27689633, 0.0210084 ],\n",
       "       [0.22755923, 0.22689076],\n",
       "       [0.23473158, 1.        ],\n",
       "       [0.16300804, 0.10084034],\n",
       "       [0.19148011, 0.23529412],\n",
       "       [0.16518148, 0.10084034],\n",
       "       [0.32101717, 0.06722689],\n",
       "       [0.14779396, 0.13865546],\n",
       "       [0.21821343, 0.21008403],\n",
       "       [0.18409042, 0.09663866],\n",
       "       [0.21712671, 0.27731092],\n",
       "       [0.16974571, 0.18487395],\n",
       "       [0.15648772, 0.11344538],\n",
       "       [0.12997175, 0.45378151],\n",
       "       [0.19213215, 0.28151261],\n",
       "       [0.21864812, 0.02941176],\n",
       "       [0.22647251, 0.3697479 ],\n",
       "       [0.35709628, 0.2605042 ],\n",
       "       [0.43099326, 0.00840336],\n",
       "       [0.3547055 , 0.        ],\n",
       "       [0.16670289, 0.36554622],\n",
       "       [0.09041513, 0.58403361],\n",
       "       [0.13084112, 0.45378151],\n",
       "       [0.52532058, 0.06302521],\n",
       "       [0.22777657, 0.05882353],\n",
       "       [0.0586829 , 0.0210084 ],\n",
       "       [0.18800261, 0.04201681],\n",
       "       [0.27341882, 0.03781513],\n",
       "       [0.35057596, 0.06722689],\n",
       "       [0.30841121, 0.05882353],\n",
       "       [0.24820691, 0.05882353],\n",
       "       [0.16366007, 0.59243697],\n",
       "       [0.12801565, 0.1512605 ],\n",
       "       [0.19582699, 0.07142857],\n",
       "       [0.25450989, 0.11344538],\n",
       "       [0.23538361, 0.04201681],\n",
       "       [0.33840469, 0.04201681],\n",
       "       [0.1864812 , 0.03361345],\n",
       "       [0.13257987, 0.33193277],\n",
       "       [0.16800696, 0.32352941],\n",
       "       [0.4242556 , 0.04621849],\n",
       "       [0.15518366, 0.31512605],\n",
       "       [0.09802217, 0.04621849],\n",
       "       [0.11193219, 0.40756303],\n",
       "       [0.36687677, 0.10504202],\n",
       "       [0.18409042, 0.09663866],\n",
       "       [0.18735058, 0.3487395 ],\n",
       "       [0.87437514, 0.06302521],\n",
       "       [0.38100413, 0.01260504],\n",
       "       [0.12279939, 0.17647059],\n",
       "       [0.20951967, 0.02941176],\n",
       "       [0.20169528, 0.31512605],\n",
       "       [0.11866985, 0.58403361],\n",
       "       [0.27689633, 0.0210084 ],\n",
       "       [0.52923278, 0.06302521],\n",
       "       [0.07020213, 0.23109244],\n",
       "       [0.28080852, 0.31092437],\n",
       "       [0.13105847, 0.73109244],\n",
       "       [0.30623777, 0.37394958],\n",
       "       [0.25842208, 0.04201681],\n",
       "       [0.2195175 , 0.01680672],\n",
       "       [0.11953923, 0.03781513],\n",
       "       [0.35557488, 0.04201681],\n",
       "       [0.20647685, 0.04201681],\n",
       "       [0.47924364, 0.09663866],\n",
       "       [0.40273854, 0.07142857],\n",
       "       [0.14822865, 0.25210084],\n",
       "       [0.32862421, 0.01260504],\n",
       "       [0.12497283, 0.5       ],\n",
       "       [0.23451424, 0.22689076],\n",
       "       [0.29710932, 0.04201681],\n",
       "       [0.41534449, 0.07142857],\n",
       "       [0.12671158, 0.18067227],\n",
       "       [0.16366007, 0.05462185],\n",
       "       [0.26255162, 0.1092437 ],\n",
       "       [0.09084982, 0.38235294],\n",
       "       [0.16605086, 0.37394958],\n",
       "       [0.18974136, 0.01680672],\n",
       "       [0.17735275, 0.04201681],\n",
       "       [0.10649859, 0.27731092],\n",
       "       [0.24342534, 0.        ],\n",
       "       [0.20386872, 0.07563025],\n",
       "       [0.36035644, 0.1512605 ],\n",
       "       [0.19430559, 0.29411765],\n",
       "       [0.1391002 , 0.00840336],\n",
       "       [0.80786785, 0.04201681],\n",
       "       [0.15018474, 0.53361345],\n",
       "       [0.18017822, 0.21848739],\n",
       "       [0.09432732, 0.14705882],\n",
       "       [0.20865029, 0.38235294],\n",
       "       [0.25929146, 0.05042017],\n",
       "       [0.2871115 , 0.0210084 ],\n",
       "       [0.29710932, 0.05042017],\n",
       "       [0.20430341, 0.07983193],\n",
       "       [0.37730928, 0.02521008],\n",
       "       [0.1845251 , 0.05462185],\n",
       "       [0.34014345, 0.09663866],\n",
       "       [0.40534666, 0.03781513],\n",
       "       [0.08346012, 0.40756303],\n",
       "       [0.1884373 , 0.04621849],\n",
       "       [0.24146925, 0.04621849],\n",
       "       [0.43468811, 0.09663866],\n",
       "       [0.37122365, 0.04201681],\n",
       "       [0.29710932, 0.03361345],\n",
       "       [0.20169528, 0.05882353],\n",
       "       [0.48554662, 0.04201681],\n",
       "       [0.20104325, 0.05042017],\n",
       "       [0.16605086, 0.68487395],\n",
       "       [0.23886112, 0.09243697],\n",
       "       [0.12301674, 0.03361345],\n",
       "       [0.15105412, 0.1512605 ],\n",
       "       [0.11736579, 0.21848739],\n",
       "       [0.2649424 , 0.04201681],\n",
       "       [0.20365138, 0.05042017],\n",
       "       [0.10149967, 0.21428571],\n",
       "       [0.1588785 , 0.10084034],\n",
       "       [0.83047164, 0.06302521],\n",
       "       [0.36231254, 0.04201681],\n",
       "       [0.36231254, 0.03361345],\n",
       "       [0.30841121, 0.04201681],\n",
       "       [0.60899804, 0.04201681],\n",
       "       [0.29428385, 0.00420168],\n",
       "       [0.20212997, 0.06302521],\n",
       "       [0.48554662, 0.02941176],\n",
       "       [0.07628776, 0.37815126],\n",
       "       [0.53314497, 0.06302521],\n",
       "       [0.23886112, 0.        ],\n",
       "       [0.23538361, 0.31092437],\n",
       "       [0.20517279, 0.05042017],\n",
       "       [0.15322756, 0.2605042 ],\n",
       "       [0.16431211, 0.35294118],\n",
       "       [0.19082808, 0.04201681],\n",
       "       [0.0932406 , 0.57142857],\n",
       "       [0.16148663, 0.18487395],\n",
       "       [0.4735927 , 0.        ],\n",
       "       [0.09650076, 0.38655462],\n",
       "       [0.11367094, 0.44537815],\n",
       "       [0.24190393, 0.04201681],\n",
       "       [0.38404695, 0.04201681],\n",
       "       [0.16235601, 0.28571429],\n",
       "       [0.35557488, 0.07983193],\n",
       "       [0.41186699, 0.05042017],\n",
       "       [0.18256901, 0.04201681],\n",
       "       [0.19104542, 0.41176471],\n",
       "       [0.34492502, 0.04201681],\n",
       "       [0.12410346, 0.14705882],\n",
       "       [0.13649207, 0.03781513],\n",
       "       [0.33058031, 0.04201681],\n",
       "       [0.22560313, 0.04201681],\n",
       "       [0.12519018, 0.04621849],\n",
       "       [0.37361443, 0.08823529],\n",
       "       [0.15083677, 0.31512605],\n",
       "       [0.06085634, 0.05042017],\n",
       "       [0.22886329, 0.00840336],\n",
       "       [0.19082808, 0.04201681],\n",
       "       [0.17452728, 0.02941176],\n",
       "       [0.15409694, 0.15966387],\n",
       "       [0.12084329, 0.23529412],\n",
       "       [0.56944143, 0.01260504],\n",
       "       [0.1662682 , 0.20168067],\n",
       "       [0.21364921, 0.04201681],\n",
       "       [0.15409694, 0.02521008],\n",
       "       [0.21712671, 0.27731092],\n",
       "       [0.20365138, 0.04201681],\n",
       "       [0.28189524, 0.06722689],\n",
       "       [0.14540317, 0.41176471],\n",
       "       [0.37187568, 0.        ],\n",
       "       [0.22777657, 0.03361345],\n",
       "       [0.18409042, 0.25630252],\n",
       "       [0.46533362, 0.05882353],\n",
       "       [0.43186264, 0.04201681],\n",
       "       [0.11193219, 0.28991597],\n",
       "       [0.29841339, 0.0210084 ],\n",
       "       [0.11323625, 0.30672269],\n",
       "       [0.15974788, 0.31512605],\n",
       "       [0.36187785, 0.04201681],\n",
       "       [0.21256249, 0.38235294],\n",
       "       [0.38513367, 0.07142857],\n",
       "       [0.23299283, 0.00840336],\n",
       "       [0.31297544, 0.04201681],\n",
       "       [0.21995218, 0.52521008],\n",
       "       [0.52336449, 0.06302521],\n",
       "       [0.16257335, 0.17226891],\n",
       "       [0.15909585, 0.04201681],\n",
       "       [0.36687677, 0.10504202],\n",
       "       [0.29558792, 0.04621849],\n",
       "       [0.3803521 , 0.0210084 ],\n",
       "       [0.13540535, 0.21848739],\n",
       "       [0.09041513, 0.58403361],\n",
       "       [0.41534449, 0.04201681],\n",
       "       [0.16561617, 0.90756303],\n",
       "       [0.25038035, 0.03361345],\n",
       "       [0.12301674, 0.04201681],\n",
       "       [0.17713541, 0.44537815],\n",
       "       [0.6142143 , 0.09663866],\n",
       "       [0.27146273, 0.05042017],\n",
       "       [0.20256466, 0.1512605 ],\n",
       "       [0.59313193, 0.12184874],\n",
       "       [0.1445338 , 0.44537815],\n",
       "       [0.52532058, 0.04201681],\n",
       "       [0.32601608, 0.0210084 ],\n",
       "       [0.1810476 , 0.07563025],\n",
       "       [0.20321669, 0.50840336],\n",
       "       [0.16605086, 0.68487395],\n",
       "       [0.27624429, 0.08403361],\n",
       "       [0.11736579, 0.21848739],\n",
       "       [0.15800913, 0.04201681],\n",
       "       [0.70267333, 0.04621849],\n",
       "       [0.25907411, 0.03781513],\n",
       "       [0.09910889, 0.2605042 ],\n",
       "       [0.20039122, 0.23529412],\n",
       "       [0.38861117, 0.07983193],\n",
       "       [0.24625082, 0.0210084 ],\n",
       "       [0.2649424 , 0.20588235],\n",
       "       [0.21734406, 0.08823529],\n",
       "       [0.07476636, 0.03361345],\n",
       "       [0.31384482, 0.05882353],\n",
       "       [0.23538361, 0.31092437],\n",
       "       [0.29971745, 0.20168067],\n",
       "       [0.83047164, 0.04201681],\n",
       "       [0.12888502, 0.1092437 ],\n",
       "       [0.31840904, 0.01260504],\n",
       "       [0.13149315, 0.79411765],\n",
       "       [0.11301891, 0.16386555],\n",
       "       [0.27667898, 0.14705882],\n",
       "       [0.19061074, 0.55042017],\n",
       "       [0.48359052, 0.03361345],\n",
       "       [0.10758531, 0.39915966],\n",
       "       [0.12084329, 0.1302521 ],\n",
       "       [0.59313193, 0.04201681],\n",
       "       [0.12671158, 0.05882353],\n",
       "       [0.10693328, 0.30252101],\n",
       "       [0.32775484, 0.06722689],\n",
       "       [0.14301239, 0.33613445],\n",
       "       [0.17474462, 0.01260504],\n",
       "       [0.15496631, 0.04201681],\n",
       "       [0.18430776, 0.04201681],\n",
       "       [0.12019126, 0.20588235],\n",
       "       [0.18430776, 0.03361345],\n",
       "       [0.43186264, 0.05462185],\n",
       "       [0.08672028, 0.58823529],\n",
       "       [0.10693328, 0.14285714],\n",
       "       [0.20495544, 0.12184874],\n",
       "       [0.46446425, 0.07563025],\n",
       "       [0.17822213, 0.04621849],\n",
       "       [0.6655075 , 0.06302521],\n",
       "       [0.13649207, 0.60084034],\n",
       "       [0.10084764, 0.07983193],\n",
       "       [0.20821561, 0.00840336],\n",
       "       [0.12736362, 0.31932773],\n",
       "       [0.19517496, 0.23109244],\n",
       "       [0.23538361, 0.05042017],\n",
       "       [0.58400348, 0.10084034],\n",
       "       [0.38404695, 0.07983193],\n",
       "       [0.16257335, 0.05042017],\n",
       "       [0.12605955, 0.34033613],\n",
       "       [0.16974571, 0.03361345],\n",
       "       [0.24190393, 0.44537815],\n",
       "       [0.24820691, 0.04201681],\n",
       "       [0.21364921, 0.14705882],\n",
       "       [0.42143012, 0.        ],\n",
       "       [0.56552923, 0.06302521],\n",
       "       [0.40317322, 0.0210084 ],\n",
       "       [0.22408172, 0.30672269],\n",
       "       [0.20625951, 0.35294118],\n",
       "       [0.40186916, 0.04201681],\n",
       "       [0.33688329, 0.02521008],\n",
       "       [0.16561617, 0.90756303],\n",
       "       [0.13410128, 0.95378151],\n",
       "       [0.13257987, 0.68487395],\n",
       "       [0.21734406, 0.04201681],\n",
       "       [0.30949794, 0.01680672],\n",
       "       [0.19517496, 0.23109244],\n",
       "       [0.10171702, 0.08823529],\n",
       "       [0.20104325, 0.22268908],\n",
       "       [0.22560313, 0.04201681],\n",
       "       [0.30710715, 0.08823529],\n",
       "       [0.29710932, 0.05042017],\n",
       "       [0.70484677, 0.09243697],\n",
       "       [0.21256249, 0.38235294],\n",
       "       [0.15148881, 0.25210084]])"
      ]
     },
     "execution_count": 6,
     "metadata": {},
     "output_type": "execute_result"
    }
   ],
   "source": [
    "# TODO: Laden des house_location Datensatzes\n",
    "train_data = pd.read_csv(\"../data/house_location/house_location_data.csv\")\n",
    "test_data = pd.read_csv(\"../data/house_location/house_location_new_data_with_labels.csv\")\n",
    "\n",
    "X_train = train_data.loc[:, [\"price_per_sqft\", \"elevation\"]].values.astype(np.float64)\n",
    "y_train = train_data.loc[:, \"in_sf\"].values\n",
    "\n",
    "X_test = test_data.loc[:, [\"price_per_sqft\", \"elevation\"]].values.astype(np.float64)\n",
    "y_test = test_data.loc[:, \"in_sf\"].values\n",
    "\n",
    "# TODO: Skalieren des House Location Datensatzes\n",
    "maximum_price_per_sqft = 1. * np.max(X_train[:, 0])\n",
    "maximum_elevation = 1. * np.max(X_train[:, 1])\n",
    "\n",
    "X_train_scaled = X_train.copy()\n",
    "X_train_scaled[:, 0] = X_train[:, 0] / maximum_price_per_sqft\n",
    "X_train_scaled[:, 1] = X_train[:, 1] / maximum_elevation\n",
    "\n",
    "X_test_scaled = X_test.copy()\n",
    "X_test_scaled[:, 0] = X_test[:, 0] / maximum_price_per_sqft\n",
    "X_test_scaled[:, 1] = X_test[:, 1] / maximum_elevation\n",
    "\n",
    "X_train_scaled"
   ]
  },
  {
   "cell_type": "code",
   "execution_count": 7,
   "metadata": {},
   "outputs": [
    {
     "data": {
      "application/vnd.jupyter.widget-view+json": {
       "model_id": "a6e1a59537804eaf8604bdef4c4995b8",
       "version_major": 2,
       "version_minor": 0
      },
      "text/plain": [
       "Canvas(toolbar=Toolbar(toolitems=[('Home', 'Reset original view', 'home', 'home'), ('Back', 'Back to previous …"
      ]
     },
     "metadata": {},
     "output_type": "display_data"
    }
   ],
   "source": [
    "# Wir untersuchen die Trainings- und Testdaten qualitativ.\n",
    "# Einmal mit Skalierung und einmal ohne\n",
    "\n",
    "# ohne Skalierung\n",
    "plt.figure(figsize=(8, 6))\n",
    "plt.scatter(X_train[:, 0], X_train[:, 1], c=y_train, alpha=0.5)\n",
    "plt.scatter(X_test[:, 0], X_test[:, 1], c=y_test, marker=\"x\")\n",
    "plt.xlabel(\"price per sqft\")\n",
    "plt.ylabel(\"elevation\");"
   ]
  },
  {
   "cell_type": "code",
   "execution_count": 8,
   "metadata": {},
   "outputs": [
    {
     "data": {
      "application/vnd.jupyter.widget-view+json": {
       "model_id": "77c165c08cc24c2ab794aa36a5add41a",
       "version_major": 2,
       "version_minor": 0
      },
      "text/plain": [
       "Canvas(toolbar=Toolbar(toolitems=[('Home', 'Reset original view', 'home', 'home'), ('Back', 'Back to previous …"
      ]
     },
     "metadata": {},
     "output_type": "display_data"
    }
   ],
   "source": [
    "# mit Skalierung\n",
    "plt.figure(figsize=(8, 6))\n",
    "plt.scatter(X_train_scaled[:, 0], X_train_scaled[:, 1], c=y_train, alpha=0.5)\n",
    "plt.scatter(X_test_scaled[:, 0], X_test_scaled[:, 1], c=y_test, marker=\"x\")\n",
    "plt.xlabel(\"price per sqft / maximum price per sqft\")\n",
    "plt.ylabel(\"elevation / maximum elevation\");"
   ]
  },
  {
   "cell_type": "markdown",
   "metadata": {},
   "source": [
    "### 2.1. Interaktiv trainieren\n",
    "\n",
    "Wir versuchen zunächst eine Intuition für das Modell zu entwickeln und benutzen dazu interaktives Plotting. Um eine ansprechende Visualisierung zur gewährleisten ist außerdem erstmals das \"Skalieren\" der Features relevant. Erst zu einem späteren Zeitpunkt werden wir dieses Skalieren genauer kennenlernen."
   ]
  },
  {
   "cell_type": "code",
   "execution_count": 11,
   "metadata": {},
   "outputs": [],
   "source": [
    "# TODO: Importieren des interaktiven Fitting-Tools\n",
    "from utils_logistic import InteractiveConnectionistNeuron"
   ]
  },
  {
   "cell_type": "code",
   "execution_count": 12,
   "metadata": {},
   "outputs": [
    {
     "data": {
      "application/vnd.jupyter.widget-view+json": {
       "model_id": "01a632592ec14c68a07bf3891d11f155",
       "version_major": 2,
       "version_minor": 0
      },
      "text/plain": [
       "Canvas(toolbar=Toolbar(toolitems=[('Home', 'Reset original view', 'home', 'home'), ('Back', 'Back to previous …"
      ]
     },
     "metadata": {},
     "output_type": "display_data"
    },
    {
     "data": {
      "application/vnd.jupyter.widget-view+json": {
       "model_id": "ac8467e61ff1414cb79a363516d00c60",
       "version_major": 2,
       "version_minor": 0
      },
      "text/plain": [
       "interactive(children=(FloatSlider(value=0.1, description='w1', max=6.0, min=-6.0, step=0.05), FloatSlider(valu…"
      ]
     },
     "metadata": {},
     "output_type": "display_data"
    }
   ],
   "source": [
    "# TODO: Trainieren\n",
    "model = InteractiveConnectionistNeuron()\n",
    "model.fit(X_train_scaled, y_train)"
   ]
  },
  {
   "cell_type": "code",
   "execution_count": 12,
   "metadata": {},
   "outputs": [
    {
     "name": "stdout",
     "output_type": "stream",
     "text": [
      "0.1\n",
      "1.0\n",
      "0.0\n"
     ]
    }
   ],
   "source": [
    "# die Parameter des Modells können ausgegeben werden\n",
    "print(model.w1)\n",
    "print(model.w2)\n",
    "print(model.bias)"
   ]
  },
  {
   "cell_type": "code",
   "execution_count": 13,
   "metadata": {},
   "outputs": [
    {
     "data": {
      "text/plain": [
       "0.5454545454545454"
      ]
     },
     "execution_count": 13,
     "metadata": {},
     "output_type": "execute_result"
    }
   ],
   "source": [
    "# TODO: Modell evaluieren\n",
    "\n",
    "# Option 1 - naives Python mit for-Schleife\n",
    "def predict(X, w1, w2, bias):\n",
    "    \n",
    "    n_rows = X.shape[0]\n",
    "    \n",
    "    y_pred = np.zeros(n_rows)\n",
    "    \n",
    "    for i in range(n_rows):\n",
    "        x_i = X[i, :]\n",
    "\n",
    "        h = x_i[0] * w1 + x_i[1] * w2 - bias\n",
    "        \n",
    "        if h >= 0:\n",
    "            y_pred[i] = 1\n",
    "        else:\n",
    "            y_pred[i] = 0\n",
    "        \n",
    "    return y_pred\n",
    "\n",
    "\n",
    "# Option 2 - Numpy mit np.dot\n",
    "def predict(X, w1, w2, bias):\n",
    "    \n",
    "    n = len(X)\n",
    "    y_pred = np.zeros(n)\n",
    "    \n",
    "    w = np.array([w1, w2])\n",
    "    \n",
    "    for i in range(n):\n",
    "        x_i = X[i, :]\n",
    "        \n",
    "        # vorher: h = x_i[0] * w1 + x_i[1] * w2 - bias\n",
    "        # jetzt:\n",
    "        h = np.dot(x_i, w) - bias\n",
    "        \n",
    "        y_pred[i] = int(h >= 0)\n",
    "        \n",
    "    return y_pred\n",
    "\n",
    "\n",
    "# Option 3 - Numpy mit np.matmul\n",
    "def predict(X, w1, w2, bias):   \n",
    "    w = np.array([w1, w2])\n",
    "    y_pred = ((np.matmul(X, w) - bias) >= 0).astype(np.int64)\n",
    "    return y_pred\n",
    "\n",
    "\n",
    "# Eine Hilfsfunktion zur Berechnung der Genauigkeit\n",
    "def accuracy_score(y_true, y_pred):\n",
    "    return (y_true == y_pred).sum() / len(y_pred)\n",
    "\n",
    "\n",
    "y_pred = predict(X_test, model.w1, model.w2, model.bias)\n",
    "\n",
    "accuracy = accuracy_score(y_test, y_pred)\n",
    "accuracy"
   ]
  },
  {
   "cell_type": "code",
   "execution_count": 14,
   "metadata": {},
   "outputs": [
    {
     "data": {
      "text/plain": [
       "array([1])"
      ]
     },
     "execution_count": 14,
     "metadata": {},
     "output_type": "execute_result"
    }
   ],
   "source": [
    "# TODO: Vorhersagen auf unbekannten Datenpunkten\n",
    "x_new = np.array([[3600, 125]])\n",
    "\n",
    "x_new[:, 0] = x_new[:, 0] / maximum_price_per_sqft\n",
    "x_new[:, 1] = x_new[:, 1] / maximum_elevation\n",
    "\n",
    "predict(x_new, model.w1, model.w2, model.bias)"
   ]
  },
  {
   "cell_type": "markdown",
   "metadata": {},
   "source": [
    "### 2.2. Training mit Scikit-Learn\n",
    "\n",
    "In diesem Abschnitt vergleichen wir das interaktive Training mit einem von Scikit-Learn bereitgestellten Modell."
   ]
  },
  {
   "cell_type": "code",
   "execution_count": 15,
   "metadata": {},
   "outputs": [],
   "source": [
    "# TODO: Trainieren mit der Scikit-Learn LogisticRegression\n",
    "# Logistische Regression ~= Connectionist Neuron mit Transferfunktion als Sprungfunktion\n",
    "from sklearn.linear_model import LogisticRegression"
   ]
  },
  {
   "cell_type": "code",
   "execution_count": 16,
   "metadata": {},
   "outputs": [],
   "source": [
    "scikit_model = LogisticRegression()"
   ]
  },
  {
   "cell_type": "code",
   "execution_count": 17,
   "metadata": {},
   "outputs": [],
   "source": [
    "# Das Attribut `coef_` ist zunächst nicht bekannt.\n",
    "# Führen Sie den folgenden Code aus, um die Fehlermeldung zu überprüfen\n",
    "\n",
    "# print(scikit_model.coef_)"
   ]
  },
  {
   "cell_type": "code",
   "execution_count": 18,
   "metadata": {},
   "outputs": [
    {
     "name": "stdout",
     "output_type": "stream",
     "text": [
      "[[-4.57032638  5.13341801]]\n",
      "[0.60800476]\n"
     ]
    }
   ],
   "source": [
    "# Nach dem Fitten des Modells sind die Attribute `coef_` und `intercept_` bekannt\n",
    "scikit_model.fit(X_train_scaled, y_train)\n",
    "\n",
    "# coef_ = weights\n",
    "print(scikit_model.coef_)\n",
    "# intercept_ = bias/theta\n",
    "print(scikit_model.intercept_)"
   ]
  },
  {
   "cell_type": "code",
   "execution_count": 19,
   "metadata": {},
   "outputs": [
    {
     "data": {
      "text/plain": [
       "0.7474747474747475"
      ]
     },
     "execution_count": 19,
     "metadata": {},
     "output_type": "execute_result"
    }
   ],
   "source": [
    "# TODO: Modell evaluieren\n",
    "y_pred_test = scikit_model.predict(X_test_scaled)\n",
    "\n",
    "scikit_accuracy = accuracy_score(y_test, y_pred_test)\n",
    "scikit_accuracy"
   ]
  },
  {
   "cell_type": "code",
   "execution_count": 20,
   "metadata": {},
   "outputs": [
    {
     "data": {
      "text/plain": [
       "array([1])"
      ]
     },
     "execution_count": 20,
     "metadata": {},
     "output_type": "execute_result"
    }
   ],
   "source": [
    "# TODO: Vorhersagen auf unbekannten Datenpunkten\n",
    "scikit_model.predict(x_new)"
   ]
  },
  {
   "cell_type": "code",
   "execution_count": null,
   "metadata": {},
   "outputs": [],
   "source": []
  }
 ],
 "metadata": {
  "kernelspec": {
   "display_name": "Python 3",
   "language": "python",
   "name": "python3"
  },
  "language_info": {
   "codemirror_mode": {
    "name": "ipython",
    "version": 3
   },
   "file_extension": ".py",
   "mimetype": "text/x-python",
   "name": "python",
   "nbconvert_exporter": "python",
   "pygments_lexer": "ipython3",
   "version": "3.8.5"
  }
 },
 "nbformat": 4,
 "nbformat_minor": 2
}
