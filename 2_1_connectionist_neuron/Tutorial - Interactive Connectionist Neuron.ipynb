{
 "cells": [
  {
   "cell_type": "markdown",
   "metadata": {},
   "source": [
    "In diesem Tutorial lernen wir die Funktionsweise des **Connectionist Neuron** interaktiv kennen.\n",
    "\n",
    "Um dieses Tutorial auszuführen brauchen wir interaktives Plotting. Dieses ist in Jupyter Notebooks prinzipiell einfach möglich mit der integrierten Bibliothek `ipywidgets`. Diese Bibliothek erfordert allerdings versionsabhängig verschiedene sogenannte Backends, nämlich entweder\n",
    "\n",
    "```python\n",
    "%matplotlib widget\n",
    "# oder\n",
    "%matplotlib notebook\n",
    "```\n",
    "\n",
    "die mit der sogenannten Jupyter-Magic (das Prozentzeichen) aktiviert werden müssen. Jedes Mal, wenn wir eines dieser Backends aktivieren, kann es nicht mehr geändert werden. Wollen wir uns Backend danach ändern, müssen wir das **Notebook neu starten**. Dies tun wir über *Kernel -> Restart* oben in der Taskleiste."
   ]
  },
  {
   "cell_type": "code",
   "execution_count": null,
   "metadata": {},
   "outputs": [],
   "source": [
    "%matplotlib widget\n",
    "# oder\n",
    "# %matplotlib notebook\n",
    "import numpy as np\n",
    "import matplotlib.pyplot as plt\n",
    "import pandas as pd"
   ]
  },
  {
   "cell_type": "markdown",
   "metadata": {},
   "source": [
    "## 1. Entscheidungsgrenzen\n",
    "\n",
    "Nun brauchen wir noch eine begleitende Datei mit Code, den wir in dieses Notebook importieren wollen. Der Code selbst ist nicht relevant, wir wollen ihn nur zur Visualisierung verwenden."
   ]
  },
  {
   "cell_type": "code",
   "execution_count": null,
   "metadata": {},
   "outputs": [],
   "source": [
    "from utils_logistic import get_interactive_logistic_regression_advanced"
   ]
  },
  {
   "cell_type": "markdown",
   "metadata": {},
   "source": [
    "Als letztes laden wir einen Toy-Datensatz:"
   ]
  },
  {
   "cell_type": "code",
   "execution_count": null,
   "metadata": {},
   "outputs": [],
   "source": [
    "# TODO: Laden der Rohdaten - Pfad muss eventuell geändert werden\n",
    "\n",
    "# TODO: Teilen die Daten in Beobachtungen und Labels\n",
    "X, y = None, None"
   ]
  },
  {
   "cell_type": "code",
   "execution_count": null,
   "metadata": {
    "scrolled": false
   },
   "outputs": [],
   "source": [
    "interactive_plot, ui = get_interactive_logistic_regression_advanced(X, y)\n",
    "display(interactive_plot, ui)\n"
   ]
  },
  {
   "cell_type": "markdown",
   "metadata": {},
   "source": [
    "## 2. Modell trainieren\n",
    "\n",
    "### 2.1. Interaktiv trainieren\n",
    "\n",
    "Wir versuchen zunächst eine Intuition für das Modell zu entwickeln und benutzen dazu interaktives Plotting. Um eine ansprechende Visualisierung zur gewährleisten ist außerdem erstmals das \"Skalieren\" der Features relevant. Erst zu einem späteren Zeitpunkt werden wir dieses Skalieren genauer kennenlernen."
   ]
  },
  {
   "cell_type": "code",
   "execution_count": null,
   "metadata": {},
   "outputs": [],
   "source": [
    "# TODO: Importieren des interaktiven Fitting-Tools\n",
    "from utils_logistic import InteractiveConnectionistNeuron"
   ]
  },
  {
   "cell_type": "code",
   "execution_count": null,
   "metadata": {},
   "outputs": [],
   "source": [
    "# TODO: Laden des house_location Datensatzes und Vorbereitung\n",
    "\n",
    "# TODO: Skalieren des House Location Datensatzes"
   ]
  },
  {
   "cell_type": "code",
   "execution_count": null,
   "metadata": {},
   "outputs": [],
   "source": [
    "# TODO: Trainieren"
   ]
  },
  {
   "cell_type": "code",
   "execution_count": null,
   "metadata": {},
   "outputs": [],
   "source": [
    "# TODO: Modell evaluieren"
   ]
  },
  {
   "cell_type": "code",
   "execution_count": null,
   "metadata": {},
   "outputs": [],
   "source": [
    "# TODO: Vorhersagen auf unbekannten Datenpunkten"
   ]
  },
  {
   "cell_type": "markdown",
   "metadata": {},
   "source": [
    "### 2.2. Training mit Scikit-Learn\n",
    "\n",
    "In diesem Abschnitt vergleichen wir das interaktive Training mit einem von Scikit-Learn bereitgestellten Modell."
   ]
  },
  {
   "cell_type": "code",
   "execution_count": null,
   "metadata": {},
   "outputs": [],
   "source": [
    "# TODO: Trainieren mit der Scikit-Learn LogisticRegression\n",
    "# Logistische Regression ~= Connectionist Neuron mit Transferfunktion als Sprungfunktion\n",
    "from sklearn.linear_model import LogisticRegression\n",
    "\n",
    "# TODO: Modell evaluieren\n",
    "# TODO: Vorhersagen auf unbekannten Datenpunkten"
   ]
  },
  {
   "cell_type": "code",
   "execution_count": null,
   "metadata": {},
   "outputs": [],
   "source": []
  }
 ],
 "metadata": {
  "kernelspec": {
   "display_name": "Python 3",
   "language": "python",
   "name": "python3"
  },
  "language_info": {
   "codemirror_mode": {
    "name": "ipython",
    "version": 3
   },
   "file_extension": ".py",
   "mimetype": "text/x-python",
   "name": "python",
   "nbconvert_exporter": "python",
   "pygments_lexer": "ipython3",
   "version": "3.8.5"
  }
 },
 "nbformat": 4,
 "nbformat_minor": 2
}
