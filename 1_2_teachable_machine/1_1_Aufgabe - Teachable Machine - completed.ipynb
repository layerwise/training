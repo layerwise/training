{
 "cells": [
  {
   "cell_type": "markdown",
   "metadata": {
    "cell_id": "00001-e2d1548f-3ea1-44f8-96cb-1bceffbd4c7d",
    "deepnote_cell_type": "markdown"
   },
   "source": [
    "## (1.1.1) Einführung <span style=\"color:green; font-size:1em\">(o)</span>  <span style=\"font-size:1em\">&#x1F4D7;</span>\n",
    "\n",
    "Öffnen Sie die Webseite https://teachablemachine.withgoogle.com/train. Dort finden Sie eine GUI (Graphical User Interface) zum Training eines Machine Learning Modells zur \n",
    "\n",
    "- Bild-Klassifikation\n",
    "- Sound-Klassifikation\n",
    "- Posen-Klassifikation\n",
    "\n",
    "Wählen Sie eines dieser Interfaces und starten Sie ein Projekt. Machen Sie sich mit der GUI vertraut (auf https://teachablemachine.withgoogle.com/ finden sich Links zu entsprechenden Bedienungs-Tutorials). Die GUI ist als spielerisches Tool zu verstehen, anhand dessen sich elementare Bestandteile des Maschinellen Lernens interaktiv kennenlernen lassen.\n",
    "\n",
    "> *Hinweise*:\n",
    "> - *Die Benutzung der Webcam ist aus Datenschutzgründen unbedenklich: es werden keine Daten auf einen Server hochgeladen - stattdessen läuft der Upload sowie das Training des Modells lokal im Browser.*\n",
    "> - *Sollte es Ihnen nicht möglich sein, innerhalb Ihres Browsers auf Ihre Webcam zuzugreifen, so liegt dies sehr wahrscheinlich daran, dass alfaview bereits auf Ihre Webcam zugreift und diese deshalb blockiert ist. Reduzieren Sie Ihre Bandbreite in alfaview, um ihre Webcam dort zu deaktivieren und für die Teachable Machine GUI freizugeben.*\n",
    "> - *Sollten Sie Ihre Webcam nicht benutzen wollen, laden Sie manuell z.B. Bilder von ihrer Festplatte hoch.*\n",
    "\n",
    "**Aufgaben:**\n",
    "\n",
    "**(a)** Entwerfen Sie nun ein Projekt. Seien Sie kreativ! Klassifizieren Sie zum Beispiel Gesichtsausdrücke, die Gesichter Ihrer Gruppe (nutzen Sie dafür den Datenaustausch), Gegenstände auf ihrem Schreibtisch, oder andere Datensätze, die Sie im Internet auftreiben.\n",
    "\n",
    "**(b)** Präsentieren Sie Ihr Projekt kurz dem Kurs. Beleuchten Sie dabei, ob Ihr Modell wie erwartet funktioniert. Betonen Sie vor allem Fehlschläge oder Schwächen des Modells. Was könnte deren Ursache sein?\n",
    "\n",
    "**(c) - Optional** Klicken Sie im Bereich \"Training\" der GUI auf \"Erweitert\" und versuchen Sie in Erfahrung zu bringen, was die Bedeutung der dort angegebenen Konfigurationsparameter ist. Ist einer dieser Konfigurationsparameter besonders wichtig/unwichtig? Versuchen Sie eine Konfiguration zu finden, für die das Training fehlschlägt (unter \"Details\" lässt sich das Training beobachten)."
   ]
  },
  {
   "cell_type": "markdown",
   "metadata": {
    "cell_id": "00002-463587aa-cd27-47a5-8c93-f1c218a12dab",
    "deepnote_cell_type": "markdown"
   },
   "source": [
    "## (1.1.2) Datensätze kennenlernen <span style=\"color:green; font-size:1em\">(o)</span>  <span style=\"font-size:1em\">&#x1F4D7;</span>\n",
    "\n",
    "> *Hinweis: Wählen Sie von den folgenden beiden Aufgaben nur eine aus.*\n",
    "\n",
    "## (1.1.2.1) MNIST\n",
    "\n",
    "Der sogenannte MNIST-Datensatz ist ein Datensatz mit Bildern handschriftliche geschriebener Ziffern. Dieser ist ursprünglich zur Erstellung von Algorithmen zur Ziffernerkennung erstellt worden und stellt heute einen sogenannten Benchmark-Datensatz in der Forschung dar. Die Quelle ist zum Beispiel http://yann.lecun.com/exdb/mnist/\n",
    "\n",
    "**(a)** Ihr Dozent hat den Datensatz so verarbeitet, sodass Sie diesen für die Teachable Machine GUI benutzen können. Sie finden diesen im Datenaustausch unter `/Kursmaterialen/data/mnist_images` oder anderfalls in der Lektion zur Teachable Machine. Die Dateien sind zip-komprimiert. Laden Sie den Datensatz herunter und dekomprimieren Sie diesen. Versuchen Sie, einen Überblick über die dort vorhandenen Dateien zu gewinnen.\n",
    "\n",
    "**(b)** Trainieren Sie mit dem MNIST Datensatz ein Modell zur Klassifikation von handgeschriebenen Ziffern. Es ist nicht notwendig, sämtliche Ziffern zu klassifizieren. Beschränken Sie sich eventuell auf 2-5 Ziffern. Funktioniert Ihr Modell? Warum oder warum nicht?\n",
    "\n",
    "**(c) Optional** Die Daten dieses Datensatzes liegen oft in einem anderen Format vor, als es in Aufgabenteil **(a)** der Fall war. Im Datenaustausche liegen die Daten auch in diesem altenativen Format vor. Untersuchen Sie den Datensatz. Welche Verarbeitungen scheinen auf diesem Datensatz ausgeführt worden zu sein? Wie steht der Datensatz mit den Bilddaten aus Aufgabenteil **(a)** in Zusammenhang?\n",
    "\n",
    "## (1.1.2.2) Sign-MNIST\n",
    "\n",
    "Der sogenannte Sign-MNIST Datensatz ist ein Datensatz mit Bildern von Gebärden der American Sign Language (ASL). Dieser ist zum Beispiel unter folgendem Link zu finden: https://www.kaggle.com/datamunge/sign-language-mnist. (Dort hat bereits eine Verarbeitung stattgefunden. Das Original ist zum Beispiel zu finden unter: https://github.com/mon95/Sign-Language-and-Static-gesture-recognition-using-sklearn.)\n",
    "\n",
    "**(a)** Ihr Dozent hat den Datensatz so verarbeitet, sodass Sie diesen für die Teachable Machine GUI benutzen können. Sie finden diesen im Datenaustausch unter `/Kursmaterialen/data/sign_mnist_images` oder anderfalls in der Lektion zur Teachable Machine. Die Dateien sind zip-komprimiert. Laden Sie den Datensatz herunter und dekomprimieren Sie diesen. Versuchen Sie, einen Überblick über die dort vorhandenen Dateien zu gewinnen.\n",
    "\n",
    "**(b)** Trainieren Sie mit dem Sign MNIST Datensatz ein Modell zur Klassifikation von Buchstaben-Gesten in ASL. Es ist nicht notwendig, sämtliche Buchstaben zu klassifizieren. Beschränken Sie sich eventuell auf 2-5 solche Buchstaben. Funktioniert Ihr Modell? Warum oder warum nicht?\n",
    "\n",
    "**(c) Optional** Die Daten unter https://www.kaggle.com/datamunge/sign-language-mnist sind auf spezielle Weise verarbeitet. Laden Sie den Datensatz herunter (möglicherweise ist ein Kaggle-Account nötig. Hat niemand in Ihrer Arbeitsgruppe einen solchen Account, überspringen Sie diese Aufgabe). Untersuchen Sie den Datensatz. Welche Verarbeitungen scheinen auf diesem Datensatz ausgeführt worden zu sein? Wie steht der Datensatz mit den Bilddaten aus Aufgabenteil **(a)** in Zusammenhang?"
   ]
  },
  {
   "cell_type": "markdown",
   "metadata": {
    "cell_id": "00003-44652bd1-8b82-4a84-817f-63e1d7363fd4",
    "deepnote_cell_type": "markdown"
   },
   "source": [
    "## (1.1.3) Export und Evaluation <span style=\"color:red; font-size:1em\">(ooo)</span>  <span style=\"font-size:1em\">&#x1F4D7;</span>\n",
    "\n",
    "> *Hinweis: Der folgende Aufgabe erfordert die Installation einer Bibliothek zum Importieren von neuronalen Netzwerken in Python - Tensorflow. Die Installation von Tensorflow ist in Anaconda eigentlich einfach möglich (informieren Sie sich bei Interesse), sollte aber an dieser Stelle nicht der Fokus sein. Wenn Sie mit Installationen von Bibliotheken in Python/Anaconda noch nicht vertraut sind, dann ist es besser, dies an dieser Stelle noch nicht zu versuchen. Andernfalls versuchen Sie zunächst eine Installation mit `pip` von ihrer Kommando-Zeile aus*\n",
    "\n",
    "> `pip install tensorflow`\n",
    "\n",
    "> *Nutzen Sie alternativ Cloud-Ressourcen, mit denen Sie Jupyter-Notebooks starten können, in denen bereits alle nötigen Bibliotheken installiert sind. Dazu gehören: https://colab.research.google.com/ (erfordert einen Google-Account) oder https://deepnote.com (erfordert einen kostenfreien Account). Für letzeres müssen Sie nicht einmal selber einen Account erstellen - sprechen Sie Ihren Dozenten an, der Ihnen einen Link zu einem bereits laufenden Notebook zukommen lassen wird.*\n",
    "\n",
    "\n",
    "In dieser Aufgabe wollen wir das Tool aus den vorherigen Aufgaben in Python nutzen. Die Vorschau auf https://teachablemachine.withgoogle.com/train ist zwar interessant, aber für uns nicht weiter nutzbar. Hier wollen wir sehen, dass sich das dort *trainierte* Modell in tatsächlichem Code verwenden lässt. Zwar ist das Tool weiterhin nur spielerisch zu verstehen, aber wesentliche Bestandteile des Maschinelles Lernens, die uns im weiteren Kurs begegnen werden, können wir bereits anhand dieses einfachen Beispiels kennenlernen.\n",
    "\n",
    "**In dieser Aufgabe lernen/wiederholen wir:**\n",
    "\n",
    "- (optional) eine neue Python-Bibliothek zu installieren\n",
    "- (optional) Cloud-Notebooks zu verwenden\n",
    "- externen Code zu importieren\n",
    "- externe Dateien und Pfade zu managen\n",
    "- Objekte in Python zu instanziieren\n",
    "- Methoden von Objekten in Python zu verwenden\n",
    "- Vorhersagen zu treffen\n",
    "- (optional) die Vorhersage-Performance des Modells zu quantifizieren\n",
    "\n",
    "\n",
    "**(a)** Exportieren Sie ihr Modell aus der GUI. Wählen Sie dazu Folgendes aus:\n",
    "\n",
    "> *Modell exportieren -> Tensorflow -> Keras -> Modell herunterladen*.\n",
    "\n",
    "Unten sehen Sie eine Darstellung (sollte diese nicht angezeigt werden, haben Sie die entsprechenden Bilddateien noch nicht heruntergeladen oder diese befinden sich nicht am richtigen Ort. Ignorieren Sie das Problem.)\n",
    "\n",
    "Der Download sollte ihnen eine zip-komprimierte Datei herunterladen. Sie können diese entpacken, um einen Überblick über die Dateiformate zu gewinnen, müssen aber nicht. Speichern Sie das zip-Datei am besten im gleichen Ordner wie dieses Notebook (Sollten Sie ein Cloud-Notebook verwenden, laden Sie die Datei stattdessen in das entsprechende Cloud-Verzeichnis).\n",
    "\n",
    "![Teachable Machine Export 1](https://raw.githubusercontent.com/layerwise/training/main/assets/teachable_export_1.png)\n",
    "\n",
    "![Teachable Machine Export 2](https://raw.githubusercontent.com/layerwise/training/main/assets/teachable_export_2.png)\n"
   ]
  },
  {
   "cell_type": "markdown",
   "metadata": {
    "cell_id": "00004-d1d5602d-65ce-4c57-b930-591e0a4735db",
    "deepnote_cell_type": "markdown",
    "tags": []
   },
   "source": [
    "**(b)** Laden Sie nun die folgende Hilfsdatei der Lektion herunter:\n",
    "\n",
    "> `utils_teachable_machine.py`\n",
    "\n",
    "und speichern Sie sie im gleichen Ordner wie dieses Notebook. Danach sollte folgender Code funktionieren:\n",
    "\n",
    "> ```python\n",
    "> from utils_teachable_machine import MachineLearningModel\n",
    "> ```\n",
    "\n",
    "Probieren Sie es aus. Eventuell erhalten Sie die Fehlermeldung\n",
    "\n",
    "> ```python\n",
    "> ModuleNotFoundError: No module named 'utils_teachable_machine'\n",
    "> ```\n",
    "\n",
    "Dieser Fehler deutet darauf hin, dass sich die Datei nicht wirklich in dem gleichen Ordner wie dieses Notebook befindet. Überprüfen Sie ihre Ordnerstruktur erneut.\n",
    "\n",
    "Die Hilfsdatei erlaubt es uns, große Teile des Codes, die wir noch nicht kennengelernt haben, zu benutzen, ohne sie zu verstehen.\n"
   ]
  },
  {
   "cell_type": "code",
   "execution_count": 1,
   "metadata": {
    "cell_id": "00006-aefee202-100e-4397-8f42-60bdafc4dff3",
    "deepnote_cell_type": "code",
    "deepnote_to_be_reexecuted": false,
    "execution_millis": 2,
    "execution_start": 1614342785875,
    "source_hash": "f04ad998"
   },
   "outputs": [],
   "source": [
    "# Importieren der Hilfsdatei\n",
    "from utils_teachable_machine import MachineLearningModel"
   ]
  },
  {
   "cell_type": "markdown",
   "metadata": {
    "cell_id": "00005-ade6cf08-518b-4615-b0a9-9771de0a3c9e",
    "deepnote_cell_type": "markdown",
    "tags": []
   },
   "source": [
    "**(c)** In der Hilfsdatei ist eine sogenannte Klasse `MachineLearningModel` definiert. Klassen und damit objekt-orientierte Programmierung sind Standard für Maschinelles Lernen. Wir werden im Zuge des Kurses immer wieder Klassen benutzen und stellenweise, als fortgeschrittene Übungen, auch selbst programmieren. In dieser Aufgabe werden wir die Klasse nur benutzen. Dies tun wir so\n",
    "\n",
    "> ```python\n",
    "> model = MachineLearningModel(\"/home/models/converted_keras.zip\")\n",
    "> ```\n",
    "\n",
    "wobei `\"converted_keras.zip\"` die Datei ist, die wir in Aufgabenteil **(a)** heruntergeladen haben. Diese befindet sich hier hypothetischerweise in einem Ordner `/home/models`. Diesen Ordner müssen Sie natürlich anpassen. Eventuell haben Sie die Datei genau im gleichen Ordner gespeichert wie dieses Notebook. Dann sollte sogar folgendes reichen:\n",
    "\n",
    "> ```python\n",
    "> model = MachineLearningModel(\"converted_keras.zip\")\n",
    "> ```\n",
    "\n",
    "Das Ergebnis des Codes ist in jedem Fall ein Objekt mit dem Namen `model`. Wir sagen, dass wir das Objekt *instanziiert* haben. "
   ]
  },
  {
   "cell_type": "code",
   "execution_count": 3,
   "metadata": {
    "cell_id": "00007-8a31478a-973d-4450-9128-45eba0ece999",
    "deepnote_cell_type": "code",
    "deepnote_to_be_reexecuted": false,
    "execution_millis": 1,
    "execution_start": 1614343842236,
    "source_hash": "17640d93",
    "tags": []
   },
   "outputs": [
    {
     "name": "stdout",
     "output_type": "stream",
     "text": [
      "WARNING:tensorflow:No training configuration found in the save file, so the model was *not* compiled. Compile it manually.\n",
      "Model is ready!\n"
     ]
    }
   ],
   "source": [
    "# Instanziieren des Modells\n",
    "my_model = MachineLearningModel(\"converted_keras.zip\")"
   ]
  },
  {
   "cell_type": "markdown",
   "metadata": {
    "cell_id": "00007-5a2e15cc-70d9-40d3-bb7f-e41130703a51",
    "deepnote_cell_type": "markdown",
    "tags": []
   },
   "source": [
    "**(d)** Nun wollen wir das Machine Learning-Modell `model`, in Python dargestellt als ein Objekt, nutzen, um Vorhersagen zu treffen. Zur Erinnerung: das Modell ist *trainiert*, das heißt es ist an die Daten angepasst, die wir zuvor auf https://teachablemachine.withgoogle.com/train in das Modell eingegeben haben. Vorhersagen eines solches Modells lassen sich meistens erzeugen, in dem die `predict` Funktion des Objekts aufgerufen wird:\n",
    "\n",
    "> ```python\n",
    "> model.predict(\"/home/image/my_test_image.jpg\")\n",
    "> ```\n",
    "\n",
    "Ein solcher Aufruf ist in Python spezifisch für Objekte. Man spricht bei der Funktion `predict`, die Teil des Objekts ist, von einer *Methode*.\n",
    "\n",
    "Nutzen Sie den obenstehenden Code nun, um eine Vorhersage für ein Bild ihrer Wahl zu treffen. Dazu müssen Sie erneut den Pfad des Bildes anpassen (hier: `/home/images`) sowie den Namen der Bilddatei (hier: `my_test_image.jpg`). Die Funktion sollte ihnen die Vorhersage auf der Konsole ausgeben.\n",
    "\n",
    "Das Bild, für das Sie eine Vorhersage erzeugen wollen, können Sie auf beliebige Weise erstellen. Hier einige Ideen:\n",
    "- durch ihre Webcam (https://teachablemachine.withgoogle.com/train und dann auf die drei Punkte rechts neben der Klassenbezeichnung)\n",
    "- durch eine Bildersuche\n",
    "- durch ein Online-Zeichen-Tool: https://kleki.com/\n",
    "- durch Paint"
   ]
  },
  {
   "cell_type": "code",
   "execution_count": 4,
   "metadata": {
    "cell_id": "00006-b62dfe2c-f657-4847-a622-78060dc2f0c0",
    "deepnote_cell_type": "code",
    "deepnote_to_be_reexecuted": false,
    "execution_millis": 1,
    "execution_start": 1614344602507,
    "source_hash": "5408a2b9",
    "tags": []
   },
   "outputs": [
    {
     "name": "stdout",
     "output_type": "stream",
     "text": [
      "The prediction is: A!\n"
     ]
    }
   ],
   "source": [
    "# Vorhersage des Modells auf einem Test-Bild\n",
    "prediction = my_model.predict(\"1125.png\")"
   ]
  },
  {
   "cell_type": "markdown",
   "metadata": {
    "cell_id": "00012-5405baf7-3355-4c10-8399-c661a437537f",
    "deepnote_cell_type": "markdown",
    "tags": []
   },
   "source": [
    "**(e) Optional** Anhand von Beispielen wie in Aufgabenteil **(d)** lässt sich die Funktionsweise des Modells qualitativ einschätzen. Wie aber lässt sich die *Güte* bzw. *Performance* des Modells quantifizieren? Wie oft können wir erwarten, dass das Modell mit der Vorhersage richtig liegt? Diskutieren Sie Ansätze! Versuchen Sie, ihren Ansatz durch Benutzung von `model` umzusetzen."
   ]
  },
  {
   "cell_type": "code",
   "execution_count": 4,
   "metadata": {
    "cell_id": "00014-62d0f00f-660e-41a9-97fd-520c34b85c49",
    "deepnote_cell_type": "code",
    "deepnote_to_be_reexecuted": false,
    "execution_millis": 1,
    "execution_start": 1614344625739,
    "source_hash": "cd7f152f",
    "tags": []
   },
   "outputs": [],
   "source": [
    "# TODO: Quantifizieren der Performance des Modells"
   ]
  }
 ],
 "metadata": {
  "deepnote": {},
  "deepnote_execution_queue": [],
  "deepnote_notebook_id": "044f0713-f2af-47a8-9e78-5d70178d53ee",
  "kernelspec": {
   "display_name": "Python 3",
   "language": "python",
   "name": "python3"
  },
  "language_info": {
   "codemirror_mode": {
    "name": "ipython",
    "version": 3
   },
   "file_extension": ".py",
   "mimetype": "text/x-python",
   "name": "python",
   "nbconvert_exporter": "python",
   "pygments_lexer": "ipython3",
   "version": "3.8.5"
  }
 },
 "nbformat": 4,
 "nbformat_minor": 4
}
