{
 "cells": [
  {
   "cell_type": "markdown",
   "metadata": {},
   "source": [
    "## Challenge: Vorhersage des Standorts von Immobilien\n",
    "\n",
    "## 1. Problemstellung\n",
    "\n",
    "Eine Investmentgesellschaft will seine internen Review- und Investment-Prozesse besser automatisieren. Anhand von gesammelten Eckdaten zu den Immobilien im Portfolio der Investmentgesellschaft soll automatisch der Standort von Immobilien vorhergesagt werden.\n",
    "\n",
    "In einem ersten Anlauf hat Ihnen die Investmentgesellschaft eine Beispielaufgabe zukommen lassen. Es soll ein Prototyp erstellt werden, der aufzeigt, in welchem Maße *Machine Learning* für die Problemstellungen der Investmentgesellschaft von Nutzen sein kann."
   ]
  },
  {
   "cell_type": "markdown",
   "metadata": {},
   "source": [
    "Der Kunde hat Ihnen zu diesem Zweck den folgenden Datensatz zur Verfügung gestellt:\n",
    "\n",
    "![Test Data](https://raw.githubusercontent.com/layerwise/training/main/assets/house_location_test_example_image.png)"
   ]
  },
  {
   "cell_type": "markdown",
   "metadata": {},
   "source": [
    "\n",
    "Dabei handelt es sich um eine Liste von Immobilien, jeweils mit einer eindeutigen `id`, für die bestimmte Messgrößen vorliegen:\n",
    "- die Anzahl der Betten\n",
    "- die Anzahl der Bäder\n",
    "- der Preis in US-Dollar\n",
    "- das Baujahr\n",
    "- die Wohnfläche (in square-feet)\n",
    "- der Preis pro Einheit Wohnfläche\n",
    "- die Höhe, auf der das Haus gebaut ist.\n",
    "\n",
    "Jede Zeile in der Liste gehört zu einer Immobilie. Insgesamt enhält die Liste Daten von etwa 100 Immobilien.\n",
    "\n",
    "Ihre Aufgabe ist es, ein Programm (einen Algorithmus) zu finden, der für jede der ungefähr 100 Immobilien vorhersagt, ob sich die Immobilie in **New York** *oder* in **San Francisco** befindet.\n",
    "\n",
    "Für die Liste von 100 Immobilien ist der Investmentgesellschaft natürlich bekannt, ob es sich um eine New Yorker Immobilie oder eine in San Francisco handelt. Doch diese Daten liegen Ihnen zunächst nicht vor.\n",
    "\n",
    "Stattdessen hat ihnen der Kunde einen zweiten Datensatz bereitgestellt:\n",
    "\n",
    "![Train Data](https://raw.githubusercontent.com/layerwise/training/main/assets/house_location_train_example_image.png)\n",
    "\n",
    "Dieser Datensatz ist sehr ähnlich zum ersten Datensatz, aber es gibt einige Unterschiede. Der wichtigste Unterschied ist folgender: jede Immobilie in der dieser zweiten Liste hat noch eine zusätzliche Information, die für den ersten Datensatz vom Kunden geheimgehalten wurde: den Standort der Immobilie. Dies ist der Spalte `in_sf` zu entnehmen und steht für \"in San Francisco\". Eine `0` in dieser Spalte bedeutet, dass sich die Immobilie in New York befindet. Eine `1` bedeutet, dass sich die Immobilie in San Francisco befindet."
   ]
  },
  {
   "cell_type": "markdown",
   "metadata": {},
   "source": [
    "**Wie lassen sich die Informationen aus der zweiten Liste nutzen, um für die Immobilien der ersten Liste vorherzusagen, ob sie sich in *New York* oder *San Francisco* befinden?**\n",
    "\n",
    "**Schreiben Sie ein Programm, das für jede Immobilie in der ersten Liste ein Zahl ausgibt. Eine `0` soll bedeuten, dass Sie glauben, dass die Immobilie in _New York_ steht. Eine `1` soll bedeuten, dass Sie glauben, dass die Immobilie in _San Francisco_ steht.**"
   ]
  },
  {
   "cell_type": "markdown",
   "metadata": {},
   "source": [
    "## 2. Daten\n",
    "\n",
    "### 2.1. Daten herunterladen\n",
    "\n",
    "Zuallerst müssen Sie die Daten für die folgende Aufgabe finden und herunterladen. Es handelt sich dabei um die Datensätze `house_location_data.csv` und `house_location_new_data.csv` im Datenordner `house_location`."
   ]
  },
  {
   "cell_type": "markdown",
   "metadata": {},
   "source": [
    "### 2.2. Daten importieren\n",
    "\n",
    "Wie lassen sich die Daten in das Notebook laden?"
   ]
  },
  {
   "cell_type": "code",
   "execution_count": 14,
   "metadata": {
    "scrolled": true
   },
   "outputs": [],
   "source": []
  },
  {
   "cell_type": "markdown",
   "metadata": {},
   "source": [
    "### 2.3 Daten sichten\n",
    "\n",
    "Welche Analysen könnte man auf den Daten ausführen?\n",
    "\n",
    "Für das nächste Kapitel könnte es sinnvoll sein, zum Beispiel die Durchschnittswerte der Features jeweils für die Immobilien in New York und für die Immobilien in San Francisco zu berechnen.\n",
    "\n",
    "Wie könnte man die Daten visualieren?\n",
    "\n",
    "Für das nächste Kapitel könnte es sinnvoll sein, sich Histogramme der Features anzeigen zu lassen. Können Sie für jedes Feature eine Grafik erzeugen, in der Sie jeweils zwei Histogramme darstellen, eines für Immobilien aus New York und eines für Immobilien aus San Francisco. Identifizieren Sie damit eines oder zwei Features, die sich besonders deutlich zwischen New Yorker und San Franciscoer Immobilien unterscheiden.\n",
    "(Tipp: Recherchieren Sie die Funktion `df.hist` oder suchen Sie nach den Begriffen \"DataFrame, histogram, classes, ...\")\n"
   ]
  },
  {
   "cell_type": "code",
   "execution_count": null,
   "metadata": {},
   "outputs": [],
   "source": []
  },
  {
   "cell_type": "markdown",
   "metadata": {},
   "source": [
    "## 3. Das Machine Learning Modell\n",
    "\n",
    "Wie können die Daten in `house_location_data.csv` benutzt werden, um daraus ein Modell zu erstellen?\n",
    "\n",
    "Denken Sie daran: dieses Modell soll danach in der Lage sein, für beliebige neue Datenpunkte (zum Beispiel die Datenpunkte in `house_location_new_data.csv`, aber allgemein für jede Art von Datenpunkten) eine Vorhersage zu treffen.\n",
    "\n",
    "Der Sinn dieser Aufgabe ist es, kreativ zu sein. Es gibt keine richtige Lösung und es gibt keine Genauigkeit zu erreichen. Ihr Modell muss nicht besonders gut sein. Ihr Modell muss nicht sämtliche Features des Datensatzes benutzen. Jede Idee ist willkommen - wenn Ihnen eine einfällt, haben Sie bereits den Kern des Maschinellen Lernens verstanden."
   ]
  },
  {
   "cell_type": "code",
   "execution_count": 34,
   "metadata": {},
   "outputs": [],
   "source": []
  },
  {
   "cell_type": "markdown",
   "metadata": {},
   "source": [
    "## 4. Vorhersage\n",
    "\n",
    "Der Kunde möchte, dass Sie für die Daten in der Datei `housing_location_new_data.csv` eine Vorhersage treffen. Es soll für jede Zeile der Daten entweder eine `0` oder eine `1` ausgegegeben werden. Eine `1` steht für *San Francisco* und eine `0` für *New York*."
   ]
  },
  {
   "cell_type": "code",
   "execution_count": null,
   "metadata": {},
   "outputs": [],
   "source": []
  },
  {
   "cell_type": "markdown",
   "metadata": {},
   "source": [
    "## 5. Evaluation\n",
    "\n",
    "Der Kunde stellt Ihnen abschließend noch die Datei `house_location_new_data_with_labels.csv` zur Verfügung (ebenfalls im Ordner `house_location`). Diese enthält nun die richtigen Antworten, die Sie mit Ihrer Vorhersage abgleichen können. Evaluieren Sie damit die Genauigkeit Ihres Modells."
   ]
  },
  {
   "cell_type": "code",
   "execution_count": null,
   "metadata": {},
   "outputs": [],
   "source": []
  }
 ],
 "metadata": {
  "kernelspec": {
   "display_name": "Python 3",
   "language": "python",
   "name": "python3"
  },
  "language_info": {
   "codemirror_mode": {
    "name": "ipython",
    "version": 3
   },
   "file_extension": ".py",
   "mimetype": "text/x-python",
   "name": "python",
   "nbconvert_exporter": "python",
   "pygments_lexer": "ipython3",
   "version": "3.8.5"
  }
 },
 "nbformat": 4,
 "nbformat_minor": 2
}
