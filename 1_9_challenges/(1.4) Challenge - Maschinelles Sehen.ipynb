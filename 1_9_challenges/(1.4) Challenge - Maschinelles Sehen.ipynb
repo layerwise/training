{
 "cells": [
  {
   "cell_type": "markdown",
   "metadata": {},
   "source": [
    "## Challenge: Handgeschriebene Zahlen erkennen\n",
    "\n",
    "## 1. Problemstellung\n",
    "\n",
    "Ein StartUp-Unternehmen hat sich vorgenommen, eine App zu entwickeln, die die Bedienung des Taschenrechners in Ihrem Tablet vereinfachen soll: anstatt die Zahlen und Zeichen mit dem Keyboard einzutippen, soll der Benutzer die Möglichkeit haben, direkt mit dem Touchpad oder Digi-Pencil Rechnungen aufzuschreiben, die die App verstehen und deren Ergebnisse berechnen können soll.\n",
    "\n",
    "Das Management hat sich darauf geeinigt, in einem ersten Anlauf, sozusagen als *Minimal Viable Product*, nur zu versuchen, die Ziffern $0-9$ von der App erkennen zu lassen und die sonstigen Zeichen ($+, -, \\sqrt{}, \\cdot, \\div $ usw.) zunächst außen vor zu lassen.\n",
    "\n",
    "In einem Feldversuch wurden die Benutzer der App aufgefordert, mit dem Touchpad die Ziffern $0-9$ aufzumalen und die resultierenden Bilder wurden in einem Datensatz gespeichert. Einige Beispielbilder sehen Sie hier:\n",
    "\n",
    "<p float=\"left\">\n",
    "<img src=\"https://raw.githubusercontent.com/layerwise/training/main/assets/example_digit_1.png\" width=\"100\" />\n",
    "<img src=\"https://raw.githubusercontent.com/layerwise/training/main/assets/example_digit_2.png\" width=\"100\" />\n",
    "<img src=\"https://raw.githubusercontent.com/layerwise/training/main/assets/example_digit_3.png\" width=\"100\" />\n",
    "<img src=\"https://raw.githubusercontent.com/layerwise/training/main/assets/example_digit_4.png\" width=\"100\" />\n",
    "<img src=\"https://raw.githubusercontent.com/layerwise/training/main/assets/example_digit_5.png\" width=\"100\" />\n",
    "<img src=\"https://raw.githubusercontent.com/layerwise/training/main/assets/example_digit_6.png\" width=\"100\" />\n",
    "<img src=\"https://raw.githubusercontent.com/layerwise/training/main/assets/example_digit_7.png\" width=\"100\" />\n",
    "</p>\n",
    "\n",
    "Insgesamt hat der Kunde $10000$ dieser Bilder gesammelt. Für jedes dieser Bilder ist dem Kunden bereits bekannt, welche Zahl darin zu sehen ist, aber diese Information wird Ihnen nicht mitgeteilt. Stattdessen will das Unternehmen anhand dieser $10000$ Bilder testen, ob das Programm, dass Sie entwerfen, tatsächlich funktioniert.\n",
    "\n",
    "Sie überlegen sich, dass für diese Aufgabe ein *Machine Learning* Modell in Frage kommt. Tatsächlich hat das Unternehmen von den Nutzern noch weitere $20000$ Bilder von handgeschriebenen Ziffern gesammelt. Diese sind von den $10000$ Test-Bildern verschieden. Für diese neuen $20000$ Bilder haben Sie aber Zugriff auf die Information, um welche Ziffer es sich jeweils handelt.\n",
    "\n",
    "\n",
    "**Wie lassen sich die $20000$ Bilder zusammen mit der Information, welche Ziffern sie jeweils darstellen, nutzen, um ein Programm zu schreiben, dass auch die unbekannten $10000$ Test-Bilder richtig erkennt?**\n",
    "\n",
    "**Schreiben Sie ein Programm, dass zu jedem der $10000$ Test-Bilder eine Zahl ausgibt - die Ziffer, die in dem Bild zu erkennen ist.**"
   ]
  },
  {
   "cell_type": "markdown",
   "metadata": {},
   "source": [
    "## 2. Daten\n",
    "\n",
    "## 2.1. Daten herunterladen\n",
    "\n",
    "Zuallerst müssen Sie die Daten für die folgende Aufgabe herunterladen. Es handelt sich dabei um den MNIST-Datensatz aus der Lektion **Teachable Machine**. Laden Sie diesen herunter.\n",
    "\n",
    "\n",
    "## 2.2. Daten importieren\n",
    "\n",
    "Um Bilddaten einzulesen ist Pandas nicht die richtige Bibliothek. Recherchieren Sie nach Möglichkeiten, Bilder in den Speicher zu laden. Mögliche Bibliotheken sind `PIL`, `skimage`, `opencv` oder auch `matplotlib`."
   ]
  },
  {
   "cell_type": "code",
   "execution_count": null,
   "metadata": {},
   "outputs": [],
   "source": []
  },
  {
   "cell_type": "markdown",
   "metadata": {},
   "source": [
    "## 2.3. Daten sichten und kennenlernen\n",
    "\n",
    "Zunächst sollten Sie die Daten kennenlernen und verstehen. In welchem Format befinden sich die eingelesenen Bilddaten? Welche Bibliothek Sie auch immer verwendet haben, Sie sollten die Bilddaten möglichst als NumPy-Arrays vorliegen haben:\n",
    "\n",
    "```python\n",
    "import numpy as np\n",
    "```\n",
    "\n",
    "Informieren Sie sich auch über die Funktion `np.reshape`."
   ]
  },
  {
   "cell_type": "code",
   "execution_count": null,
   "metadata": {},
   "outputs": [],
   "source": []
  },
  {
   "cell_type": "markdown",
   "metadata": {},
   "source": [
    "## 3. Das Machine Learning Modell\n",
    "\n",
    "Wie könnte ein Programm aussehen, dass die Daten im Ordner `train` nutzt, um ein Modell zu erzeugen, das danach für beliebige Bilder (im entsrpechenden Format, also schwarz-weiß und mit passender Auflösung) eine Vorhersage treffen kann - insbesondere für die Bilder im Ordner `test` zu sehen sind?\n",
    "\n",
    "Der Sinn dieser Aufgabe ist es, kreativ zu sein. Es gibt keine richtige Lösung und es gibt keine Genauigkeit zu erreichen. Ihr Modell muss nicht besonders gut sein. Jede Idee ist willkommen - wenn Ihnen eine einfällt, haben Sie bereits den Kern des Maschinellen Lernens verstanden."
   ]
  },
  {
   "cell_type": "code",
   "execution_count": null,
   "metadata": {},
   "outputs": [],
   "source": []
  },
  {
   "cell_type": "markdown",
   "metadata": {},
   "source": [
    "## 4. Vorhersage\n",
    "\n",
    "Der Kunde möchte, dass Sie für alle Bilder im Ordner `test` eine Vorhersage treffen."
   ]
  },
  {
   "cell_type": "code",
   "execution_count": 1,
   "metadata": {},
   "outputs": [],
   "source": []
  },
  {
   "cell_type": "markdown",
   "metadata": {},
   "source": [
    "## 5. Evaluation\n",
    "\n",
    "Evaluieren Sie die Vorhersage Ihres Modells für die Bilder im Ordner `test`. Für diese Bilder ist Ihnen bekannt, um welche Ziffern es sich jeweils handelt. Berechnen Sie die Genauigkeit."
   ]
  },
  {
   "cell_type": "code",
   "execution_count": null,
   "metadata": {},
   "outputs": [],
   "source": []
  }
 ],
 "metadata": {
  "kernelspec": {
   "display_name": "Python 3",
   "language": "python",
   "name": "python3"
  },
  "language_info": {
   "codemirror_mode": {
    "name": "ipython",
    "version": 3
   },
   "file_extension": ".py",
   "mimetype": "text/x-python",
   "name": "python",
   "nbconvert_exporter": "python",
   "pygments_lexer": "ipython3",
   "version": "3.8.5"
  }
 },
 "nbformat": 4,
 "nbformat_minor": 2
}
