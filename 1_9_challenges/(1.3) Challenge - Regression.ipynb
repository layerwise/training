{
 "cells": [
  {
   "cell_type": "markdown",
   "metadata": {},
   "source": [
    "## Challenge: Vorhersage von Immobilienpreisen\n",
    "\n",
    "## 1. Problemstellung\n",
    "\n",
    "Eine Investmentgesellschaft will seine internen Review- und Investment-Prozesse besser automatisieren.\n",
    "\n",
    "Teil des Portfolios der Investementgesellschaft sind Immobilienbestände im Gebiet um Ames, Iowa, USA. Über den Zustand und die Austattung dieser Immobilien wird selbstverständlich Buch geführt. Neben Wohnfläche, Baujahr, Zustand und Anzahl der Zimmer sind diverse andere Informationen vorhanden, so zum Beispiel die Form des Grundstücks, der Belag der Einfahrt, das Material der Außenwände und so weiter. Insgesamt sind für jede Immobilie in etwa ~80 Messgrößen und Eckdaten bekannt.\n",
    "\n",
    "Die Investmentgesellschaft hat ein Interesse daran, den Wert dieser Immobilien möglichst genau zu schätzen. Üblicherweise würde der Wert jeder Immobilie von Experten geschätzt. In einzelnen Fällen wäre dafür sogar eine Begutachtung des Objeckt nötig. Der Prozess, den Wert von fast 3000 Immobilien im Portfolio der Investmentgesellschaft zu schätzen ist langwierig, fehleranfällig und teuer.\n",
    "\n",
    "Deshalb ist die Investmentgesellschaft auf Sie zugekommen, um feststellen, ob es möglich ist, die Prozesse zu automatisieren, möglicherweise sogar durch *Machine Learning*.\n",
    "\n",
    "Der Kunde hat deshalb eine Beispielaufgabe für Sie vorbereitet, um das Potential von Methoden des *Machine Learning* für die Problemstellung einzuschätzen.\n",
    "\n",
    "Ihnen wir zunächst ein folgender Datensatz zur Verfügung gestellt:\n",
    "\n",
    "![Test Data](https://raw.githubusercontent.com/layerwise/training/main/assets/house_prices_test_example_image.png)\n",
    "\n",
    "Dabei handelt es sich um eine Liste von Immobilien im Bestand des Kunden, jede mit einer eindeutigen Identifikationsnummer, für die ein Verkaufspreis vorhergesagt werden soll. Für jede Immobilie sind diverse Messdaten und Informationen gegeben - insgesamt 80 solche Größen.\n",
    "\n",
    "Der Kunde hat per Expertenmeinung bereits eine Schätzung für den Verkaufspreis jeder dieser Immobilien angestellt - doch diese wird Ihnen nicht mitgeteilt. Ihre Aufgabe ist es, für jede der Immobilien einen Verkaufspreis vorherzusagen und dabei möglichst genau die Einschätzung des Kunden zu treffen.\n",
    "\n",
    "Das einzige, was Ihnen dafür zur Verfügung steht, ist ein weiterer Datensatz:\n",
    "\n",
    "![Train Data](https://raw.githubusercontent.com/layerwise/training/main/assets/house_prices_test_example_image.png)\n",
    "\n",
    "\n",
    "Dieser Datensatz ist sehr ähnlich dem ersten Datensatz. Er beschreibt eine andere Menge von Immobilien, die sich zuvor im Bestand des Kunden befunden haben und inzwischen verkauft wurden, für die die gleichen Messgrößen und Informationen vorliegen. Es gibt keine Überschneidung zwischen den zwei Datensätzen, d.h. jede Idenfikationsnummer in diesem zweiten Datensatz kommt nicht im ersten Datensatz vor und umgekehrt.\n",
    "\n",
    "Für diesen zweiten Datensatz gibt es aber eine zusätzliche Information: hier wurde bereits der tatsächliche Verkaufspreis (*SalePrice*) in US-Dollar angegeben."
   ]
  },
  {
   "cell_type": "markdown",
   "metadata": {},
   "source": [
    "**Wie lassen sich die Informationen aus dem zweiten Datensatz nutzen, um für die Immobilien des Kunden den Verkaufspreis vorherzusagen?**\n",
    "\n",
    "**Schreiben Sie ein Programm, das für jede Immobilie des Kunden ein Zahl ausgibt - Ihre Schätzung für den Verkaufspreis in US-Dollar.**"
   ]
  },
  {
   "cell_type": "markdown",
   "metadata": {},
   "source": [
    "## 2. Daten\n",
    "\n",
    "### 2.1. Daten herunterladen\n",
    "\n",
    "Zuallerst müssen Sie die Daten für die folgende Aufgabe finden und herunterladen. Es handelt sich dabei um den Datensatz *Ames House Prices* der in der Lektion als zip-Archiv heruntergeladen werden kann. Nach dem Entpacken befinden sich im Ordner folgende Dateien:\n",
    "\n",
    "- `AmesIowaHousingData.csv`\n",
    "- `AmesIowaHousingData_new.csv`\n",
    "- `AmesIowaHousingData_new_with_labels.csv`\n",
    "- `AmesIowaHousingDataDocumentation.txt`\n",
    "\n",
    "Beschäftigen Sie sich mit den Dateien. Zur Erklärung: die Datei `AmesIowaHousingData.csv` ist diejenige, die die Investmentgesellschaft Ihnen zum Trainieren Ihres Modells zur Verfügung gestellt hat. Die Datei `AmesIowaHousingData_new.csv` ist die Datei, auf der Sie eine Vorhersage anstellen sollen (die Investmentgesellschaft hat hier die tatsächlichen Preise der Immobilien gelöscht)."
   ]
  },
  {
   "cell_type": "code",
   "execution_count": null,
   "metadata": {},
   "outputs": [],
   "source": []
  },
  {
   "cell_type": "markdown",
   "metadata": {},
   "source": [
    "### 2.1. Daten laden\n",
    "\n",
    "Wie können Dateien mit der Endung .csv in Python geladen werden?"
   ]
  },
  {
   "cell_type": "code",
   "execution_count": null,
   "metadata": {},
   "outputs": [],
   "source": []
  },
  {
   "cell_type": "markdown",
   "metadata": {},
   "source": [
    "### 2.2 Daten sichten\n",
    "\n",
    "Wie können Daten gesichtet werden?"
   ]
  },
  {
   "cell_type": "code",
   "execution_count": null,
   "metadata": {},
   "outputs": [],
   "source": []
  },
  {
   "cell_type": "markdown",
   "metadata": {},
   "source": [
    "## 3. Das Machine Learning Modell\n",
    "\n",
    "Wie könnte ein Programm aussehen, dass die Daten in `AmesIowaHousingData.csv` nutzt, um ein Modell zu erzeugen?\n",
    "\n",
    "Denken Sie daran: ein solches Modell soll danach in der Lage sein, für beliebige neue Datenpunkte (zum Beispiel die Datenpunkte in `AmesIowaHousingData_new.csv`, aber allgemein für jede Art von Datenpunkten) eine Vorhersage zu treffen.\n",
    "\n",
    "Der Sinn dieser Aufgabe ist es, kreativ zu sein. Es gibt keine richtige Lösung und es gibt keine Genauigkeit zu erreichen. Ihr Modell muss nicht besonders gut sein. Ihr Modell muss nicht sämtliche Features des Datensatzes benutzen. Jede Idee ist willkommen - wenn Ihnen eine einfällt, haben Sie bereits den Kern des Maschinellen Lernens verstanden."
   ]
  },
  {
   "cell_type": "code",
   "execution_count": null,
   "metadata": {},
   "outputs": [],
   "source": []
  },
  {
   "cell_type": "markdown",
   "metadata": {},
   "source": [
    "## 4. Vorhersage\n",
    "\n",
    "Die Investmentgesellschaft möchte, dass Sie Ihre Ergebnisse wie folgt präparieren: jeder `id` in der Datei `AmesIowaHousingData_new.csv` soll ein vorhergesagter Verkaufspreis in US-Dollar zugeordnet werden. Dazu sollen Sie den Python-Datentyp `dictionary` verwenden. Das Ergbenis könnte zum Beispiel so aussehen:\n",
    "\n",
    "\n",
    "Die Investmentgesellschaft möchte, dass Sie für die Daten in der Datei `AmesIowaHousingData_new.csv` eine Vorhersage treffen. Es soll ein vorhergesagter Verkaufspreis in US-Dollar ausgegeben werden."
   ]
  },
  {
   "cell_type": "code",
   "execution_count": null,
   "metadata": {},
   "outputs": [],
   "source": []
  },
  {
   "cell_type": "markdown",
   "metadata": {},
   "source": [
    "## 5. Evaluation\n",
    "\n",
    "Die Investmentgesellschaft stellt Ihnen abschließend noch die Datei `AmesIowaHousingData_new_with_labels.csv` zur Verfügung (ebenfalls Teil des zip-Archivs). Diese enthält nun die richtigen Antworten, die Sie mit Ihrer Vorhersage abgleichen können. Evaluieren Sie damit die Ihres Modells. An dieser Stelle ist die Genauigkeit nicht die richtige Wahl. Erarbeiten Sie eine Alternative."
   ]
  },
  {
   "cell_type": "code",
   "execution_count": null,
   "metadata": {},
   "outputs": [],
   "source": []
  }
 ],
 "metadata": {
  "kernelspec": {
   "display_name": "Python 3",
   "language": "python",
   "name": "python3"
  },
  "language_info": {
   "codemirror_mode": {
    "name": "ipython",
    "version": 3
   },
   "file_extension": ".py",
   "mimetype": "text/x-python",
   "name": "python",
   "nbconvert_exporter": "python",
   "pygments_lexer": "ipython3",
   "version": "3.8.5"
  }
 },
 "nbformat": 4,
 "nbformat_minor": 2
}
