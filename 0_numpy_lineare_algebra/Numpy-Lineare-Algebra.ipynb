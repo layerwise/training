{
 "cells": [
  {
   "cell_type": "markdown",
   "metadata": {
    "cell_id": "00004-99e7c988-2693-4bd7-b900-c97e83ca9a7f",
    "deepnote_cell_type": "markdown",
    "tags": []
   },
   "source": [
    "# Vektoren"
   ]
  },
  {
   "cell_type": "code",
   "execution_count": 1,
   "metadata": {
    "cell_id": "00000-b1bfb117-8e1b-466e-bc69-189c13e4084e",
    "deepnote_cell_type": "code",
    "deepnote_to_be_reexecuted": false,
    "execution_millis": 879,
    "execution_start": 1611217177537,
    "source_hash": "eba39436",
    "tags": []
   },
   "outputs": [],
   "source": [
    "import numpy as np\n",
    "import matplotlib.pyplot as plt"
   ]
  },
  {
   "cell_type": "markdown",
   "metadata": {
    "cell_id": "00002-567b42c2-ce80-463b-a2a1-81baca955c26",
    "deepnote_cell_type": "markdown",
    "tags": []
   },
   "source": [
    "## Vektoren erstellen"
   ]
  },
  {
   "cell_type": "code",
   "execution_count": 9,
   "metadata": {
    "cell_id": "00017-9217b011-5c48-403e-b9e5-3d576c35f483",
    "deepnote_cell_type": "code",
    "deepnote_to_be_reexecuted": false,
    "execution_millis": 2,
    "execution_start": 1611218275248,
    "source_hash": "1caed974",
    "tags": []
   },
   "outputs": [],
   "source": [
    "a = np.array([2, 3])\n",
    "b = np.array([-2, 5])"
   ]
  },
  {
   "cell_type": "code",
   "execution_count": 10,
   "metadata": {
    "cell_id": "00004-e32ec5fe-a6b9-48a2-91f1-7ca0250082e6",
    "deepnote_cell_type": "code",
    "deepnote_to_be_reexecuted": false,
    "execution_millis": 7,
    "execution_start": 1611218317027,
    "source_hash": "2ec1c23b",
    "tags": []
   },
   "outputs": [
    {
     "data": {
      "text/plain": [
       "array([0, 1, 2, 3, 4, 5, 6, 7, 8, 9])"
      ]
     },
     "execution_count": 10,
     "metadata": {},
     "output_type": "execute_result"
    }
   ],
   "source": [
    "c = np.arange(10)\n",
    "c"
   ]
  },
  {
   "cell_type": "code",
   "execution_count": 14,
   "metadata": {
    "cell_id": "00005-681318d8-538f-41dc-8f89-8acb1274f2be",
    "deepnote_cell_type": "code",
    "deepnote_to_be_reexecuted": false,
    "execution_millis": 4,
    "execution_start": 1611218405604,
    "source_hash": "873c158b",
    "tags": []
   },
   "outputs": [
    {
     "data": {
      "text/plain": [
       "array([10, 10, 10, 10])"
      ]
     },
     "execution_count": 14,
     "metadata": {},
     "output_type": "execute_result"
    }
   ],
   "source": [
    "np.full(4, fill_value=10)"
   ]
  },
  {
   "cell_type": "code",
   "execution_count": 15,
   "metadata": {
    "cell_id": "00006-f5d45eb0-ee4e-48f5-a546-c5abf77072e2",
    "deepnote_cell_type": "code",
    "deepnote_to_be_reexecuted": false,
    "execution_millis": 3,
    "execution_start": 1611218420885,
    "source_hash": "bf5ac14b",
    "tags": []
   },
   "outputs": [
    {
     "data": {
      "text/plain": [
       "array([1., 1., 1., 1., 1., 1., 1., 1., 1., 1., 1., 1., 1., 1., 1., 1., 1.,\n",
       "       1., 1., 1., 1., 1., 1., 1., 1., 1., 1., 1., 1., 1., 1., 1., 1., 1.,\n",
       "       1., 1., 1., 1., 1., 1., 1., 1., 1., 1., 1., 1., 1., 1., 1., 1., 1.,\n",
       "       1., 1., 1., 1., 1., 1., 1., 1., 1., 1., 1., 1., 1., 1., 1., 1., 1.,\n",
       "       1., 1., 1., 1., 1., 1., 1., 1., 1., 1., 1., 1., 1., 1., 1., 1., 1.,\n",
       "       1., 1., 1., 1., 1., 1., 1., 1., 1., 1., 1., 1., 1., 1., 1.])"
      ]
     },
     "execution_count": 15,
     "metadata": {},
     "output_type": "execute_result"
    }
   ],
   "source": [
    "np.ones(100)"
   ]
  },
  {
   "cell_type": "code",
   "execution_count": 20,
   "metadata": {
    "cell_id": "00007-18d6288f-9db6-437b-86a6-2af6a5c2970f",
    "deepnote_cell_type": "code",
    "deepnote_to_be_reexecuted": false,
    "execution_millis": 11,
    "execution_start": 1611218566649,
    "source_hash": "5c2906f0",
    "tags": []
   },
   "outputs": [
    {
     "data": {
      "text/plain": [
       "array([0., 0., 0., 0., 0., 0., 0., 0., 0., 0., 0., 0., 0., 0., 0., 0., 0.,\n",
       "       0., 0., 0., 0., 0., 0., 0., 0., 0., 0., 0., 0., 0., 0., 0., 0., 0.,\n",
       "       0., 0., 0., 0., 0., 0., 0., 0., 0., 0., 0., 0., 0., 0., 0., 0., 0.,\n",
       "       0., 0., 0., 0., 0., 0., 0., 0., 0., 0., 0., 0., 0., 0., 0., 0., 0.,\n",
       "       0., 0., 0., 0., 0., 0., 0., 0., 0., 0., 0., 0., 0., 0., 0., 0., 0.,\n",
       "       0., 0., 0., 0., 0., 0., 0., 0., 0., 0., 0., 0., 0., 0., 0.])"
      ]
     },
     "execution_count": 20,
     "metadata": {},
     "output_type": "execute_result"
    }
   ],
   "source": [
    "zeros = np.zeros(100)\n",
    "zeros"
   ]
  },
  {
   "cell_type": "code",
   "execution_count": 23,
   "metadata": {
    "cell_id": "00008-dd37f084-15d0-4955-aa20-324aebadcd6e",
    "deepnote_cell_type": "code",
    "deepnote_to_be_reexecuted": false,
    "execution_millis": 16,
    "execution_start": 1611218601831,
    "source_hash": "5069fd8f",
    "tags": []
   },
   "outputs": [
    {
     "data": {
      "text/plain": [
       "array([0, 0, 0, 0, 0, 0, 0, 0, 0, 0, 0, 0, 0, 0, 0, 0, 0, 0, 0, 0, 0, 0,\n",
       "       0, 0, 0, 0, 0, 0, 0, 0, 0, 0, 0, 0, 0, 0, 0, 0, 0, 0, 0, 0, 0, 0,\n",
       "       0, 0, 0, 0, 0, 0, 0, 0, 0, 0, 0, 0, 0, 0, 0, 0, 0, 0, 0, 0, 0, 0,\n",
       "       0, 0, 0, 0, 0, 0, 0, 0, 0, 0, 0, 0, 0, 0, 0, 0, 0, 0, 0, 0, 0, 0,\n",
       "       0, 0, 0, 0, 0, 0, 0, 0, 0, 0, 0, 0])"
      ]
     },
     "execution_count": 23,
     "metadata": {},
     "output_type": "execute_result"
    }
   ],
   "source": [
    "zeros_integer = np.zeros(100, dtype=np.int64)\n",
    "zeros_integer"
   ]
  },
  {
   "cell_type": "code",
   "execution_count": 18,
   "metadata": {
    "cell_id": "00008-6e755916-9135-4990-b52b-cb26a4cd61f4",
    "deepnote_cell_type": "code",
    "deepnote_to_be_reexecuted": false,
    "execution_millis": 0,
    "execution_start": 1611218473070,
    "source_hash": "b12653fb",
    "tags": []
   },
   "outputs": [
    {
     "data": {
      "text/plain": [
       "array([0., 0., 0., 0., 0., 0., 0., 0., 0., 0., 0., 0., 0., 0., 0., 0., 0.,\n",
       "       0., 0., 0., 0., 0., 0., 0., 0., 0., 0., 0., 0., 0., 0., 0., 0., 0.,\n",
       "       0., 0., 0., 0., 0., 0., 0., 0., 0., 0., 0., 0., 0., 0., 0., 0., 0.,\n",
       "       0., 0., 0., 0., 0., 0., 0., 0., 0., 0., 0., 0., 0., 0., 0., 0., 0.,\n",
       "       0., 0., 0., 0., 0., 0., 0., 0., 0., 0., 0., 0., 0., 0., 0., 0., 0.,\n",
       "       0., 0., 0., 0., 0., 0., 0., 0., 0., 0., 0., 0., 0., 0., 0.])"
      ]
     },
     "execution_count": 18,
     "metadata": {},
     "output_type": "execute_result"
    }
   ],
   "source": [
    "np.empty(100)"
   ]
  },
  {
   "cell_type": "code",
   "execution_count": 29,
   "metadata": {
    "cell_id": "00010-627de850-c427-40ce-a3de-1a4854a7af57",
    "deepnote_cell_type": "code",
    "deepnote_to_be_reexecuted": false,
    "execution_millis": 13,
    "execution_start": 1611218732642,
    "source_hash": "d4a88167",
    "tags": []
   },
   "outputs": [
    {
     "data": {
      "text/plain": [
       "array([ 0. ,  0.1,  0.2,  0.3,  0.4,  0.5,  0.6,  0.7,  0.8,  0.9,  1. ,\n",
       "        1.1,  1.2,  1.3,  1.4,  1.5,  1.6,  1.7,  1.8,  1.9,  2. ,  2.1,\n",
       "        2.2,  2.3,  2.4,  2.5,  2.6,  2.7,  2.8,  2.9,  3. ,  3.1,  3.2,\n",
       "        3.3,  3.4,  3.5,  3.6,  3.7,  3.8,  3.9,  4. ,  4.1,  4.2,  4.3,\n",
       "        4.4,  4.5,  4.6,  4.7,  4.8,  4.9,  5. ,  5.1,  5.2,  5.3,  5.4,\n",
       "        5.5,  5.6,  5.7,  5.8,  5.9,  6. ,  6.1,  6.2,  6.3,  6.4,  6.5,\n",
       "        6.6,  6.7,  6.8,  6.9,  7. ,  7.1,  7.2,  7.3,  7.4,  7.5,  7.6,\n",
       "        7.7,  7.8,  7.9,  8. ,  8.1,  8.2,  8.3,  8.4,  8.5,  8.6,  8.7,\n",
       "        8.8,  8.9,  9. ,  9.1,  9.2,  9.3,  9.4,  9.5,  9.6,  9.7,  9.8,\n",
       "        9.9, 10. ])"
      ]
     },
     "execution_count": 29,
     "metadata": {},
     "output_type": "execute_result"
    }
   ],
   "source": [
    "equidistant_values_in_range = np.linspace(0, 10, 101)\n",
    "equidistant_values_in_range"
   ]
  },
  {
   "cell_type": "markdown",
   "metadata": {
    "cell_id": "00003-9c9053da-6cea-4e53-9847-ae1e3071b50a",
    "deepnote_cell_type": "markdown",
    "tags": []
   },
   "source": [
    "## Relevante Attribute von Vektoren"
   ]
  },
  {
   "cell_type": "code",
   "execution_count": 7,
   "metadata": {
    "cell_id": "00004-6026b39c-53f0-4b4f-881f-056e5fcdedf1",
    "deepnote_cell_type": "code",
    "deepnote_to_be_reexecuted": false,
    "execution_millis": 10,
    "execution_start": 1611217477372,
    "source_hash": "f64cd242",
    "tags": []
   },
   "outputs": [
    {
     "data": {
      "text/plain": [
       "2"
      ]
     },
     "execution_count": 7,
     "metadata": {},
     "output_type": "execute_result"
    }
   ],
   "source": [
    "len(a)"
   ]
  },
  {
   "cell_type": "code",
   "execution_count": 8,
   "metadata": {
    "cell_id": "00005-852495d4-dc88-4760-9f33-f9da2128074e",
    "deepnote_cell_type": "code",
    "deepnote_to_be_reexecuted": false,
    "execution_millis": 0,
    "execution_start": 1611217477786,
    "source_hash": "12913715",
    "tags": []
   },
   "outputs": [
    {
     "data": {
      "text/plain": [
       "dtype('int32')"
      ]
     },
     "execution_count": 8,
     "metadata": {},
     "output_type": "execute_result"
    }
   ],
   "source": [
    "a.dtype"
   ]
  },
  {
   "cell_type": "code",
   "execution_count": 24,
   "metadata": {
    "cell_id": "00006-13ed9d9e-c99d-4710-87b2-0c9b95dc940e",
    "deepnote_cell_type": "code",
    "deepnote_to_be_reexecuted": false,
    "execution_millis": 0,
    "execution_start": 1611218618390,
    "source_hash": "9511633d",
    "tags": []
   },
   "outputs": [
    {
     "data": {
      "text/plain": [
       "dtype('float64')"
      ]
     },
     "execution_count": 24,
     "metadata": {},
     "output_type": "execute_result"
    }
   ],
   "source": [
    "zeros.dtype"
   ]
  },
  {
   "cell_type": "code",
   "execution_count": 25,
   "metadata": {
    "cell_id": "00015-410fd3d0-675c-4af5-83f0-13a784fe3387",
    "deepnote_cell_type": "code",
    "deepnote_to_be_reexecuted": false,
    "execution_millis": 3,
    "execution_start": 1611218628625,
    "source_hash": "214510a8",
    "tags": []
   },
   "outputs": [
    {
     "data": {
      "text/plain": [
       "dtype('int64')"
      ]
     },
     "execution_count": 25,
     "metadata": {},
     "output_type": "execute_result"
    }
   ],
   "source": [
    "zeros_integer.dtype"
   ]
  },
  {
   "cell_type": "code",
   "execution_count": 30,
   "metadata": {
    "cell_id": "00016-582a47fb-b490-4873-b774-6f95c049bbbe",
    "deepnote_cell_type": "code",
    "deepnote_to_be_reexecuted": false,
    "execution_millis": 3,
    "execution_start": 1611218761492,
    "source_hash": "755c6a00",
    "tags": []
   },
   "outputs": [
    {
     "data": {
      "text/plain": [
       "(2,)"
      ]
     },
     "execution_count": 30,
     "metadata": {},
     "output_type": "execute_result"
    }
   ],
   "source": [
    "a.shape"
   ]
  },
  {
   "cell_type": "code",
   "execution_count": 31,
   "metadata": {
    "cell_id": "00017-8016275e-847a-4e49-b4f5-907fa0aa9100",
    "deepnote_cell_type": "code",
    "deepnote_to_be_reexecuted": false,
    "execution_millis": 9,
    "execution_start": 1611218791235,
    "source_hash": "57f82d13",
    "tags": []
   },
   "outputs": [
    {
     "data": {
      "text/plain": [
       "1"
      ]
     },
     "execution_count": 31,
     "metadata": {},
     "output_type": "execute_result"
    }
   ],
   "source": [
    "a.ndim"
   ]
  },
  {
   "cell_type": "markdown",
   "metadata": {
    "cell_id": "00004-c2bf5e80-74b0-47af-8a2d-0dd68cd81ccc",
    "deepnote_cell_type": "markdown",
    "tags": []
   },
   "source": [
    "## Zufallszahlen und Vektoren"
   ]
  },
  {
   "cell_type": "code",
   "execution_count": 32,
   "metadata": {
    "cell_id": "00019-44110a38-763d-46b9-b6f5-c29e93852aab",
    "deepnote_cell_type": "code",
    "deepnote_to_be_reexecuted": false,
    "execution_millis": 2,
    "execution_start": 1611218914228,
    "source_hash": "427e1883",
    "tags": []
   },
   "outputs": [
    {
     "data": {
      "text/plain": [
       "array([3.45498735e-01, 7.08935616e-01, 8.07622972e-01, 1.11256201e+00,\n",
       "       3.34285033e-02, 1.97159885e+00, 1.12111455e-01, 7.51999123e-01,\n",
       "       9.67140700e-01, 1.48287266e+00, 1.05915648e-01, 3.28882779e-01,\n",
       "       1.11665781e+00, 1.30968539e+00, 2.10065429e-01, 9.90450990e-01,\n",
       "       1.49851518e-01, 1.11648060e+00, 1.78787253e+00, 6.26567260e-01,\n",
       "       1.33646195e+00, 1.27672963e+00, 4.10545248e-01, 6.47281239e-01,\n",
       "       7.65908631e-04, 1.75953217e+00, 5.43574532e-01, 5.09103654e-01,\n",
       "       9.49156153e-02, 7.58281305e-01, 1.84517740e+00, 1.02950524e+00,\n",
       "       6.83656519e-01, 4.07512337e-01, 1.72582426e+00, 1.82711727e+00,\n",
       "       9.67335080e-01, 1.37057927e+00, 8.31645710e-01, 1.07548462e+00,\n",
       "       1.33854721e+00, 1.38266778e+00, 5.07626226e-01, 1.90172740e+00,\n",
       "       1.62920597e-01, 9.34106927e-01, 1.11658621e+00, 1.82828218e+00,\n",
       "       1.23790583e+00, 1.66574138e+00, 1.51618582e+00, 1.28705792e+00,\n",
       "       1.70747387e+00, 1.67940738e+00, 9.34098161e-01, 1.23241733e+00,\n",
       "       1.15504790e+00, 4.25361561e-01, 1.88463433e+00, 1.76979149e-01,\n",
       "       1.89201601e+00, 1.57759762e+00, 8.34668921e-01, 1.92276144e+00,\n",
       "       1.58048374e+00, 1.53186337e+00, 2.49696241e-01, 1.80728353e+00,\n",
       "       1.39716056e+00, 1.11401536e+00, 3.42804459e-01, 7.13147687e-01,\n",
       "       5.48401346e-01, 2.08810235e-01, 9.44709701e-01, 1.58783514e+00,\n",
       "       4.31640735e-01, 8.68551229e-01, 1.08155718e+00, 1.09443764e+00,\n",
       "       1.02575570e+00, 3.43924884e-01, 5.90949500e-01, 7.46098945e-01,\n",
       "       6.04947642e-01, 1.40649700e+00, 3.50414910e-01, 1.06495258e+00,\n",
       "       2.53178308e-02, 1.79086107e+00, 1.25846942e+00, 3.01613729e-01,\n",
       "       1.31965161e+00, 1.65454696e-01, 5.06421102e-01, 1.08643551e+00,\n",
       "       1.96345932e+00, 9.29355842e-01, 1.48382214e+00, 6.06326300e-01])"
      ]
     },
     "execution_count": 32,
     "metadata": {},
     "output_type": "execute_result"
    }
   ],
   "source": [
    "gleichverteilte_zahlen = np.random.uniform(low=0.0, high=2.0, size=100)\n",
    "gleichverteilte_zahlen"
   ]
  },
  {
   "cell_type": "code",
   "execution_count": 34,
   "metadata": {
    "cell_id": "00020-99a4a414-d584-49c7-b047-67e57cec4a54",
    "deepnote_cell_type": "code",
    "deepnote_to_be_reexecuted": false,
    "execution_millis": 5,
    "execution_start": 1611219018583,
    "source_hash": "7054d967",
    "tags": []
   },
   "outputs": [
    {
     "name": "stdout",
     "output_type": "stream",
     "text": [
      "[0.34549873 0.70893562 0.80762297 1.11256201 0.0334285  1.97159885\n",
      " 0.11211146 0.75199912 0.9671407  1.48287266 0.10591565 0.32888278\n",
      " 1.11665781 1.30968539 0.21006543 0.99045099 0.14985152 1.1164806\n",
      " 1.78787253 0.62656726 1.33646195 1.27672963 0.41054525 0.64728124\n",
      " 0.00076591 1.75953217 0.54357453 0.50910365 0.09491562 0.7582813\n",
      " 1.8451774  1.02950524 0.68365652 0.40751234 1.72582426 1.82711727\n",
      " 0.96733508 1.37057927 0.83164571 1.07548462 1.33854721 1.38266778\n",
      " 0.50762623 1.9017274  0.1629206  0.93410693 1.11658621 1.82828218\n",
      " 1.23790583 1.66574138 1.51618582 1.28705792 1.70747387 1.67940738\n",
      " 0.93409816 1.23241733 1.1550479  0.42536156 1.88463433 0.17697915\n",
      " 1.89201601 1.57759762 0.83466892 1.92276144 1.58048374 1.53186337\n",
      " 0.24969624 1.80728353 1.39716056 1.11401536 0.34280446 0.71314769\n",
      " 0.54840135 0.20881024 0.9447097  1.58783514 0.43164074 0.86855123\n",
      " 1.08155718 1.09443764 1.0257557  0.34392488 0.5909495  0.74609895\n",
      " 0.60494764 1.406497   0.35041491 1.06495258 0.02531783 1.79086107\n",
      " 1.25846942 0.30161373 1.31965161 0.1654547  0.5064211  1.08643551\n",
      " 1.96345932 0.92935584 1.48382214 0.6063263 ]\n"
     ]
    }
   ],
   "source": [
    "with np.printoptions(suppress=True):\n",
    "    print(gleichverteilte_zahlen)"
   ]
  },
  {
   "cell_type": "code",
   "execution_count": 37,
   "metadata": {
    "cell_id": "00021-55fec390-b4a1-4ec6-9d9d-38bbb046ac43",
    "deepnote_cell_type": "code",
    "deepnote_to_be_reexecuted": false,
    "execution_millis": 2,
    "execution_start": 1611219116778,
    "source_hash": "79004008",
    "tags": []
   },
   "outputs": [],
   "source": [
    "normalverteilte_zahlen = np.random.normal(loc=1.0, scale=2.0, size=1000)"
   ]
  },
  {
   "cell_type": "code",
   "execution_count": 42,
   "metadata": {
    "cell_id": "00022-b1b81a82-b6bd-4f22-83d7-53d36d4e1c4e",
    "deepnote_cell_type": "code",
    "deepnote_to_be_reexecuted": false,
    "execution_millis": 486,
    "execution_start": 1611219229822,
    "source_hash": "36699e40",
    "tags": []
   },
   "outputs": [
    {
     "data": {
      "image/png": "[encoded data removed]",
      "text/plain": [
       "<Figure size 432x288 with 1 Axes>"
      ]
     },
     "metadata": {
      "needs_background": "light"
     },
     "output_type": "display_data"
    }
   ],
   "source": [
    "plt.hist(gleichverteilte_zahlen, color=\"blue\", alpha=0.5, density=True)\n",
    "plt.hist(normalverteilte_zahlen, color=\"orange\", alpha=0.5, density=True, bins=100);"
   ]
  },
  {
   "cell_type": "markdown",
   "metadata": {
    "cell_id": "00005-4e18f8b8-6f40-4c5d-a2af-4030007d883b",
    "deepnote_cell_type": "markdown",
    "tags": []
   },
   "source": [
    "## Vektoroperationen"
   ]
  },
  {
   "cell_type": "code",
   "execution_count": 45,
   "metadata": {
    "cell_id": "00009-664e57f2-284c-4fe4-a16d-1f856d8ec6d9",
    "deepnote_cell_type": "code",
    "deepnote_to_be_reexecuted": false,
    "execution_millis": 3,
    "execution_start": 1611219318738,
    "source_hash": "8efb2411",
    "tags": []
   },
   "outputs": [],
   "source": [
    "x = np.array([-1, 1, 4])\n",
    "z = np.array([0, 3, 2])"
   ]
  },
  {
   "cell_type": "code",
   "execution_count": 46,
   "metadata": {
    "cell_id": "00025-ab894430-aa7b-4952-9aa6-68feb7f4477b",
    "deepnote_cell_type": "code",
    "deepnote_to_be_reexecuted": false,
    "execution_millis": 4,
    "execution_start": 1611219323928,
    "source_hash": "16cb722b",
    "tags": []
   },
   "outputs": [
    {
     "data": {
      "text/plain": [
       "array([-1,  4,  6])"
      ]
     },
     "execution_count": 46,
     "metadata": {},
     "output_type": "execute_result"
    }
   ],
   "source": [
    "# Addition\n",
    "x + z"
   ]
  },
  {
   "cell_type": "code",
   "execution_count": 47,
   "metadata": {
    "cell_id": "00026-d58433d4-8aab-470c-bcb8-0dc0c0e653e1",
    "deepnote_cell_type": "code",
    "deepnote_to_be_reexecuted": false,
    "execution_millis": 0,
    "execution_start": 1611219361694,
    "source_hash": "d9a6f81a",
    "tags": []
   },
   "outputs": [
    {
     "data": {
      "text/plain": [
       "array([-1, -2,  2])"
      ]
     },
     "execution_count": 47,
     "metadata": {},
     "output_type": "execute_result"
    }
   ],
   "source": [
    "x - z"
   ]
  },
  {
   "cell_type": "code",
   "execution_count": 48,
   "metadata": {
    "cell_id": "00027-93aa0dd9-252b-4fa8-b281-d1df86a34db2",
    "deepnote_cell_type": "code",
    "deepnote_to_be_reexecuted": false,
    "execution_millis": 2,
    "execution_start": 1611219392470,
    "source_hash": "45c58f01",
    "tags": []
   },
   "outputs": [
    {
     "data": {
      "text/plain": [
       "array([-10,  10,  40])"
      ]
     },
     "execution_count": 48,
     "metadata": {},
     "output_type": "execute_result"
    }
   ],
   "source": [
    "# Skalarmultiplikation\n",
    "alpha = 10\n",
    "alpha * x"
   ]
  },
  {
   "cell_type": "code",
   "execution_count": 49,
   "metadata": {
    "cell_id": "00028-80299f67-cb97-4d19-9f4f-43d36307f677",
    "deepnote_cell_type": "code",
    "deepnote_to_be_reexecuted": false,
    "execution_millis": 14,
    "execution_start": 1611219477288,
    "source_hash": "ee58b207",
    "tags": []
   },
   "outputs": [
    {
     "ename": "ValueError",
     "evalue": "operands could not be broadcast together with shapes (3,) (2,) ",
     "output_type": "error",
     "traceback": [
      "\u001b[0;31m---------------------------------------------------------------------------\u001b[0m",
      "\u001b[0;31mValueError\u001b[0m                                Traceback (most recent call last)",
      "\u001b[0;32m<ipython-input-49-2e9534517d27>\u001b[0m in \u001b[0;36m<module>\u001b[0;34m\u001b[0m\n\u001b[1;32m      1\u001b[0m \u001b[0my\u001b[0m \u001b[0;34m=\u001b[0m \u001b[0mnp\u001b[0m\u001b[0;34m.\u001b[0m\u001b[0marray\u001b[0m\u001b[0;34m(\u001b[0m\u001b[0;34m[\u001b[0m\u001b[0;36m3\u001b[0m\u001b[0;34m,\u001b[0m \u001b[0;36m5\u001b[0m\u001b[0;34m]\u001b[0m\u001b[0;34m)\u001b[0m\u001b[0;34m\u001b[0m\u001b[0;34m\u001b[0m\u001b[0m\n\u001b[0;32m----> 2\u001b[0;31m \u001b[0mx\u001b[0m \u001b[0;34m+\u001b[0m \u001b[0my\u001b[0m\u001b[0;34m\u001b[0m\u001b[0;34m\u001b[0m\u001b[0m\n\u001b[0m",
      "\u001b[0;31mValueError\u001b[0m: operands could not be broadcast together with shapes (3,) (2,) "
     ]
    }
   ],
   "source": [
    "\n",
    "# Für elementweise Operationen müssen Vektoren die gleiche Shape haben (oder durch Broadcasting in eine solche überführbar sein)\n",
    "y = np.array([3, 5])\n",
    "x + y"
   ]
  },
  {
   "cell_type": "code",
   "execution_count": 57,
   "metadata": {
    "cell_id": "00029-6148f512-182a-468b-8028-9a42cb459a2f",
    "deepnote_cell_type": "code",
    "deepnote_to_be_reexecuted": false,
    "execution_millis": 5,
    "execution_start": 1611220891062,
    "source_hash": "39ae2e37",
    "tags": []
   },
   "outputs": [
    {
     "name": "stdout",
     "output_type": "stream",
     "text": [
      "[0 3 8]\n",
      "[-0.   3.   0.5]\n",
      "[-2  0  3]\n",
      "[False  True  True  True False]\n"
     ]
    }
   ],
   "source": [
    "# weitere elementwise Operationen\n",
    "print(x * z)\n",
    "print(z / x)\n",
    "print(x - 1)\n",
    "\n",
    "v = np.array([0, 0, 1, 1, 0])\n",
    "w = np.array([1, 0, 1, 1, 1])\n",
    "\n",
    "print(v == w)"
   ]
  },
  {
   "cell_type": "code",
   "execution_count": 61,
   "metadata": {
    "cell_id": "00030-cc6e19c5-beb1-4cbb-ab05-fe469143d78c",
    "deepnote_cell_type": "code",
    "deepnote_to_be_reexecuted": false,
    "execution_millis": 5,
    "execution_start": 1611221101891,
    "source_hash": "c1468c2d",
    "tags": []
   },
   "outputs": [
    {
     "name": "stdout",
     "output_type": "stream",
     "text": [
      "False\n",
      "True\n"
     ]
    }
   ],
   "source": [
    "# Zur Überprüfung ob Vektoren überall identisch sind\n",
    "print(np.all(v == w))\n",
    "\n",
    "# Zur Überprüfung ob Vektoren überall bis auf Rundungsfehler identisch sind\n",
    "c = np.array([0, 0, 0])\n",
    "d = np.array([10e-13, -10e-13, 10e-14])\n",
    "\n",
    "print(np.allclose(c, d))"
   ]
  },
  {
   "cell_type": "code",
   "execution_count": 62,
   "metadata": {
    "cell_id": "00031-7ecf813d-44f2-470a-9cc9-bac33e4b64ed",
    "deepnote_cell_type": "code",
    "deepnote_to_be_reexecuted": false,
    "execution_millis": 17,
    "execution_start": 1611221747832,
    "source_hash": "2a861706",
    "tags": []
   },
   "outputs": [
    {
     "data": {
      "text/plain": [
       "11"
      ]
     },
     "execution_count": 62,
     "metadata": {},
     "output_type": "execute_result"
    }
   ],
   "source": [
    "# Skalarprodukt\n",
    "x = np.array([-1, 1, 4])\n",
    "z = np.array([0, 3, 2])\n",
    "\n",
    "print(np.dot(x, z))"
   ]
  },
  {
   "cell_type": "code",
   "execution_count": 63,
   "metadata": {
    "cell_id": "00032-c9172719-65a5-4fee-af61-ee7a16d8b29c",
    "deepnote_cell_type": "code",
    "deepnote_to_be_reexecuted": false,
    "execution_millis": 3,
    "execution_start": 1611221802206,
    "source_hash": "8bc80499",
    "tags": []
   },
   "outputs": [
    {
     "data": {
      "text/plain": [
       "4.242640687119285"
      ]
     },
     "execution_count": 63,
     "metadata": {},
     "output_type": "execute_result"
    }
   ],
   "source": [
    "# Vektornorm\n",
    "norm_x = np.linalg.norm(x)\n",
    "norm_x"
   ]
  },
  {
   "cell_type": "code",
   "execution_count": 66,
   "metadata": {
    "cell_id": "00033-dd6e0a7e-4ee6-4c05-9f42-8c70305f09f2",
    "deepnote_cell_type": "code",
    "deepnote_to_be_reexecuted": false,
    "execution_millis": 6,
    "execution_start": 1611221840625,
    "source_hash": "c474bdcc",
    "tags": []
   },
   "outputs": [
    {
     "data": {
      "text/plain": [
       "3.0"
      ]
     },
     "execution_count": 66,
     "metadata": {},
     "output_type": "execute_result"
    }
   ],
   "source": [
    "# Distanz\n",
    "dist_x_z = np.linalg.norm(x - z)\n",
    "dist_x_z"
   ]
  },
  {
   "cell_type": "markdown",
   "metadata": {
    "cell_id": "00006-79469333-457f-4466-b0a3-241be59ddecb",
    "deepnote_cell_type": "markdown",
    "tags": []
   },
   "source": [
    "## Indexing"
   ]
  },
  {
   "cell_type": "code",
   "execution_count": 76,
   "metadata": {
    "cell_id": "00011-7a7d0f65-8c72-4345-b9fb-d8d218287dfb",
    "deepnote_cell_type": "code",
    "deepnote_to_be_reexecuted": false,
    "execution_millis": 2,
    "execution_start": 1611222106186,
    "source_hash": "f096f54d",
    "tags": []
   },
   "outputs": [],
   "source": [
    "u = np.array([-1, 1, 4, 1, 3, -1, 0, 0])"
   ]
  },
  {
   "cell_type": "code",
   "execution_count": 77,
   "metadata": {
    "cell_id": "00036-5125a696-051d-489d-8e2d-cdfbb8b46b52",
    "deepnote_cell_type": "code",
    "deepnote_to_be_reexecuted": false,
    "execution_millis": 8,
    "execution_start": 1611222108535,
    "source_hash": "21890b2f",
    "tags": []
   },
   "outputs": [
    {
     "data": {
      "text/plain": [
       "-1"
      ]
     },
     "execution_count": 77,
     "metadata": {},
     "output_type": "execute_result"
    }
   ],
   "source": [
    "u[0]"
   ]
  },
  {
   "cell_type": "code",
   "execution_count": 78,
   "metadata": {
    "cell_id": "00037-af047273-ec61-4ab8-a7d9-67e1c8b8908e",
    "deepnote_cell_type": "code",
    "deepnote_to_be_reexecuted": false,
    "execution_millis": 42,
    "execution_start": 1611222108552,
    "source_hash": "bf43fdc5",
    "tags": []
   },
   "outputs": [
    {
     "data": {
      "text/plain": [
       "array([ 1,  4,  1,  3, -1,  0,  0])"
      ]
     },
     "execution_count": 78,
     "metadata": {},
     "output_type": "execute_result"
    }
   ],
   "source": [
    "u[1:]"
   ]
  },
  {
   "cell_type": "code",
   "execution_count": 79,
   "metadata": {
    "cell_id": "00038-430e1c62-247c-41c8-89e4-18840eb93c6f",
    "deepnote_cell_type": "code",
    "deepnote_to_be_reexecuted": false,
    "execution_millis": 1,
    "execution_start": 1611222108594,
    "source_hash": "1de3ffa6",
    "tags": []
   },
   "outputs": [
    {
     "data": {
      "text/plain": [
       "array([1, 4, 1])"
      ]
     },
     "execution_count": 79,
     "metadata": {},
     "output_type": "execute_result"
    }
   ],
   "source": [
    "u[1:4]"
   ]
  },
  {
   "cell_type": "code",
   "execution_count": 80,
   "metadata": {
    "cell_id": "00039-0a79d77d-5e76-4ef3-bbff-6dd1b9f8e02f",
    "deepnote_cell_type": "code",
    "deepnote_to_be_reexecuted": false,
    "execution_millis": 2,
    "execution_start": 1611222108595,
    "source_hash": "f543d740",
    "tags": []
   },
   "outputs": [
    {
     "data": {
      "text/plain": [
       "array([-1,  1, -1])"
      ]
     },
     "execution_count": 80,
     "metadata": {},
     "output_type": "execute_result"
    }
   ],
   "source": [
    "u[[0, 1, 5]]"
   ]
  },
  {
   "cell_type": "code",
   "execution_count": 81,
   "metadata": {
    "cell_id": "00040-e332c74a-90d1-419b-9a9f-1ce90f44e5ef",
    "deepnote_cell_type": "code",
    "deepnote_to_be_reexecuted": false,
    "execution_millis": 0,
    "execution_start": 1611222108604,
    "source_hash": "9874ad76",
    "tags": []
   },
   "outputs": [
    {
     "data": {
      "text/plain": [
       "array([1, 4, 1, 3, 0, 0])"
      ]
     },
     "execution_count": 81,
     "metadata": {},
     "output_type": "execute_result"
    }
   ],
   "source": [
    "u[u >= 0]"
   ]
  },
  {
   "cell_type": "markdown",
   "metadata": {
    "cell_id": "00041-8a3d1c34-c152-468b-9642-41a6fa8efa3e",
    "deepnote_cell_type": "markdown",
    "tags": []
   },
   "source": [
    "## Assignments"
   ]
  },
  {
   "cell_type": "code",
   "execution_count": 82,
   "metadata": {
    "cell_id": "00041-d83019f3-3269-4542-b012-441bece3708c",
    "deepnote_cell_type": "code",
    "deepnote_to_be_reexecuted": false,
    "execution_millis": 3,
    "execution_start": 1611222108636,
    "source_hash": "67ab9d6a",
    "tags": []
   },
   "outputs": [
    {
     "data": {
      "text/plain": [
       "array([-1,  0,  0,  0,  0, -1,  0,  0])"
      ]
     },
     "execution_count": 82,
     "metadata": {},
     "output_type": "execute_result"
    }
   ],
   "source": [
    "v = u.copy()\n",
    "v[v >= 0] = 0.0\n",
    "v\n"
   ]
  },
  {
   "cell_type": "markdown",
   "metadata": {
    "cell_id": "00007-39afdacd-8d9d-4e05-ae37-8e27cc9319af",
    "deepnote_cell_type": "markdown",
    "tags": []
   },
   "source": [
    "## Map- und Reduce-Funktionen"
   ]
  },
  {
   "cell_type": "code",
   "execution_count": 89,
   "metadata": {
    "cell_id": "00013-b5bd3fa8-d0b0-496a-9f81-969e462ffe00",
    "deepnote_cell_type": "code",
    "deepnote_to_be_reexecuted": false,
    "execution_millis": 3,
    "execution_start": 1611222327350,
    "source_hash": "61c5612f",
    "tags": []
   },
   "outputs": [
    {
     "name": "stdout",
     "output_type": "stream",
     "text": [
      "2\n",
      "2\n",
      "0.6666666666666666\n",
      "0.6666666666666666\n",
      "0.4714045207910317\n",
      "0.4714045207910317\n",
      "1.0\n",
      "1\n",
      "1\n",
      "0\n",
      "0\n"
     ]
    }
   ],
   "source": [
    "x = np.array([0, 1, 1])\n",
    "z = np.array([1, 0, 1])\n",
    "\n",
    "print(np.sum(x))\n",
    "print(x.sum())\n",
    "\n",
    "print(np.mean(x))\n",
    "print(x.mean())\n",
    "\n",
    "print(np.std(x))\n",
    "print(x.std())\n",
    "\n",
    "print(np.median(x))\n",
    "\n",
    "print(np.max(x))\n",
    "print(x.max())\n",
    "\n",
    "print(np.min(x))\n",
    "print(x.min())"
   ]
  },
  {
   "cell_type": "code",
   "execution_count": 93,
   "metadata": {
    "cell_id": "00045-9e554f5c-50a3-42f5-8850-5df78011ae31",
    "deepnote_cell_type": "code",
    "deepnote_to_be_reexecuted": false,
    "execution_millis": 11,
    "execution_start": 1611222418576,
    "source_hash": "e20f9447",
    "tags": []
   },
   "outputs": [
    {
     "data": {
      "text/plain": [
       "0.5"
      ]
     },
     "execution_count": 93,
     "metadata": {},
     "output_type": "execute_result"
    }
   ],
   "source": [
    "y_true = np.array([0, 1, 1, 1, 0, 1])\n",
    "y_pred = np.array([1, 0, 1, 1, 1, 1])\n",
    "\n",
    "np.sum(y_true == y_pred) / len(y_true)"
   ]
  },
  {
   "cell_type": "code",
   "execution_count": 94,
   "metadata": {
    "cell_id": "00046-0ce4742a-8955-4772-bf83-884f99d3a82d",
    "deepnote_cell_type": "code",
    "deepnote_to_be_reexecuted": false,
    "execution_millis": 5,
    "execution_start": 1611222445805,
    "source_hash": "b2c06b7",
    "tags": []
   },
   "outputs": [
    {
     "data": {
      "text/plain": [
       "0.5"
      ]
     },
     "execution_count": 94,
     "metadata": {},
     "output_type": "execute_result"
    }
   ],
   "source": [
    "np.mean(y_true == y_pred)"
   ]
  },
  {
   "cell_type": "markdown",
   "metadata": {
    "cell_id": "00014-c2893a2e-f695-429e-8c11-c49b4d38f01e",
    "deepnote_cell_type": "markdown",
    "tags": []
   },
   "source": [
    "## Funktionen auf Vektoren"
   ]
  },
  {
   "cell_type": "code",
   "execution_count": 96,
   "metadata": {
    "cell_id": "00015-354776b5-2630-4088-abf0-db962af78f9f",
    "deepnote_cell_type": "code",
    "deepnote_to_be_reexecuted": false,
    "execution_millis": 0,
    "execution_start": 1611222518350,
    "source_hash": "2bee28f6",
    "tags": []
   },
   "outputs": [
    {
     "name": "stdout",
     "output_type": "stream",
     "text": [
      "[ 0.36787944  2.71828183 54.59815003  2.71828183 20.08553692  0.36787944\n",
      "  1.          1.        ]\n"
     ]
    }
   ],
   "source": [
    "u = np.array([-1, 1, 4, 1, 3, -1, 0, 0])\n",
    "\n",
    "u_exp = np.exp(u)\n",
    "u_sin = np.sin(u)\n",
    "u_cos = np.cos(u)\n",
    "\n",
    "print(u_exp)"
   ]
  },
  {
   "cell_type": "code",
   "execution_count": 101,
   "metadata": {
    "cell_id": "00049-b962e091-9a53-40de-aa9d-65cc0645fe86",
    "deepnote_cell_type": "code",
    "deepnote_to_be_reexecuted": false,
    "execution_millis": 197,
    "execution_start": 1611222617255,
    "source_hash": "8aab1882",
    "tags": []
   },
   "outputs": [
    {
     "data": {
      "text/plain": [
       "[<matplotlib.lines.Line2D at 0x7f3002166b90>]"
      ]
     },
     "execution_count": 101,
     "metadata": {},
     "output_type": "execute_result"
    },
    {
     "data": {
      "image/png": "[encoded data removed]",
      "text/plain": [
       "<Figure size 432x288 with 1 Axes>"
      ]
     },
     "metadata": {
      "needs_background": "light"
     },
     "output_type": "display_data"
    }
   ],
   "source": [
    "x_vis = np.linspace(0, 2*np.pi, 100)\n",
    "\n",
    "plt.plot(x_vis, np.sin(x_vis))\n",
    "plt.plot(x_vis, np.cos(x_vis))\n",
    "plt.plot(x_vis, np.sqrt(x_vis))"
   ]
  },
  {
   "cell_type": "markdown",
   "metadata": {
    "cell_id": "00008-68c1430a-1909-4b6f-9143-69fc3f10d07f",
    "deepnote_cell_type": "markdown",
    "tags": []
   },
   "source": [
    "# Matrizen"
   ]
  },
  {
   "cell_type": "markdown",
   "metadata": {
    "cell_id": "00009-28e22fa5-116f-4959-b6bc-6e4e80009fcc",
    "deepnote_cell_type": "markdown",
    "tags": []
   },
   "source": [
    "## Matrizen erstellen"
   ]
  },
  {
   "cell_type": "code",
   "execution_count": 102,
   "metadata": {
    "cell_id": "00018-9838964d-d9d5-4326-bdbb-3e39e9c378ea",
    "deepnote_cell_type": "code",
    "deepnote_to_be_reexecuted": false,
    "execution_millis": 0,
    "execution_start": 1611222694034,
    "source_hash": "fcea6119",
    "tags": []
   },
   "outputs": [
    {
     "data": {
      "text/plain": [
       "array([[ 2,  4, -3],\n",
       "       [21, -6, -1]])"
      ]
     },
     "execution_count": 102,
     "metadata": {},
     "output_type": "execute_result"
    }
   ],
   "source": [
    "A = np.array([\n",
    "    [2, 4, -3],\n",
    "    [21, -6, -1]\n",
    "])\n",
    "\n",
    "A"
   ]
  },
  {
   "cell_type": "code",
   "execution_count": 103,
   "metadata": {
    "cell_id": "00053-415dfc6f-03fc-4709-ad50-df832ce7ada3",
    "deepnote_cell_type": "code",
    "deepnote_to_be_reexecuted": false,
    "execution_millis": 20,
    "execution_start": 1611222788897,
    "source_hash": "cc79ca62",
    "tags": []
   },
   "outputs": [
    {
     "data": {
      "text/plain": [
       "2"
      ]
     },
     "execution_count": 103,
     "metadata": {},
     "output_type": "execute_result"
    }
   ],
   "source": [
    "A.ndim"
   ]
  },
  {
   "cell_type": "code",
   "execution_count": 104,
   "metadata": {
    "cell_id": "00054-fc39d222-6e92-48c8-899b-e06fd08854d9",
    "deepnote_cell_type": "code",
    "deepnote_to_be_reexecuted": false,
    "execution_millis": 9,
    "execution_start": 1611222803430,
    "source_hash": "992de289",
    "tags": []
   },
   "outputs": [
    {
     "data": {
      "text/plain": [
       "(2, 3)"
      ]
     },
     "execution_count": 104,
     "metadata": {},
     "output_type": "execute_result"
    }
   ],
   "source": [
    "A.shape"
   ]
  },
  {
   "cell_type": "markdown",
   "metadata": {
    "cell_id": "00010-9bf9c992-2975-4fc3-8085-eff6ada5dc2a",
    "deepnote_cell_type": "markdown",
    "tags": []
   },
   "source": [
    "## Matrixoperationen"
   ]
  },
  {
   "cell_type": "code",
   "execution_count": 105,
   "metadata": {
    "cell_id": "00020-99992566-f9ef-4817-a051-90b032d0a590",
    "deepnote_cell_type": "code",
    "deepnote_to_be_reexecuted": false,
    "execution_millis": 30,
    "execution_start": 1611223502890,
    "source_hash": "bc2c5894",
    "tags": []
   },
   "outputs": [
    {
     "data": {
      "text/plain": [
       "array([10,  9])"
      ]
     },
     "execution_count": 105,
     "metadata": {},
     "output_type": "execute_result"
    }
   ],
   "source": [
    "A = np.array([\n",
    "    [2, 4, -3],\n",
    "    [21, -6, -1]\n",
    "])\n",
    "\n",
    "c = np.array([1, 2, 0])\n",
    "\n",
    "np.matmul(A, c)\n",
    "# A @ c\n",
    "# np.dot(A, c)"
   ]
  },
  {
   "cell_type": "code",
   "execution_count": 108,
   "metadata": {
    "cell_id": "00057-a64a5db9-64a6-4598-8b91-da8e335f0a8f",
    "deepnote_cell_type": "code",
    "deepnote_to_be_reexecuted": false,
    "execution_millis": 8,
    "execution_start": 1611223591792,
    "source_hash": "4d7ad691",
    "tags": []
   },
   "outputs": [
    {
     "data": {
      "text/plain": [
       "array([[ 5, -7],\n",
       "       [22, 31]])"
      ]
     },
     "execution_count": 108,
     "metadata": {},
     "output_type": "execute_result"
    }
   ],
   "source": [
    "B = np.array([\n",
    "    [1, 2],\n",
    "    [0, 1],\n",
    "    [-1, 5]\n",
    "])\n",
    "\n",
    "np.matmul(A, B)\n",
    "# Alternative:\n",
    "# A @ B\n",
    "# np.dot(A, B)"
   ]
  },
  {
   "cell_type": "markdown",
   "metadata": {
    "cell_id": "00011-93c35f7a-a53c-4455-bc00-91d6ae17e89e",
    "deepnote_cell_type": "markdown",
    "tags": []
   },
   "source": [
    "## Indexing"
   ]
  },
  {
   "cell_type": "code",
   "execution_count": 109,
   "metadata": {
    "cell_id": "00022-267392c7-cc81-4162-829d-9a1d52467a71",
    "deepnote_cell_type": "code",
    "deepnote_to_be_reexecuted": false,
    "execution_millis": 33,
    "execution_start": 1611223652946,
    "source_hash": "54a94b62",
    "tags": []
   },
   "outputs": [
    {
     "data": {
      "text/plain": [
       "1"
      ]
     },
     "execution_count": 109,
     "metadata": {},
     "output_type": "execute_result"
    }
   ],
   "source": [
    "# Zugriff auf ein bestimmtes Element\n",
    "B[1, 1]"
   ]
  },
  {
   "cell_type": "code",
   "execution_count": 111,
   "metadata": {
    "cell_id": "00060-f49d1f1c-dc04-4331-9182-1ec27373647a",
    "deepnote_cell_type": "code",
    "deepnote_to_be_reexecuted": false,
    "execution_millis": 8,
    "execution_start": 1611223708621,
    "source_hash": "1e1e0d6d",
    "tags": []
   },
   "outputs": [
    {
     "name": "stdout",
     "output_type": "stream",
     "text": [
      "[ 1  0 -1]\n",
      "[1 2]\n"
     ]
    }
   ],
   "source": [
    "# Zugriff auf eine bestimmte Spalte/Zeile zugreifen\n",
    "print(B[:, 0])\n",
    "print(B[0, :])\n"
   ]
  },
  {
   "cell_type": "markdown",
   "metadata": {
    "cell_id": "00012-03d891e2-54d1-4740-bef3-7b93e8cccc85",
    "deepnote_cell_type": "markdown",
    "tags": []
   },
   "source": [
    "## Map- und Reduce-Funktionen"
   ]
  },
  {
   "cell_type": "code",
   "execution_count": 112,
   "metadata": {
    "cell_id": "00024-2e8c6c87-8dac-4db0-bfd6-9d9dbb83f5db",
    "deepnote_cell_type": "code",
    "deepnote_to_be_reexecuted": false,
    "execution_millis": 11,
    "execution_start": 1611223910760,
    "source_hash": "1b770c4d",
    "tags": []
   },
   "outputs": [
    {
     "name": "stdout",
     "output_type": "stream",
     "text": [
      "[0 8]\n",
      "[3 1 4]\n"
     ]
    }
   ],
   "source": [
    "B = np.array([\n",
    "    [1, 2],\n",
    "    [0, 1],\n",
    "    [-1, 5]\n",
    "])\n",
    "\n",
    "\n",
    "print(np.sum(B, axis=0))\n",
    "print(np.sum(B, axis=1))"
   ]
  },
  {
   "cell_type": "markdown",
   "metadata": {
    "cell_id": "00013-38afe963-373e-4bbf-9537-d2aa92bdfc16",
    "deepnote_cell_type": "markdown",
    "tags": []
   },
   "source": []
  },
  {
   "cell_type": "markdown",
   "metadata": {
    "cell_id": "00015-e5a33d11-77e2-4321-812a-874ab9f950e5",
    "deepnote_cell_type": "markdown",
    "tags": []
   },
   "source": [
    "# Beispiel Sign-MNIST"
   ]
  },
  {
   "cell_type": "code",
   "execution_count": 115,
   "metadata": {
    "cell_id": "00065-69d11dec-b95e-4ff8-a80d-60af37cfee96",
    "deepnote_cell_type": "code",
    "deepnote_to_be_reexecuted": false,
    "execution_millis": 3120,
    "execution_start": 1611224062142,
    "source_hash": "37491386",
    "tags": []
   },
   "outputs": [],
   "source": [
    "import pandas as pd\n",
    "\n",
    "data = pd.read_csv(\"sign_mnist_train.csv\").values"
   ]
  },
  {
   "cell_type": "code",
   "execution_count": 116,
   "metadata": {
    "cell_id": "00067-4bbef3be-80af-48a9-9835-1baf1f78d309",
    "deepnote_cell_type": "code",
    "deepnote_to_be_reexecuted": false,
    "execution_millis": 9,
    "execution_start": 1611224065265,
    "source_hash": "e6928a8f",
    "tags": []
   },
   "outputs": [
    {
     "data": {
      "text/plain": [
       "array([[  3, 107, 118, ..., 204, 203, 202],\n",
       "       [  6, 155, 157, ..., 103, 135, 149],\n",
       "       [  2, 187, 188, ..., 195, 194, 195],\n",
       "       ...,\n",
       "       [ 18, 174, 174, ..., 202, 200, 200],\n",
       "       [ 17, 177, 181, ...,  64,  87,  93],\n",
       "       [ 23, 179, 180, ..., 205, 209, 215]])"
      ]
     },
     "execution_count": 116,
     "metadata": {},
     "output_type": "execute_result"
    }
   ],
   "source": [
    "data"
   ]
  },
  {
   "cell_type": "code",
   "execution_count": 117,
   "metadata": {
    "cell_id": "00067-938fe4de-bc9a-4895-8f42-a0aa47e37123",
    "deepnote_cell_type": "code",
    "deepnote_to_be_reexecuted": false,
    "execution_millis": 0,
    "execution_start": 1611224108422,
    "source_hash": "df4a4c69",
    "tags": []
   },
   "outputs": [],
   "source": [
    "X = data[:, 1:]\n",
    "y = data[:, 0]"
   ]
  },
  {
   "cell_type": "code",
   "execution_count": 118,
   "metadata": {
    "cell_id": "00068-cc722e93-34f0-4691-941d-43277f7b72cc",
    "deepnote_cell_type": "code",
    "deepnote_to_be_reexecuted": false,
    "execution_millis": 12,
    "execution_start": 1611224149788,
    "source_hash": "a18eef09",
    "tags": []
   },
   "outputs": [
    {
     "data": {
      "text/plain": [
       "array([107, 118, 127, 134, 139, 143, 146, 150, 153, 156, 158, 160, 163,\n",
       "       165, 159, 166, 168, 170, 170, 171, 171, 171, 172, 171, 171, 170,\n",
       "       170, 169, 111, 121, 129, 135, 141, 144, 148, 151, 154, 157, 160,\n",
       "       163, 164, 170, 119, 152, 171, 171, 170, 171, 172, 172, 172, 172,\n",
       "       172, 171, 171, 170, 113, 123, 131, 137, 142, 145, 150, 152, 155,\n",
       "       158, 161, 163, 164, 172, 105, 142, 170, 171, 171, 171, 172, 172,\n",
       "       173, 173, 172, 171, 171, 171, 116, 125, 133, 139, 143, 146, 151,\n",
       "       153, 156, 159, 162, 163, 167, 167,  95, 144, 171, 172, 172, 172,\n",
       "       172, 172, 173, 173, 173, 172, 172, 171, 117, 126, 134, 140, 145,\n",
       "       149, 153, 156, 158, 161, 163, 164, 175, 156,  87, 154, 172, 173,\n",
       "       173, 173, 173, 173, 174, 174, 174, 173, 172, 172, 119, 128, 136,\n",
       "       142, 146, 150, 153, 156, 159, 163, 165, 164, 184, 148,  89, 164,\n",
       "       172, 174, 174, 174, 174, 175, 175, 174, 175, 174, 173, 173, 122,\n",
       "       130, 138, 143, 147, 150, 154, 158, 162, 165, 166, 172, 181, 128,\n",
       "        94, 170, 173, 175, 174, 175, 176, 177, 177, 177, 177, 175, 175,\n",
       "       174, 122, 132, 139, 145, 149, 152, 156, 160, 163, 165, 166, 181,\n",
       "       172, 103, 113, 175, 176, 178, 178, 179, 179, 179, 179, 178, 179,\n",
       "       177, 175, 174, 125, 134, 141, 147, 150, 153, 157, 161, 164, 167,\n",
       "       168, 184, 179, 116, 126, 165, 176, 179, 180, 180, 181, 180, 180,\n",
       "       180, 179, 178, 177, 176, 128, 135, 142, 148, 152, 154, 158, 162,\n",
       "       165, 168, 170, 187, 180, 156, 161, 124, 143, 179, 178, 178, 181,\n",
       "       182, 181, 180, 181, 180, 179, 179, 129, 136, 144, 150, 153, 155,\n",
       "       159, 163, 166, 169, 172, 187, 184, 153, 102, 117, 110, 175, 169,\n",
       "       154, 182, 183, 183, 182, 182, 181, 181, 179, 131, 138, 145, 150,\n",
       "       155, 157, 161, 165, 168, 174, 190, 189, 175, 146,  94,  97, 113,\n",
       "       151, 158, 129, 184, 184, 184, 184, 183, 183, 182, 180, 131, 139,\n",
       "       146, 151, 155, 159, 163, 167, 175, 182, 179, 171, 159, 114, 102,\n",
       "        89, 121, 136, 136,  96, 172, 186, 186, 185, 185, 184, 182, 181,\n",
       "       131, 140, 147, 154, 157, 160, 164, 179, 186, 191, 187, 180, 157,\n",
       "       100,  88,  84, 108, 111, 126,  90, 120, 186, 187, 187, 186, 185,\n",
       "       184, 182, 133, 141, 149, 155, 158, 160, 174, 201, 189, 165, 151,\n",
       "       143, 146, 120,  87,  78,  87,  76, 108,  98,  96, 181, 188, 187,\n",
       "       186, 186, 185, 183, 133, 141, 150, 156, 160, 161, 179, 197, 174,\n",
       "       135,  99,  72,  95, 134,  97,  72,  74,  68, 116, 105, 108, 187,\n",
       "       189, 187, 187, 186, 186, 185, 134, 143, 151, 156, 161, 163, 179,\n",
       "       194, 156, 110,  74,  42,  52, 139,  94,  67,  75,  75, 118, 106,\n",
       "       129, 189, 191, 190, 188, 188, 187, 186, 135, 144, 152, 158, 163,\n",
       "       163, 177, 193, 161, 122,  84,  43,  71, 134,  81,  57,  71,  88,\n",
       "       112,  98, 157, 193, 193, 192, 190, 190, 189, 188, 136, 144, 152,\n",
       "       158, 162, 163, 176, 192, 164, 128,  98,  62,  60, 100,  71,  76,\n",
       "        96, 101, 105,  95, 174, 195, 194, 194, 194, 193, 191, 190, 137,\n",
       "       145, 152, 159, 164, 165, 178, 191, 164, 135, 113,  82,  59,  87,\n",
       "        98, 111, 120, 108,  97, 108, 190, 196, 195, 195, 194, 193, 193,\n",
       "       192, 139, 146, 154, 160, 164, 165, 175, 186, 163, 139, 112,  85,\n",
       "        67, 102, 126, 133, 126, 105, 104, 176, 197, 198, 197, 196, 195,\n",
       "       195, 194, 193, 138, 147, 155, 161, 165, 167, 172, 186, 163, 137,\n",
       "       107,  87,  76, 106, 122, 125, 117,  96, 156, 199, 199, 200, 198,\n",
       "       196, 196, 195, 195, 194, 139, 148, 156, 163, 166, 168, 172, 180,\n",
       "       158, 131, 108,  99,  86, 108, 118, 116, 103, 107, 191, 202, 201,\n",
       "       200, 200, 200, 199, 197, 198, 196, 140, 149, 157, 164, 168, 167,\n",
       "       177, 178, 155, 131, 118, 105,  87, 100, 106, 100,  96, 164, 202,\n",
       "       202, 202, 202, 202, 201, 200, 199, 199, 198, 140, 150, 157, 165,\n",
       "       167, 170, 181, 175, 152, 130, 115,  98,  82,  85,  90,  99, 165,\n",
       "       202, 203, 204, 203, 203, 202, 202, 201, 201, 200, 200, 142, 150,\n",
       "       159, 165, 170, 191, 173, 157, 144, 119,  97,  84,  79,  79,  91,\n",
       "       172, 202, 203, 203, 205, 204, 204, 204, 203, 202, 202, 201, 200,\n",
       "       142, 151, 160, 165, 188, 190, 187, 150, 119, 109,  85,  79,  79,\n",
       "        78, 137, 203, 205, 206, 206, 207, 207, 206, 206, 204, 205, 204,\n",
       "       203, 202, 142, 151, 160, 172, 196, 188, 188, 190, 135,  96,  86,\n",
       "        77,  77,  79, 176, 205, 207, 207, 207, 207, 207, 207, 206, 206,\n",
       "       206, 204, 203, 202])"
      ]
     },
     "execution_count": 118,
     "metadata": {},
     "output_type": "execute_result"
    }
   ],
   "source": [
    "example_image_flat = X[0, :]\n",
    "example_image_flat"
   ]
  },
  {
   "cell_type": "code",
   "execution_count": 119,
   "metadata": {
    "cell_id": "00069-2d7a41c6-911a-4c49-99a6-3267b3b5ddd5",
    "deepnote_cell_type": "code",
    "deepnote_to_be_reexecuted": false,
    "execution_millis": 40,
    "execution_start": 1611224242976,
    "source_hash": "7529f79d",
    "tags": []
   },
   "outputs": [
    {
     "data": {
      "text/plain": [
       "array([[107, 118, 127, 134, 139, 143, 146, 150, 153, 156, 158, 160, 163,\n",
       "        165, 159, 166, 168, 170, 170, 171, 171, 171, 172, 171, 171, 170,\n",
       "        170, 169],\n",
       "       [111, 121, 129, 135, 141, 144, 148, 151, 154, 157, 160, 163, 164,\n",
       "        170, 119, 152, 171, 171, 170, 171, 172, 172, 172, 172, 172, 171,\n",
       "        171, 170],\n",
       "       [113, 123, 131, 137, 142, 145, 150, 152, 155, 158, 161, 163, 164,\n",
       "        172, 105, 142, 170, 171, 171, 171, 172, 172, 173, 173, 172, 171,\n",
       "        171, 171],\n",
       "       [116, 125, 133, 139, 143, 146, 151, 153, 156, 159, 162, 163, 167,\n",
       "        167,  95, 144, 171, 172, 172, 172, 172, 172, 173, 173, 173, 172,\n",
       "        172, 171],\n",
       "       [117, 126, 134, 140, 145, 149, 153, 156, 158, 161, 163, 164, 175,\n",
       "        156,  87, 154, 172, 173, 173, 173, 173, 173, 174, 174, 174, 173,\n",
       "        172, 172],\n",
       "       [119, 128, 136, 142, 146, 150, 153, 156, 159, 163, 165, 164, 184,\n",
       "        148,  89, 164, 172, 174, 174, 174, 174, 175, 175, 174, 175, 174,\n",
       "        173, 173],\n",
       "       [122, 130, 138, 143, 147, 150, 154, 158, 162, 165, 166, 172, 181,\n",
       "        128,  94, 170, 173, 175, 174, 175, 176, 177, 177, 177, 177, 175,\n",
       "        175, 174],\n",
       "       [122, 132, 139, 145, 149, 152, 156, 160, 163, 165, 166, 181, 172,\n",
       "        103, 113, 175, 176, 178, 178, 179, 179, 179, 179, 178, 179, 177,\n",
       "        175, 174],\n",
       "       [125, 134, 141, 147, 150, 153, 157, 161, 164, 167, 168, 184, 179,\n",
       "        116, 126, 165, 176, 179, 180, 180, 181, 180, 180, 180, 179, 178,\n",
       "        177, 176],\n",
       "       [128, 135, 142, 148, 152, 154, 158, 162, 165, 168, 170, 187, 180,\n",
       "        156, 161, 124, 143, 179, 178, 178, 181, 182, 181, 180, 181, 180,\n",
       "        179, 179],\n",
       "       [129, 136, 144, 150, 153, 155, 159, 163, 166, 169, 172, 187, 184,\n",
       "        153, 102, 117, 110, 175, 169, 154, 182, 183, 183, 182, 182, 181,\n",
       "        181, 179],\n",
       "       [131, 138, 145, 150, 155, 157, 161, 165, 168, 174, 190, 189, 175,\n",
       "        146,  94,  97, 113, 151, 158, 129, 184, 184, 184, 184, 183, 183,\n",
       "        182, 180],\n",
       "       [131, 139, 146, 151, 155, 159, 163, 167, 175, 182, 179, 171, 159,\n",
       "        114, 102,  89, 121, 136, 136,  96, 172, 186, 186, 185, 185, 184,\n",
       "        182, 181],\n",
       "       [131, 140, 147, 154, 157, 160, 164, 179, 186, 191, 187, 180, 157,\n",
       "        100,  88,  84, 108, 111, 126,  90, 120, 186, 187, 187, 186, 185,\n",
       "        184, 182],\n",
       "       [133, 141, 149, 155, 158, 160, 174, 201, 189, 165, 151, 143, 146,\n",
       "        120,  87,  78,  87,  76, 108,  98,  96, 181, 188, 187, 186, 186,\n",
       "        185, 183],\n",
       "       [133, 141, 150, 156, 160, 161, 179, 197, 174, 135,  99,  72,  95,\n",
       "        134,  97,  72,  74,  68, 116, 105, 108, 187, 189, 187, 187, 186,\n",
       "        186, 185],\n",
       "       [134, 143, 151, 156, 161, 163, 179, 194, 156, 110,  74,  42,  52,\n",
       "        139,  94,  67,  75,  75, 118, 106, 129, 189, 191, 190, 188, 188,\n",
       "        187, 186],\n",
       "       [135, 144, 152, 158, 163, 163, 177, 193, 161, 122,  84,  43,  71,\n",
       "        134,  81,  57,  71,  88, 112,  98, 157, 193, 193, 192, 190, 190,\n",
       "        189, 188],\n",
       "       [136, 144, 152, 158, 162, 163, 176, 192, 164, 128,  98,  62,  60,\n",
       "        100,  71,  76,  96, 101, 105,  95, 174, 195, 194, 194, 194, 193,\n",
       "        191, 190],\n",
       "       [137, 145, 152, 159, 164, 165, 178, 191, 164, 135, 113,  82,  59,\n",
       "         87,  98, 111, 120, 108,  97, 108, 190, 196, 195, 195, 194, 193,\n",
       "        193, 192],\n",
       "       [139, 146, 154, 160, 164, 165, 175, 186, 163, 139, 112,  85,  67,\n",
       "        102, 126, 133, 126, 105, 104, 176, 197, 198, 197, 196, 195, 195,\n",
       "        194, 193],\n",
       "       [138, 147, 155, 161, 165, 167, 172, 186, 163, 137, 107,  87,  76,\n",
       "        106, 122, 125, 117,  96, 156, 199, 199, 200, 198, 196, 196, 195,\n",
       "        195, 194],\n",
       "       [139, 148, 156, 163, 166, 168, 172, 180, 158, 131, 108,  99,  86,\n",
       "        108, 118, 116, 103, 107, 191, 202, 201, 200, 200, 200, 199, 197,\n",
       "        198, 196],\n",
       "       [140, 149, 157, 164, 168, 167, 177, 178, 155, 131, 118, 105,  87,\n",
       "        100, 106, 100,  96, 164, 202, 202, 202, 202, 202, 201, 200, 199,\n",
       "        199, 198],\n",
       "       [140, 150, 157, 165, 167, 170, 181, 175, 152, 130, 115,  98,  82,\n",
       "         85,  90,  99, 165, 202, 203, 204, 203, 203, 202, 202, 201, 201,\n",
       "        200, 200],\n",
       "       [142, 150, 159, 165, 170, 191, 173, 157, 144, 119,  97,  84,  79,\n",
       "         79,  91, 172, 202, 203, 203, 205, 204, 204, 204, 203, 202, 202,\n",
       "        201, 200],\n",
       "       [142, 151, 160, 165, 188, 190, 187, 150, 119, 109,  85,  79,  79,\n",
       "         78, 137, 203, 205, 206, 206, 207, 207, 206, 206, 204, 205, 204,\n",
       "        203, 202],\n",
       "       [142, 151, 160, 172, 196, 188, 188, 190, 135,  96,  86,  77,  77,\n",
       "         79, 176, 205, 207, 207, 207, 207, 207, 207, 206, 206, 206, 204,\n",
       "        203, 202]])"
      ]
     },
     "execution_count": 119,
     "metadata": {},
     "output_type": "execute_result"
    }
   ],
   "source": [
    "example_image = np.reshape(example_image_flat, (28, 28))\n",
    "example_image"
   ]
  },
  {
   "cell_type": "code",
   "execution_count": 120,
   "metadata": {
    "cell_id": "00070-d11d5cb2-ef47-4e97-aaa6-6f6ebc5e8036",
    "deepnote_cell_type": "code",
    "deepnote_to_be_reexecuted": false,
    "execution_millis": 172,
    "execution_start": 1611224306420,
    "source_hash": "b7856fd4",
    "tags": []
   },
   "outputs": [
    {
     "data": {
      "text/plain": [
       "<matplotlib.image.AxesImage at 0x7f2ff1e42710>"
      ]
     },
     "execution_count": 120,
     "metadata": {},
     "output_type": "execute_result"
    },
    {
     "data": {
      "image/png": "[encoded data removed]",
      "text/plain": [
       "<Figure size 432x288 with 1 Axes>"
      ]
     },
     "metadata": {
      "needs_background": "light"
     },
     "output_type": "display_data"
    }
   ],
   "source": [
    "plt.imshow(example_image, cmap=\"Greys\")"
   ]
  },
  {
   "cell_type": "code",
   "execution_count": 124,
   "metadata": {
    "cell_id": "00071-54a38502-f2ad-41d6-97f9-700aee098852",
    "deepnote_cell_type": "code",
    "deepnote_to_be_reexecuted": false,
    "execution_millis": 78,
    "execution_start": 1611224419201,
    "source_hash": "655b951c",
    "tags": []
   },
   "outputs": [
    {
     "data": {
      "text/plain": [
       "array([145.41937716, 148.50027317, 151.24771444, 153.54653069,\n",
       "       156.21089055, 158.41125478, 160.47215443, 162.33968312,\n",
       "       163.95479876, 165.53367328, 166.68552176, 167.81198325,\n",
       "       168.49564742, 169.31087234, 169.95694773, 170.46046258,\n",
       "       170.71651794, 170.87270078, 170.80888727, 170.48144236,\n",
       "       169.97974868, 169.26450555, 168.14412675, 166.93665999,\n",
       "       165.76594427, 163.62072482, 161.93360044, 161.34911674,\n",
       "       147.1468585 , 150.28450191, 152.94197778, 155.4150428 ,\n",
       "       158.06898561, 160.22957567, 162.34580222, 164.29116736,\n",
       "       165.73633218, 166.99173192, 168.50318703, 169.2873065 ,\n",
       "       169.49703151, 170.48355491, 170.87113458, 170.71986888,\n",
       "       170.96674558, 171.46221089, 171.14969951, 171.33090512,\n",
       "       171.16576216, 170.52292843, 169.7192861 , 168.68614096,\n",
       "       167.34747769, 165.24902568, 163.69746858, 163.00069204,\n",
       "       149.01526134, 152.23565835, 154.76900382, 157.31309415,\n",
       "       159.95840466, 162.16160991, 164.11713713, 166.23270807,\n",
       "       167.48759789, 168.32744491, 169.97104353, 170.82961209,\n",
       "       170.27506829, 170.51589874, 169.76146421, 168.84931706,\n",
       "       169.00488071, 169.28599526, 169.31684575, 170.03187033,\n",
       "       170.75844109, 170.89113094, 170.76772901, 169.81118193,\n",
       "       168.65918776, 166.78954653, 165.50260426, 164.46461482,\n",
       "       150.7963941 , 154.04938991, 156.5684939 , 159.17989437,\n",
       "       161.80320524, 163.92864688, 165.83474777, 167.93043162,\n",
       "       169.13174285, 169.70988891, 170.81048989, 171.71917683,\n",
       "       170.19136769, 169.66756511, 167.1906028 , 165.32198142,\n",
       "       164.60229466, 163.88093243, 163.82720816, 165.75603715,\n",
       "       167.947332  , 169.76874886, 170.4026589 , 170.08716081,\n",
       "       169.75833182, 168.29808778, 167.25864141, 166.54383537,\n",
       "       152.49349845, 155.77330177, 158.35010016, 161.15906028,\n",
       "       163.58717902, 165.6232016 , 167.47583318, 169.65729375,\n",
       "       170.89335276, 170.83001275, 170.89564742, 170.63303588,\n",
       "       168.57443089, 167.32172646, 164.40870515, 161.67310144,\n",
       "       160.192169  , 158.13341832, 157.57636132, 160.44935349,\n",
       "       162.83095975, 166.0843198 , 168.32718995, 169.97049718,\n",
       "       170.25000911, 169.58666909, 169.19380805, 168.64705882,\n",
       "       154.23030413, 157.38466582, 159.87583318, 162.87302859,\n",
       "       165.29437261, 167.28304498, 169.19967219, 171.77909306,\n",
       "       172.74183209, 171.56160991, 170.90132945, 169.23332726,\n",
       "       166.39300674, 164.21391368, 161.10682936, 158.3478055 ,\n",
       "       156.38750683, 154.53330905, 153.53454744, 155.42127117,\n",
       "       157.15104717, 161.58229831, 165.1054817 , 168.55665635,\n",
       "       170.1612821 , 171.25871426, 171.71232927, 170.60560918,\n",
       "       155.83070479, 158.92580586, 161.46126389, 164.44407212,\n",
       "       166.92810053, 168.90384265, 171.32318339, 173.52067019,\n",
       "       174.07113458, 172.39063923, 170.14594791, 167.58146057,\n",
       "       163.88563103, 160.61132763, 158.01857585, 155.3111273 ,\n",
       "       153.37643416, 151.85543617, 151.62094336, 153.79668549,\n",
       "       154.42240029, 158.46811146, 163.21227463, 166.43303588,\n",
       "       169.59304316, 172.28151521, 173.85030049, 172.89601166,\n",
       "       157.40200328, 160.5203788 , 163.0583136 , 166.14121289,\n",
       "       168.59887088, 170.72281916, 173.01879439, 174.44381716,\n",
       "       174.0202149 , 171.75170279, 168.35199417, 164.29612093,\n",
       "       161.05081042, 156.62961209, 153.32627937, 151.57621563,\n",
       "       150.73913677, 149.96656347, 150.43806228, 153.27113458,\n",
       "       152.94274267, 155.21668184, 161.49120379, 165.65077399,\n",
       "       168.63962848, 172.26461482, 174.53975596, 174.6821344 ,\n",
       "       158.8460754 , 161.75254052, 164.5302495 , 167.58051357,\n",
       "       169.94820616, 172.43376434, 174.47452195, 175.14365325,\n",
       "       173.40568203, 169.97716263, 165.88329995, 161.07291932,\n",
       "       157.55097432, 152.82243671, 148.59457294, 148.24469131,\n",
       "       148.49907121, 147.98819887, 148.52912038, 151.40386086,\n",
       "       151.83394646, 153.42564196, 160.03831725, 165.31710071,\n",
       "       168.1451466 , 172.20779457, 175.3763249 , 175.92857403,\n",
       "       160.09998179, 162.97144418, 165.85634675, 168.99624841,\n",
       "       171.51189219, 174.00473502, 175.43267164, 175.27816427,\n",
       "       172.27026043, 167.93851757, 162.53210708, 156.67885631,\n",
       "       152.9906028 , 148.09550173, 144.54205063, 144.68858131,\n",
       "       145.06089965, 145.20579129, 146.86934985, 148.76011655,\n",
       "       150.33523948, 153.65059188, 160.01748315, 164.60466217,\n",
       "       168.74591149, 172.6837006 , 176.08042251, 176.93068658,\n",
       "       161.39741395, 164.29925332, 167.20797669, 170.36241122,\n",
       "       173.08060463, 175.42866509, 176.83420142, 175.62083409,\n",
       "       171.97042433, 165.47047897, 158.15818612, 151.6072118 ,\n",
       "       147.33126935, 142.87889273, 139.50216718, 140.18852668,\n",
       "       141.13735203, 142.99464578, 145.77687124, 148.64687671,\n",
       "       149.94114005, 153.75592788, 159.61602622, 163.9358951 ,\n",
       "       169.2046986 , 173.78597705, 177.04629394, 178.10449827,\n",
       "       162.5799308 , 165.37865598, 168.47281005, 171.59464578,\n",
       "       174.66352213, 176.92729922, 178.09644873, 175.95224913,\n",
       "       171.15887816, 163.10336915, 153.90413404, 146.02942998,\n",
       "       141.16182845, 136.57708978, 133.40007285, 135.59479148,\n",
       "       138.89943544, 142.05816791, 145.06654526, 149.49725005,\n",
       "       151.24367146, 154.25758514, 159.6445092 , 163.41985066,\n",
       "       168.6677108 , 174.55097432, 178.07929339, 179.14234201,\n",
       "       163.78178838, 166.67867419, 169.98703333, 173.16922236,\n",
       "       176.00692042, 178.19235112, 178.72686214, 176.49003824,\n",
       "       170.16947733, 160.27015116, 149.64946276, 140.81314879,\n",
       "       136.21682754, 131.72606083, 127.9421599 , 131.71054453,\n",
       "       137.70795848, 141.11422327, 144.42433072, 148.33498452,\n",
       "       151.05656529, 154.79668549, 159.09674012, 162.62542342,\n",
       "       167.85838645, 174.99052996, 178.55745766, 179.31243854,\n",
       "       164.91914041, 167.92879257, 171.47160809, 174.82596977,\n",
       "       177.05456201, 179.50318703, 179.29102167, 176.50092879,\n",
       "       170.18776179, 158.49542888, 145.92471317, 136.63423784,\n",
       "       131.57322892, 127.61799308, 125.62276452, 130.46785649,\n",
       "       137.43241668, 140.69087598, 143.75538153, 146.83740667,\n",
       "       149.37104353, 153.29175014, 157.37228192, 160.99632125,\n",
       "       166.32372974, 174.62134402, 178.38798033, 179.41180113,\n",
       "       165.86297578, 168.93691495, 172.49455473, 175.73655072,\n",
       "       178.43467492, 180.79854307, 179.93862684, 176.3291568 ,\n",
       "       169.45507194, 157.91087234, 144.05714806, 133.78069568,\n",
       "       127.05973411, 125.35064651, 126.68344564, 130.52474959,\n",
       "       136.52405755, 140.36761974, 143.14328902, 144.54682207,\n",
       "       145.97592424, 150.05955199, 155.01263886, 159.09597523,\n",
       "       165.90493535, 174.66497906, 178.68971044, 179.81052632,\n",
       "       166.7747587 , 169.95363322, 173.39883446, 176.62972136,\n",
       "       179.65809506, 181.76689128, 181.32198142, 177.54988162,\n",
       "       169.74820616, 157.85179384, 143.74321617, 132.16051721,\n",
       "       125.364888  , 124.90198507, 128.92434893, 133.28701512,\n",
       "       137.57490439, 140.16168275, 141.82210891, 142.28544892,\n",
       "       143.30071025, 146.95530869, 152.25212165, 158.01992351,\n",
       "       166.26789292, 174.02287379, 178.72336551, 180.08523038,\n",
       "       167.56055363, 170.7250774 , 174.12201785, 177.30905117,\n",
       "       180.47200874, 182.7194318 , 182.21839374, 178.91327627,\n",
       "       170.97912948, 158.47270078, 143.46224731, 132.67943908,\n",
       "       126.81358587, 126.825387  , 131.36608997, 135.60950647,\n",
       "       139.07466764, 141.05933345, 140.9457658 , 141.11152795,\n",
       "       141.18251685, 144.24560189, 150.10508104, 157.26982335,\n",
       "       166.69120379, 173.99380805, 178.19246039, 179.21373156,\n",
       "       167.9932617 , 171.20411583, 174.60338736, 177.97810963,\n",
       "       180.97184484, 182.99253324, 182.51163722, 179.38393735,\n",
       "       171.63467492, 159.37971226, 145.16696412, 134.73880896,\n",
       "       129.97719905, 130.43704243, 133.00637407, 137.05929703,\n",
       "       140.58455655, 141.56040794, 139.73217993, 139.20797669,\n",
       "       138.70635586, 141.6913859 , 148.98167911, 158.29681297,\n",
       "       168.45397924, 174.1545438 , 177.58379166, 178.93873611,\n",
       "       167.5927882 , 171.16299399, 174.58907303, 177.95490803,\n",
       "       180.77599709, 182.33145147, 182.39847022, 179.36627208,\n",
       "       172.3457658 , 160.55268621, 148.1943544 , 137.92777272,\n",
       "       133.71072664, 134.23886359, 136.7136405 , 138.88570388,\n",
       "       141.61180113, 141.18459297, 138.12635221, 136.04010199,\n",
       "       136.09601166, 141.09597523, 150.24989984, 161.82418503,\n",
       "       170.24949918, 175.46151885, 178.3534511 , 178.84622109,\n",
       "       166.4150428 , 170.23172464, 173.94853396, 177.24439993,\n",
       "       179.81897651, 181.15359679, 181.88894555, 179.71924968,\n",
       "       172.96554362, 162.529776  , 151.19898015, 141.73513021,\n",
       "       137.95210344, 138.75013659, 140.77577855, 142.42283737,\n",
       "       142.97989437, 140.34077581, 136.61832089, 133.16885813,\n",
       "       135.16572573, 142.81737388, 154.13757057, 165.15359679,\n",
       "       172.24348935, 177.44465489, 178.95075578, 178.26982335,\n",
       "       164.71331269, 168.32864688, 172.19045711, 175.24174103,\n",
       "       177.78207977, 179.36153706, 180.01475141, 178.73906392,\n",
       "       172.90413404, 163.94390821, 154.00582772, 145.59941723,\n",
       "       141.97359315, 141.27455837, 143.14678565, 144.67142597,\n",
       "       142.87182663, 138.37133491, 133.79238754, 132.22800947,\n",
       "       137.29036605, 147.17730832, 159.43857221, 168.4996904 ,\n",
       "       174.29706793, 177.51313058, 177.87175378, 176.59697687,\n",
       "       162.82913859, 166.21453287, 169.22097979, 172.07572391,\n",
       "       174.94598434, 176.70027317, 177.4843198 , 176.77745402,\n",
       "       171.87863777, 163.91808414, 155.58885449, 148.58663267,\n",
       "       144.15381533, 142.7410672 , 144.29229649, 144.69728647,\n",
       "       141.35283191, 135.52748133, 132.31422327, 134.88920051,\n",
       "       141.74197778, 151.98095065, 162.91090876, 169.83737024,\n",
       "       174.04520124, 175.97625205, 175.76102714, 174.49375341,\n",
       "       161.25040976, 164.04330723, 166.19413586, 168.69735932,\n",
       "       171.23937352, 173.05059188, 174.26807503, 173.82065198,\n",
       "       169.84574759, 163.17606993, 155.91604444, 149.89193225,\n",
       "       144.92693498, 142.94048443, 143.33017665, 142.30941541,\n",
       "       138.4036059 , 134.08595884, 134.0294664 , 138.0847933 ,\n",
       "       146.5084684 , 156.86137316, 165.03970133, 170.15195775,\n",
       "       173.58146057, 174.24079403, 173.48971044, 172.6805682 ,\n",
       "       159.23019486, 161.71025314, 163.4837006 , 165.52077946,\n",
       "       167.20302313, 169.00903296, 170.13327263, 169.65117465,\n",
       "       166.72882899, 161.82298306, 155.8391914 , 149.78572209,\n",
       "       144.80262247, 142.03412857, 141.45758514, 139.34241486,\n",
       "       135.82054271, 134.20484429, 135.29113094, 140.70519031,\n",
       "       150.27353852, 159.80404298, 166.69619377, 170.80309598,\n",
       "       172.54740484, 172.2155163 , 171.40364232, 170.86563467,\n",
       "       155.4667638 , 157.71917683, 159.1680204 , 161.0775815 ,\n",
       "       162.39508286, 163.95731197, 164.41540703, 163.76823894,\n",
       "       161.93993808, 158.73844473, 154.00477144, 147.93851757,\n",
       "       143.13163358, 139.98419231, 138.51932253, 136.43106902,\n",
       "       134.37756329, 134.01212894, 136.16015298, 142.97971226,\n",
       "       153.35556365, 161.01591696, 166.23445638, 169.8031324 ,\n",
       "       170.49735932, 169.92030596, 169.20229466, 168.56292114,\n",
       "       151.226334  , 152.91713713, 154.17381169, 156.22957567,\n",
       "       157.71444181, 159.21602622, 159.27863777, 158.28049536,\n",
       "       157.05565471, 155.03991987, 150.59450009, 145.36936806,\n",
       "       140.65594609, 137.46476052, 135.66024404, 133.94911674,\n",
       "       133.23194318, 133.2202149 , 137.0909124 , 145.38513932,\n",
       "       155.08399199, 160.93764342, 165.09819705, 167.69175014,\n",
       "       168.03019486, 167.69819705, 166.98215261, 166.27750865,\n",
       "       147.12380259, 148.34860681, 149.75461665, 151.61930432,\n",
       "       153.33370971, 154.01176471, 153.48759789, 152.76885813,\n",
       "       151.64024768, 149.34853396, 146.57348388, 142.39038427,\n",
       "       138.58022218, 136.41103624, 134.0061191 , 131.54904389,\n",
       "       131.94991805, 134.58375524, 139.36197414, 148.11586232,\n",
       "       155.09546531, 160.3468585 , 163.91560736, 165.3644145 ,\n",
       "       165.91127299, 165.18207977, 164.40797669, 163.48825351,\n",
       "       143.40775815, 144.18947368, 145.71163722, 147.66071754,\n",
       "       149.01941359, 148.6708432 , 148.18521217, 147.29892551,\n",
       "       146.28632307, 144.02706247, 142.96601712, 139.76955017,\n",
       "       137.07157166, 135.27718084, 131.92278274, 130.23223457,\n",
       "       132.04636678, 135.28923693, 141.1048625 , 147.495611  ,\n",
       "       153.32580586, 159.12533236, 161.96925879, 162.73669641,\n",
       "       162.90613732, 161.9664542 , 161.13789838, 159.82473138])"
      ]
     },
     "execution_count": 124,
     "metadata": {},
     "output_type": "execute_result"
    }
   ],
   "source": [
    "average_image_flat = np.mean(X, axis=0)\n",
    "average_image_flat"
   ]
  },
  {
   "cell_type": "code",
   "execution_count": 125,
   "metadata": {
    "cell_id": "00072-79a747eb-95fc-4815-9738-d92b1d93ab7b",
    "deepnote_cell_type": "code",
    "deepnote_to_be_reexecuted": false,
    "execution_millis": 0,
    "execution_start": 1611224439334,
    "source_hash": "2d0e9629",
    "tags": []
   },
   "outputs": [],
   "source": [
    "average_image = average_image_flat.reshape(28, 28)"
   ]
  },
  {
   "cell_type": "code",
   "execution_count": 127,
   "metadata": {
    "cell_id": "00073-21d04000-af24-4f23-8a5b-0161647174a3",
    "deepnote_cell_type": "code",
    "deepnote_to_be_reexecuted": false,
    "execution_millis": 220,
    "execution_start": 1611224451668,
    "source_hash": "4e6a4d03",
    "tags": []
   },
   "outputs": [
    {
     "data": {
      "text/plain": [
       "<matplotlib.image.AxesImage at 0x7f2fe7830b10>"
      ]
     },
     "execution_count": 127,
     "metadata": {},
     "output_type": "execute_result"
    },
    {
     "data": {
      "image/png": "[encoded data removed]",
      "text/plain": [
       "<Figure size 432x288 with 1 Axes>"
      ]
     },
     "metadata": {
      "needs_background": "light"
     },
     "output_type": "display_data"
    }
   ],
   "source": [
    "plt.imshow(average_image, cmap=\"Greys\")"
   ]
  },
  {
   "cell_type": "code",
   "execution_count": 131,
   "metadata": {
    "cell_id": "00075-38c46027-f31b-46a5-bcb9-bcb10e69527a",
    "deepnote_cell_type": "code",
    "deepnote_to_be_reexecuted": false,
    "execution_millis": 7,
    "execution_start": 1611224542485,
    "source_hash": "81526d49",
    "tags": []
   },
   "outputs": [],
   "source": [
    "labels = np.unique(y)"
   ]
  },
  {
   "cell_type": "code",
   "execution_count": 134,
   "metadata": {
    "cell_id": "00076-3657b642-f6c6-44fe-9ab8-33031b9f5e77",
    "deepnote_cell_type": "code",
    "deepnote_to_be_reexecuted": false,
    "execution_millis": 329,
    "execution_start": 1611224687004,
    "source_hash": "5d325c05",
    "tags": []
   },
   "outputs": [],
   "source": [
    "average_class_images = []\n",
    "\n",
    "for label in labels:\n",
    "\n",
    "    X_sub = X[y==label, :]\n",
    "\n",
    "    average_class_image = np.mean(X_sub, axis=0).reshape(28, 28)\n",
    "\n",
    "    average_class_images.append(average_class_image)"
   ]
  },
  {
   "cell_type": "code",
   "execution_count": 138,
   "metadata": {
    "cell_id": "00078-ca3a8795-5d2f-4e43-a617-20df744a54e4",
    "deepnote_cell_type": "code",
    "deepnote_to_be_reexecuted": false,
    "execution_millis": 2558,
    "execution_start": 1611224795541,
    "source_hash": "3809ef29",
    "tags": []
   },
   "outputs": [
    {
     "data": {
      "image/png": "[encoded data removed]",
      "text/plain": [
       "<Figure size 144x3456 with 24 Axes>"
      ]
     },
     "metadata": {
      "needs_background": "light"
     },
     "output_type": "display_data"
    }
   ],
   "source": [
    "plt.figure(figsize=(2, 48))\n",
    "for i, image in enumerate(average_class_images):\n",
    "    plt.subplot(24, 1, i+1)\n",
    "    plt.imshow(image, cmap=\"Greys\")"
   ]
  },
  {
   "cell_type": "code",
   "execution_count": null,
   "metadata": {
    "cell_id": "00077-fb77e646-2bcb-43bd-b364-93463752e834",
    "deepnote_cell_type": "code",
    "tags": []
   },
   "outputs": [],
   "source": []
  }
 ],
 "metadata": {
  "deepnote_execution_queue": [],
  "deepnote_notebook_id": "2e0f82be-5ae8-4284-a2db-f12d178cbf39",
  "kernelspec": {
   "display_name": "Python 3",
   "language": "python",
   "name": "python3"
  },
  "language_info": {
   "codemirror_mode": {
    "name": "ipython",
    "version": 3
   },
   "file_extension": ".py",
   "mimetype": "text/x-python",
   "name": "python",
   "nbconvert_exporter": "python",
   "pygments_lexer": "ipython3",
   "version": "3.8.5"
  }
 },
 "nbformat": 4,
 "nbformat_minor": 2
}
