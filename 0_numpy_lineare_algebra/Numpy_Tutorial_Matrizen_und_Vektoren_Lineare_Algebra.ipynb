{
 "cells": [
  {
   "cell_type": "code",
   "execution_count": 1,
   "metadata": {
    "id": "s_X9ATqJZ_45"
   },
   "outputs": [],
   "source": [
    "import numpy as np\n",
    "import matplotlib.pyplot as plt"
   ]
  },
  {
   "cell_type": "markdown",
   "metadata": {
    "id": "wV2sWyjMfTYm"
   },
   "source": [
    "# Vektoren"
   ]
  },
  {
   "cell_type": "code",
   "execution_count": 3,
   "metadata": {},
   "outputs": [
    {
     "data": {
      "text/plain": [
       "array([ 4.65489300e-310,  0.00000000e+000,  2.50784811e-292,\n",
       "        1.97077317e-268,  1.79235626e-280,  1.31347524e-305,\n",
       "        1.54877823e+262, -4.05644606e-133,  3.51074257e-312,\n",
       "        3.98472130e+252])"
      ]
     },
     "execution_count": 3,
     "metadata": {},
     "output_type": "execute_result"
    }
   ],
   "source": [
    "np.empty(10)"
   ]
  },
  {
   "cell_type": "code",
   "execution_count": 6,
   "metadata": {
    "id": "ulBmH167fW8m"
   },
   "outputs": [],
   "source": [
    "a = np.array([2, 3])\n",
    "b = np.array([-2, 5])"
   ]
  },
  {
   "cell_type": "code",
   "execution_count": 15,
   "metadata": {
    "colab": {
     "base_uri": "https://localhost:8080/"
    },
    "id": "xP8mKer8ffNX",
    "outputId": "a974ffa0-28f5-4b21-fc2f-0b475c13f40a"
   },
   "outputs": [
    {
     "name": "stdout",
     "output_type": "stream",
     "text": [
      "5\n",
      "2\n",
      "[2, 0, 3]\n"
     ]
    }
   ],
   "source": [
    "a_list = [2, 3]\n",
    "print(sum(a_list))\n",
    "print(a_list[0])\n",
    "a_list.insert(1, 0)\n",
    "print(a_list)"
   ]
  },
  {
   "cell_type": "code",
   "execution_count": 16,
   "metadata": {
    "colab": {
     "base_uri": "https://localhost:8080/"
    },
    "id": "Yu-87SoFfoof",
    "outputId": "90ef366d-bbdb-4275-bcb8-ed14e2b83532"
   },
   "outputs": [
    {
     "data": {
      "text/plain": [
       "1"
      ]
     },
     "execution_count": 16,
     "metadata": {
      "tags": []
     },
     "output_type": "execute_result"
    }
   ],
   "source": [
    "# Dimension - im Sinne von der Anzahl der Achsen des Arrays\n",
    "a.ndim"
   ]
  },
  {
   "cell_type": "code",
   "execution_count": 18,
   "metadata": {
    "colab": {
     "base_uri": "https://localhost:8080/"
    },
    "id": "bv5K7KpsgdxU",
    "outputId": "73e0d984-9919-4926-9edd-d5f208a913cc"
   },
   "outputs": [
    {
     "data": {
      "text/plain": [
       "(2,)"
      ]
     },
     "execution_count": 18,
     "metadata": {
      "tags": []
     },
     "output_type": "execute_result"
    }
   ],
   "source": [
    "# Shape\n",
    "a.shape"
   ]
  },
  {
   "cell_type": "code",
   "execution_count": 19,
   "metadata": {
    "colab": {
     "base_uri": "https://localhost:8080/"
    },
    "id": "zdE_VCUOgWBr",
    "outputId": "4a255cf5-25ba-48f3-88d1-5a43cfba2604"
   },
   "outputs": [
    {
     "data": {
      "text/plain": [
       "dtype('int64')"
      ]
     },
     "execution_count": 19,
     "metadata": {
      "tags": []
     },
     "output_type": "execute_result"
    }
   ],
   "source": [
    "a.dtype"
   ]
  },
  {
   "cell_type": "code",
   "execution_count": 41,
   "metadata": {
    "colab": {
     "base_uri": "https://localhost:8080/"
    },
    "id": "slXd4eC6gki2",
    "outputId": "ec91a21b-cd6f-4254-fe5f-316350b2b65a"
   },
   "outputs": [
    {
     "name": "stdout",
     "output_type": "stream",
     "text": [
      "[0 1 2 3 4 5 6 7 8 9]\n",
      "[0 0 0 0 0]\n",
      "[1 1 1 1 1]\n",
      "[ True  True  True  True  True]\n",
      "[ 0.   0.5  1.   1.5  2.   2.5  3.   3.5  4.   4.5  5.   5.5  6.   6.5\n",
      "  7.   7.5  8.   8.5  9.   9.5 10. ]\n"
     ]
    }
   ],
   "source": [
    "# weitere Möglichkeiten Vektoren zu Definieren\n",
    "x1 = np.arange(10)\n",
    "# x1 = np.arange(10, step=2)\n",
    "print(x1)\n",
    "\n",
    "x2 = np.zeros(5, dtype=np.int64)\n",
    "print(x2)\n",
    "\n",
    "x3 = np.ones(5, dtype=np.int64)\n",
    "print(x3)\n",
    "\n",
    "x4 = np.ones(5, dtype=np.bool)\n",
    "print(x4)\n",
    "\n",
    "x5 = np.linspace(0, 10, 21)\n",
    "print(x5)"
   ]
  },
  {
   "cell_type": "code",
   "execution_count": 65,
   "metadata": {
    "colab": {
     "base_uri": "https://localhost:8080/",
     "height": 283
    },
    "id": "ZzifxaP1jTH4",
    "outputId": "5d80e80a-6b33-4530-c69b-1b26dc1b54a5"
   },
   "outputs": [
    {
     "name": "stdout",
     "output_type": "stream",
     "text": [
      "[8 6 5 1 7 0 1 6 6 8 9 8 8 7 0]\n"
     ]
    },
    {
     "data": {
      "image/png": "[encoded data removed]",
      "text/plain": [
       "<Figure size 432x288 with 1 Axes>"
      ]
     },
     "metadata": {
      "needs_background": "light",
      "tags": []
     },
     "output_type": "display_data"
    }
   ],
   "source": [
    "# Zufallszahlen\n",
    "\n",
    "# wenn man reproduzierbare Zufallszahlen will:\n",
    "# np.random.seed(17)\n",
    "\n",
    "randint = np.random.randint(0, 10, size=15)\n",
    "print(randint)\n",
    "\n",
    "# normalverteilte Zufallszahlen\n",
    "normal = np.random.normal(loc=1.0, scale=2.0, size=10000)  # loc = mean, scale = standard deviation\n",
    "\n",
    "# gleichverteilte Zufallszahlen\n",
    "uniform = np.random.uniform(low=-2.0, high=1.0, size=1000)\n",
    "\n",
    "# Histogramm der Zufallszahlen\n",
    "plt.hist(normal, alpha=0.5, density=True)\n",
    "plt.hist(uniform, alpha=0.5, density=True);"
   ]
  },
  {
   "cell_type": "code",
   "execution_count": 69,
   "metadata": {
    "colab": {
     "base_uri": "https://localhost:8080/",
     "height": 267
    },
    "id": "SfrPzvYrlq_1",
    "outputId": "edb2b59f-5873-433e-abb9-ec95d2331702"
   },
   "outputs": [
    {
     "data": {
      "image/png": "[encoded data removed]",
      "text/plain": [
       "<Figure size 432x288 with 1 Axes>"
      ]
     },
     "metadata": {
      "needs_background": "light",
      "tags": []
     },
     "output_type": "display_data"
    }
   ],
   "source": [
    "# Beispiel: Funktionen visualisieren\n",
    "x = np.linspace(0, np.pi / 2, 100)\n",
    "\n",
    "f1 = np.exp(x)\n",
    "f2 = np.cos(x)\n",
    "f3 = np.sin(x)\n",
    "f4 = np.sqrt(x)  # Wurzelfunktion\n",
    "\n",
    "plt.plot(x, f1)\n",
    "plt.plot(x, f2)\n",
    "plt.plot(x, f3)\n",
    "plt.plot(x, f4);"
   ]
  },
  {
   "cell_type": "code",
   "execution_count": 68,
   "metadata": {
    "colab": {
     "base_uri": "https://localhost:8080/"
    },
    "id": "6bermmJQmI6s",
    "outputId": "f69230c3-425c-4469-aa2e-b0bfa8a53379"
   },
   "outputs": [
    {
     "name": "stdout",
     "output_type": "stream",
     "text": [
      "[0.         0.01586663 0.03173326 0.04759989 0.06346652 0.07933315\n",
      " 0.09519978 0.11106641 0.12693304 0.14279967 0.1586663  0.17453293\n",
      " 0.19039955 0.20626618 0.22213281 0.23799944 0.25386607 0.2697327\n",
      " 0.28559933 0.30146596 0.31733259 0.33319922 0.34906585 0.36493248\n",
      " 0.38079911 0.39666574 0.41253237 0.428399   0.44426563 0.46013226\n",
      " 0.47599889 0.49186552 0.50773215 0.52359878 0.53946541 0.55533203\n",
      " 0.57119866 0.58706529 0.60293192 0.61879855 0.63466518 0.65053181\n",
      " 0.66639844 0.68226507 0.6981317  0.71399833 0.72986496 0.74573159\n",
      " 0.76159822 0.77746485 0.79333148 0.80919811 0.82506474 0.84093137\n",
      " 0.856798   0.87266463 0.88853126 0.90439789 0.92026451 0.93613114\n",
      " 0.95199777 0.9678644  0.98373103 0.99959766 1.01546429 1.03133092\n",
      " 1.04719755 1.06306418 1.07893081 1.09479744 1.11066407 1.1265307\n",
      " 1.14239733 1.15826396 1.17413059 1.18999722 1.20586385 1.22173048\n",
      " 1.23759711 1.25346374 1.26933037 1.28519699 1.30106362 1.31693025\n",
      " 1.33279688 1.34866351 1.36453014 1.38039677 1.3962634  1.41213003\n",
      " 1.42799666 1.44386329 1.45972992 1.47559655 1.49146318 1.50732981\n",
      " 1.52319644 1.53906307 1.5549297  1.57079633]\n",
      "[1.         1.01599317 1.03224213 1.04875095 1.06552381 1.08256492\n",
      " 1.09987856 1.11746911 1.13534099 1.15349869 1.1719468  1.19068995\n",
      " 1.20973286 1.22908032 1.24873722 1.26870849 1.28899916 1.30961435\n",
      " 1.33055924 1.3518391  1.3734593  1.39542527 1.41774255 1.44041675\n",
      " 1.46345358 1.48685885 1.51063844 1.53479834 1.55934464 1.5842835\n",
      " 1.60962122 1.63536417 1.66151884 1.68809179 1.71508974 1.74251947\n",
      " 1.77038788 1.798702   1.82746895 1.85669598 1.88639044 1.91655981\n",
      " 1.94721168 1.97835377 2.00999393 2.04214011 2.07480041 2.10798305\n",
      " 2.14169639 2.17594891 2.21074923 2.24610613 2.28202849 2.31852537\n",
      " 2.35560595 2.39327956 2.43155569 2.47044398 2.50995422 2.55009635\n",
      " 2.59088049 2.63231689 2.67441598 2.71718838 2.76064485 2.80479632\n",
      " 2.84965391 2.89522892 2.94153281 2.98857726 3.03637409 3.08493534\n",
      " 3.13427325 3.18440022 3.23532889 3.28707206 3.33964277 3.39305426\n",
      " 3.44731996 3.50245354 3.55846889 3.6153801  3.6732015  3.73194764\n",
      " 3.79163333 3.85227357 3.91388365 3.97647907 4.04007559 4.10468922\n",
      " 4.17033622 4.23703313 4.30479673 4.37364409 4.44359254 4.51465968\n",
      " 4.58686341 4.66022191 4.73475365 4.81047738]\n"
     ]
    }
   ],
   "source": [
    "print(x)\n",
    "print(np.exp(x))"
   ]
  },
  {
   "cell_type": "markdown",
   "metadata": {
    "id": "tbS2ns9HgouB"
   },
   "source": [
    "### Vektoroperationen"
   ]
  },
  {
   "cell_type": "code",
   "execution_count": 20,
   "metadata": {
    "colab": {
     "base_uri": "https://localhost:8080/"
    },
    "id": "Zu5joYI3gsks",
    "outputId": "2ffbe934-06d2-4008-a358-7770044b5310"
   },
   "outputs": [
    {
     "data": {
      "text/plain": [
       "array([0, 8])"
      ]
     },
     "execution_count": 20,
     "metadata": {
      "tags": []
     },
     "output_type": "execute_result"
    }
   ],
   "source": [
    "# Addition - wird von NumPy automatisch als elementweise Addition verstanden\n",
    "a + b"
   ]
  },
  {
   "cell_type": "code",
   "execution_count": 21,
   "metadata": {
    "colab": {
     "base_uri": "https://localhost:8080/",
     "height": 205
    },
    "id": "tCoTD7g3gvQn",
    "outputId": "f018a45a-0651-4399-9f1d-48728f68108b"
   },
   "outputs": [
    {
     "ename": "ValueError",
     "evalue": "ignored",
     "output_type": "error",
     "traceback": [
      "\u001b[0;31m---------------------------------------------------------------------------\u001b[0m",
      "\u001b[0;31mValueError\u001b[0m                                Traceback (most recent call last)",
      "\u001b[0;32m<ipython-input-21-d2690f8397c9>\u001b[0m in \u001b[0;36m<module>\u001b[0;34m()\u001b[0m\n\u001b[1;32m      3\u001b[0m \u001b[0mbb\u001b[0m \u001b[0;34m=\u001b[0m \u001b[0mnp\u001b[0m\u001b[0;34m.\u001b[0m\u001b[0marray\u001b[0m\u001b[0;34m(\u001b[0m\u001b[0;34m[\u001b[0m\u001b[0;36m0\u001b[0m\u001b[0;34m,\u001b[0m \u001b[0;36m3\u001b[0m\u001b[0;34m]\u001b[0m\u001b[0;34m)\u001b[0m\u001b[0;34m\u001b[0m\u001b[0;34m\u001b[0m\u001b[0m\n\u001b[1;32m      4\u001b[0m \u001b[0;34m\u001b[0m\u001b[0m\n\u001b[0;32m----> 5\u001b[0;31m \u001b[0maa\u001b[0m \u001b[0;34m+\u001b[0m \u001b[0mbb\u001b[0m\u001b[0;34m\u001b[0m\u001b[0;34m\u001b[0m\u001b[0m\n\u001b[0m",
      "\u001b[0;31mValueError\u001b[0m: operands could not be broadcast together with shapes (3,) (2,) "
     ]
    }
   ],
   "source": [
    "# Fehlermeldung bei ungleicher Länge\n",
    "aa = np.array([0, 1, 2])\n",
    "bb = np.array([0, 3])\n",
    "\n",
    "aa + bb"
   ]
  },
  {
   "cell_type": "code",
   "execution_count": 22,
   "metadata": {
    "colab": {
     "base_uri": "https://localhost:8080/"
    },
    "id": "t1kwUSEJhBlP",
    "outputId": "cb817aa6-cf17-46c8-cd81-e29622bb87a9"
   },
   "outputs": [
    {
     "data": {
      "text/plain": [
       "array([4, 6])"
      ]
     },
     "execution_count": 22,
     "metadata": {
      "tags": []
     },
     "output_type": "execute_result"
    }
   ],
   "source": [
    "# Skalarmultiplikation - funktioniert in NumPy durch Broadcasting\n",
    "alpha = 2\n",
    "alpha * a"
   ]
  },
  {
   "cell_type": "code",
   "execution_count": 23,
   "metadata": {
    "colab": {
     "base_uri": "https://localhost:8080/"
    },
    "id": "6q2ltSSahi5G",
    "outputId": "c2a0d8f5-b65d-4fa3-d4eb-650e3cf67b70"
   },
   "outputs": [
    {
     "data": {
      "text/plain": [
       "array([-4, 15])"
      ]
     },
     "execution_count": 23,
     "metadata": {
      "tags": []
     },
     "output_type": "execute_result"
    }
   ],
   "source": [
    "# elementweise Multiplikation (gleiche Länge!)\n",
    "a * b"
   ]
  },
  {
   "cell_type": "code",
   "execution_count": 24,
   "metadata": {
    "colab": {
     "base_uri": "https://localhost:8080/"
    },
    "id": "uIOBEn48hz3P",
    "outputId": "c70e6bc2-5098-4195-cdfd-698ba38fdc0c"
   },
   "outputs": [
    {
     "data": {
      "text/plain": [
       "array([2, 3])"
      ]
     },
     "execution_count": 24,
     "metadata": {
      "tags": []
     },
     "output_type": "execute_result"
    }
   ],
   "source": [
    "a"
   ]
  },
  {
   "cell_type": "code",
   "execution_count": 78,
   "metadata": {
    "colab": {
     "base_uri": "https://localhost:8080/"
    },
    "id": "o8fW2qeLh-8v",
    "outputId": "7fa14ab4-5752-4586-f24e-b2c3cdbb22f6"
   },
   "outputs": [
    {
     "name": "stdout",
     "output_type": "stream",
     "text": [
      "-2\n",
      "-2\n",
      "-2\n",
      "-2\n",
      "-2\n"
     ]
    }
   ],
   "source": [
    "# Skalarprodukt\n",
    "x = np.array([1, 0, -2])\n",
    "z = np.array([4, 1, 3])\n",
    "\n",
    "print(np.dot(x, z))\n",
    "print(x[0] * z[0] + x[1] * z[1] + x[2] * z[2])\n",
    "print(sum(x * z))\n",
    "print(np.sum(x * z))\n",
    "print((x * z).sum())"
   ]
  },
  {
   "cell_type": "code",
   "execution_count": 86,
   "metadata": {
    "colab": {
     "base_uri": "https://localhost:8080/"
    },
    "id": "aR2gbT2PtLqc",
    "outputId": "12e38f0d-2e2b-4eb0-f0c4-13ccc2419e0e"
   },
   "outputs": [
    {
     "name": "stdout",
     "output_type": "stream",
     "text": [
      "2.23606797749979\n",
      "2.23606797749979\n"
     ]
    }
   ],
   "source": [
    "# Vektornorm und Länge\n",
    "print(np.sqrt(np.dot(x, x)))\n",
    "print(np.linalg.norm(x))\n"
   ]
  },
  {
   "cell_type": "code",
   "execution_count": 87,
   "metadata": {
    "colab": {
     "base_uri": "https://localhost:8080/"
    },
    "id": "eeUNb3HatY68",
    "outputId": "623e1d81-6ebc-45dc-a9c0-4df44d9f9a97"
   },
   "outputs": [
    {
     "name": "stdout",
     "output_type": "stream",
     "text": [
      "5.916079783099616\n",
      "5.916079783099616\n"
     ]
    }
   ],
   "source": [
    "# Abstand und Distanz\n",
    "print(np.sqrt(np.dot(x - z, x - z)))\n",
    "print(np.linalg.norm(x - z))"
   ]
  },
  {
   "cell_type": "markdown",
   "metadata": {
    "id": "k3GutaKZmdLi"
   },
   "source": [
    "### Indexing"
   ]
  },
  {
   "cell_type": "code",
   "execution_count": 73,
   "metadata": {
    "colab": {
     "base_uri": "https://localhost:8080/"
    },
    "id": "NdR8KlpSmeSj",
    "outputId": "5ab4fd4b-f480-4ff0-a14e-aa978673aa64"
   },
   "outputs": [
    {
     "name": "stdout",
     "output_type": "stream",
     "text": [
      "2\n",
      "3\n",
      "[0.         0.01586663 0.03173326 0.04759989 0.06346652 0.07933315\n",
      " 0.09519978 0.11106641 0.12693304 0.14279967 0.1586663  0.17453293\n",
      " 0.19039955 0.20626618 0.22213281 0.23799944 0.25386607 0.2697327\n",
      " 0.28559933 0.30146596 0.31733259 0.33319922 0.34906585 0.36493248\n",
      " 0.38079911 0.39666574 0.41253237 0.428399   0.44426563 0.46013226\n",
      " 0.47599889 0.49186552 0.50773215 0.52359878 0.53946541 0.55533203\n",
      " 0.57119866 0.58706529 0.60293192 0.61879855 0.63466518 0.65053181\n",
      " 0.66639844 0.68226507 0.6981317  0.71399833 0.72986496 0.74573159\n",
      " 0.76159822 0.77746485]\n",
      "[0.         0.07933315 0.1586663  0.23799944 0.31733259 0.39666574\n",
      " 0.47599889 0.55533203 0.63466518 0.71399833 0.79333148 0.87266463\n",
      " 0.95199777 1.03133092 1.11066407 1.18999722 1.26933037 1.34866351\n",
      " 1.42799666 1.50732981]\n"
     ]
    }
   ],
   "source": [
    "print(a[0]) # erstes Element aus a\n",
    "print(a[-1])  # letztes Element aus a\n",
    "print(x[0:50])\n",
    "print(x[np.arange(len(x), step=5)])"
   ]
  },
  {
   "cell_type": "code",
   "execution_count": null,
   "metadata": {
    "id": "r2-4bKdPmqni"
   },
   "outputs": [],
   "source": []
  },
  {
   "cell_type": "markdown",
   "metadata": {
    "id": "ipKJzmBOog-0"
   },
   "source": [
    "### Map- und Reduce-Funktionen"
   ]
  },
  {
   "cell_type": "code",
   "execution_count": 79,
   "metadata": {
    "colab": {
     "base_uri": "https://localhost:8080/"
    },
    "id": "l7q0-p5_okDP",
    "outputId": "f5ed6b8c-d963-40e1-b899-726f992c3719"
   },
   "outputs": [
    {
     "data": {
      "text/plain": [
       "array([ 1,  0, -2])"
      ]
     },
     "execution_count": 79,
     "metadata": {
      "tags": []
     },
     "output_type": "execute_result"
    }
   ],
   "source": [
    "x"
   ]
  },
  {
   "cell_type": "code",
   "execution_count": 85,
   "metadata": {
    "colab": {
     "base_uri": "https://localhost:8080/"
    },
    "id": "MjkzNqb0oljY",
    "outputId": "436967c9-04d3-4079-87b5-629b41194c1c"
   },
   "outputs": [
    {
     "name": "stdout",
     "output_type": "stream",
     "text": [
      "-1\n",
      "-1\n",
      "-0.3333333333333333\n",
      "-0.3333333333333333\n",
      "1.247219128924647\n",
      "1.247219128924647\n",
      "0.0\n"
     ]
    }
   ],
   "source": [
    "print(np.sum(x))\n",
    "print(x.sum())\n",
    "\n",
    "print(np.mean(x))\n",
    "print(x.mean())\n",
    "\n",
    "print(np.std(x))\n",
    "print(x.std())\n",
    "\n",
    "print(np.median(x))\n",
    "# print(x.median()) # geht nicht"
   ]
  },
  {
   "cell_type": "code",
   "execution_count": null,
   "metadata": {
    "id": "6LgViG8Zoow-"
   },
   "outputs": [],
   "source": []
  },
  {
   "cell_type": "markdown",
   "metadata": {
    "id": "bwvwWjVAxSzu"
   },
   "source": [
    "# Matrizen"
   ]
  },
  {
   "cell_type": "code",
   "execution_count": 90,
   "metadata": {
    "id": "HkXgJrmZxT0n"
   },
   "outputs": [],
   "source": [
    "A = np.array(\n",
    "    [\n",
    "        [2, 4, -3],\n",
    "        [21, -6, -1]\n",
    "    ]\n",
    ")\n",
    "\n",
    "B = np.array(\n",
    "    [\n",
    "     [1, 2],\n",
    "     [0, 1],\n",
    "     [-1, 5]\n",
    "    ]\n",
    ")\n",
    "\n",
    "c = np.array([1, 2, 0])"
   ]
  },
  {
   "cell_type": "code",
   "execution_count": 94,
   "metadata": {
    "colab": {
     "base_uri": "https://localhost:8080/"
    },
    "id": "XfY_fmmfxuf8",
    "outputId": "b17c6145-4046-420e-d493-1d2fbb780414"
   },
   "outputs": [
    {
     "name": "stdout",
     "output_type": "stream",
     "text": [
      "[10  9]\n",
      "[10  9]\n",
      "[[ 5 -7]\n",
      " [22 31]]\n",
      "[[ 5 -7]\n",
      " [22 31]]\n"
     ]
    }
   ],
   "source": [
    "# Matrixmultiplikation\n",
    "print(np.matmul(A, c))\n",
    "print(A @ c)\n",
    "\n",
    "print(np.matmul(A, B))\n",
    "print(A @ B)"
   ]
  },
  {
   "cell_type": "code",
   "execution_count": null,
   "metadata": {
    "id": "PXz9X5jjx60J"
   },
   "outputs": [],
   "source": []
  },
  {
   "cell_type": "markdown",
   "metadata": {
    "id": "ypclscPgyM0S"
   },
   "source": [
    "## Indexing"
   ]
  },
  {
   "cell_type": "code",
   "execution_count": 101,
   "metadata": {
    "colab": {
     "base_uri": "https://localhost:8080/"
    },
    "id": "IBVuaA8JyOFc",
    "outputId": "c331b363-bbc9-4414-906c-a8fe29a8c7cf"
   },
   "outputs": [
    {
     "name": "stdout",
     "output_type": "stream",
     "text": [
      "[ 2 21]\n",
      "[0 1]\n",
      "5\n"
     ]
    }
   ],
   "source": [
    "# auf die 1. Spalte der Matrix A zugreifen\n",
    "print(A[:, 0])\n",
    "\n",
    "# auf die 2. Zeile der Matrix B zugreifen\n",
    "print(B[1, :])\n",
    "\n",
    "# auf ein bestimmtes Element zugreifen\n",
    "print(B[2, 1])"
   ]
  },
  {
   "cell_type": "markdown",
   "metadata": {
    "id": "vbVcI9G3zMMQ"
   },
   "source": [
    "## Map- und Reduce-Funktionen"
   ]
  },
  {
   "cell_type": "code",
   "execution_count": 104,
   "metadata": {
    "colab": {
     "base_uri": "https://localhost:8080/"
    },
    "id": "-41SGgW-zbhW",
    "outputId": "4b4f77e0-a854-41ec-a3ff-5fe62108a519"
   },
   "outputs": [
    {
     "data": {
      "text/plain": [
       "2"
      ]
     },
     "execution_count": 104,
     "metadata": {
      "tags": []
     },
     "output_type": "execute_result"
    }
   ],
   "source": [
    "# Anzahl der \"Achsen\"/\"Dimensionen\"\n",
    "A.ndim"
   ]
  },
  {
   "cell_type": "code",
   "execution_count": 106,
   "metadata": {
    "colab": {
     "base_uri": "https://localhost:8080/"
    },
    "id": "UFd8USpgzmwG",
    "outputId": "02d0531e-44c9-4e2a-d149-327a062a868e"
   },
   "outputs": [
    {
     "data": {
      "text/plain": [
       "array([[ 2,  4, -3],\n",
       "       [21, -6, -1]])"
      ]
     },
     "execution_count": 106,
     "metadata": {
      "tags": []
     },
     "output_type": "execute_result"
    }
   ],
   "source": [
    "A"
   ]
  },
  {
   "cell_type": "code",
   "execution_count": 102,
   "metadata": {
    "colab": {
     "base_uri": "https://localhost:8080/"
    },
    "id": "Qe7SUaP-zPLo",
    "outputId": "f00ce433-e835-4094-e0a1-c42208def64b"
   },
   "outputs": [
    {
     "data": {
      "text/plain": [
       "17"
      ]
     },
     "execution_count": 102,
     "metadata": {
      "tags": []
     },
     "output_type": "execute_result"
    }
   ],
   "source": [
    "np.sum(A)"
   ]
  },
  {
   "cell_type": "code",
   "execution_count": 105,
   "metadata": {
    "colab": {
     "base_uri": "https://localhost:8080/"
    },
    "id": "6l-2YPCqzU_U",
    "outputId": "680905fa-70c2-4aff-c673-f24975262fc3"
   },
   "outputs": [
    {
     "data": {
      "text/plain": [
       "array([ 3, 14])"
      ]
     },
     "execution_count": 105,
     "metadata": {
      "tags": []
     },
     "output_type": "execute_result"
    }
   ],
   "source": [
    "np.sum(A, axis=1)"
   ]
  },
  {
   "cell_type": "code",
   "execution_count": 107,
   "metadata": {
    "colab": {
     "base_uri": "https://localhost:8080/"
    },
    "id": "kbhaCrEQzkh7",
    "outputId": "7b0a4efe-99e6-4573-e0e3-c314302a98e2"
   },
   "outputs": [
    {
     "data": {
      "text/plain": [
       "array([23, -2, -4])"
      ]
     },
     "execution_count": 107,
     "metadata": {
      "tags": []
     },
     "output_type": "execute_result"
    }
   ],
   "source": [
    "np.sum(A, axis=0)"
   ]
  },
  {
   "cell_type": "code",
   "execution_count": 108,
   "metadata": {
    "colab": {
     "base_uri": "https://localhost:8080/"
    },
    "id": "eRX3EyIOzzXT",
    "outputId": "d9c64110-60c0-4281-a2c6-0619b0e5f3aa"
   },
   "outputs": [
    {
     "data": {
      "text/plain": [
       "array([11.5, -1. , -2. ])"
      ]
     },
     "execution_count": 108,
     "metadata": {
      "tags": []
     },
     "output_type": "execute_result"
    }
   ],
   "source": [
    "np.mean(A, axis=0)"
   ]
  },
  {
   "cell_type": "code",
   "execution_count": null,
   "metadata": {
    "id": "NAx-N_61z5Bb"
   },
   "outputs": [],
   "source": []
  }
 ],
 "metadata": {
  "colab": {
   "collapsed_sections": [],
   "name": "Numpy Tutorial - Matrizen und Vektoren - Lineare Algebra.ipynb",
   "provenance": []
  },
  "kernelspec": {
   "display_name": "Python 3",
   "language": "python",
   "name": "python3"
  },
  "language_info": {
   "codemirror_mode": {
    "name": "ipython",
    "version": 3
   },
   "file_extension": ".py",
   "mimetype": "text/x-python",
   "name": "python",
   "nbconvert_exporter": "python",
   "pygments_lexer": "ipython3",
   "version": "3.8.5"
  }
 },
 "nbformat": 4,
 "nbformat_minor": 1
}
