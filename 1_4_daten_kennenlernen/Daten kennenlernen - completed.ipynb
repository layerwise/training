{
 "cells": [
  {
   "cell_type": "markdown",
   "metadata": {},
   "source": [
    "## 1. Download der Daten\n",
    "\n",
    "Wir laden die Datei `audi.csv` der Lektion herunter und speichern diese an einem selbst gewählten Ort. Natürlich merken wir uns den Speicherort der Datei, denn der Pfad der Datei ist zwingend erforderlich, um diese Datei später in dieses Notebook zu importieren.\n",
    "\n",
    "Die Ordnerstruktur könnte nach dem Download zum Beispiel so aussehen:\n",
    "\n",
    "\n",
    "```\n",
    "machine_learning_kurs\n",
    "|\n",
    "└───data\n",
    "│   │   audi.csv\n",
    "│   │   data_folder_1\n",
    "|   |   data_folder_2\n",
    "|   |   (...)\n",
    "|\n",
    "|\n",
    "└───thema1\n",
    "│   │   slides.pdf\n",
    "│   │   code.py\n",
    "|   |   (...)\n",
    "|\n",
    "|\n",
    "└───daten_kennenlernen\n",
    "│   │   'Daten kennenlernen.ipynb'\n",
    "|\n",
    "|\n",
    "└───thema3\n",
    "    │   slides.pdf\n",
    "    │   code.py\n",
    "    |   (...)\n",
    "```\n",
    "\n",
    "In diesem Fall befindet sich die Datei `audi.csv` in einem Ordner `data` der sich auf der gleichen Ebene befindet wie der Ordner `daten_kennenlernen` in dem sich wiederum dieses Notebook `'Daten kennenlernen.ipynb'` befindet. Alle Ordner sind Unterordner des Ordners `machine_learning_kurs`. Dieser Ordner wiederum könnte sich irgendwo in unserem Dateisystem befinden."
   ]
  },
  {
   "cell_type": "markdown",
   "metadata": {},
   "source": [
    "## 2. Import der Daten\n",
    "\n",
    "### 2.1 Öffnen in Excel\n",
    "\n",
    "Der Dateityp der heruntergeladenen Datei ist **CSV**, erkennbar an der Dateiendung *.csv* was für *comma-separated values* steht und im Wesentlichen genau beschreibt, was in dieser Datei zu finden ist: eine gewisse Menge an Zeilen, die jeweils aus einer Reihen von (typischerweise numerischen) Werten besteht, die mit Kommata voneinander getrennt werden.\n",
    "\n",
    "Bei diesem Dateityp handelt es sich um einen der häufigsten Dateitypen überhaupt. Deshalb ist zunächst gar kein Python erforderlich, um diese Datei und die darin gespeicherten Werte zu untersuchen. Geöffnet werden kann die Datei alternativ zum Beispiel durch eine wesentlich bekanntere Software - *Excel*. Wenn *Excel* oder ein vergleichbares Programm auf unserem Rechner installiert ist, können wir versuchen, die Datei sofort durch Doppelklick zu öffnen oder mit *Excel* zu öffnen.\n",
    "\n",
    "Hier eine Darstellung des Inhalts der Datei, wie sie uns in *Excel* einem vergleichbaren Programm erscheinen würde:\n",
    "\n",
    "<img src=\"https://raw.githubusercontent.com/layerwise/training/main/assets/audi_in_excel.png\" width=\"800\" >\n",
    "\n",
    "\n",
    "Die entscheidende Erkenntnis dabei: Der Inhalt der Datei ist im Wesentlichen eine **Tabelle**! Diese Tabelle hat 9 Spalten und durch die Überschriften der Spalten sind sofort die Bedeutung der Werte erkennbar: Es handelt sich um die Spalten **model**, **year**, **price**, **transmission**, **mileage**, **fuelType**, **tax**, **mpg**, **engineSize**."
   ]
  },
  {
   "cell_type": "markdown",
   "metadata": {},
   "source": [
    "### 2.2 Import mit Pandas\n",
    "\n",
    "Ein zentrales Problem jeder Datenanalyse ist der Import der Daten, das heißt das Einladen der relevanten Dateien in den Arbeitsspeicher und das Verfügbarmachen der Daten in Python in einem geeigneten Format.\n",
    "\n",
    "Für diesen Zwischenschritt gibt es fast ebenso viele Optionen wie es verschiedene Arten von Daten gibt.\n",
    "\n",
    "Wir beschränken uns hier auf eine einzige, und das ist die speziell für Datenanalyse gemachte Bibliothek **Pandas**. Zunächst ist es erforderlich, die Bibliothek zu importieren, und das geschieht auf folgende Weise:"
   ]
  },
  {
   "cell_type": "code",
   "execution_count": 1,
   "metadata": {},
   "outputs": [],
   "source": [
    "import pandas as pd"
   ]
  },
  {
   "cell_type": "markdown",
   "metadata": {},
   "source": [
    "Die Syntax dieses Befehls ist olgendermaßen zu verstehen: mit `import pandas` wird die entsprechende Bibliothek importiert - die Bibliothek muss hierzu installiert sein und der Name muss exakt stimmen - und mit dem Zusatz `as pd` wird der Bibliothek ein Kürzel zugewiesen, über die wir im Weiteren die Bibliothek ansprechen können. Tatsächlich wäre dieser Zusatz nicht zwingend nötig, ist aber eine Konvention - und Konventionen zählen in Python viel, weil sie die Lesbarkeit des Codes erhöhen. Wir halten uns daran.\n",
    "\n",
    "Wichtig ist: wollen wir auf Funktionen und Klassen dieser Bibliothek zugreifen, tun wir dies, indem wir `pd.` dieser Funktion voranstellen. Hier einige Beispiele:\n",
    "\n",
    "```python\n",
    ">>> import pandas as pd\n",
    ">>> pd.DataFrame\n",
    ">>> pd.Series\n",
    ">>> pd.merge\n",
    "```\n",
    "\n",
    "Die Funktion, nach der wir suchen, ist speziell für das Einlesen von **CSV**-Dateien konzipiert. Sie heißt tatsächlich genau so: `pd.read_csv`. Die Funktion `pd.read_csv` ist zwar eine bekannte und häufig verwendete Funktion in **Pandas**, aber da niemand jemals alle Funktionen einer Bibliothek kennen kann, tun wir auch hier so, als ob wir diese Funktion nur zufällig gefunden und wir den Verdacht haben, sie könnte uns helfen, obwohl wir ihre genaue Funktionsweise noch nicht kennen.\n",
    "\n",
    "In solchen Fällen sollte unser erster Schritt das Aufrufen des sogannten *Docstring* sein - eine Kurzzusammenfassung der Funktionsweise einer Funktion, die für jede gut dokumentierte Bibliothek existiert. Diese Kurzzusammenfassung enthält\n",
    "- eine kurze Bebschreibung der Funktionsweise\n",
    "- ein Liste der wesentlichen oder sogar aller Argumente der Funktion\n",
    "- eine Aufstellung darüber, welche Argumente der Funktion zwingend und welche optional sind\n",
    "- eine Beschreibung, was jedes Argument bewirkt und welche Werte möglich sind\n",
    "- einige Beispiele zur Verwendung der Funktion\n",
    "\n",
    "Vor allem der letzte Punkt kann oft besonders hilfreich sein. Der Docstring einer Funktion lässt sich in einem Jupyter Notebook besonders einfach aufrufen, nämlich so (alternativ lässt sich die Dokumentation auch unter folgendem Link aufrufen - https://pandas.pydata.org/pandas-docs/dev/reference/api/pandas.read_csv.html):"
   ]
  },
  {
   "cell_type": "code",
   "execution_count": 2,
   "metadata": {},
   "outputs": [],
   "source": [
    "pd.read_csv?"
   ]
  },
  {
   "cell_type": "code",
   "execution_count": 5,
   "metadata": {},
   "outputs": [],
   "source": [
    "# TODO: Import mit pd.read_csv\n",
    "data = pd.read_csv('../data/audi.csv')"
   ]
  },
  {
   "cell_type": "markdown",
   "metadata": {},
   "source": [
    "### 2.3 Exploration mit Pandas\n",
    "\n",
    "Bei der Variable `data` handelt es sich um ein sogenanntes *DataFrame* - das grundlegende Objekt der Pandas-Bibliothek. Wir überprüfen den Datentyp der Variable `data`"
   ]
  },
  {
   "cell_type": "code",
   "execution_count": 10,
   "metadata": {},
   "outputs": [
    {
     "data": {
      "text/plain": [
       "pandas.core.frame.DataFrame"
      ]
     },
     "execution_count": 10,
     "metadata": {},
     "output_type": "execute_result"
    }
   ],
   "source": [
    "# TODO: Typ der einer Variable\n",
    "type(data)"
   ]
  },
  {
   "cell_type": "markdown",
   "metadata": {},
   "source": [
    "Das Objekt `DataFrame` in Pandas ist ein richtiger Alleskönner. Wir werden später sehen, dass mit jedem `DataFrame` eine Reihe von Funktionen mitgeliefert werden, die uns einen großen Teil der Arbeit, den wir uns andernfalls in Python machen müssten, abnehmen. Dazu gehören auch Funktionen zur Visualisierung. Wir zeigen das `DataFrame` zunächst an:"
   ]
  },
  {
   "cell_type": "code",
   "execution_count": 9,
   "metadata": {},
   "outputs": [
    {
     "data": {
      "text/html": [
       "<div>\n",
       "<style scoped>\n",
       "    .dataframe tbody tr th:only-of-type {\n",
       "        vertical-align: middle;\n",
       "    }\n",
       "\n",
       "    .dataframe tbody tr th {\n",
       "        vertical-align: top;\n",
       "    }\n",
       "\n",
       "    .dataframe thead th {\n",
       "        text-align: right;\n",
       "    }\n",
       "</style>\n",
       "<table border=\"1\" class=\"dataframe\">\n",
       "  <thead>\n",
       "    <tr style=\"text-align: right;\">\n",
       "      <th></th>\n",
       "      <th>model</th>\n",
       "      <th>year</th>\n",
       "      <th>price</th>\n",
       "      <th>transmission</th>\n",
       "      <th>mileage</th>\n",
       "      <th>fuelType</th>\n",
       "      <th>tax</th>\n",
       "      <th>mpg</th>\n",
       "      <th>engineSize</th>\n",
       "    </tr>\n",
       "  </thead>\n",
       "  <tbody>\n",
       "    <tr>\n",
       "      <th>0</th>\n",
       "      <td>A1</td>\n",
       "      <td>2017</td>\n",
       "      <td>12500</td>\n",
       "      <td>Manual</td>\n",
       "      <td>15735</td>\n",
       "      <td>Petrol</td>\n",
       "      <td>150</td>\n",
       "      <td>55.4</td>\n",
       "      <td>1.4</td>\n",
       "    </tr>\n",
       "    <tr>\n",
       "      <th>1</th>\n",
       "      <td>A6</td>\n",
       "      <td>2016</td>\n",
       "      <td>16500</td>\n",
       "      <td>Automatic</td>\n",
       "      <td>36203</td>\n",
       "      <td>Diesel</td>\n",
       "      <td>20</td>\n",
       "      <td>64.2</td>\n",
       "      <td>2.0</td>\n",
       "    </tr>\n",
       "    <tr>\n",
       "      <th>2</th>\n",
       "      <td>A1</td>\n",
       "      <td>2016</td>\n",
       "      <td>11000</td>\n",
       "      <td>Manual</td>\n",
       "      <td>29946</td>\n",
       "      <td>Petrol</td>\n",
       "      <td>30</td>\n",
       "      <td>55.4</td>\n",
       "      <td>1.4</td>\n",
       "    </tr>\n",
       "    <tr>\n",
       "      <th>3</th>\n",
       "      <td>A4</td>\n",
       "      <td>2017</td>\n",
       "      <td>16800</td>\n",
       "      <td>Automatic</td>\n",
       "      <td>25952</td>\n",
       "      <td>Diesel</td>\n",
       "      <td>145</td>\n",
       "      <td>67.3</td>\n",
       "      <td>2.0</td>\n",
       "    </tr>\n",
       "    <tr>\n",
       "      <th>4</th>\n",
       "      <td>A3</td>\n",
       "      <td>2019</td>\n",
       "      <td>17300</td>\n",
       "      <td>Manual</td>\n",
       "      <td>1998</td>\n",
       "      <td>Petrol</td>\n",
       "      <td>145</td>\n",
       "      <td>49.6</td>\n",
       "      <td>1.0</td>\n",
       "    </tr>\n",
       "    <tr>\n",
       "      <th>5</th>\n",
       "      <td>A1</td>\n",
       "      <td>2016</td>\n",
       "      <td>13900</td>\n",
       "      <td>Automatic</td>\n",
       "      <td>32260</td>\n",
       "      <td>Petrol</td>\n",
       "      <td>30</td>\n",
       "      <td>58.9</td>\n",
       "      <td>1.4</td>\n",
       "    </tr>\n",
       "    <tr>\n",
       "      <th>6</th>\n",
       "      <td>A6</td>\n",
       "      <td>2016</td>\n",
       "      <td>13250</td>\n",
       "      <td>Automatic</td>\n",
       "      <td>76788</td>\n",
       "      <td>Diesel</td>\n",
       "      <td>30</td>\n",
       "      <td>61.4</td>\n",
       "      <td>2.0</td>\n",
       "    </tr>\n",
       "    <tr>\n",
       "      <th>7</th>\n",
       "      <td>A4</td>\n",
       "      <td>2016</td>\n",
       "      <td>11750</td>\n",
       "      <td>Manual</td>\n",
       "      <td>75185</td>\n",
       "      <td>Diesel</td>\n",
       "      <td>20</td>\n",
       "      <td>70.6</td>\n",
       "      <td>2.0</td>\n",
       "    </tr>\n",
       "    <tr>\n",
       "      <th>8</th>\n",
       "      <td>A3</td>\n",
       "      <td>2015</td>\n",
       "      <td>10200</td>\n",
       "      <td>Manual</td>\n",
       "      <td>46112</td>\n",
       "      <td>Petrol</td>\n",
       "      <td>20</td>\n",
       "      <td>60.1</td>\n",
       "      <td>1.4</td>\n",
       "    </tr>\n",
       "    <tr>\n",
       "      <th>9</th>\n",
       "      <td>A1</td>\n",
       "      <td>2016</td>\n",
       "      <td>12000</td>\n",
       "      <td>Manual</td>\n",
       "      <td>22451</td>\n",
       "      <td>Petrol</td>\n",
       "      <td>30</td>\n",
       "      <td>55.4</td>\n",
       "      <td>1.4</td>\n",
       "    </tr>\n",
       "  </tbody>\n",
       "</table>\n",
       "</div>"
      ],
      "text/plain": [
       "  model  year  price transmission  mileage fuelType  tax   mpg  engineSize\n",
       "0    A1  2017  12500       Manual    15735   Petrol  150  55.4         1.4\n",
       "1    A6  2016  16500    Automatic    36203   Diesel   20  64.2         2.0\n",
       "2    A1  2016  11000       Manual    29946   Petrol   30  55.4         1.4\n",
       "3    A4  2017  16800    Automatic    25952   Diesel  145  67.3         2.0\n",
       "4    A3  2019  17300       Manual     1998   Petrol  145  49.6         1.0\n",
       "5    A1  2016  13900    Automatic    32260   Petrol   30  58.9         1.4\n",
       "6    A6  2016  13250    Automatic    76788   Diesel   30  61.4         2.0\n",
       "7    A4  2016  11750       Manual    75185   Diesel   20  70.6         2.0\n",
       "8    A3  2015  10200       Manual    46112   Petrol   20  60.1         1.4\n",
       "9    A1  2016  12000       Manual    22451   Petrol   30  55.4         1.4"
      ]
     },
     "execution_count": 9,
     "metadata": {},
     "output_type": "execute_result"
    }
   ],
   "source": [
    "# TODO: DataFrame anzeigen lassen\n",
    "data.head(10)"
   ]
  },
  {
   "cell_type": "markdown",
   "metadata": {},
   "source": [
    "Außerdem gibt es weitere Funktionen, die uns die Struktur des `DataFrame` sowie die dort gespeicherten Daten zusammenfassen:"
   ]
  },
  {
   "cell_type": "code",
   "execution_count": 13,
   "metadata": {},
   "outputs": [
    {
     "data": {
      "text/html": [
       "<div>\n",
       "<style scoped>\n",
       "    .dataframe tbody tr th:only-of-type {\n",
       "        vertical-align: middle;\n",
       "    }\n",
       "\n",
       "    .dataframe tbody tr th {\n",
       "        vertical-align: top;\n",
       "    }\n",
       "\n",
       "    .dataframe thead th {\n",
       "        text-align: right;\n",
       "    }\n",
       "</style>\n",
       "<table border=\"1\" class=\"dataframe\">\n",
       "  <thead>\n",
       "    <tr style=\"text-align: right;\">\n",
       "      <th></th>\n",
       "      <th>year</th>\n",
       "      <th>price</th>\n",
       "      <th>mileage</th>\n",
       "      <th>tax</th>\n",
       "      <th>mpg</th>\n",
       "      <th>engineSize</th>\n",
       "    </tr>\n",
       "  </thead>\n",
       "  <tbody>\n",
       "    <tr>\n",
       "      <th>count</th>\n",
       "      <td>10668.000000</td>\n",
       "      <td>10668.000000</td>\n",
       "      <td>10668.000000</td>\n",
       "      <td>10668.000000</td>\n",
       "      <td>10668.000000</td>\n",
       "      <td>10668.000000</td>\n",
       "    </tr>\n",
       "    <tr>\n",
       "      <th>mean</th>\n",
       "      <td>2017.100675</td>\n",
       "      <td>22896.685039</td>\n",
       "      <td>24827.244001</td>\n",
       "      <td>126.011436</td>\n",
       "      <td>50.770022</td>\n",
       "      <td>1.930709</td>\n",
       "    </tr>\n",
       "    <tr>\n",
       "      <th>std</th>\n",
       "      <td>2.167494</td>\n",
       "      <td>11714.841888</td>\n",
       "      <td>23505.257205</td>\n",
       "      <td>67.170294</td>\n",
       "      <td>12.949782</td>\n",
       "      <td>0.602957</td>\n",
       "    </tr>\n",
       "    <tr>\n",
       "      <th>min</th>\n",
       "      <td>1997.000000</td>\n",
       "      <td>1490.000000</td>\n",
       "      <td>1.000000</td>\n",
       "      <td>0.000000</td>\n",
       "      <td>18.900000</td>\n",
       "      <td>0.000000</td>\n",
       "    </tr>\n",
       "    <tr>\n",
       "      <th>25%</th>\n",
       "      <td>2016.000000</td>\n",
       "      <td>15130.750000</td>\n",
       "      <td>5968.750000</td>\n",
       "      <td>125.000000</td>\n",
       "      <td>40.900000</td>\n",
       "      <td>1.500000</td>\n",
       "    </tr>\n",
       "    <tr>\n",
       "      <th>50%</th>\n",
       "      <td>2017.000000</td>\n",
       "      <td>20200.000000</td>\n",
       "      <td>19000.000000</td>\n",
       "      <td>145.000000</td>\n",
       "      <td>49.600000</td>\n",
       "      <td>2.000000</td>\n",
       "    </tr>\n",
       "    <tr>\n",
       "      <th>75%</th>\n",
       "      <td>2019.000000</td>\n",
       "      <td>27990.000000</td>\n",
       "      <td>36464.500000</td>\n",
       "      <td>145.000000</td>\n",
       "      <td>58.900000</td>\n",
       "      <td>2.000000</td>\n",
       "    </tr>\n",
       "    <tr>\n",
       "      <th>max</th>\n",
       "      <td>2020.000000</td>\n",
       "      <td>145000.000000</td>\n",
       "      <td>323000.000000</td>\n",
       "      <td>580.000000</td>\n",
       "      <td>188.300000</td>\n",
       "      <td>6.300000</td>\n",
       "    </tr>\n",
       "  </tbody>\n",
       "</table>\n",
       "</div>"
      ],
      "text/plain": [
       "               year          price        mileage           tax           mpg  \\\n",
       "count  10668.000000   10668.000000   10668.000000  10668.000000  10668.000000   \n",
       "mean    2017.100675   22896.685039   24827.244001    126.011436     50.770022   \n",
       "std        2.167494   11714.841888   23505.257205     67.170294     12.949782   \n",
       "min     1997.000000    1490.000000       1.000000      0.000000     18.900000   \n",
       "25%     2016.000000   15130.750000    5968.750000    125.000000     40.900000   \n",
       "50%     2017.000000   20200.000000   19000.000000    145.000000     49.600000   \n",
       "75%     2019.000000   27990.000000   36464.500000    145.000000     58.900000   \n",
       "max     2020.000000  145000.000000  323000.000000    580.000000    188.300000   \n",
       "\n",
       "         engineSize  \n",
       "count  10668.000000  \n",
       "mean       1.930709  \n",
       "std        0.602957  \n",
       "min        0.000000  \n",
       "25%        1.500000  \n",
       "50%        2.000000  \n",
       "75%        2.000000  \n",
       "max        6.300000  "
      ]
     },
     "execution_count": 13,
     "metadata": {},
     "output_type": "execute_result"
    }
   ],
   "source": [
    "# TODO: DataFrame Zusammenfassung\n",
    "# data.describe(include=\"all\")\n",
    "\n",
    "data.describe()"
   ]
  },
  {
   "cell_type": "code",
   "execution_count": 14,
   "metadata": {},
   "outputs": [
    {
     "name": "stdout",
     "output_type": "stream",
     "text": [
      "<class 'pandas.core.frame.DataFrame'>\n",
      "RangeIndex: 10668 entries, 0 to 10667\n",
      "Data columns (total 9 columns):\n",
      " #   Column        Non-Null Count  Dtype  \n",
      "---  ------        --------------  -----  \n",
      " 0   model         10668 non-null  object \n",
      " 1   year          10668 non-null  int64  \n",
      " 2   price         10668 non-null  int64  \n",
      " 3   transmission  10668 non-null  object \n",
      " 4   mileage       10668 non-null  int64  \n",
      " 5   fuelType      10668 non-null  object \n",
      " 6   tax           10668 non-null  int64  \n",
      " 7   mpg           10668 non-null  float64\n",
      " 8   engineSize    10668 non-null  float64\n",
      "dtypes: float64(2), int64(4), object(3)\n",
      "memory usage: 750.2+ KB\n"
     ]
    }
   ],
   "source": [
    "data.info()"
   ]
  },
  {
   "cell_type": "markdown",
   "metadata": {},
   "source": [
    "### 2.4 Zugreifen (Indexing)\n",
    "\n",
    "Der Zugriff auf die Elemente eines DataFrame ist auf verschiedenste Weise möglich. In diesem Abschnitt lernen wir:\n",
    "- wie sich auf die Überschriften der Spalten eines `DataFrame` anzeigen lassen\n",
    "- wie sich auf eine bestimmte Spalte eines `DataFrame` zugreifen lässt\n",
    "- wie sich auf eine bestimmte Zeile eines `DataFrame` zugreifen lässt\n",
    "- wie sich auf einzelne Elemente eines `DataFrame` zugreifen lässt\n",
    "\n",
    "Wir lassen uns zunächst die Überschriften der Spalten anzeigen:"
   ]
  },
  {
   "cell_type": "code",
   "execution_count": 60,
   "metadata": {},
   "outputs": [
    {
     "data": {
      "text/plain": [
       "Index(['model', 'year', 'price', 'transmission', 'mileage', 'fuelType', 'tax',\n",
       "       'mpg', 'engineSize'],\n",
       "      dtype='object')"
      ]
     },
     "execution_count": 60,
     "metadata": {},
     "output_type": "execute_result"
    }
   ],
   "source": [
    "# TODO: Spaltenname\n",
    "data.columns"
   ]
  },
  {
   "cell_type": "markdown",
   "metadata": {},
   "source": [
    "Dann greifen wir auf bestimmte Spalten des `DataFrame` zu:"
   ]
  },
  {
   "cell_type": "code",
   "execution_count": 43,
   "metadata": {},
   "outputs": [],
   "source": [
    "# TODO: Spaltenzugriff\n",
    "\n",
    "# Option 1\n",
    "year = data.year\n",
    "\n",
    "\n",
    "# Option 2\n",
    "year = data[\"year\"]\n",
    "\n",
    "\n",
    "# Option 3\n",
    "#              [ alle Zeilen : , Spalte \"year\"]\n",
    "year = data.loc[       :         ,   \"year\"   ]\n",
    "\n",
    "# Option 4\n",
    "year = data.iloc[:, 1]"
   ]
  },
  {
   "cell_type": "code",
   "execution_count": 44,
   "metadata": {},
   "outputs": [
    {
     "data": {
      "text/plain": [
       "0        2017\n",
       "1        2016\n",
       "2        2016\n",
       "3        2017\n",
       "4        2019\n",
       "         ... \n",
       "10663    2020\n",
       "10664    2020\n",
       "10665    2020\n",
       "10666    2017\n",
       "10667    2016\n",
       "Name: year, Length: 10668, dtype: int64"
      ]
     },
     "execution_count": 44,
     "metadata": {},
     "output_type": "execute_result"
    }
   ],
   "source": [
    "year"
   ]
  },
  {
   "cell_type": "code",
   "execution_count": 26,
   "metadata": {},
   "outputs": [
    {
     "data": {
      "text/plain": [
       "pandas.core.series.Series"
      ]
     },
     "execution_count": 26,
     "metadata": {},
     "output_type": "execute_result"
    }
   ],
   "source": [
    "type(year)"
   ]
  },
  {
   "cell_type": "markdown",
   "metadata": {},
   "source": [
    "Sowie auf bestimmte Zeilen des `DataFrame`:"
   ]
  },
  {
   "cell_type": "code",
   "execution_count": 31,
   "metadata": {},
   "outputs": [
    {
     "data": {
      "text/plain": [
       "model               A3\n",
       "year              2020\n",
       "price            16999\n",
       "transmission    Manual\n",
       "mileage           4018\n",
       "fuelType        Petrol\n",
       "tax                145\n",
       "mpg               49.6\n",
       "engineSize           1\n",
       "Name: 10663, dtype: object"
      ]
     },
     "execution_count": 31,
     "metadata": {},
     "output_type": "execute_result"
    }
   ],
   "source": [
    "# TODO: Zeilenzugriff\n",
    "\n",
    "# Option 1 : loc\n",
    "#       [Zeile 10663 , alle Spalten]\n",
    "row = data.loc[   10663,          :      ]\n",
    "row"
   ]
  },
  {
   "cell_type": "code",
   "execution_count": 32,
   "metadata": {},
   "outputs": [
    {
     "data": {
      "text/plain": [
       "model               A3\n",
       "year              2020\n",
       "price            16999\n",
       "transmission    Manual\n",
       "mileage           4018\n",
       "fuelType        Petrol\n",
       "tax                145\n",
       "mpg               49.6\n",
       "engineSize           1\n",
       "Name: 10663, dtype: object"
      ]
     },
     "execution_count": 32,
     "metadata": {},
     "output_type": "execute_result"
    }
   ],
   "source": [
    "# Option 2: iloc\n",
    "row = data.iloc[   10663,          :      ]\n",
    "row"
   ]
  },
  {
   "cell_type": "markdown",
   "metadata": {},
   "source": [
    "Ebenso ist es auf verschiedenste Weise möglich, auf die einzelnen Elemente des Objekts zuzugreifen:"
   ]
  },
  {
   "cell_type": "code",
   "execution_count": 33,
   "metadata": {},
   "outputs": [
    {
     "data": {
      "text/plain": [
       "'Petrol'"
      ]
     },
     "execution_count": 33,
     "metadata": {},
     "output_type": "execute_result"
    }
   ],
   "source": [
    "# TODO: Zugriff auf Elemente\n",
    "element = data.loc[10663, \"fuelType\"]\n",
    "\n",
    "element"
   ]
  },
  {
   "cell_type": "markdown",
   "metadata": {},
   "source": [
    "### 2.5 Summary Functions\n",
    "\n",
    "Die Bibliothek sowie die dortigen `DataFrames` werden in einem Paket mit verschiedensten, nützlichen Funktionen geliefert. Wir lernen hier einige davon kennen:\n",
    "\n",
    "- Durschnittswerte berechnen: `mean`\n",
    "- Maxima und Minima berechnen: `max` und `min`\n",
    "- Standardabweichung berechnen: `std`\n",
    "- Median berechnen: `median`\n",
    "- Häufigkeiten berechnen: `value_counts`"
   ]
  },
  {
   "cell_type": "code",
   "execution_count": 48,
   "metadata": {},
   "outputs": [
    {
     "data": {
      "text/plain": [
       "2017.1006749156356"
      ]
     },
     "execution_count": 48,
     "metadata": {},
     "output_type": "execute_result"
    }
   ],
   "source": [
    "# TODO: summary functions\n",
    "\n",
    "# Durchschnittliches Jahr\n",
    "average_year = data[\"year\"].mean()\n",
    "average_year"
   ]
  },
  {
   "cell_type": "code",
   "execution_count": 49,
   "metadata": {},
   "outputs": [
    {
     "data": {
      "text/plain": [
       "188.3"
      ]
     },
     "execution_count": 49,
     "metadata": {},
     "output_type": "execute_result"
    }
   ],
   "source": [
    "# Maximaler Verbrauch (mpg)\n",
    "maximum_mpg = data[\"mpg\"].max()\n",
    "maximum_mpg"
   ]
  },
  {
   "cell_type": "code",
   "execution_count": 51,
   "metadata": {},
   "outputs": [
    {
     "data": {
      "text/plain": [
       "0"
      ]
     },
     "execution_count": 51,
     "metadata": {},
     "output_type": "execute_result"
    }
   ],
   "source": [
    "# Minimale Steuer\n",
    "minimum_tax = data[\"tax\"].min()\n",
    "minimum_tax"
   ]
  },
  {
   "cell_type": "code",
   "execution_count": 53,
   "metadata": {},
   "outputs": [
    {
     "data": {
      "text/plain": [
       "23505.257205413964"
      ]
     },
     "execution_count": 53,
     "metadata": {},
     "output_type": "execute_result"
    }
   ],
   "source": [
    "# Standardabweichung Kilometerstand\n",
    "mileage_std = data[\"mileage\"].std()\n",
    "mileage_std"
   ]
  },
  {
   "cell_type": "code",
   "execution_count": 54,
   "metadata": {},
   "outputs": [
    {
     "data": {
      "text/plain": [
       "19000.0"
      ]
     },
     "execution_count": 54,
     "metadata": {},
     "output_type": "execute_result"
    }
   ],
   "source": [
    "# Median Kilometerstand\n",
    "mileage_median = data[\"mileage\"].median()\n",
    "mileage_median"
   ]
  },
  {
   "cell_type": "code",
   "execution_count": 56,
   "metadata": {},
   "outputs": [
    {
     "data": {
      "text/plain": [
       "Diesel    5577\n",
       "Petrol    5063\n",
       "Hybrid      28\n",
       "Name: fuelType, dtype: int64"
      ]
     },
     "execution_count": 56,
     "metadata": {},
     "output_type": "execute_result"
    }
   ],
   "source": [
    "# Häufigkeiten\n",
    "counts = data[\"fuelType\"].value_counts()\n",
    "counts"
   ]
  },
  {
   "cell_type": "code",
   "execution_count": 58,
   "metadata": {},
   "outputs": [
    {
     "data": {
      "text/plain": [
       "year           2017.100675\n",
       "price         22896.685039\n",
       "mileage       24827.244001\n",
       "tax             126.011436\n",
       "mpg              50.770022\n",
       "engineSize        1.930709\n",
       "dtype: float64"
      ]
     },
     "execution_count": 58,
     "metadata": {},
     "output_type": "execute_result"
    }
   ],
   "source": [
    "all_averages = data.mean()\n",
    "all_averages"
   ]
  },
  {
   "cell_type": "markdown",
   "metadata": {},
   "source": [
    "## 3. Visualisieren\n",
    "\n",
    "Zentrale Aufgabe der Datenanalyse ist das Visualisieren. Hier lernen wir erste Beispiele kennen, wie wir dies mit der Bibliothek `pandas` bewerkstelligen:\n",
    "\n",
    "- Histogramme\n",
    "- Scatterplots"
   ]
  },
  {
   "cell_type": "code",
   "execution_count": 70,
   "metadata": {},
   "outputs": [
    {
     "data": {
      "text/plain": [
       "array([[<AxesSubplot:title={'center':'year'}>]], dtype=object)"
      ]
     },
     "execution_count": 70,
     "metadata": {},
     "output_type": "execute_result"
    },
    {
     "data": {
      "image/png": "[encoded data removed]",
      "text/plain": [
       "<Figure size 720x576 with 1 Axes>"
      ]
     },
     "metadata": {
      "needs_background": "light"
     },
     "output_type": "display_data"
    }
   ],
   "source": [
    "# TODO: Visualisieren\n",
    "data.hist(\"year\", figsize=(10, 8))"
   ]
  },
  {
   "cell_type": "code",
   "execution_count": 73,
   "metadata": {},
   "outputs": [
    {
     "data": {
      "text/plain": [
       "<AxesSubplot:xlabel='year', ylabel='mileage'>"
      ]
     },
     "execution_count": 73,
     "metadata": {},
     "output_type": "execute_result"
    },
    {
     "data": {
      "image/png": "[encoded data removed]",
      "text/plain": [
       "<Figure size 720x576 with 1 Axes>"
      ]
     },
     "metadata": {
      "needs_background": "light"
     },
     "output_type": "display_data"
    }
   ],
   "source": [
    "data.plot(x=\"year\", y=\"mileage\", kind=\"scatter\", figsize=(10, 8))"
   ]
  },
  {
   "cell_type": "code",
   "execution_count": null,
   "metadata": {},
   "outputs": [],
   "source": []
  }
 ],
 "metadata": {
  "kernelspec": {
   "display_name": "Python 3",
   "language": "python",
   "name": "python3"
  },
  "language_info": {
   "codemirror_mode": {
    "name": "ipython",
    "version": 3
   },
   "file_extension": ".py",
   "mimetype": "text/x-python",
   "name": "python",
   "nbconvert_exporter": "python",
   "pygments_lexer": "ipython3",
   "version": "3.8.5"
  }
 },
 "nbformat": 4,
 "nbformat_minor": 4
}
