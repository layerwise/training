{
 "cells": [
  {
   "cell_type": "markdown",
   "metadata": {},
   "source": [
    "## 1. Download der Daten\n",
    "\n",
    "Wir laden die Datei `audi.csv` der Lektion herunter und speichern diese an einem selbst gewählten Ort. Natürlich merken wir uns den Speicherort der Datei, denn der Pfad der Datei ist zwingend erforderlich, um diese Datei später in dieses Notebook zu importieren.\n",
    "\n",
    "Die Ordnerstruktur könnte nach dem Download zum Beispiel so aussehen:\n",
    "\n",
    "\n",
    "```\n",
    "machine_learning_kurs\n",
    "|\n",
    "└───data\n",
    "│   │   audi.csv\n",
    "│   │   data_folder_1\n",
    "|   |   data_folder_2\n",
    "|   |   (...)\n",
    "|\n",
    "|\n",
    "└───thema1\n",
    "│   │   slides.pdf\n",
    "│   │   code.py\n",
    "|   |   (...)\n",
    "|\n",
    "|\n",
    "└───daten_kennenlernen\n",
    "│   │   'Daten kennenlernen.ipynb'\n",
    "|\n",
    "|\n",
    "└───thema3\n",
    "    │   slides.pdf\n",
    "    │   code.py\n",
    "    |   (...)\n",
    "```\n",
    "\n",
    "In diesem Fall befindet sich die Datei `audi.csv` in einem Ordner `data` der sich auf der gleichen Ebene befindet wie der Ordner `daten_kennenlernen` in dem sich wiederum dieses Notebook `'Daten kennenlernen.ipynb'` befindet. Alle Ordner sind Unterordner des Ordners `machine_learning_kurs`. Dieser Ordner wiederum könnte sich irgendwo in unserem Dateisystem befinden."
   ]
  },
  {
   "cell_type": "markdown",
   "metadata": {},
   "source": [
    "## 2. Import der Daten\n",
    "\n",
    "### 2.1 Öffnen in Excel\n",
    "\n",
    "Der Dateityp der heruntergeladenen Datei ist **CSV**, erkennbar an der Dateiendung *.csv* was für *comma-separated values* steht und im Wesentlichen genau beschreibt, was in dieser Datei zu finden ist: eine gewisse Menge an Zeilen, die jeweils aus einer Reihen von (typischerweise numerischen) Werten besteht, die mit Kommata voneinander getrennt werden.\n",
    "\n",
    "Bei diesem Dateityp handelt es sich um einen der häufigsten Dateitypen überhaupt. Deshalb ist zunächst gar kein Python erforderlich, um diese Datei und die darin gespeicherten Werte zu untersuchen. Geöffnet werden kann die Datei alternativ zum Beispiel durch eine wesentlich bekanntere Software - *Excel*. Wenn *Excel* oder ein vergleichbares Programm auf unserem Rechner installiert ist, können wir versuchen, die Datei sofort durch Doppelklick zu öffnen oder mit *Excel* zu öffnen.\n",
    "\n",
    "Hier eine Darstellung des Inhalts der Datei, wie sie uns in *Excel* einem vergleichbaren Programm erscheinen würde:\n",
    "\n",
    "<img src=\"https://raw.githubusercontent.com/layerwise/training/main/assets/audi_in_excel.png\" width=\"800\" >\n",
    "\n",
    "\n",
    "Die entscheidende Erkenntnis dabei: Der Inhalt der Datei ist im Wesentlichen eine **Tabelle**! Diese Tabelle hat 9 Spalten und durch die Überschriften der Spalten sind sofort die Bedeutung der Werte erkennbar: Es handelt sich um die Spalten **model**, **year**, **price**, **transmission**, **mileage**, **fuelType**, **tax**, **mpg**, **engineSize**."
   ]
  },
  {
   "cell_type": "markdown",
   "metadata": {},
   "source": [
    "### 2.2 Import mit Pandas\n",
    "\n",
    "Ein zentrales Problem jeder Datenanalyse ist der Import der Daten, das heißt das Einladen der relevanten Dateien in den Arbeitsspeicher und das Verfügbarmachen der Daten in Python in einem geeigneten Format.\n",
    "\n",
    "Für diesen Zwischenschritt gibt es fast ebenso viele Optionen wie es verschiedene Arten von Daten gibt.\n",
    "\n",
    "Wir beschränken uns hier auf eine einzige, und das ist die speziell für Datenanalyse gemachte Bibliothek **Pandas**. Zunächst ist es erforderlich, die Bibliothek zu importieren, und das geschieht auf folgende Weise:"
   ]
  },
  {
   "cell_type": "code",
   "execution_count": null,
   "metadata": {},
   "outputs": [],
   "source": [
    "import pandas as pd"
   ]
  },
  {
   "cell_type": "markdown",
   "metadata": {},
   "source": [
    "Die Syntax dieses Befehls ist olgendermaßen zu verstehen: mit `import pandas` wird die entsprechende Bibliothek importiert - die Bibliothek muss hierzu installiert sein und der Name muss exakt stimmen - und mit dem Zusatz `as pd` wird der Bibliothek ein Kürzel zugewiesen, über die wir im Weiteren die Bibliothek ansprechen können. Tatsächlich wäre dieser Zusatz nicht zwingend nötig, ist aber eine Konvention - und Konventionen zählen in Python viel, weil sie die Lesbarkeit des Codes erhöhen. Wir halten uns daran.\n",
    "\n",
    "Wichtig ist: wollen wir auf Funktionen und Klassen dieser Bibliothek zugreifen, tun wir dies, indem wir `pd.` dieser Funktion voranstellen. Hier einige Beispiele:\n",
    "\n",
    "```python\n",
    ">>> import pandas as pd\n",
    ">>> pd.DataFrame\n",
    ">>> pd.Series\n",
    ">>> pd.merge\n",
    "```\n",
    "\n",
    "Die Funktion, nach der wir suchen, ist speziell für das Einlesen von **CSV**-Dateien konzipiert. Sie heißt tatsächlich genau so: `pd.read_csv`. Die Funktion `pd.read_csv` ist zwar eine bekannte und häufig verwendete Funktion in **Pandas**, aber da niemand jemals alle Funktionen einer Bibliothek kennen kann, tun wir auch hier so, als ob wir diese Funktion nur zufällig gefunden und wir den Verdacht haben, sie könnte uns helfen, obwohl wir ihre genaue Funktionsweise noch nicht kennen.\n",
    "\n",
    "In solchen Fällen sollte unser erster Schritt das Aufrufen des sogannten *Docstring* sein - eine Kurzzusammenfassung der Funktionsweise einer Funktion, die für jede gut dokumentierte Bibliothek existiert. Diese Kurzzusammenfassung enthält\n",
    "- eine kurze Bebschreibung der Funktionsweise\n",
    "- ein Liste der wesentlichen oder sogar aller Argumente der Funktion\n",
    "- eine Aufstellung darüber, welche Argumente der Funktion zwingend und welche optional sind\n",
    "- eine Beschreibung, was jedes Argument bewirkt und welche Werte möglich sind\n",
    "- einige Beispiele zur Verwendung der Funktion\n",
    "\n",
    "Vor allem der letzte Punkt kann oft besonders hilfreich sein. Der Docstring einer Funktion lässt sich in einem Jupyter Notebook besonders einfach aufrufen, nämlich so (alternativ lässt sich die Dokumentation auch unter folgendem Link aufrufen - https://pandas.pydata.org/pandas-docs/dev/reference/api/pandas.read_csv.html):"
   ]
  },
  {
   "cell_type": "code",
   "execution_count": null,
   "metadata": {},
   "outputs": [],
   "source": [
    "pd.read_csv?"
   ]
  },
  {
   "cell_type": "code",
   "execution_count": null,
   "metadata": {},
   "outputs": [],
   "source": [
    "# TODO: Import mit pd.read_csv"
   ]
  },
  {
   "cell_type": "markdown",
   "metadata": {},
   "source": [
    "### 2.3 Exploration mit Pandas\n",
    "\n",
    "Bei der Variable `data` handelt es sich um ein sogenanntes *DataFrame* - das grundlegende Objekt der Pandas-Bibliothek. Wir überprüfen den Datentyp der Variable `data`"
   ]
  },
  {
   "cell_type": "code",
   "execution_count": null,
   "metadata": {},
   "outputs": [],
   "source": [
    "# TODO: Typ der einer Variable"
   ]
  },
  {
   "cell_type": "markdown",
   "metadata": {},
   "source": [
    "Das Objekt `DataFrame` in Pandas ist ein richtiger Alleskönner. Wir werden später sehen, dass mit jedem `DataFrame` eine Reihe von Funktionen mitgeliefert werden, die uns einen großen Teil der Arbeit, den wir uns andernfalls in Python machen müssten, abnehmen. Dazu gehören auch Funktionen zur Visualisierung. Wir zeigen das `DataFrame` zunächst an:"
   ]
  },
  {
   "cell_type": "code",
   "execution_count": null,
   "metadata": {},
   "outputs": [],
   "source": [
    "# TODO: DataFrame anzeigen lassen"
   ]
  },
  {
   "cell_type": "markdown",
   "metadata": {},
   "source": [
    "Außerdem gibt es weitere Funktionen, die uns die Struktur des `DataFrame` sowie die dort gespeicherten Daten zusammenfassen:"
   ]
  },
  {
   "cell_type": "code",
   "execution_count": null,
   "metadata": {},
   "outputs": [],
   "source": [
    "# TODO: DataFrame Zusammenfassung"
   ]
  },
  {
   "cell_type": "markdown",
   "metadata": {},
   "source": [
    "### 2.4 Zugreifen (Indexing)\n",
    "\n",
    "Der Zugriff auf die Elemente eines DataFrame ist auf verschiedenste Weise möglich. In diesem Abschnitt lernen wir:\n",
    "- wie sich auf die Überschriften der Spalten eines `DataFrame` anzeigen lassen\n",
    "- wie sich auf eine bestimmte Spalte eines `DataFrame` zugreifen lässt\n",
    "- wie sich auf eine bestimmte Zeile eines `DataFrame` zugreifen lässt\n",
    "- wie sich auf einzelne Elemente eines `DataFrame` zugreifen lässt\n",
    "\n",
    "Wir lassen uns zunächst die Überschriften der Spalten anzeigen:"
   ]
  },
  {
   "cell_type": "code",
   "execution_count": null,
   "metadata": {},
   "outputs": [],
   "source": [
    "# TODO: Spaltenname"
   ]
  },
  {
   "cell_type": "markdown",
   "metadata": {},
   "source": [
    "Dann greifen wir auf bestimmte Spalten des `DataFrame` zu:"
   ]
  },
  {
   "cell_type": "code",
   "execution_count": null,
   "metadata": {},
   "outputs": [],
   "source": [
    "# TODO: Spaltenzugriff"
   ]
  },
  {
   "cell_type": "markdown",
   "metadata": {},
   "source": [
    "Sowie auf bestimmte Zeilen des `DataFrame`:"
   ]
  },
  {
   "cell_type": "code",
   "execution_count": null,
   "metadata": {},
   "outputs": [],
   "source": [
    "# TODO: Zeilenzugriff"
   ]
  },
  {
   "cell_type": "markdown",
   "metadata": {},
   "source": [
    "Ebenso ist es auf verschiedenste Weise möglich, auf die einzelnen Elemente des Objekts zuzugreifen:"
   ]
  },
  {
   "cell_type": "code",
   "execution_count": null,
   "metadata": {},
   "outputs": [],
   "source": [
    "# TODO: Zugriff auf Elemente"
   ]
  },
  {
   "cell_type": "markdown",
   "metadata": {},
   "source": [
    "### 2.5 Summary Functions\n",
    "\n",
    "Die Bibliothek sowie die dortigen `DataFrames` werden in einem Paket mit verschiedensten, nützlichen Funktionen geliefert. Wir lernen hier einige davon kennen:\n",
    "\n",
    "- Durschnittswerte berechnen: `mean`\n",
    "- Maxima und Minima berechnen: `max` und `min`\n",
    "- Standardabweichung berechnen: `std`\n",
    "- Median berechnen: `median`\n",
    "- Häufigkeiten berechnen: `value_counts`"
   ]
  },
  {
   "cell_type": "code",
   "execution_count": null,
   "metadata": {},
   "outputs": [],
   "source": [
    "# TODO: summary functions"
   ]
  },
  {
   "cell_type": "markdown",
   "metadata": {},
   "source": [
    "## 3. Visualisieren\n",
    "\n",
    "Zentrale Aufgabe der Datenanalyse ist das Visualisieren. Hier lernen wir erste Beispiele kennen, wie wir dies mit der Bibliothek `pandas` bewerkstelligen:\n",
    "\n",
    "- Histogramme\n",
    "- Scatterplots"
   ]
  },
  {
   "cell_type": "code",
   "execution_count": null,
   "metadata": {},
   "outputs": [],
   "source": [
    "# TODO: Visualisieren"
   ]
  }
 ],
 "metadata": {
  "kernelspec": {
   "display_name": "Python 3",
   "language": "python",
   "name": "python3"
  },
  "language_info": {
   "codemirror_mode": {
    "name": "ipython",
    "version": 3
   },
   "file_extension": ".py",
   "mimetype": "text/x-python",
   "name": "python",
   "nbconvert_exporter": "python",
   "pygments_lexer": "ipython3",
   "version": "3.8.5"
  }
 },
 "nbformat": 4,
 "nbformat_minor": 4
}
